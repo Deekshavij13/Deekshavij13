{
  "cells": [
    {
      "cell_type": "markdown",
      "metadata": {
        "id": "view-in-github",
        "colab_type": "text"
      },
      "source": [
        "<a href=\"https://colab.research.google.com/github/Deekshavij13/Deekshavij13/blob/main/assignment/100_pandas_puzzles_(1).ipynb\" target=\"_parent\"><img src=\"https://colab.research.google.com/assets/colab-badge.svg\" alt=\"Open In Colab\"/></a>"
      ]
    },
    {
      "cell_type": "markdown",
      "metadata": {
        "id": "GQ4Wh73WMBL7"
      },
      "source": [
        "# 100 pandas puzzles\n",
        "\n",
        "Inspired by [100 Numpy exerises](https://github.com/rougier/numpy-100), here are 100* short puzzles for testing your knowledge of [pandas'](http://pandas.pydata.org/) power.\n",
        "\n",
        "Since pandas is a large library with many different specialist features and functions, these excercises focus mainly on the fundamentals of manipulating data (indexing, grouping, aggregating, cleaning), making use of the core DataFrame and Series objects.\n",
        "\n",
        "Many of the excerises here are stright-forward in that the solutions require no more than a few lines of code (in pandas or NumPy... don't go using pure Python or Cython!). Choosing the right methods and following best practices is the underlying goal.\n",
        "\n",
        "The exercises are loosely divided in sections. Each section has a difficulty rating; these ratings are subjective, of course, but should be a seen as a rough guide as to how inventive the required solution is.\n",
        "\n",
        "If you're just starting out with pandas and you are looking for some other resources, the official documentation  is very extensive. In particular, some good places get a broader overview of pandas are...\n",
        "\n",
        "- [10 minutes to pandas](http://pandas.pydata.org/pandas-docs/stable/10min.html)\n",
        "- [pandas basics](http://pandas.pydata.org/pandas-docs/stable/basics.html)\n",
        "- [tutorials](http://pandas.pydata.org/pandas-docs/stable/tutorials.html)\n",
        "- [cookbook and idioms](http://pandas.pydata.org/pandas-docs/stable/cookbook.html#cookbook)\n",
        "\n",
        "Enjoy the puzzles!\n",
        "\n",
        "\\* *the list of exercises is not yet complete! Pull requests or suggestions for additional exercises, corrections and improvements are welcomed.*"
      ]
    },
    {
      "cell_type": "markdown",
      "metadata": {
        "id": "Ls_cxarYMBMI"
      },
      "source": [
        "## Importing pandas\n",
        "\n",
        "### Getting started and checking your pandas setup\n",
        "\n",
        "Difficulty: *easy*\n",
        "\n",
        "**1.** Import pandas under the alias `pd`."
      ]
    },
    {
      "cell_type": "code",
      "execution_count": 68,
      "metadata": {
        "colab": {
          "base_uri": "https://localhost:8080/"
        },
        "collapsed": true,
        "id": "2Zfc4p5AMBMK",
        "outputId": "d0ee37bf-b66d-40c6-fb9c-6b1ae635f258"
      },
      "outputs": [
        {
          "output_type": "stream",
          "name": "stdout",
          "text": [
            "   A  B\n",
            "0  1  4\n",
            "1  2  5\n",
            "2  3  6\n"
          ]
        }
      ],
      "source": [
        "import pandas as pd\n",
        "\n",
        "df = pd.DataFrame({'A': [1, 2, 3], 'B': [4, 5, 6]})\n",
        "print(df)\n"
      ]
    },
    {
      "cell_type": "markdown",
      "metadata": {
        "id": "oU2gObYxMBMM"
      },
      "source": [
        "**2.** Print the version of pandas that has been imported."
      ]
    },
    {
      "cell_type": "code",
      "execution_count": 67,
      "metadata": {
        "colab": {
          "base_uri": "https://localhost:8080/"
        },
        "collapsed": true,
        "id": "Ilx6QFMMMBMU",
        "outputId": "450f197e-9a68-41dc-f3fe-81814b83e332"
      },
      "outputs": [
        {
          "output_type": "stream",
          "name": "stdout",
          "text": [
            "2.2.2\n"
          ]
        }
      ],
      "source": [
        "import pandas as pd\n",
        "print(pd.__version__)\n"
      ]
    },
    {
      "cell_type": "markdown",
      "metadata": {
        "id": "4dord5shMBMW"
      },
      "source": [
        "**3.** Print out all the *version* information of the libraries that are required by the pandas library."
      ]
    },
    {
      "cell_type": "code",
      "execution_count": 66,
      "metadata": {
        "colab": {
          "base_uri": "https://localhost:8080/"
        },
        "collapsed": true,
        "id": "pqdv2ltuMBMZ",
        "outputId": "6d3d1d85-caf8-4c5b-d3f5-3c5e695bbcd1"
      },
      "outputs": [
        {
          "output_type": "stream",
          "name": "stderr",
          "text": [
            "/usr/local/lib/python3.10/dist-packages/_distutils_hack/__init__.py:31: UserWarning: Setuptools is replacing distutils. Support for replacing an already imported distutils is deprecated. In the future, this condition will fail. Register concerns at https://github.com/pypa/setuptools/issues/new?template=distutils-deprecation.yml\n",
            "  warnings.warn(\n"
          ]
        },
        {
          "output_type": "stream",
          "name": "stdout",
          "text": [
            "\n",
            "INSTALLED VERSIONS\n",
            "------------------\n",
            "commit                : d9cdd2ee5a58015ef6f4d15c7226110c9aab8140\n",
            "python                : 3.10.12.final.0\n",
            "python-bits           : 64\n",
            "OS                    : Linux\n",
            "OS-release            : 6.1.85+\n",
            "Version               : #1 SMP PREEMPT_DYNAMIC Thu Jun 27 21:05:47 UTC 2024\n",
            "machine               : x86_64\n",
            "processor             : x86_64\n",
            "byteorder             : little\n",
            "LC_ALL                : en_US.UTF-8\n",
            "LANG                  : en_US.UTF-8\n",
            "LOCALE                : en_US.UTF-8\n",
            "\n",
            "pandas                : 2.2.2\n",
            "numpy                 : 1.26.4\n",
            "pytz                  : 2024.2\n",
            "dateutil              : 2.8.2\n",
            "setuptools            : 75.1.0\n",
            "pip                   : 24.1.2\n",
            "Cython                : 3.0.11\n",
            "pytest                : 8.3.3\n",
            "hypothesis            : None\n",
            "sphinx                : 8.1.3\n",
            "blosc                 : None\n",
            "feather               : None\n",
            "xlsxwriter            : None\n",
            "lxml.etree            : 5.3.0\n",
            "html5lib              : 1.1\n",
            "pymysql               : None\n",
            "psycopg2              : 2.9.10\n",
            "jinja2                : 3.1.4\n",
            "IPython               : 7.34.0\n",
            "pandas_datareader     : 0.10.0\n",
            "adbc-driver-postgresql: None\n",
            "adbc-driver-sqlite    : None\n",
            "bs4                   : 4.12.3\n",
            "bottleneck            : 1.4.2\n",
            "dataframe-api-compat  : None\n",
            "fastparquet           : None\n",
            "fsspec                : 2024.10.0\n",
            "gcsfs                 : 2024.10.0\n",
            "matplotlib            : 3.8.0\n",
            "numba                 : 0.60.0\n",
            "numexpr               : 2.10.1\n",
            "odfpy                 : None\n",
            "openpyxl              : 3.1.5\n",
            "pandas_gbq            : 0.24.0\n",
            "pyarrow               : 17.0.0\n",
            "pyreadstat            : None\n",
            "python-calamine       : None\n",
            "pyxlsb                : None\n",
            "s3fs                  : None\n",
            "scipy                 : 1.13.1\n",
            "sqlalchemy            : 2.0.36\n",
            "tables                : 3.10.1\n",
            "tabulate              : 0.9.0\n",
            "xarray                : 2024.10.0\n",
            "xlrd                  : 2.0.1\n",
            "zstandard             : None\n",
            "tzdata                : 2024.2\n",
            "qtpy                  : None\n",
            "pyqt5                 : None\n"
          ]
        }
      ],
      "source": [
        "import pandas as pd\n",
        "pd.show_versions()\n"
      ]
    },
    {
      "cell_type": "markdown",
      "metadata": {
        "id": "E7s3LtxdMBMb"
      },
      "source": [
        "## DataFrame basics\n",
        "\n",
        "### A few of the fundamental routines for selecting, sorting, adding and aggregating data in DataFrames\n",
        "\n",
        "Difficulty: *easy*\n",
        "\n",
        "Note: remember to import numpy using:\n",
        "```python\n",
        "import numpy as np\n",
        "```\n",
        "\n",
        "Consider the following Python dictionary `data` and Python list `labels`:\n",
        "\n",
        "``` python\n",
        "data = {'animal': ['cat', 'cat', 'snake', 'dog', 'dog', 'cat', 'snake', 'cat', 'dog', 'dog'],\n",
        "        'age': [2.5, 3, 0.5, np.nan, 5, 2, 4.5, np.nan, 7, 3],\n",
        "        'visits': [1, 3, 2, 3, 2, 3, 1, 1, 2, 1],\n",
        "        'priority': ['yes', 'yes', 'no', 'yes', 'no', 'no', 'no', 'yes', 'no', 'no']}\n",
        "\n",
        "labels = ['a', 'b', 'c', 'd', 'e', 'f', 'g', 'h', 'i', 'j']\n",
        "```\n",
        "(This is just some meaningless data I made up with the theme of animals and trips to a vet.)\n",
        "\n",
        "**4.** Create a DataFrame `df` from this dictionary `data` which has the index `labels`."
      ]
    },
    {
      "cell_type": "code",
      "execution_count": 65,
      "metadata": {
        "collapsed": true,
        "id": "lG2RTUiUMBMg"
      },
      "outputs": [],
      "source": [
        "import numpy as np\n",
        "\n",
        "data = {'animal': ['cat', 'cat', 'snake', 'dog', 'dog', 'cat', 'snake', 'cat', 'dog', 'dog'],\n",
        "        'age': [2.5, 3, 0.5, np.nan, 5, 2, 4.5, np.nan, 7, 3],\n",
        "        'visits': [1, 3, 2, 3, 2, 3, 1, 1, 2, 1],\n",
        "        'priority': ['yes', 'yes', 'no', 'yes', 'no', 'no', 'no', 'yes', 'no', 'no']}\n",
        "\n",
        "labels = ['a', 'b', 'c', 'd', 'e', 'f', 'g', 'h', 'i', 'j']\n",
        "\n",
        "df = None"
      ]
    },
    {
      "cell_type": "markdown",
      "metadata": {
        "id": "WhZCE7cTMBMj"
      },
      "source": [
        "**5.** Display a summary of the basic information about this DataFrame and its data (*hint: there is a single method that can be called on the DataFrame*)."
      ]
    },
    {
      "cell_type": "code",
      "execution_count": 64,
      "metadata": {
        "colab": {
          "base_uri": "https://localhost:8080/"
        },
        "collapsed": true,
        "id": "hdxicTkyMBMk",
        "outputId": "3a01399d-4ec7-4d79-d04c-1b1696591a81"
      },
      "outputs": [
        {
          "output_type": "stream",
          "name": "stdout",
          "text": [
            "<class 'pandas.core.frame.DataFrame'>\n",
            "RangeIndex: 3 entries, 0 to 2\n",
            "Data columns (total 2 columns):\n",
            " #   Column  Non-Null Count  Dtype\n",
            "---  ------  --------------  -----\n",
            " 0   A       3 non-null      int64\n",
            " 1   B       3 non-null      int64\n",
            "dtypes: int64(2)\n",
            "memory usage: 176.0 bytes\n"
          ]
        }
      ],
      "source": [
        "import pandas as pd\n",
        "df = pd.DataFrame({'A': [1, 2, 3], 'B': [4, 5, 6]})\n",
        "df.info()\n"
      ]
    },
    {
      "cell_type": "markdown",
      "metadata": {
        "id": "VlWmKB2SMBMl"
      },
      "source": [
        "**6.** Return the first 3 rows of the DataFrame `df`."
      ]
    },
    {
      "cell_type": "code",
      "execution_count": 63,
      "metadata": {
        "colab": {
          "base_uri": "https://localhost:8080/"
        },
        "collapsed": true,
        "id": "VxBDJiq3MBMm",
        "outputId": "5da11a93-ac82-4e31-f678-38265fdcdf62"
      },
      "outputs": [
        {
          "output_type": "stream",
          "name": "stdout",
          "text": [
            "   A  B\n",
            "0  1  6\n",
            "1  2  7\n",
            "2  3  8\n"
          ]
        }
      ],
      "source": [
        " import pandas as pd\n",
        "df = pd.DataFrame({'A': [1, 2, 3, 4, 5], 'B': [6, 7, 8, 9, 10]})\n",
        "first_three_rows = df.head(3)\n",
        "print(first_three_rows)\n"
      ]
    },
    {
      "cell_type": "markdown",
      "metadata": {
        "id": "c2G3S8uBMBMn"
      },
      "source": [
        "**7.** Select just the 'animal' and 'age' columns from the DataFrame `df`."
      ]
    },
    {
      "cell_type": "code",
      "execution_count": 62,
      "metadata": {
        "colab": {
          "base_uri": "https://localhost:8080/"
        },
        "collapsed": true,
        "id": "yyfFrpt3MBMo",
        "outputId": "8c97f752-aa02-472c-e4f4-e86e7bb7a55e"
      },
      "outputs": [
        {
          "output_type": "stream",
          "name": "stdout",
          "text": [
            "   animal  age\n",
            "0     cat    2\n",
            "1     dog    3\n",
            "2  rabbit    1\n",
            "3    bird    5\n"
          ]
        }
      ],
      "source": [
        "import pandas as pd\n",
        "df = pd.DataFrame({\n",
        "    'animal': ['cat', 'dog', 'rabbit', 'bird'],\n",
        "    'age': [2, 3, 1, 5],\n",
        "    'color': ['black', 'brown', 'white', 'yellow']\n",
        "})\n",
        "selected_columns = df[['animal', 'age']]\n",
        "print(selected_columns)\n"
      ]
    },
    {
      "cell_type": "markdown",
      "metadata": {
        "id": "R_Gr3rzbMBMp"
      },
      "source": [
        "**8.** Select the data in rows `[3, 4, 8]` *and* in columns `['animal', 'age']`."
      ]
    },
    {
      "cell_type": "code",
      "execution_count": 61,
      "metadata": {
        "colab": {
          "base_uri": "https://localhost:8080/"
        },
        "collapsed": true,
        "id": "OvoXqCBvMBMq",
        "outputId": "766a3940-76ab-48cb-d318-8e2c893a400b"
      },
      "outputs": [
        {
          "output_type": "stream",
          "name": "stdout",
          "text": [
            "     animal  age\n",
            "3      bird    5\n",
            "4      fish    4\n",
            "8  elephant   10\n"
          ]
        }
      ],
      "source": [
        "import pandas as pd\n",
        "df = pd.DataFrame({\n",
        "    'animal': ['cat', 'dog', 'rabbit', 'bird', 'fish', 'hamster', 'lizard', 'snake', 'elephant'],\n",
        "    'age': [2, 3, 1, 5, 4, 2, 7, 6, 10],\n",
        "    'color': ['black', 'brown', 'white', 'yellow', 'blue', 'gray', 'green', 'yellow', 'gray']\n",
        "})\n",
        "selected_data = df.loc[[3, 4, 8], ['animal', 'age']]\n",
        "print(selected_data)\n"
      ]
    },
    {
      "cell_type": "markdown",
      "metadata": {
        "id": "4CKNOIrqMBMq"
      },
      "source": [
        "**9.** Select only the rows where the number of visits is greater than 3."
      ]
    },
    {
      "cell_type": "code",
      "execution_count": 60,
      "metadata": {
        "colab": {
          "base_uri": "https://localhost:8080/"
        },
        "collapsed": true,
        "id": "Mn7y5wnTMBMr",
        "outputId": "dcb3e23f-9be3-4eed-c809-90bfee3c96b7"
      },
      "outputs": [
        {
          "output_type": "stream",
          "name": "stdout",
          "text": [
            "  animal  visits  age\n",
            "1    dog       4    3\n",
            "3   bird       5    5\n"
          ]
        }
      ],
      "source": [
        "import pandas as pd\n",
        "df = pd.DataFrame({\n",
        "    'animal': ['cat', 'dog', 'rabbit', 'bird', 'fish'],\n",
        "    'visits': [2, 4, 1, 5, 3],\n",
        "    'age': [2, 3, 1, 5, 4]\n",
        "})\n",
        "filtered_data = df[df['visits'] > 3]\n",
        "print(filtered_data)\n"
      ]
    },
    {
      "cell_type": "markdown",
      "metadata": {
        "id": "qGhE67M4MBMr"
      },
      "source": [
        "**10.** Select the rows where the age is missing, i.e. it is `NaN`."
      ]
    },
    {
      "cell_type": "code",
      "execution_count": 59,
      "metadata": {
        "colab": {
          "base_uri": "https://localhost:8080/"
        },
        "collapsed": true,
        "id": "i-iDQrUjMBMs",
        "outputId": "fd521bf6-e560-4855-d888-5ad406e3535f"
      },
      "outputs": [
        {
          "output_type": "stream",
          "name": "stdout",
          "text": [
            "  animal  age  visits\n",
            "1    dog  NaN       4\n",
            "3   bird  NaN       5\n"
          ]
        }
      ],
      "source": [
        "import pandas as pd\n",
        "import numpy as np\n",
        "df = pd.DataFrame({\n",
        "    'animal': ['cat', 'dog', 'rabbit', 'bird', 'fish'],\n",
        "    'age': [2, np.nan, 1, np.nan, 4],\n",
        "    'visits': [2, 4, 1, 5, 3]\n",
        "})\n",
        "missing_age_data = df[df['age'].isna()]\n",
        "print(missing_age_data)\n"
      ]
    },
    {
      "cell_type": "markdown",
      "metadata": {
        "id": "d0V-fEigMBMt"
      },
      "source": [
        "**11.** Select the rows where the animal is a cat *and* the age is less than 3."
      ]
    },
    {
      "cell_type": "code",
      "execution_count": 58,
      "metadata": {
        "colab": {
          "base_uri": "https://localhost:8080/"
        },
        "collapsed": true,
        "id": "bgVoL2nbMBMt",
        "outputId": "73b4fce6-7b0c-443a-e24f-f6474c91a190"
      },
      "outputs": [
        {
          "output_type": "stream",
          "name": "stdout",
          "text": [
            "  animal  age  visits\n",
            "0    cat    2       2\n",
            "5    cat    1       2\n"
          ]
        }
      ],
      "source": [
        "import pandas as pd\n",
        "df = pd.DataFrame({\n",
        "    'animal': ['cat', 'dog', 'rabbit', 'bird', 'fish', 'cat'],\n",
        "    'age': [2, 4, 1, 5, 3, 1],\n",
        "    'visits': [2, 4, 1, 5, 3, 2]\n",
        "})\n",
        "filtered_data = df[(df['animal'] == 'cat') & (df['age'] < 3)]\n",
        "print(filtered_data)\n"
      ]
    },
    {
      "cell_type": "markdown",
      "metadata": {
        "id": "GWtCRrdUMBMu"
      },
      "source": [
        "**12.** Select the rows the age is between 2 and 4 (inclusive)."
      ]
    },
    {
      "cell_type": "code",
      "execution_count": 56,
      "metadata": {
        "collapsed": true,
        "id": "RgHlstsjMBM3"
      },
      "outputs": [],
      "source": [
        "import pandas as pd\n",
        "df = pd.DataFrame({\n",
        "    'animal': []\n",
        "})"
      ]
    },
    {
      "cell_type": "markdown",
      "metadata": {
        "id": "C9BS0xvGMBM3"
      },
      "source": [
        "**13.** Change the age in row 'f' to 1.5."
      ]
    },
    {
      "cell_type": "code",
      "execution_count": 55,
      "metadata": {
        "colab": {
          "base_uri": "https://localhost:8080/"
        },
        "collapsed": true,
        "id": "gRfLwn0LMBM5",
        "outputId": "688acd17-c0a9-4437-a12e-1d309af7b8d2"
      },
      "outputs": [
        {
          "output_type": "stream",
          "name": "stdout",
          "text": [
            "  animal  age  visits\n",
            "0    cat    2       2\n",
            "1    dog    4       4\n",
            "4   fish    3       3\n"
          ]
        }
      ],
      "source": [
        "import pandas as pd\n",
        "df = pd.DataFrame({\n",
        "    'animal': ['cat', 'dog', 'rabbit', 'bird', 'fish'],\n",
        "    'age': [2, 4, 1, 5, 3],\n",
        "    'visits': [2, 4, 1, 5, 3]\n",
        "})\n",
        "filtered_data = df[(df['age'] >= 2) & (df['age'] <= 4)]\n",
        "print(filtered_data)\n"
      ]
    },
    {
      "cell_type": "markdown",
      "metadata": {
        "id": "m386Q7ocMBM5"
      },
      "source": [
        "**14.** Calculate the sum of all visits in `df` (i.e. find the total number of visits)."
      ]
    },
    {
      "cell_type": "code",
      "execution_count": 54,
      "metadata": {
        "colab": {
          "base_uri": "https://localhost:8080/"
        },
        "collapsed": true,
        "id": "WNtHC986MBM7",
        "outputId": "8cbc7e27-cc53-4e89-c373-5d810043fd5f"
      },
      "outputs": [
        {
          "output_type": "stream",
          "name": "stdout",
          "text": [
            "15\n"
          ]
        }
      ],
      "source": [
        "import pandas as pd\n",
        "df = pd.DataFrame({\n",
        "    'animal': ['cat', 'dog', 'rabbit', 'bird', 'fish'],\n",
        "    'age': [2, 4, 1, 5, 3],\n",
        "    'visits': [2, 4, 1, 5, 3]\n",
        "})\n",
        "total_visits = df['visits'].sum()\n",
        "print(total_visits)\n"
      ]
    },
    {
      "cell_type": "markdown",
      "metadata": {
        "id": "qYpr_NdNMBM8"
      },
      "source": [
        "**15.** Calculate the mean age for each different animal in `df`."
      ]
    },
    {
      "cell_type": "code",
      "execution_count": 53,
      "metadata": {
        "colab": {
          "base_uri": "https://localhost:8080/"
        },
        "collapsed": true,
        "id": "6xc3li5uMBM9",
        "outputId": "68863ee9-b5e3-4a38-fe88-f7739aaa357c"
      },
      "outputs": [
        {
          "output_type": "stream",
          "name": "stdout",
          "text": [
            "animal\n",
            "bird      5.0\n",
            "cat       1.5\n",
            "dog       4.0\n",
            "fish      3.0\n",
            "rabbit    1.0\n",
            "Name: age, dtype: float64\n"
          ]
        }
      ],
      "source": [
        "import pandas as pd\n",
        "df = pd.DataFrame({\n",
        "    'animal': ['cat', 'dog', 'rabbit', 'bird', 'fish', 'cat'],\n",
        "    'age': [2, 4, 1, 5, 3, 1],\n",
        "    'visits': [2, 4, 1, 5, 3, 2]\n",
        "})\n",
        "mean_age_per_animal = df.groupby('animal')['age'].mean()\n",
        "print(mean_age_per_animal)\n"
      ]
    },
    {
      "cell_type": "markdown",
      "metadata": {
        "id": "BohtVFVsMBM-"
      },
      "source": [
        "**16.** Append a new row 'k' to `df` with your choice of values for each column. Then delete that row to return the original DataFrame."
      ]
    },
    {
      "cell_type": "code",
      "execution_count": 52,
      "metadata": {
        "colab": {
          "base_uri": "https://localhost:8080/"
        },
        "collapsed": true,
        "id": "h8XQr5f2MBM_",
        "outputId": "efd6715f-5bc3-4525-d32d-531a7302d75a"
      },
      "outputs": [
        {
          "output_type": "stream",
          "name": "stdout",
          "text": [
            "DataFrame after appending the new row:\n",
            "   animal  age  visits\n",
            "0     cat    2       2\n",
            "1     dog    4       4\n",
            "2  rabbit    1       1\n",
            "3    bird    5       5\n",
            "4    fish    3       3\n",
            "k    lion    4       3\n",
            "\n",
            "DataFrame after deleting the new row:\n",
            "   animal  age  visits\n",
            "0     cat    2       2\n",
            "1     dog    4       4\n",
            "2  rabbit    1       1\n",
            "3    bird    5       5\n",
            "4    fish    3       3\n"
          ]
        }
      ],
      "source": [
        "import pandas as pd\n",
        "df = pd.DataFrame({\n",
        "    'animal': ['cat', 'dog', 'rabbit', 'bird', 'fish'],\n",
        "    'age': [2, 4, 1, 5, 3],\n",
        "    'visits': [2, 4, 1, 5, 3]\n",
        "})\n",
        "df.loc['k'] = ['lion', 4, 3]\n",
        "print(\"DataFrame after appending the new row:\")\n",
        "print(df)\n",
        "df = df.drop('k')\n",
        "print(\"\\nDataFrame after deleting the new row:\")\n",
        "print(df)\n"
      ]
    },
    {
      "cell_type": "markdown",
      "metadata": {
        "id": "pfwEd8RoMBNA"
      },
      "source": [
        "**17.** Count the number of each type of animal in `df`."
      ]
    },
    {
      "cell_type": "code",
      "execution_count": 51,
      "metadata": {
        "colab": {
          "base_uri": "https://localhost:8080/"
        },
        "collapsed": true,
        "id": "7em345IPMBNB",
        "outputId": "2d6d1a86-0e40-4c43-8a9b-6fc2c6cc84c7"
      },
      "outputs": [
        {
          "output_type": "stream",
          "name": "stdout",
          "text": [
            "animal\n",
            "cat       2\n",
            "dog       1\n",
            "rabbit    1\n",
            "bird      1\n",
            "fish      1\n",
            "Name: count, dtype: int64\n"
          ]
        }
      ],
      "source": [
        "import pandas as pd\n",
        "df = pd.DataFrame({\n",
        "    'animal': ['cat', 'dog', 'rabbit', 'bird', 'fish', 'cat'],\n",
        "    'age': [2, 4, 1, 5, 3, 1],\n",
        "    'visits': [2, 4, 1, 5, 3, 2]\n",
        "})\n",
        "animal_counts = df['animal'].value_counts()\n",
        "print(animal_counts)\n"
      ]
    },
    {
      "cell_type": "markdown",
      "metadata": {
        "id": "ggv_Y7ZpMBNC"
      },
      "source": [
        "**18.** Sort `df` first by the values in the 'age' in *decending* order, then by the value in the 'visits' column in *ascending* order (so row `i` should be first, and row `d` should be last)."
      ]
    },
    {
      "cell_type": "code",
      "execution_count": 50,
      "metadata": {
        "colab": {
          "base_uri": "https://localhost:8080/"
        },
        "collapsed": true,
        "id": "-pobwmErMBND",
        "outputId": "8240d96c-c9e1-4232-9979-cbbb51c4f16b"
      },
      "outputs": [
        {
          "output_type": "stream",
          "name": "stdout",
          "text": [
            "   animal  age  visits\n",
            "3    bird    5       5\n",
            "1     dog    4       4\n",
            "4    fish    3       3\n",
            "0     cat    2       2\n",
            "2  rabbit    1       1\n"
          ]
        }
      ],
      "source": [
        "import pandas as pd\n",
        "df = pd.DataFrame({\n",
        "    'animal': ['cat', 'dog', 'rabbit', 'bird', 'fish'],\n",
        "    'age': [2, 4, 1, 5, 3],\n",
        "    'visits': [2, 4, 1, 5, 3]\n",
        "})\n",
        "sorted_df = df.sort_values(by=['age', 'visits'], ascending=[False, True])\n",
        "print(sorted_df)\n"
      ]
    },
    {
      "cell_type": "markdown",
      "metadata": {
        "id": "xpXfu8lvMBNE"
      },
      "source": [
        "**19.** The 'priority' column contains the values 'yes' and 'no'. Replace this column with a column of boolean values: 'yes' should be `True` and 'no' should be `False`."
      ]
    },
    {
      "cell_type": "code",
      "execution_count": 49,
      "metadata": {
        "colab": {
          "base_uri": "https://localhost:8080/"
        },
        "collapsed": true,
        "id": "7RS2WxkZMBNF",
        "outputId": "348c66c0-d652-40dd-8ca5-0a85e4c8c574"
      },
      "outputs": [
        {
          "output_type": "stream",
          "name": "stdout",
          "text": [
            "   animal  priority\n",
            "0     cat      True\n",
            "1     dog     False\n",
            "2  rabbit      True\n",
            "3    bird     False\n",
            "4    fish      True\n"
          ]
        },
        {
          "output_type": "stream",
          "name": "stderr",
          "text": [
            "<ipython-input-49-7adc89b9b784>:6: FutureWarning: Downcasting behavior in `replace` is deprecated and will be removed in a future version. To retain the old behavior, explicitly call `result.infer_objects(copy=False)`. To opt-in to the future behavior, set `pd.set_option('future.no_silent_downcasting', True)`\n",
            "  df['priority'] = df['priority'].replace({'yes': True, 'no': False})\n"
          ]
        }
      ],
      "source": [
        "import pandas as pd\n",
        "df = pd.DataFrame({\n",
        "    'animal': ['cat', 'dog', 'rabbit', 'bird', 'fish'],\n",
        "    'priority': ['yes', 'no', 'yes', 'no', 'yes']\n",
        "})\n",
        "df['priority'] = df['priority'].replace({'yes': True, 'no': False})\n",
        "print(df)\n"
      ]
    },
    {
      "cell_type": "markdown",
      "metadata": {
        "id": "QXOf_AGEMBNe"
      },
      "source": [
        "**20.** In the 'animal' column, change the 'snake' entries to 'python'."
      ]
    },
    {
      "cell_type": "code",
      "execution_count": 48,
      "metadata": {
        "colab": {
          "base_uri": "https://localhost:8080/"
        },
        "collapsed": true,
        "id": "fEmrlAP6MBNf",
        "outputId": "38e9b46e-7784-4f07-ed4c-0e985cdb17fd"
      },
      "outputs": [
        {
          "output_type": "stream",
          "name": "stdout",
          "text": [
            "   animal  age  visits\n",
            "0     cat    2       2\n",
            "1     dog    4       4\n",
            "2  rabbit    1       1\n",
            "3    bird    5       5\n",
            "4  python    3       3\n",
            "5    fish    2       2\n",
            "6  python    7       6\n"
          ]
        }
      ],
      "source": [
        "import pandas as pd\n",
        "df = pd.DataFrame({\n",
        "    'animal': ['cat', 'dog', 'rabbit', 'bird', 'snake', 'fish', 'snake'],\n",
        "    'age': [2, 4, 1, 5, 3, 2, 7],\n",
        "    'visits': [2, 4, 1, 5, 3, 2, 6]\n",
        "})\n",
        "df['animal'] = df['animal'].replace('snake', 'python')\n",
        "print(df)\n"
      ]
    },
    {
      "cell_type": "markdown",
      "metadata": {
        "id": "YPE6yQNPMBNf"
      },
      "source": [
        "**21.** For each animal type and each number of visits, find the mean age. In other words, each row is an animal, each column is a number of visits and the values are the mean ages (*hint: use a pivot table*)."
      ]
    },
    {
      "cell_type": "code",
      "execution_count": 47,
      "metadata": {
        "colab": {
          "base_uri": "https://localhost:8080/"
        },
        "collapsed": true,
        "id": "-wfjeW25MBNg",
        "outputId": "c1505e9b-b502-438c-a331-d8d670af498a"
      },
      "outputs": [
        {
          "output_type": "stream",
          "name": "stdout",
          "text": [
            "   animal  age  visits\n",
            "0     cat    2       2\n",
            "1     dog    4       4\n",
            "2  rabbit    1       1\n",
            "3    bird    5       5\n",
            "4  python    3       3\n",
            "5    fish    2       2\n",
            "6  python    7       6\n"
          ]
        }
      ],
      "source": [
        "import pandas as pd\n",
        "df = pd.DataFrame({\n",
        "    'animal': ['cat', 'dog', 'rabbit', 'bird', 'snake', 'fish', 'snake'],\n",
        "    'age': [2, 4, 1, 5, 3, 2, 7],\n",
        "    'visits': [2, 4, 1, 5, 3, 2, 6]\n",
        "})\n",
        "df['animal'] = df['animal'].replace('snake', 'python')\n",
        "print(df)\n"
      ]
    },
    {
      "cell_type": "markdown",
      "metadata": {
        "id": "Cg0R7I2xMBNh"
      },
      "source": [
        "## DataFrames: beyond the basics\n",
        "\n",
        "### Slightly trickier: you may need to combine two or more methods to get the right answer\n",
        "\n",
        "Difficulty: *medium*\n",
        "\n",
        "The previous section was tour through some basic but essential DataFrame operations. Below are some ways that you might need to cut your data, but for which there is no single \"out of the box\" method."
      ]
    },
    {
      "cell_type": "markdown",
      "metadata": {
        "id": "delsa_o8MBNi"
      },
      "source": [
        "**22.** You have a DataFrame `df` with a column 'A' of integers. For example:\n",
        "```python\n",
        "df = pd.DataFrame({'A': [1, 2, 2, 3, 4, 5, 5, 5, 6, 7, 7]})\n",
        "```\n",
        "\n",
        "How do you filter out rows which contain the same integer as the row immediately above?\n",
        "\n",
        "You should be left with a column containing the following values:\n",
        "\n",
        "```python\n",
        "1, 2, 3, 4, 5, 6, 7\n",
        "```"
      ]
    },
    {
      "cell_type": "code",
      "execution_count": 46,
      "metadata": {
        "colab": {
          "base_uri": "https://localhost:8080/"
        },
        "id": "BsxNv2PzMBNj",
        "outputId": "cf0e5c79-a527-47f5-fa39-25ef6fac3717"
      },
      "outputs": [
        {
          "output_type": "stream",
          "name": "stdout",
          "text": [
            "   A\n",
            "0  1\n",
            "1  2\n",
            "3  3\n",
            "4  4\n",
            "5  5\n",
            "8  6\n",
            "9  7\n"
          ]
        }
      ],
      "source": [
        "import pandas as pd\n",
        "df = pd.DataFrame({'A': [1, 2, 2, 3, 4, 5, 5, 5, 6, 7, 7]})\n",
        "filtered_df = df[df['A'] != df['A'].shift()]\n",
        "print(filtered_df)\n"
      ]
    },
    {
      "cell_type": "markdown",
      "metadata": {
        "id": "VKVyXDD-MBNk"
      },
      "source": [
        "**23.** Given a DataFrame of numeric values, say\n",
        "```python\n",
        "df = pd.DataFrame(np.random.random(size=(5, 3))) # a 5x3 frame of float values\n",
        "```\n",
        "\n",
        "how do you subtract the row mean from each element in the row?"
      ]
    },
    {
      "cell_type": "code",
      "execution_count": 45,
      "metadata": {
        "colab": {
          "base_uri": "https://localhost:8080/"
        },
        "collapsed": true,
        "id": "mfjD7gTyMBNk",
        "outputId": "d55f0ce8-d93e-4c2c-c762-2aba5008fb1f"
      },
      "outputs": [
        {
          "output_type": "stream",
          "name": "stdout",
          "text": [
            "          0         1         2\n",
            "0 -0.173227 -0.119076  0.292303\n",
            "1  0.202484 -0.062982 -0.139502\n",
            "2  0.162678 -0.159891 -0.002787\n",
            "3 -0.334150 -0.108716  0.442866\n",
            "4  0.275568 -0.245529 -0.030039\n"
          ]
        }
      ],
      "source": [
        "import pandas as pd\n",
        "import numpy as np\n",
        "df = pd.DataFrame(np.random.random(size=(5, 3)))\n",
        "df_normalized = df.sub(df.mean(axis=1), axis=0)\n",
        "print(df_normalized)\n"
      ]
    },
    {
      "cell_type": "markdown",
      "metadata": {
        "id": "BCIpUz6CMBNl"
      },
      "source": [
        "**24.** Suppose you have DataFrame with 10 columns of real numbers, for example:\n",
        "\n",
        "```python\n",
        "df = pd.DataFrame(np.random.random(size=(5, 10)), columns=list('abcdefghij'))\n",
        "```\n",
        "Which column of numbers has the smallest sum?  Return that column's label."
      ]
    },
    {
      "cell_type": "code",
      "execution_count": 44,
      "metadata": {
        "colab": {
          "base_uri": "https://localhost:8080/"
        },
        "collapsed": true,
        "id": "SD_hxvKHMBNm",
        "outputId": "c19afddc-d636-4798-ab24-3829d4ecfc9c"
      },
      "outputs": [
        {
          "output_type": "stream",
          "name": "stdout",
          "text": [
            "The column with the smallest sum is: a\n"
          ]
        }
      ],
      "source": [
        "import pandas as pd\n",
        "import numpy as np\n",
        "df = pd.DataFrame(np.random.random(size=(5, 10)), columns=list('abcdefghij'))\n",
        "column_sums = df.sum()\n",
        "smallest_sum_column = column_sums.idxmin()\n",
        "print(f\"The column with the smallest sum is: {smallest_sum_column}\")\n"
      ]
    },
    {
      "cell_type": "markdown",
      "metadata": {
        "id": "DUNNSUMIMBNm"
      },
      "source": [
        "**25.** How do you count how many unique rows a DataFrame has (i.e. ignore all rows that are duplicates)? As input, use a DataFrame of zeros and ones with 10 rows and 3 columns.\n",
        "\n",
        "```python\n",
        "df = pd.DataFrame(np.random.randint(0, 2, size=(10, 3)))\n",
        "```"
      ]
    },
    {
      "cell_type": "code",
      "execution_count": 43,
      "metadata": {
        "colab": {
          "base_uri": "https://localhost:8080/"
        },
        "collapsed": true,
        "id": "EQ3qArSUMBNn",
        "outputId": "ad457b9c-bfb4-45c3-84e4-48f5e75873ab"
      },
      "outputs": [
        {
          "output_type": "stream",
          "name": "stdout",
          "text": [
            "The number of unique rows is: 6\n"
          ]
        }
      ],
      "source": [
        "import pandas as pd\n",
        "import numpy as np\n",
        "df = pd.DataFrame(np.random.randint(0, 2, size=(10, 3)))\n",
        "unique_rows_df = df.drop_duplicates()\n",
        "unique_row_count = unique_rows_df.shape[0]\n",
        "print(f\"The number of unique rows is: {unique_row_count}\")\n"
      ]
    },
    {
      "cell_type": "markdown",
      "metadata": {
        "id": "n-TonEjhMBNo"
      },
      "source": [
        "The next three puzzles are slightly harder.\n",
        "\n",
        "\n",
        "**26.** In the cell below, you have a DataFrame `df` that consists of 10 columns of floating-point numbers. Exactly 5 entries in each row are NaN values.\n",
        "\n",
        "For each row of the DataFrame, find the *column* which contains the *third* NaN value.\n",
        "\n",
        "You should return a Series of column labels: `e, c, d, h, d`"
      ]
    },
    {
      "cell_type": "code",
      "execution_count": 42,
      "metadata": {
        "id": "z32QH9TUMBNp"
      },
      "outputs": [],
      "source": [
        "nan = np.nan\n",
        "\n",
        "data = [[0.04,  nan,  nan, 0.25,  nan, 0.43, 0.71, 0.51,  nan,  nan],\n",
        "        [ nan,  nan,  nan, 0.04, 0.76,  nan,  nan, 0.67, 0.76, 0.16],\n",
        "        [ nan,  nan, 0.5 ,  nan, 0.31, 0.4 ,  nan,  nan, 0.24, 0.01],\n",
        "        [0.49,  nan,  nan, 0.62, 0.73, 0.26, 0.85,  nan,  nan,  nan],\n",
        "        [ nan,  nan, 0.41,  nan, 0.05,  nan, 0.61,  nan, 0.48, 0.68]]\n",
        "\n",
        "columns = list('abcdefghij')\n",
        "\n",
        "df = pd.DataFrame(data, columns=columns)\n",
        "\n"
      ]
    },
    {
      "cell_type": "markdown",
      "metadata": {
        "id": "uTY13QtIMBNq"
      },
      "source": [
        "**27.** A DataFrame has a column of groups 'grps' and and column of integer values 'vals':\n",
        "\n",
        "```python\n",
        "df = pd.DataFrame({'grps': list('aaabbcaabcccbbc'),\n",
        "                   'vals': [12,345,3,1,45,14,4,52,54,23,235,21,57,3,87]})\n",
        "```\n",
        "For each *group*, find the sum of the three greatest values. You should end up with the answer as follows:\n",
        "```\n",
        "grps\n",
        "a    409\n",
        "b    156\n",
        "c    345\n",
        "```"
      ]
    },
    {
      "cell_type": "code",
      "execution_count": 41,
      "metadata": {
        "collapsed": true,
        "id": "FWmIQuhhMBNr"
      },
      "outputs": [],
      "source": [
        "df = pd.DataFrame({'grps': list('aaabbcaabcccbbc'),\n",
        "                   'vals': [12,345,3,1,45,14,4,52,54,23,235,21,57,3,87]})\n",
        "\n"
      ]
    },
    {
      "cell_type": "markdown",
      "metadata": {
        "id": "5JkuiHUrMBNs"
      },
      "source": [
        "**28.** The DataFrame `df` constructed below has two integer columns 'A' and 'B'. The values in 'A' are between 1 and 100 (inclusive).\n",
        "\n",
        "For each group of 10 consecutive integers in 'A' (i.e. `(0, 10]`, `(10, 20]`, ...), calculate the sum of the corresponding values in column 'B'.\n",
        "\n",
        "The answer should be a Series as follows:\n",
        "\n",
        "```\n",
        "A\n",
        "(0, 10]      635\n",
        "(10, 20]     360\n",
        "(20, 30]     315\n",
        "(30, 40]     306\n",
        "(40, 50]     750\n",
        "(50, 60]     284\n",
        "(60, 70]     424\n",
        "(70, 80]     526\n",
        "(80, 90]     835\n",
        "(90, 100]    852\n",
        "```"
      ]
    },
    {
      "cell_type": "code",
      "execution_count": 40,
      "metadata": {
        "collapsed": true,
        "id": "ho_gcBSlMBNs"
      },
      "outputs": [],
      "source": [
        "df = pd.DataFrame(np.random.RandomState(8765).randint(1, 101, size=(100, 2)), columns = [\"A\", \"B\"])"
      ]
    },
    {
      "cell_type": "markdown",
      "metadata": {
        "id": "2WPV5zRsMBNt"
      },
      "source": [
        "## DataFrames: harder problems\n",
        "\n",
        "### These might require a bit of thinking outside the box...\n",
        "\n",
        "...but all are solvable using just the usual pandas/NumPy methods (and so avoid using explicit `for` loops).\n",
        "\n",
        "Difficulty: *hard*"
      ]
    },
    {
      "cell_type": "markdown",
      "metadata": {
        "id": "sZnU5uOFMBNu"
      },
      "source": [
        "**29.** Consider a DataFrame `df` where there is an integer column 'X':\n",
        "```python\n",
        "df = pd.DataFrame({'X': [7, 2, 0, 3, 4, 2, 5, 0, 3, 4]})\n",
        "```\n",
        "For each value, count the difference back to the previous zero (or the start of the Series, whichever is closer). These values should therefore be\n",
        "\n",
        "```\n",
        "[1, 2, 0, 1, 2, 3, 4, 0, 1, 2]\n",
        "```\n",
        "\n",
        "Make this a new column 'Y'."
      ]
    },
    {
      "cell_type": "code",
      "execution_count": 39,
      "metadata": {
        "colab": {
          "base_uri": "https://localhost:8080/"
        },
        "collapsed": true,
        "id": "9Smks_lVMBNv",
        "outputId": "6706ae55-5a13-4660-c8fd-5f2f04a8d941"
      },
      "outputs": [
        {
          "output_type": "stream",
          "name": "stdout",
          "text": [
            "   X  Y\n",
            "0  7  1\n",
            "1  2  2\n",
            "2  0  0\n",
            "3  3  1\n",
            "4  4  2\n",
            "5  2  3\n",
            "6  5  4\n",
            "7  0  0\n",
            "8  3  1\n",
            "9  4  2\n"
          ]
        }
      ],
      "source": [
        "import pandas as pd\n",
        "df = pd.DataFrame({'X': [7, 2, 0, 3, 4, 2, 5, 0, 3, 4]})\n",
        "df['Y'] = 0\n",
        "distance_from_zero = 0\n",
        "for i in range(len(df)):\n",
        "    if df.loc[i, 'X'] == 0:\n",
        "        distance_from_zero = 0\n",
        "    else:\n",
        "        distance_from_zero += 1\n",
        "    df.loc[i, 'Y'] = distance_from_zero\n",
        "print(df)\n"
      ]
    },
    {
      "cell_type": "markdown",
      "metadata": {
        "id": "EQzv7pkkMBNv"
      },
      "source": [
        "**30.** Consider the DataFrame constructed below which contains rows and columns of numerical data.\n",
        "\n",
        "Create a list of the column-row index locations of the 3 largest values in this DataFrame. In this case, the answer should be:\n",
        "```\n",
        "[(5, 7), (6, 4), (2, 5)]\n",
        "```"
      ]
    },
    {
      "cell_type": "code",
      "execution_count": 38,
      "metadata": {
        "collapsed": true,
        "id": "P5O0JglhMBNw"
      },
      "outputs": [],
      "source": [
        "df = pd.DataFrame(np.random.RandomState(30).randint(1, 101, size=(8, 8)))"
      ]
    },
    {
      "cell_type": "markdown",
      "metadata": {
        "id": "tEuH1lcPMBNx"
      },
      "source": [
        "**31.** You are given the DataFrame below with a column of group IDs, 'grps', and a column of corresponding integer values, 'vals'.\n",
        "\n",
        "```python\n",
        "df = pd.DataFrame({\"vals\": np.random.RandomState(31).randint(-30, 30, size=15),\n",
        "                   \"grps\": np.random.RandomState(31).choice([\"A\", \"B\"], 15)})\n",
        "```\n",
        "\n",
        "Create a new column 'patched_values' which contains the same values as the 'vals' any negative values in 'vals' with the group mean:\n",
        "\n",
        "```\n",
        "    vals grps  patched_vals\n",
        "0    -12    A          13.6\n",
        "1     -7    B          28.0\n",
        "2    -14    A          13.6\n",
        "3      4    A           4.0\n",
        "4     -7    A          13.6\n",
        "5     28    B          28.0\n",
        "6     -2    A          13.6\n",
        "7     -1    A          13.6\n",
        "8      8    A           8.0\n",
        "9     -2    B          28.0\n",
        "10    28    A          28.0\n",
        "11    12    A          12.0\n",
        "12    16    A          16.0\n",
        "13   -24    A          13.6\n",
        "14   -12    A          13.6\n",
        "```"
      ]
    },
    {
      "cell_type": "code",
      "execution_count": 36,
      "metadata": {
        "colab": {
          "base_uri": "https://localhost:8080/"
        },
        "collapsed": true,
        "id": "eCQty85SMBNz",
        "outputId": "c14de00c-f5af-4ba1-cb6a-963a96a341f0"
      },
      "outputs": [
        {
          "output_type": "stream",
          "name": "stdout",
          "text": [
            "    vals grps  patched_values\n",
            "0    -12    A       -0.333333\n",
            "1     -7    B        6.333333\n",
            "2    -14    A       -0.333333\n",
            "3      4    A        4.000000\n",
            "4     -7    A       -0.333333\n",
            "5     28    B       28.000000\n",
            "6     -2    A       -0.333333\n",
            "7     -1    A       -0.333333\n",
            "8      8    A        8.000000\n",
            "9     -2    B        6.333333\n",
            "10    28    A       28.000000\n",
            "11    12    A       12.000000\n",
            "12    16    A       16.000000\n",
            "13   -24    A       -0.333333\n",
            "14   -12    A       -0.333333\n"
          ]
        }
      ],
      "source": [
        "import pandas as pd\n",
        "import numpy as np\n",
        "df = pd.DataFrame({\"vals\": np.random.RandomState(31).randint(-30, 30, size=15),\n",
        "                   \"grps\": np.random.RandomState(31).choice([\"A\", \"B\"], 15)})\n",
        "group_means = df.groupby('grps')['vals'].mean()\n",
        "df['patched_values'] = df.apply(lambda row: group_means[row['grps']] if row['vals'] < 0 else row['vals'], axis=1)\n",
        "print(df)\n"
      ]
    },
    {
      "cell_type": "markdown",
      "metadata": {
        "id": "vawZ2mMlMBN0"
      },
      "source": [
        "**32.** Implement a rolling mean over groups with window size 3, which ignores NaN value. For example consider the following DataFrame:\n",
        "\n",
        "```python\n",
        ">>> df = pd.DataFrame({'group': list('aabbabbbabab'),\n",
        "                       'value': [1, 2, 3, np.nan, 2, 3, np.nan, 1, 7, 3, np.nan, 8]})\n",
        ">>> df\n",
        "   group  value\n",
        "0      a    1.0\n",
        "1      a    2.0\n",
        "2      b    3.0\n",
        "3      b    NaN\n",
        "4      a    2.0\n",
        "5      b    3.0\n",
        "6      b    NaN\n",
        "7      b    1.0\n",
        "8      a    7.0\n",
        "9      b    3.0\n",
        "10     a    NaN\n",
        "11     b    8.0\n",
        "```\n",
        "The goal is to compute the Series:\n",
        "\n",
        "```\n",
        "0     1.000000\n",
        "1     1.500000\n",
        "2     3.000000\n",
        "3     3.000000\n",
        "4     1.666667\n",
        "5     3.000000\n",
        "6     3.000000\n",
        "7     2.000000\n",
        "8     3.666667\n",
        "9     2.000000\n",
        "10    4.500000\n",
        "11    4.000000\n",
        "```\n",
        "E.g. the first window of size three for group 'b' has values 3.0, NaN and 3.0 and occurs at row index 5. Instead of being NaN the value in the new column at this row index should be 3.0 (just the two non-NaN values are used to compute the mean (3+3)/2)"
      ]
    },
    {
      "cell_type": "code",
      "execution_count": 35,
      "metadata": {
        "colab": {
          "base_uri": "https://localhost:8080/"
        },
        "collapsed": true,
        "id": "sZwcOH-YMBN2",
        "outputId": "c6cd7746-8d29-4409-92f9-302ddd2afba9"
      },
      "outputs": [
        {
          "output_type": "stream",
          "name": "stdout",
          "text": [
            "   group  value  rolling_mean\n",
            "0      a    1.0      1.000000\n",
            "1      a    2.0      1.500000\n",
            "2      b    3.0      3.000000\n",
            "3      b    NaN      3.000000\n",
            "4      a    2.0      1.666667\n",
            "5      b    3.0      3.000000\n",
            "6      b    NaN      3.000000\n",
            "7      b    1.0      2.000000\n",
            "8      a    7.0      3.666667\n",
            "9      b    3.0      2.000000\n",
            "10     a    NaN      4.500000\n",
            "11     b    8.0      4.000000\n"
          ]
        }
      ],
      "source": [
        "import pandas as pd\n",
        "import numpy as np\n",
        "df = pd.DataFrame({'group': list('aabbabbbabab'),\n",
        "                   'value': [1, 2, 3, np.nan, 2, 3, np.nan, 1, 7, 3, np.nan, 8]})\n",
        "df['rolling_mean'] = df.groupby('group')['value'].rolling(window=3, min_periods=1).mean().reset_index(level=0, drop=True)\n",
        "print(df)\n"
      ]
    },
    {
      "cell_type": "markdown",
      "metadata": {
        "id": "7ziytsrWMBN2"
      },
      "source": [
        "## Series and DatetimeIndex\n",
        "\n",
        "### Exercises for creating and manipulating Series with datetime data\n",
        "\n",
        "Difficulty: *easy/medium*\n",
        "\n",
        "pandas is fantastic for working with dates and times. These puzzles explore some of this functionality.\n"
      ]
    },
    {
      "cell_type": "markdown",
      "metadata": {
        "id": "fUwIAfK3MBN3"
      },
      "source": [
        "**33.** Create a DatetimeIndex that contains each business day of 2015 and use it to index a Series of random numbers. Let's call this Series `s`."
      ]
    },
    {
      "cell_type": "code",
      "execution_count": 34,
      "metadata": {
        "colab": {
          "base_uri": "https://localhost:8080/"
        },
        "collapsed": true,
        "id": "sWMwhA9hMBN4",
        "outputId": "33b08d19-a26f-49ce-8e79-c434b9b89f80"
      },
      "outputs": [
        {
          "output_type": "stream",
          "name": "stdout",
          "text": [
            "2015-01-01    1.090615\n",
            "2015-01-02   -0.674289\n",
            "2015-01-05    0.626947\n",
            "2015-01-06   -0.297231\n",
            "2015-01-07   -0.804457\n",
            "                ...   \n",
            "2015-12-25   -0.000159\n",
            "2015-12-28    0.916134\n",
            "2015-12-29   -0.473287\n",
            "2015-12-30   -1.386169\n",
            "2015-12-31   -0.081254\n",
            "Freq: B, Length: 261, dtype: float64\n"
          ]
        }
      ],
      "source": [
        "import pandas as pd\n",
        "import numpy as np\n",
        "date_range = pd.date_range(start='2015-01-01', end='2015-12-31', freq='B')\n",
        "s = pd.Series(np.random.randn(len(date_range)), index=date_range)\n",
        "print(s)\n"
      ]
    },
    {
      "cell_type": "markdown",
      "metadata": {
        "id": "IGolLvuDMBN4"
      },
      "source": [
        "**34.** Find the sum of the values in `s` for every Wednesday."
      ]
    },
    {
      "cell_type": "code",
      "execution_count": 33,
      "metadata": {
        "colab": {
          "base_uri": "https://localhost:8080/"
        },
        "collapsed": true,
        "id": "dzVY1C72MBN5",
        "outputId": "39d4cd90-29a8-4b49-f4c2-81089f3d864b"
      },
      "outputs": [
        {
          "output_type": "stream",
          "name": "stdout",
          "text": [
            "1.8276255333129883\n"
          ]
        }
      ],
      "source": [
        "import pandas as pd\n",
        "import numpy as np\n",
        "date_range = pd.date_range(start='2015-01-01', end='2015-12-31', freq='B')\n",
        "s = pd.Series(np.random.randn(len(date_range)), index=date_range)\n",
        "wednesdays = s[s.index.weekday == 2]\n",
        "wednesday_sum = wednesdays.sum()\n",
        "print(wednesday_sum)\n"
      ]
    },
    {
      "cell_type": "markdown",
      "metadata": {
        "id": "iDY3dIa3MBN6"
      },
      "source": [
        "**35.** For each calendar month in `s`, find the mean of values."
      ]
    },
    {
      "cell_type": "code",
      "execution_count": 32,
      "metadata": {
        "colab": {
          "base_uri": "https://localhost:8080/"
        },
        "collapsed": true,
        "id": "ygm_wtfeMBN6",
        "outputId": "5a2ace8b-7e84-4279-fa31-78e4764fd288"
      },
      "outputs": [
        {
          "output_type": "stream",
          "name": "stdout",
          "text": [
            "1     0.419448\n",
            "2     0.157392\n",
            "3     0.025551\n",
            "4     0.191007\n",
            "5     0.501642\n",
            "6     0.515214\n",
            "7    -0.282708\n",
            "8     0.512931\n",
            "9    -0.030873\n",
            "10    0.150596\n",
            "11    0.307423\n",
            "12    0.141643\n",
            "dtype: float64\n"
          ]
        }
      ],
      "source": [
        "import pandas as pd\n",
        "import numpy as np\n",
        "date_range = pd.date_range(start='2015-01-01', end='2015-12-31', freq='B')\n",
        "s = pd.Series(np.random.randn(len(date_range)), index=date_range)\n",
        "monthly_mean = s.groupby(s.index.month).mean()\n",
        "print(monthly_mean)\n"
      ]
    },
    {
      "cell_type": "markdown",
      "metadata": {
        "id": "oT4VCKUjMBN6"
      },
      "source": [
        "**36.** For each group of four consecutive calendar months in `s`, find the date on which the highest value occurred."
      ]
    },
    {
      "cell_type": "code",
      "execution_count": 31,
      "metadata": {
        "colab": {
          "base_uri": "https://localhost:8080/"
        },
        "collapsed": true,
        "id": "3m5hn_MqMBN7",
        "outputId": "b889bbff-80c4-4693-e897-a3ae9c60160f"
      },
      "outputs": [
        {
          "output_type": "stream",
          "name": "stdout",
          "text": [
            "2015-01-31          NaT\n",
            "2015-02-28          NaT\n",
            "2015-03-31   2015-02-28\n",
            "2015-04-30   2015-02-28\n",
            "2015-05-31   2015-06-30\n",
            "2015-06-30   2015-07-31\n",
            "2015-07-31   2015-07-31\n",
            "2015-08-31   2015-07-31\n",
            "2015-09-30   2015-07-31\n",
            "2015-10-31   2015-08-31\n",
            "2015-11-30   2015-10-31\n",
            "2015-12-31          NaT\n",
            "Freq: ME, dtype: datetime64[ns]\n"
          ]
        },
        {
          "output_type": "stream",
          "name": "stderr",
          "text": [
            "<ipython-input-31-e31b8d1561ee>:6: FutureWarning: 'M' is deprecated and will be removed in a future version, please use 'ME' instead.\n",
            "  s_monthly = s.resample('M').max()\n"
          ]
        }
      ],
      "source": [
        "import pandas as pd\n",
        "import numpy as np\n",
        "\n",
        "date_range = pd.date_range(start='2015-01-01', end='2015-12-31', freq='B')\n",
        "s = pd.Series(np.random.randn(len(date_range)), index=date_range)\n",
        "s_monthly = s.resample('M').max()\n",
        "def get_rolling_max_date(window):\n",
        "    window_dates = window.index\n",
        "    max_value = window.max()\n",
        "    max_date = window_dates[window.values == max_value]\n",
        "    return max_date[0].timestamp()\n",
        "rolling_max_dates = s_monthly.rolling(window=4, center=True).apply(get_rolling_max_date, raw=False)\n",
        "\n",
        "rolling_max_dates = pd.to_datetime(rolling_max_dates, unit='s')\n",
        "\n",
        "print(rolling_max_dates)"
      ]
    },
    {
      "cell_type": "markdown",
      "metadata": {
        "id": "N6iFogMhMBN8"
      },
      "source": [
        "**37.** Create a DateTimeIndex consisting of the third Thursday in each month for the years 2015 and 2016."
      ]
    },
    {
      "cell_type": "code",
      "execution_count": 23,
      "metadata": {
        "colab": {
          "base_uri": "https://localhost:8080/"
        },
        "collapsed": true,
        "id": "5OMmscmlMBN9",
        "outputId": "fcc73089-43c0-41fd-d2fa-16d34484257e"
      },
      "outputs": [
        {
          "output_type": "stream",
          "name": "stdout",
          "text": [
            "DatetimeIndex(['2015-01-01', '2015-01-22', '2015-02-12', '2015-03-05',\n",
            "               '2015-03-26', '2015-04-16', '2015-05-07', '2015-05-28',\n",
            "               '2015-06-18', '2015-07-09', '2015-07-30', '2015-08-20',\n",
            "               '2015-09-10', '2015-10-01', '2015-10-22', '2015-11-12',\n",
            "               '2015-12-03', '2015-12-24', '2016-01-14', '2016-02-04',\n",
            "               '2016-02-25', '2016-03-17', '2016-04-07', '2016-04-28',\n",
            "               '2016-05-19', '2016-06-09', '2016-06-30', '2016-07-21',\n",
            "               '2016-08-11', '2016-09-01', '2016-09-22', '2016-10-13',\n",
            "               '2016-11-03', '2016-11-24', '2016-12-15'],\n",
            "              dtype='datetime64[ns]', freq='3W-THU')\n"
          ]
        }
      ],
      "source": [
        "import pandas as pd\n",
        "\n",
        "third_thursdays = pd.date_range(start='2015-01-01', end='2016-12-31', freq='3W-THU')\n",
        "print(third_thursdays)"
      ]
    },
    {
      "cell_type": "markdown",
      "metadata": {
        "id": "CjlP3XOXMBN-"
      },
      "source": [
        "## Cleaning Data\n",
        "\n",
        "### Making a DataFrame easier to work with\n",
        "\n",
        "Difficulty: *easy/medium*\n",
        "\n",
        "It happens all the time: someone gives you data containing malformed strings, Python, lists and missing data. How do you tidy it up so you can get on with the analysis?\n",
        "\n",
        "Take this monstrosity as the DataFrame to use in the following puzzles:\n",
        "\n",
        "```python\n",
        "df = pd.DataFrame({'From_To': ['LoNDon_paris', 'MAdrid_miLAN', 'londON_StockhOlm',\n",
        "                               'Budapest_PaRis', 'Brussels_londOn'],\n",
        "              'FlightNumber': [10045, np.nan, 10065, np.nan, 10085],\n",
        "              'RecentDelays': [[23, 47], [], [24, 43, 87], [13], [67, 32]],\n",
        "                   'Airline': ['KLM(!)', '<Air France> (12)', '(British Airways. )',\n",
        "                               '12. Air France', '\"Swiss Air\"']})\n",
        "```\n",
        "Formatted, it looks like this:\n",
        "\n",
        "```\n",
        "            From_To  FlightNumber  RecentDelays              Airline\n",
        "0      LoNDon_paris       10045.0      [23, 47]               KLM(!)\n",
        "1      MAdrid_miLAN           NaN            []    <Air France> (12)\n",
        "2  londON_StockhOlm       10065.0  [24, 43, 87]  (British Airways. )\n",
        "3    Budapest_PaRis           NaN          [13]       12. Air France\n",
        "4   Brussels_londOn       10085.0      [67, 32]          \"Swiss Air\"\n",
        "```\n",
        "\n",
        "\n",
        "(It's some flight data I made up; it's not meant to be accurate in any way.)\n"
      ]
    },
    {
      "cell_type": "markdown",
      "metadata": {
        "id": "PSSUOcwQMBN_"
      },
      "source": [
        "**38.** Some values in the the **FlightNumber** column are missing (they are `NaN`). These numbers are meant to increase by 10 with each row so 10055 and 10075 need to be put in place. Modify `df` to fill in these missing numbers and make the column an integer column (instead of a float column)."
      ]
    },
    {
      "cell_type": "code",
      "execution_count": 22,
      "metadata": {
        "colab": {
          "base_uri": "https://localhost:8080/"
        },
        "collapsed": true,
        "id": "AoJbJupTMBOA",
        "outputId": "a07b70e2-a14b-42b0-ddc9-4c923506540f"
      },
      "outputs": [
        {
          "output_type": "stream",
          "name": "stdout",
          "text": [
            "   FlightNumber  OtherColumn\n",
            "0         10055            1\n",
            "1         10125            2\n",
            "2         10075            3\n",
            "3         10135            4\n",
            "4         10145            5\n",
            "5         10115            6\n",
            "6         10155            7\n"
          ]
        }
      ],
      "source": [
        "import pandas as pd\n",
        "data = {\n",
        "    'FlightNumber': [10055, None, 10075, None, None, 10115, None],\n",
        "    'OtherColumn': [1, 2, 3, 4, 5, 6, 7]\n",
        "}\n",
        "\n",
        "df = pd.DataFrame(data)\n",
        "last_value = df['FlightNumber'].dropna().iloc[-1]\n",
        "for idx, row in df[df['FlightNumber'].isna()].iterrows():\n",
        "    last_value += 10\n",
        "    df.at[idx, 'FlightNumber'] = last_value\n",
        "df['FlightNumber'] = df['FlightNumber'].astype(int)\n",
        "print(df)\n"
      ]
    },
    {
      "cell_type": "markdown",
      "metadata": {
        "id": "JXyT6w12MBOB"
      },
      "source": [
        "**39.** The **From\\_To** column would be better as two separate columns! Split each string on the underscore delimiter `_` to give a new temporary DataFrame called 'temp' with the correct values. Assign the correct column names 'From' and 'To' to this temporary DataFrame."
      ]
    },
    {
      "cell_type": "code",
      "execution_count": 21,
      "metadata": {
        "colab": {
          "base_uri": "https://localhost:8080/"
        },
        "collapsed": true,
        "id": "a9CSVRNXMBOC",
        "outputId": "1de3d940-388f-4766-8baf-f9aba0d48580"
      },
      "outputs": [
        {
          "output_type": "stream",
          "name": "stdout",
          "text": [
            "      From         To\n",
            "0  NewYork     London\n",
            "1    Paris      Tokyo\n",
            "2   Berlin  Amsterdam\n",
            "3   Sydney      Tokyo\n"
          ]
        }
      ],
      "source": [
        "import pandas as pd\n",
        "data = {\n",
        "    'From_To': ['NewYork_London', 'Paris_Tokyo', 'Berlin_Amsterdam', 'Sydney_Tokyo'],\n",
        "    'OtherColumn': [1, 2, 3, 4]\n",
        "}\n",
        "\n",
        "df = pd.DataFrame(data)\n",
        "temp = df['From_To'].str.split('_', expand=True)\n",
        "temp.columns = ['From', 'To']\n",
        "print(temp)\n"
      ]
    },
    {
      "cell_type": "markdown",
      "metadata": {
        "id": "J6XHmR4GMBOD"
      },
      "source": [
        "**40.** Notice how the capitalisation of the city names is all mixed up in this temporary DataFrame 'temp'. Standardise the strings so that only the first letter is uppercase (e.g. \"londON\" should become \"London\".)"
      ]
    },
    {
      "cell_type": "code",
      "execution_count": 20,
      "metadata": {
        "colab": {
          "base_uri": "https://localhost:8080/"
        },
        "collapsed": true,
        "id": "vLc8S-hOMBOD",
        "outputId": "b0e86afb-c6c7-4c34-bbec-14cb249d8d01"
      },
      "outputs": [
        {
          "output_type": "stream",
          "name": "stdout",
          "text": [
            "      From         To\n",
            "0  Newyork     London\n",
            "1    Paris      Tokyo\n",
            "2   Berlin  Amsterdam\n",
            "3   Sydney      Tokyo\n"
          ]
        }
      ],
      "source": [
        "import pandas as pd\n",
        "data = {\n",
        "    'From_To': ['NewYork_London', 'Paris_Tokyo', 'Berlin_Amsterdam', 'Sydney_Tokyo'],\n",
        "    'OtherColumn': [1, 2, 3, 4]\n",
        "}\n",
        "\n",
        "df = pd.DataFrame(data)\n",
        "temp = df['From_To'].str.split('_', expand=True)\n",
        "temp.columns = ['From', 'To']\n",
        "temp['From'] = temp['From'].str.capitalize()\n",
        "temp['To'] = temp['To'].str.capitalize()\n",
        "print(temp)\n"
      ]
    },
    {
      "cell_type": "markdown",
      "metadata": {
        "id": "5RX1l8WJMBOE"
      },
      "source": [
        "**41.** Delete the **From_To** column from `df` and attach the temporary DataFrame 'temp' from the previous questions."
      ]
    },
    {
      "cell_type": "code",
      "execution_count": 19,
      "metadata": {
        "colab": {
          "base_uri": "https://localhost:8080/"
        },
        "collapsed": true,
        "id": "32wTY7eSMBOF",
        "outputId": "b5d73e79-80e5-47d8-ec0a-85e1c82cfbfc"
      },
      "outputs": [
        {
          "output_type": "stream",
          "name": "stdout",
          "text": [
            "   OtherColumn     From         To\n",
            "0            1  Newyork     London\n",
            "1            2    Paris      Tokyo\n",
            "2            3   Berlin  Amsterdam\n",
            "3            4   Sydney      Tokyo\n"
          ]
        }
      ],
      "source": [
        "import pandas as pd\n",
        "data = {\n",
        "    'From_To': ['NewYork_London', 'Paris_Tokyo', 'Berlin_Amsterdam', 'Sydney_Tokyo'],\n",
        "    'OtherColumn': [1, 2, 3, 4]\n",
        "}\n",
        "\n",
        "df = pd.DataFrame(data)\n",
        "temp = df['From_To'].str.split('_', expand=True)\n",
        "temp.columns = ['From', 'To']\n",
        "temp['From'] = temp['From'].str.capitalize()\n",
        "temp['To'] = temp['To'].str.capitalize()\n",
        "df = df.drop(columns=['From_To'])\n",
        "df = pd.concat([df, temp], axis=1)\n",
        "print(df)\n"
      ]
    },
    {
      "cell_type": "markdown",
      "metadata": {
        "id": "T0PjSk1hMBOF"
      },
      "source": [
        "**42**. In the **Airline** column, you can see some extra puctuation and symbols have appeared around the airline names. Pull out just the airline name. E.g. `'(British Airways. )'` should become `'British Airways'`."
      ]
    },
    {
      "cell_type": "code",
      "execution_count": 18,
      "metadata": {
        "colab": {
          "base_uri": "https://localhost:8080/"
        },
        "collapsed": true,
        "id": "BPGo7MaYMBOH",
        "outputId": "7bb4d605-856e-4897-f33b-378dedb57133"
      },
      "outputs": [
        {
          "output_type": "stream",
          "name": "stdout",
          "text": [
            "           Airline  OtherColumn\n",
            "0  British Airways            1\n",
            "1        Lufthansa            2\n",
            "2       Air France            3\n",
            "3   Delta Airlines            4\n"
          ]
        }
      ],
      "source": [
        "import pandas as pd\n",
        "data = {\n",
        "    'Airline': ['(British Airways. )', '    (Lufthansa)', 'Air France.', '(Delta Airlines)    '],\n",
        "    'OtherColumn': [1, 2, 3, 4]\n",
        "}\n",
        "\n",
        "df = pd.DataFrame(data)\n",
        "df['Airline'] = df['Airline'].str.replace(r'^[^\\w]+|[^\\w]+$', '', regex=True)\n",
        "print(df)\n"
      ]
    },
    {
      "cell_type": "markdown",
      "metadata": {
        "id": "9F485N8xMBOH"
      },
      "source": [
        "**43**. In the RecentDelays column, the values have been entered into the DataFrame as a list. We would like each first value in its own column, each second value in its own column, and so on. If there isn't an Nth value, the value should be NaN.\n",
        "\n",
        "Expand the Series of lists into a DataFrame named `delays`, rename the columns `delay_1`, `delay_2`, etc. and replace the unwanted RecentDelays column in `df` with `delays`."
      ]
    },
    {
      "cell_type": "code",
      "execution_count": 17,
      "metadata": {
        "colab": {
          "base_uri": "https://localhost:8080/"
        },
        "collapsed": true,
        "id": "IDZLnSLMMBOJ",
        "outputId": "05a6ecf3-4790-4fe0-95fd-02830171fa92"
      },
      "outputs": [
        {
          "output_type": "stream",
          "name": "stdout",
          "text": [
            "           Airline  OtherColumn  delay_1  delay_2  delay_3  delay_4\n",
            "0  British Airways            1        5       10     15.0      NaN\n",
            "1        Lufthansa            2       10       20      NaN      NaN\n",
            "2       Air France            3        2        4      6.0      8.0\n",
            "3   Delta Airlines            4        3        6      NaN      NaN\n"
          ]
        }
      ],
      "source": [
        "import pandas as pd\n",
        "import numpy as np\n",
        "data = {\n",
        "    'Airline': ['British Airways', 'Lufthansa', 'Air France', 'Delta Airlines'],\n",
        "    'RecentDelays': [\n",
        "        [5, 10, 15],\n",
        "        [10, 20],\n",
        "        [2, 4, 6, 8],\n",
        "        [3, 6]\n",
        "    ],\n",
        "    'OtherColumn': [1, 2, 3, 4]\n",
        "}\n",
        "\n",
        "df = pd.DataFrame(data)\n",
        "delays = pd.DataFrame(df['RecentDelays'].tolist(), columns=[f'delay_{i+1}' for i in range(df['RecentDelays'].apply(len).max())])\n",
        "df = df.drop(columns=['RecentDelays']).join(delays)\n",
        "print(df)\n"
      ]
    },
    {
      "cell_type": "markdown",
      "metadata": {
        "id": "Ct5jIrMCMBOJ"
      },
      "source": [
        "The DataFrame should look much better now.\n",
        "```\n",
        "   FlightNumber          Airline      From         To  delay_1  delay_2  delay_3\n",
        "0         10045              KLM    London      Paris     23.0     47.0      NaN\n",
        "1         10055       Air France    Madrid      Milan      NaN      NaN      NaN\n",
        "2         10065  British Airways    London  Stockholm     24.0     43.0     87.0\n",
        "3         10075       Air France  Budapest      Paris     13.0      NaN      NaN\n",
        "4         10085        Swiss Air  Brussels     London     67.0     32.0      NaN\n",
        "```"
      ]
    },
    {
      "cell_type": "markdown",
      "metadata": {
        "collapsed": true,
        "id": "usRFrIVpMBOK"
      },
      "source": [
        "## Using MultiIndexes\n",
        "\n",
        "### Go beyond flat DataFrames with additional index levels\n",
        "\n",
        "Difficulty: *medium*\n",
        "\n",
        "Previous exercises have seen us analysing data from DataFrames equipped with a single index level. However, pandas also gives you the possibilty of indexing your data using *multiple* levels. This is very much like adding new dimensions to a Series or a DataFrame. For example, a Series is 1D, but by using a MultiIndex with 2 levels we gain of much the same functionality as a 2D DataFrame.\n",
        "\n",
        "The set of puzzles below explores how you might use multiple index levels to enhance data analysis.\n",
        "\n",
        "To warm up, we'll look make a Series with two index levels."
      ]
    },
    {
      "cell_type": "markdown",
      "metadata": {
        "id": "p9tGbzjRMBOL"
      },
      "source": [
        "**44**. Given the lists `letters = ['A', 'B', 'C']` and `numbers = list(range(10))`, construct a MultiIndex object from the product of the two lists. Use it to index a Series of random numbers. Call this Series `s`."
      ]
    },
    {
      "cell_type": "code",
      "execution_count": 16,
      "metadata": {
        "colab": {
          "base_uri": "https://localhost:8080/"
        },
        "collapsed": true,
        "id": "QCTc10NkMBOM",
        "outputId": "f89c5f93-5ca4-435e-b9de-b2215c8d3d70"
      },
      "outputs": [
        {
          "output_type": "stream",
          "name": "stdout",
          "text": [
            "Letter  Number\n",
            "A       0         0.842451\n",
            "        1         0.995984\n",
            "        2         0.512164\n",
            "        3         0.538565\n",
            "        4         0.950992\n",
            "        5         0.716364\n",
            "        6         0.828078\n",
            "        7         0.929084\n",
            "        8         0.743067\n",
            "        9         0.187132\n",
            "B       0         0.086450\n",
            "        1         0.783410\n",
            "        2         0.860822\n",
            "        3         0.812225\n",
            "        4         0.654896\n",
            "        5         0.920055\n",
            "        6         0.558386\n",
            "        7         0.938674\n",
            "        8         0.474919\n",
            "        9         0.153328\n",
            "C       0         0.577352\n",
            "        1         0.086660\n",
            "        2         0.395841\n",
            "        3         0.815428\n",
            "        4         0.886803\n",
            "        5         0.321125\n",
            "        6         0.203075\n",
            "        7         0.974748\n",
            "        8         0.198574\n",
            "        9         0.884013\n",
            "dtype: float64\n"
          ]
        }
      ],
      "source": [
        "import pandas as pd\n",
        "import numpy as np\n",
        "import itertools\n",
        "letters = ['A', 'B', 'C']\n",
        "numbers = list(range(10))\n",
        "index = pd.MultiIndex.from_product([letters, numbers], names=['Letter', 'Number'])\n",
        "s = pd.Series(np.random.random(len(index)), index=index)\n",
        "print(s)\n"
      ]
    },
    {
      "cell_type": "markdown",
      "metadata": {
        "id": "7w6dVriCMBON"
      },
      "source": [
        "**45.** Check the index of `s` is lexicographically sorted (this is a necessary proprty for indexing to work correctly with a MultiIndex)."
      ]
    },
    {
      "cell_type": "code",
      "execution_count": 15,
      "metadata": {
        "colab": {
          "base_uri": "https://localhost:8080/"
        },
        "collapsed": true,
        "id": "JFnO1sMPMBON",
        "outputId": "4b7bb570-1acc-482a-f726-e61b2f000c89"
      },
      "outputs": [
        {
          "output_type": "stream",
          "name": "stdout",
          "text": [
            "Is the index lexicographically sorted? True\n"
          ]
        }
      ],
      "source": [
        "\n",
        "is_sorted = s.index.is_monotonic_increasing\n",
        "\n",
        "print(\"Is the index lexicographically sorted?\", is_sorted)\n"
      ]
    },
    {
      "cell_type": "markdown",
      "metadata": {
        "id": "85eMmc4-MBOO"
      },
      "source": [
        "**46**. Select the labels `1`, `3` and `6` from the second level of the MultiIndexed Series."
      ]
    },
    {
      "cell_type": "code",
      "execution_count": 14,
      "metadata": {
        "colab": {
          "base_uri": "https://localhost:8080/"
        },
        "collapsed": true,
        "id": "nlPXP_XuMBOP",
        "outputId": "bb1fc846-dbd5-433d-b496-2a9018634869"
      },
      "outputs": [
        {
          "output_type": "stream",
          "name": "stdout",
          "text": [
            "Letter  Number\n",
            "A       1         10\n",
            "B       1         30\n",
            "C       1         50\n",
            "dtype: int64\n"
          ]
        }
      ],
      "source": [
        "selected = s[s.index.get_level_values('Number').isin([1, 3, 6])]\n",
        "print(selected)\n"
      ]
    },
    {
      "cell_type": "markdown",
      "metadata": {
        "id": "sj3W7C9CMBOP"
      },
      "source": [
        "**47**. Slice the Series `s`; slice up to label 'B' for the first level and from label 5 onwards for the second level."
      ]
    },
    {
      "cell_type": "code",
      "execution_count": 11,
      "metadata": {
        "colab": {
          "base_uri": "https://localhost:8080/"
        },
        "collapsed": true,
        "id": "Wan1FSxmMBOQ",
        "outputId": "eacfe4d0-43fd-4ce8-b594-a68c4bf6cc04"
      },
      "outputs": [
        {
          "output_type": "stream",
          "name": "stdout",
          "text": [
            "Series([], dtype: int64)\n"
          ]
        }
      ],
      "source": [
        "sliced = s.loc[(slice(None), slice(5, None))]\n",
        "\n",
        "sliced = s.loc[s.index.get_level_values('Letter') == 'a', slice(5, None)]\n",
        "print(sliced)"
      ]
    },
    {
      "cell_type": "markdown",
      "metadata": {
        "id": "ESrMR8oEMBOQ"
      },
      "source": [
        "**48**. Sum the values in `s` for each label in the first level (you should have Series giving you a total for labels A, B and C)."
      ]
    },
    {
      "cell_type": "code",
      "execution_count": 9,
      "metadata": {
        "colab": {
          "base_uri": "https://localhost:8080/"
        },
        "collapsed": true,
        "id": "JZNV-AwxMBOR",
        "outputId": "d08a3be9-dd38-4c01-b87d-223e3ab4442f"
      },
      "outputs": [
        {
          "output_type": "stream",
          "name": "stdout",
          "text": [
            "Letter\n",
            "A     30\n",
            "B     70\n",
            "C    110\n",
            "dtype: int64\n"
          ]
        }
      ],
      "source": [
        "import pandas as pd\n",
        "sum_by_letter = s.groupby(level=0).sum()\n",
        "\n",
        "print(sum_by_letter)\n"
      ]
    },
    {
      "cell_type": "markdown",
      "metadata": {
        "id": "7kJ444CyMBOR"
      },
      "source": [
        "**49**. Suppose that `sum()` (and other methods) did not accept a `level` keyword argument. How else could you perform the equivalent of `s.sum(level=1)`?"
      ]
    },
    {
      "cell_type": "code",
      "execution_count": 8,
      "metadata": {
        "colab": {
          "base_uri": "https://localhost:8080/"
        },
        "collapsed": true,
        "id": "s2W3q1PbMBOS",
        "outputId": "177d5260-10a2-4a0e-8c0c-b2ca11263863"
      },
      "outputs": [
        {
          "output_type": "stream",
          "name": "stdout",
          "text": [
            "Letter\n",
            "A     30\n",
            "B     70\n",
            "C    110\n",
            "dtype: int64\n"
          ]
        }
      ],
      "source": [
        "\n",
        "import pandas as pd\n",
        "sum_by_letter = s.groupby(level=0).sum()\n",
        "\n",
        "print(sum_by_letter)\n"
      ]
    },
    {
      "cell_type": "markdown",
      "metadata": {
        "id": "Qpbx9DYfMBOT"
      },
      "source": [
        "**50**. Exchange the levels of the MultiIndex so we have an index of the form (letters, numbers). Is this new Series properly lexsorted? If not, sort it."
      ]
    },
    {
      "cell_type": "code",
      "execution_count": 7,
      "metadata": {
        "colab": {
          "base_uri": "https://localhost:8080/"
        },
        "id": "G1rRE16bMBOV",
        "outputId": "7c34f1eb-dd7e-43aa-81f6-216dbadfe73a"
      },
      "outputs": [
        {
          "output_type": "stream",
          "name": "stdout",
          "text": [
            "Is the index lexicographically sorted? True\n",
            "Number  Letter\n",
            "1       A         10\n",
            "        B         30\n",
            "        C         50\n",
            "2       A         20\n",
            "        B         40\n",
            "        C         60\n",
            "dtype: int64\n"
          ]
        }
      ],
      "source": [
        "\n",
        "import pandas as pd\n",
        "data = [10, 20, 30, 40, 50, 60]\n",
        "index = pd.MultiIndex.from_tuples([('A', 1), ('A', 2), ('B', 1), ('B', 2), ('C', 1), ('C', 2)], names=['Letter', 'Number'])\n",
        "s = pd.Series(data, index=index)\n",
        "\n",
        "swapped_s = s.swaplevel()\n",
        "is_sorted = swapped_s.index.is_monotonic_increasing\n",
        "if not is_sorted:\n",
        "    swapped_s = swapped_s.sort_index()\n",
        "print(\"Is the index lexicographically sorted?\", swapped_s.index.is_monotonic_increasing)\n",
        "print(swapped_s)\n"
      ]
    },
    {
      "cell_type": "markdown",
      "metadata": {
        "id": "Z0CKB45uMBOW"
      },
      "source": [
        "## Minesweeper\n",
        "\n",
        "### Generate the numbers for safe squares in a Minesweeper grid\n",
        "\n",
        "Difficulty: *medium* to *hard*\n",
        "\n",
        "If you've ever used an older version of Windows, there's a good chance you've played with Minesweeper:\n",
        "- https://en.wikipedia.org/wiki/Minesweeper_(video_game)\n",
        "\n",
        "\n",
        "If you're not familiar with the game, imagine a grid of squares: some of these squares conceal a mine. If you click on a mine, you lose instantly. If you click on a safe square, you reveal a number telling you how many mines are found in the squares that are immediately adjacent. The aim of the game is to uncover all squares in the grid that do not contain a mine.\n",
        "\n",
        "In this section, we'll make a DataFrame that contains the necessary data for a game of Minesweeper: coordinates of the squares, whether the square contains a mine and the number of mines found on adjacent squares."
      ]
    },
    {
      "cell_type": "markdown",
      "metadata": {
        "id": "bd_ox_QoMBOY"
      },
      "source": [
        "**51**. Let's suppose we're playing Minesweeper on a 5 by 4 grid, i.e.\n",
        "```\n",
        "X = 5\n",
        "Y = 4\n",
        "```\n",
        "To begin, generate a DataFrame `df` with two columns, `'x'` and `'y'` containing every coordinate for this grid. That is, the DataFrame should start:\n",
        "```\n",
        "   x  y\n",
        "0  0  0\n",
        "1  0  1\n",
        "2  0  2\n",
        "```"
      ]
    },
    {
      "cell_type": "code",
      "execution_count": 69,
      "metadata": {
        "colab": {
          "base_uri": "https://localhost:8080/"
        },
        "collapsed": true,
        "id": "h54LzHUrMBOZ",
        "outputId": "9cdd85f9-d801-4a34-c036-87d8fc0b9a67"
      },
      "outputs": [
        {
          "output_type": "stream",
          "name": "stdout",
          "text": [
            "Is the index lexicographically sorted? True\n",
            "1  a    10\n",
            "   b    30\n",
            "2  a    20\n",
            "   b    40\n",
            "dtype: int64\n"
          ]
        }
      ],
      "source": [
        "import pandas as pd\n",
        "s = pd.Series(\n",
        "    [10, 20, 30, 40],\n",
        "    index=pd.MultiIndex.from_tuples([('a', 1), ('a', 2), ('b', 1), ('b', 2)])\n",
        ")\n",
        "\n",
        "swapped_s = s.swaplevel()\n",
        "is_sorted = swapped_s.index.is_monotonic_increasing\n",
        "if not is_sorted:\n",
        "    swapped_s = swapped_s.sort_index()\n",
        "print(\"Is the index lexicographically sorted?\", swapped_s.index.is_monotonic_increasing)\n",
        "print(swapped_s)\n"
      ]
    },
    {
      "cell_type": "markdown",
      "metadata": {
        "id": "ZpuV7whUMBOa"
      },
      "source": [
        "**52**. For this DataFrame `df`, create a new column of zeros (safe) and ones (mine). The probability of a mine occuring at each location should be 0.4."
      ]
    },
    {
      "cell_type": "code",
      "execution_count": 70,
      "metadata": {
        "collapsed": true,
        "id": "L4_UyA6MMBOb"
      },
      "outputs": [],
      "source": [
        "import numpy as np\n",
        "import pandas as pd\n",
        "df['mine'] = np.random.choice([0, 1], size=len(df), p=[0.6, 0.4])\n"
      ]
    },
    {
      "cell_type": "markdown",
      "metadata": {
        "id": "icB7fnRpMBOc"
      },
      "source": [
        "**53**. Now create a new column for this DataFrame called `'adjacent'`. This column should contain the number of mines found on adjacent squares in the grid.\n",
        "\n",
        "(E.g. for the first row, which is the entry for the coordinate `(0, 0)`, count how many mines are found on the coordinates `(0, 1)`, `(1, 0)` and `(1, 1)`.)"
      ]
    },
    {
      "cell_type": "code",
      "execution_count": 71,
      "metadata": {
        "collapsed": true,
        "id": "8ElNw06vMBOc"
      },
      "outputs": [],
      "source": [
        "import numpy as np\n",
        "import pandas as pd\n",
        "\n",
        "df = pd.DataFrame({\n",
        "    'mine': np.random.choice([0, 1], size=25, p=[0.6, 0.4])\n",
        "})\n",
        "df.index = pd.MultiIndex.from_product([range(5), range(5)], names=[\"row\", \"col\"])\n",
        "\n",
        "def count_adjacent_mines(row, col, df):\n",
        "\n",
        "    adjacent_coords = [(-1, -1), (-1, 0), (-1, 1),\n",
        "                       (0, -1), (0, 1),\n",
        "                       (1, -1), (1, 0), (1, 1)]\n",
        "\n",
        "    mine_count = 0\n",
        "\n",
        "    for dr, dc in adjacent_coords:\n",
        "        r, c = row + dr, col + dc\n",
        "        if (0 <= r < df.index.get_level_values(0).max() + 1 and\n",
        "            0 <= c < df.index.get_level_values(1).max() + 1):\n",
        "            try:\n",
        "                mine_count += df.loc[(r, c), 'mine']\n",
        "            except KeyError:\n",
        "                pass\n",
        "\n",
        "    return mine_count\n",
        "\n",
        "df['adjacent'] = df.apply(lambda row: count_adjacent_mines(row.name[0], row.name[1], df), axis=1)"
      ]
    },
    {
      "cell_type": "markdown",
      "metadata": {
        "id": "LpNdtRiRMBOd"
      },
      "source": [
        "**54**. For rows of the DataFrame that contain a mine, set the value in the `'adjacent'` column to NaN."
      ]
    },
    {
      "cell_type": "code",
      "execution_count": 72,
      "metadata": {
        "colab": {
          "base_uri": "https://localhost:8080/"
        },
        "collapsed": true,
        "id": "mR6IrH45MBOd",
        "outputId": "53f581b5-9cd7-4244-9e34-d020a098bb67"
      },
      "outputs": [
        {
          "output_type": "stream",
          "name": "stdout",
          "text": [
            "         mine  adjacent\n",
            "row col                \n",
            "0   0       0       2.0\n",
            "    1       0       4.0\n",
            "    2       1       NaN\n",
            "    3       1       NaN\n",
            "    4       1       NaN\n",
            "1   0       1       NaN\n",
            "    1       1       NaN\n",
            "    2       1       NaN\n",
            "    3       1       NaN\n",
            "    4       1       NaN\n",
            "2   0       0       3.0\n",
            "    1       0       5.0\n",
            "    2       0       6.0\n",
            "    3       1       NaN\n",
            "    4       1       NaN\n",
            "3   0       0       2.0\n",
            "    1       1       NaN\n",
            "    2       1       NaN\n",
            "    3       0       3.0\n",
            "    4       0       2.0\n",
            "4   0       0       2.0\n",
            "    1       1       NaN\n",
            "    2       0       3.0\n",
            "    3       0       1.0\n",
            "    4       0       0.0\n"
          ]
        }
      ],
      "source": [
        "import numpy as np\n",
        "import pandas as pd\n",
        "\n",
        "df = pd.DataFrame({\n",
        "    'mine': np.random.choice([0, 1], size=25, p=[0.6, 0.4])\n",
        "})\n",
        "df.index = pd.MultiIndex.from_product([range(5), range(5)], names=[\"row\", \"col\"])\n",
        "\n",
        "def count_adjacent_mines(row, col, df):\n",
        "    adjacent_coords = [(-1, -1), (-1, 0), (-1, 1),\n",
        "                       (0, -1), (0, 1),\n",
        "                       (1, -1), (1, 0), (1, 1)]\n",
        "\n",
        "    mine_count = 0\n",
        "\n",
        "    for dr, dc in adjacent_coords:\n",
        "        r, c = row + dr, col + dc\n",
        "        if (0 <= r < len(df.index.get_level_values(0)) and\n",
        "            0 <= c < len(df.index.get_level_values(1))):\n",
        "            try:\n",
        "                mine_count += df.loc[(r, c), 'mine']\n",
        "            except KeyError:\n",
        "                continue\n",
        "    return mine_count\n",
        "\n",
        "df['adjacent'] = df.apply(lambda row: count_adjacent_mines(row.name[0], row.name[1], df), axis=1)\n",
        "df.loc[df['mine'] == 1, 'adjacent'] = np.nan\n",
        "print(df)"
      ]
    },
    {
      "cell_type": "markdown",
      "metadata": {
        "id": "oMqyuF1qMBOe"
      },
      "source": [
        "**55**. Finally, convert the DataFrame to grid of the adjacent mine counts: columns are the `x` coordinate, rows are the `y` coordinate."
      ]
    },
    {
      "cell_type": "code",
      "execution_count": 73,
      "metadata": {
        "colab": {
          "base_uri": "https://localhost:8080/"
        },
        "collapsed": true,
        "id": "OLUe_v_4MBOe",
        "outputId": "540bf17c-071e-42d7-9c53-0712225d9d32"
      },
      "outputs": [
        {
          "output_type": "stream",
          "name": "stdout",
          "text": [
            "   0  1  2  3  4  5  6\n",
            "0  1  1  1  0  0  0  0\n",
            "1  1 -1  2  1  1  0  0\n",
            "2  1  2  3 -1  1  0  0\n",
            "3  0  1 -1  2  1  0  0\n",
            "4  0  1  1  2  1  1  0\n",
            "5  0  0  0  1 -1  2  1\n",
            "6  0  0  0  1  2 -1  1\n"
          ]
        }
      ],
      "source": [
        "import pandas as pd\n",
        "import numpy as np\n",
        "df = pd.DataFrame({\n",
        "    'x': [1, 2, 3, 5, 6],\n",
        "    'y': [1, 3, 2, 4, 5],\n",
        "    'is_mine': [True, True, True, True, True]\n",
        "})\n",
        "grid_size = (7, 7)\n",
        "grid = np.zeros(grid_size, dtype=int)\n",
        "for _, row in df.iterrows():\n",
        "\n",
        "    x, y = row['x'], row['y']\n",
        "    for dx in range(-1, 2):\n",
        "        for dy in range(-1, 2):\n",
        "            nx, ny = x + dx, y + dy\n",
        "            if 0 <= nx < grid_size[0] and 0 <= ny < grid_size[1]:\n",
        "                grid[nx, ny] += 1\n",
        "for _, row in df.iterrows():\n",
        "    x, y = row['x'], row['y']\n",
        "    grid[x, y] = -1\n",
        "grid_df = pd.DataFrame(grid)\n",
        "print(grid_df)\n"
      ]
    },
    {
      "cell_type": "markdown",
      "metadata": {
        "id": "Gu4MtSbmMBOf"
      },
      "source": [
        "## Plotting\n",
        "\n",
        "### Visualize trends and patterns in data\n",
        "\n",
        "Difficulty: *medium*\n",
        "\n",
        "To really get a good understanding of the data contained in your DataFrame, it is often essential to create plots: if you're lucky, trends and anomalies will jump right out at you. This functionality is baked into pandas and the puzzles below explore some of what's possible with the library.\n",
        "\n",
        "**56.** Pandas is highly integrated with the plotting library matplotlib, and makes plotting DataFrames very user-friendly! Plotting in a notebook environment usually makes use of the following boilerplate:\n",
        "\n",
        "```python\n",
        "import matplotlib.pyplot as plt\n",
        "%matplotlib inline\n",
        "plt.style.use('ggplot')\n",
        "```\n",
        "\n",
        "matplotlib is the plotting library which pandas' plotting functionality is built upon, and it is usually aliased to ```plt```.\n",
        "\n",
        "```%matplotlib inline``` tells the notebook to show plots inline, instead of creating them in a separate window.  \n",
        "\n",
        "```plt.style.use('ggplot')``` is a style theme that most people find agreeable, based upon the styling of R's ggplot package.\n",
        "\n",
        "For starters, make a scatter plot of this random data, but use black X's instead of the default markers.\n",
        "\n",
        "```df = pd.DataFrame({\"xs\":[1,5,2,8,1], \"ys\":[4,2,1,9,6]})```\n",
        "\n",
        "Consult the [documentation](https://pandas.pydata.org/pandas-docs/stable/generated/pandas.DataFrame.plot.html) if you get stuck!"
      ]
    },
    {
      "cell_type": "code",
      "execution_count": 74,
      "metadata": {
        "colab": {
          "base_uri": "https://localhost:8080/",
          "height": 453
        },
        "collapsed": true,
        "id": "Raq-tYgCMBOg",
        "outputId": "8c67e270-0591-493b-a950-f2815910c5b9"
      },
      "outputs": [
        {
          "output_type": "display_data",
          "data": {
            "text/plain": [
              "<Figure size 640x480 with 1 Axes>"
            ],
            "image/png": "[encoded data removed]"
          },
          "metadata": {}
        }
      ],
      "source": [
        "import matplotlib.pyplot as plt\n",
        "import pandas as pd\n",
        "%matplotlib inline\n",
        "plt.style.use('ggplot')\n",
        "df = pd.DataFrame({\"xs\": [1, 5, 2, 8, 1], \"ys\": [4, 2, 1, 9, 6]})\n",
        "df.plot(kind='scatter', x='xs', y='ys', color='black', marker='x')\n",
        "plt.show()\n"
      ]
    },
    {
      "cell_type": "markdown",
      "metadata": {
        "id": "BtGuG8M5MBOh"
      },
      "source": [
        "**57.** Columns in your DataFrame can also be used to modify colors and sizes.  Bill has been keeping track of his performance at work over time, as well as how good he was feeling that day, and whether he had a cup of coffee in the morning.  Make a plot which incorporates all four features of this DataFrame.\n",
        "\n",
        "(Hint:  If you're having trouble seeing the plot, try multiplying the Series which you choose to represent size by 10 or more)\n",
        "\n",
        "*The chart doesn't have to be pretty: this isn't a course in data viz!*\n",
        "\n",
        "```\n",
        "df = pd.DataFrame({\"productivity\":[5,2,3,1,4,5,6,7,8,3,4,8,9],\n",
        "                   \"hours_in\"    :[1,9,6,5,3,9,2,9,1,7,4,2,2],\n",
        "                   \"happiness\"   :[2,1,3,2,3,1,2,3,1,2,2,1,3],\n",
        "                   \"caffienated\" :[0,0,1,1,0,0,0,0,1,1,0,1,0]})\n",
        "```"
      ]
    },
    {
      "cell_type": "code",
      "execution_count": 75,
      "metadata": {
        "colab": {
          "base_uri": "https://localhost:8080/",
          "height": 477
        },
        "collapsed": true,
        "id": "w3tAtLArMBOi",
        "outputId": "b70a6074-5426-467f-a983-cc6d8ea3f0ad"
      },
      "outputs": [
        {
          "output_type": "display_data",
          "data": {
            "text/plain": [
              "<Figure size 640x480 with 2 Axes>"
            ],
            "image/png": "[encoded data removed]"
          },
          "metadata": {}
        }
      ],
      "source": [
        "import matplotlib.pyplot as plt\n",
        "import pandas as pd\n",
        "df = pd.DataFrame({\n",
        "    \"productivity\": [5, 2, 3, 1, 4, 5, 6, 7, 8, 3, 4, 8, 9],\n",
        "    \"hours_in\"    : [1, 9, 6, 5, 3, 9, 2, 9, 1, 7, 4, 2, 2],\n",
        "    \"happiness\"   : [2, 1, 3, 2, 3, 1, 2, 3, 1, 2, 2, 1, 3],\n",
        "    \"caffienated\" : [0, 0, 1, 1, 0, 0, 0, 0, 1, 1, 0, 1, 0]\n",
        "})\n",
        "%matplotlib inline\n",
        "plt.style.use('ggplot')\n",
        "plt.scatter(df['hours_in'], df['productivity'],\n",
        "            s=df['happiness'] * 100,\n",
        "            c=df['caffienated'],\n",
        "            cmap='coolwarm',\n",
        "            alpha=0.6)\n",
        "plt.title('Bill\\'s Work Performance vs. Hours Worked with Happiness and Caffeine')\n",
        "plt.xlabel('Hours Worked')\n",
        "plt.ylabel('Productivity')\n",
        "plt.colorbar(label='Caffienated (0 = No, 1 = Yes)')  # Color bar for caffeine\n",
        "plt.show()\n"
      ]
    },
    {
      "cell_type": "markdown",
      "metadata": {
        "id": "WFn_VtIgMBOi"
      },
      "source": [
        "**58.**  What if we want to plot multiple things?  Pandas allows you to pass in a matplotlib *Axis* object for plots, and plots will also return an Axis object.\n",
        "\n",
        "Make a bar plot of monthly revenue with a line plot of monthly advertising spending (numbers in millions)\n",
        "\n",
        "```\n",
        "df = pd.DataFrame({\"revenue\":[57,68,63,71,72,90,80,62,59,51,47,52],\n",
        "                   \"advertising\":[2.1,1.9,2.7,3.0,3.6,3.2,2.7,2.4,1.8,1.6,1.3,1.9],\n",
        "                   \"month\":range(12)\n",
        "                  })\n",
        "```"
      ]
    },
    {
      "cell_type": "code",
      "execution_count": 76,
      "metadata": {
        "colab": {
          "base_uri": "https://localhost:8080/",
          "height": 569
        },
        "collapsed": true,
        "id": "1_IxgxOXMBOj",
        "outputId": "a929289b-4896-4313-8fed-38c56454e021"
      },
      "outputs": [
        {
          "output_type": "display_data",
          "data": {
            "text/plain": [
              "<Figure size 1000x600 with 2 Axes>"
            ],
            "image/png": "[encoded data removed]"
          },
          "metadata": {}
        }
      ],
      "source": [
        "import matplotlib.pyplot as plt\n",
        "import pandas as pd\n",
        "df = pd.DataFrame({\n",
        "    \"revenue\": [57, 68, 63, 71, 72, 90, 80, 62, 59, 51, 47, 52],\n",
        "    \"advertising\": [2.1, 1.9, 2.7, 3.0, 3.6, 3.2, 2.7, 2.4, 1.8, 1.6, 1.3, 1.9],\n",
        "    \"month\": range(12)\n",
        "})\n",
        "fig, ax1 = plt.subplots(figsize=(10, 6))\n",
        "ax1.bar(df['month'], df['revenue'], color='lightblue', label='Revenue', alpha=0.7)\n",
        "ax2 = ax1.twinx()\n",
        "ax2.plot(df['month'], df['advertising'], color='red', marker='o', label='Advertising Spending (in millions)')\n",
        "ax1.set_xlabel('Month')\n",
        "ax1.set_ylabel('Revenue (in millions)', color='blue')\n",
        "ax2.set_ylabel('Advertising Spending (in millions)', color='red')\n",
        "ax1.grid(True, which='both', axis='y', linestyle='--', alpha=0.7)\n",
        "ax1.legend(loc='upper left')\n",
        "ax2.legend(loc='upper right')\n",
        "plt.title('Monthly Revenue and Advertising Spending')\n",
        "plt.show()\n"
      ]
    },
    {
      "cell_type": "markdown",
      "metadata": {
        "id": "oCUT3WTqMBOl"
      },
      "source": [
        "Now we're finally ready to create a candlestick chart, which is a very common tool used to analyze stock price data.  A candlestick chart shows the opening, closing, highest, and lowest price for a stock during a time window.  The color of the \"candle\" (the thick part of the bar) is green if the stock closed above its opening price, or red if below.\n",
        "\n",
        "![Candlestick Example](img/candle.jpg)\n",
        "\n",
        "This was initially designed to be a pandas plotting challenge, but it just so happens that this type of plot is just not feasible using pandas' methods.  If you are unfamiliar with matplotlib, we have provided a function that will plot the chart for you so long as you can use pandas to get the data into the correct format.\n",
        "\n",
        "Your first step should be to get the data in the correct format using pandas' time-series grouping function.  We would like each candle to represent an hour's worth of data.  You can write your own aggregation function which returns the open/high/low/close, but pandas has a built-in which also does this."
      ]
    },
    {
      "cell_type": "markdown",
      "metadata": {
        "id": "40Y1X2ayMBOm"
      },
      "source": [
        "The below cell contains helper functions.  Call ```day_stock_data()``` to generate a DataFrame containing the prices a hypothetical stock sold for, and the time the sale occurred.  Call ```plot_candlestick(df)``` on your properly aggregated and formatted stock data to print the candlestick chart."
      ]
    },
    {
      "cell_type": "code",
      "execution_count": 77,
      "metadata": {
        "collapsed": true,
        "id": "l1xoPY_2MBOn"
      },
      "outputs": [],
      "source": [
        "import numpy as np\n",
        "def float_to_time(x):\n",
        "    return str(int(x)) + \":\" + str(int(x%1 * 60)).zfill(2) + \":\" + str(int(x*60 % 1 * 60)).zfill(2)\n",
        "\n",
        "def day_stock_data():\n",
        "    time = 9.5\n",
        "    price = 100\n",
        "    results = [(float_to_time(time), price)]\n",
        "    while time < 16:\n",
        "        elapsed = np.random.exponential(.001)\n",
        "        time += elapsed\n",
        "        if time > 16:\n",
        "            break\n",
        "        price_diff = np.random.uniform(.999, 1.001)\n",
        "        price *= price_diff\n",
        "        results.append((float_to_time(time), price))\n",
        "\n",
        "\n",
        "    df = pd.DataFrame(results, columns = ['time','price'])\n",
        "    df.time = pd.to_datetime(df.time)\n",
        "    return df\n",
        "def plot_candlestick(agg):\n",
        "    \"\"\"\n",
        "    agg is a DataFrame which has a DatetimeIndex and five columns: [\"open\",\"high\",\"low\",\"close\",\"color\"]\n",
        "    \"\"\"\n",
        "    fig, ax = plt.subplots()\n",
        "    for time in agg.index:\n",
        "        ax.plot([time.hour] * 2, agg.loc[time, [\"high\",\"low\"]].values, color = \"black\")\n",
        "        ax.plot([time.hour] * 2, agg.loc[time, [\"open\",\"close\"]].values, color = agg.loc[time, \"color\"], linewidth = 10)\n",
        "\n",
        "    ax.set_xlim((8,16))\n",
        "    ax.set_ylabel(\"Price\")\n",
        "    ax.set_xlabel(\"Hour\")\n",
        "    ax.set_title(\"OHLC of Stock Value During Trading Day\")\n",
        "    plt.show()"
      ]
    },
    {
      "cell_type": "markdown",
      "metadata": {
        "id": "ofaQi5ZFMBOo"
      },
      "source": [
        "**59.** Generate a day's worth of random stock data, and aggregate / reformat it so that it has hourly summaries of the opening, highest, lowest, and closing prices"
      ]
    },
    {
      "cell_type": "code",
      "execution_count": 78,
      "metadata": {
        "colab": {
          "base_uri": "https://localhost:8080/",
          "height": 720
        },
        "collapsed": true,
        "id": "45seY8HKMBOp",
        "outputId": "2a42e614-ba14-4b86-80b2-851b10b17954"
      },
      "outputs": [
        {
          "output_type": "stream",
          "name": "stderr",
          "text": [
            "<ipython-input-78-21ce135ee0ef>:7: FutureWarning: 'T' is deprecated and will be removed in a future version, please use 'min' instead.\n",
            "  timestamps = pd.date_range(start=start_time, end=end_time, freq='T')\n",
            "<ipython-input-78-21ce135ee0ef>:13: FutureWarning: 'H' is deprecated and will be removed in a future version, please use 'h' instead.\n",
            "  hourly_data = df.resample('H').agg({\n"
          ]
        },
        {
          "output_type": "stream",
          "name": "stdout",
          "text": [
            "                     opening_price  highest_price  lowest_price  closing_price\n",
            "timestamp                                                                     \n",
            "2024-11-30 09:00:00     100.496714     104.480611     87.988384      90.720719\n",
            "2024-11-30 10:00:00      90.241545      93.998399     86.473055      90.499713\n",
            "2024-11-30 11:00:00      91.290745      96.014569     86.832044      96.014569\n",
            "2024-11-30 12:00:00      96.640236     102.639413     91.845807      99.423425\n",
            "2024-11-30 13:00:00      98.630904     102.205873     94.989728      98.335432\n",
            "2024-11-30 14:00:00      97.506437     106.791910     96.946256     100.595256\n",
            "2024-11-30 15:00:00     101.114602     110.354791    101.114602     108.303390\n",
            "2024-11-30 16:00:00     110.364138     110.364138    110.364138     110.364138\n"
          ]
        },
        {
          "output_type": "display_data",
          "data": {
            "text/plain": [
              "<Figure size 640x480 with 1 Axes>"
            ],
            "image/png": "[encoded data removed]"
          },
          "metadata": {}
        }
      ],
      "source": [
        "import pandas as pd\n",
        "import numpy as np\n",
        "import matplotlib.pyplot as plt\n",
        "np.random.seed(42)\n",
        "start_time = pd.to_datetime('2024-11-30 09:00')\n",
        "end_time = pd.to_datetime('2024-11-30 16:00')\n",
        "timestamps = pd.date_range(start=start_time, end=end_time, freq='T')\n",
        "initial_price = 100\n",
        "price_changes = np.random.normal(loc=0, scale=1, size=len(timestamps))\n",
        "prices = initial_price + np.cumsum(price_changes)\n",
        "df = pd.DataFrame({\"timestamp\": timestamps, \"price\": prices})\n",
        "df.set_index('timestamp', inplace=True)\n",
        "hourly_data = df.resample('H').agg({\n",
        "    'price': ['first', 'max', 'min', 'last']\n",
        "})\n",
        "hourly_data.columns = ['opening_price', 'highest_price', 'lowest_price', 'closing_price']\n",
        "print(hourly_data)\n",
        "hourly_data['closing_price'].plot(kind='line', title=\"Hourly Closing Prices\", color='b', label=\"Closing Price\")\n",
        "plt.xlabel('Hour of the Day')\n",
        "plt.ylabel('Price')\n",
        "plt.grid(True)\n",
        "plt.legend()\n",
        "plt.show()\n"
      ]
    },
    {
      "cell_type": "markdown",
      "metadata": {
        "id": "I2udHHW4MBOp"
      },
      "source": [
        "**60.** Now that you have your properly-formatted data, try to plot it yourself as a candlestick chart.  Use the ```plot_candlestick(df)``` function above, or matplotlib's [```plot``` documentation](https://matplotlib.org/api/_as_gen/matplotlib.axes.Axes.plot.html) if you get stuck."
      ]
    },
    {
      "cell_type": "code",
      "execution_count": 79,
      "metadata": {
        "colab": {
          "base_uri": "https://localhost:8080/"
        },
        "collapsed": true,
        "id": "LRlcPf5cMBOq",
        "outputId": "85d807ec-c3a6-4d8b-c909-bb13121d88c1"
      },
      "outputs": [
        {
          "output_type": "stream",
          "name": "stdout",
          "text": [
            "Collecting mplfinance\n",
            "  Downloading mplfinance-0.12.10b0-py3-none-any.whl.metadata (19 kB)\n",
            "Requirement already satisfied: matplotlib in /usr/local/lib/python3.10/dist-packages (from mplfinance) (3.8.0)\n",
            "Requirement already satisfied: pandas in /usr/local/lib/python3.10/dist-packages (from mplfinance) (2.2.2)\n",
            "Requirement already satisfied: contourpy>=1.0.1 in /usr/local/lib/python3.10/dist-packages (from matplotlib->mplfinance) (1.3.1)\n",
            "Requirement already satisfied: cycler>=0.10 in /usr/local/lib/python3.10/dist-packages (from matplotlib->mplfinance) (0.12.1)\n",
            "Requirement already satisfied: fonttools>=4.22.0 in /usr/local/lib/python3.10/dist-packages (from matplotlib->mplfinance) (4.55.0)\n",
            "Requirement already satisfied: kiwisolver>=1.0.1 in /usr/local/lib/python3.10/dist-packages (from matplotlib->mplfinance) (1.4.7)\n",
            "Requirement already satisfied: numpy<2,>=1.21 in /usr/local/lib/python3.10/dist-packages (from matplotlib->mplfinance) (1.26.4)\n",
            "Requirement already satisfied: packaging>=20.0 in /usr/local/lib/python3.10/dist-packages (from matplotlib->mplfinance) (24.2)\n",
            "Requirement already satisfied: pillow>=6.2.0 in /usr/local/lib/python3.10/dist-packages (from matplotlib->mplfinance) (11.0.0)\n",
            "Requirement already satisfied: pyparsing>=2.3.1 in /usr/local/lib/python3.10/dist-packages (from matplotlib->mplfinance) (3.2.0)\n",
            "Requirement already satisfied: python-dateutil>=2.7 in /usr/local/lib/python3.10/dist-packages (from matplotlib->mplfinance) (2.8.2)\n",
            "Requirement already satisfied: pytz>=2020.1 in /usr/local/lib/python3.10/dist-packages (from pandas->mplfinance) (2024.2)\n",
            "Requirement already satisfied: tzdata>=2022.7 in /usr/local/lib/python3.10/dist-packages (from pandas->mplfinance) (2024.2)\n",
            "Requirement already satisfied: six>=1.5 in /usr/local/lib/python3.10/dist-packages (from python-dateutil>=2.7->matplotlib->mplfinance) (1.16.0)\n",
            "Downloading mplfinance-0.12.10b0-py3-none-any.whl (75 kB)\n",
            "\u001b[2K   \u001b[90m━━━━━━━━━━━━━━━━━━━━━━━━━━━━━━━━━━━━━━━━\u001b[0m \u001b[32m75.0/75.0 kB\u001b[0m \u001b[31m2.1 MB/s\u001b[0m eta \u001b[36m0:00:00\u001b[0m\n",
            "\u001b[?25hInstalling collected packages: mplfinance\n",
            "Successfully installed mplfinance-0.12.10b0\n"
          ]
        },
        {
          "output_type": "stream",
          "name": "stderr",
          "text": [
            "<ipython-input-79-0ca8668a9ab3>:9: FutureWarning: 'T' is deprecated and will be removed in a future version, please use 'min' instead.\n",
            "  timestamps = pd.date_range(start=start_time, end=end_time, freq='T')\n",
            "<ipython-input-79-0ca8668a9ab3>:16: FutureWarning: 'H' is deprecated and will be removed in a future version, please use 'h' instead.\n",
            "  hourly_data = df.resample('H').agg({\n"
          ]
        }
      ],
      "source": [
        "import pandas as pd\n",
        "import numpy as np\n",
        "!pip install mplfinance\n",
        "import mplfinance as mpf\n",
        "import matplotlib.pyplot as plt\n",
        "np.random.seed(42)\n",
        "start_time = pd.to_datetime('2024-11-30 09:00')\n",
        "end_time = pd.to_datetime('2024-11-30 16:00')\n",
        "timestamps = pd.date_range(start=start_time, end=end_time, freq='T')\n",
        "initial_price = 100\n",
        "price_changes = np.random.normal(loc=0, scale=1, size=len(timestamps))\n",
        "prices = initial_price + np.cumsum(price_changes)\n",
        "df = pd.DataFrame({\"timestamp\": timestamps, \"price\": prices})\n",
        "\n",
        "df.set_index('timestamp', inplace=True)\n",
        "hourly_data = df.resample('H').agg({\n",
        "    'price': ['first', 'max', 'min', 'last']\n",
        "})\n",
        "hourly_data.columns = ['opening_price', 'highest_price', 'lowest_price', 'closing_price']"
      ]
    },
    {
      "cell_type": "markdown",
      "metadata": {
        "id": "UcRxJpIXMBOq"
      },
      "source": [
        "*More exercises to follow soon...*"
      ]
    }
  ],
  "metadata": {
    "colab": {
      "provenance": [],
      "include_colab_link": true
    },
    "kernelspec": {
      "display_name": "Python 3",
      "language": "python",
      "name": "python3"
    },
    "language_info": {
      "codemirror_mode": {
        "name": "ipython",
        "version": 3
      },
      "file_extension": ".py",
      "mimetype": "text/x-python",
      "name": "python",
      "nbconvert_exporter": "python",
      "pygments_lexer": "ipython3",
      "version": "3.7.4"
    }
  },
  "nbformat": 4,
  "nbformat_minor": 0
}