{
  "cells": [
    {
      "cell_type": "markdown",
      "metadata": {
        "id": "view-in-github",
        "colab_type": "text"
      },
      "source": [
        "<a href=\"https://colab.research.google.com/github/Deekshavij13/Deekshavij13/blob/main/assignments_100_Numpy_exercises.ipynb\" target=\"_parent\"><img src=\"https://colab.research.google.com/assets/colab-badge.svg\" alt=\"Open In Colab\"/></a>"
      ]
    },
    {
      "cell_type": "markdown",
      "id": "6293cc50",
      "metadata": {
        "id": "6293cc50"
      },
      "source": [
        "# 100 numpy exercises\n",
        "\n",
        "This is a collection of exercises that have been collected in the numpy mailing list, on stack overflow\n",
        "and in the numpy documentation. The goal of this collection is to offer a quick reference for both old\n",
        "and new users but also to provide a set of exercises for those who teach.\n",
        "\n",
        "\n",
        "If you find an error or think you've a better way to solve some of them, feel\n",
        "free to open an issue at <https://github.com/rougier/numpy-100>."
      ]
    },
    {
      "cell_type": "markdown",
      "id": "a167c052",
      "metadata": {
        "id": "a167c052"
      },
      "source": [
        "File automatically generated. See the documentation to update questions/answers/hints programmatically."
      ]
    },
    {
      "cell_type": "markdown",
      "id": "57fc0ee5",
      "metadata": {
        "id": "57fc0ee5"
      },
      "source": [
        "Run the `initialize.py` module, then for each question you can query the\n",
        "answer or an hint with `hint(n)` or `answer(n)` for `n` question number."
      ]
    },
    {
      "cell_type": "code",
      "execution_count": null,
      "id": "3d46fba2",
      "metadata": {
        "id": "3d46fba2"
      },
      "outputs": [],
      "source": [
        "%run initialise.py"
      ]
    },
    {
      "cell_type": "markdown",
      "id": "3c1222ff",
      "metadata": {
        "id": "3c1222ff"
      },
      "source": [
        "#### 1. Import the numpy package under the name `np` (★☆☆)"
      ]
    },
    {
      "cell_type": "code",
      "execution_count": null,
      "id": "f52e6a0b",
      "metadata": {
        "id": "f52e6a0b"
      },
      "outputs": [],
      "source": [
        "import numpy as np\n"
      ]
    },
    {
      "cell_type": "markdown",
      "id": "9d9f4753",
      "metadata": {
        "id": "9d9f4753"
      },
      "source": [
        "#### 2. Print the numpy version and the configuration (★☆☆)"
      ]
    },
    {
      "cell_type": "code",
      "execution_count": null,
      "id": "b7fa5fa1",
      "metadata": {
        "id": "b7fa5fa1",
        "colab": {
          "base_uri": "https://localhost:8080/"
        },
        "outputId": "4ab07029-f06a-4731-91e7-5548b0aa94f6"
      },
      "outputs": [
        {
          "output_type": "stream",
          "name": "stdout",
          "text": [
            "Numpy version: 1.26.4\n",
            "Build Dependencies:\n",
            "  blas:\n",
            "    detection method: pkgconfig\n",
            "    found: true\n",
            "    include directory: /usr/local/include\n",
            "    lib directory: /usr/local/lib\n",
            "    name: openblas64\n",
            "    openblas configuration: USE_64BITINT=1 DYNAMIC_ARCH=1 DYNAMIC_OLDER= NO_CBLAS=\n",
            "      NO_LAPACK= NO_LAPACKE= NO_AFFINITY=1 USE_OPENMP= HASWELL MAX_THREADS=2\n",
            "    pc file directory: /usr/local/lib/pkgconfig\n",
            "    version: 0.3.23.dev\n",
            "  lapack:\n",
            "    detection method: internal\n",
            "    found: true\n",
            "    include directory: unknown\n",
            "    lib directory: unknown\n",
            "    name: dep139863411681952\n",
            "    openblas configuration: unknown\n",
            "    pc file directory: unknown\n",
            "    version: 1.26.4\n",
            "Compilers:\n",
            "  c:\n",
            "    args: -fno-strict-aliasing\n",
            "    commands: cc\n",
            "    linker: ld.bfd\n",
            "    linker args: -Wl,--strip-debug, -fno-strict-aliasing\n",
            "    name: gcc\n",
            "    version: 10.2.1\n",
            "  c++:\n",
            "    commands: c++\n",
            "    linker: ld.bfd\n",
            "    linker args: -Wl,--strip-debug\n",
            "    name: gcc\n",
            "    version: 10.2.1\n",
            "  cython:\n",
            "    commands: cython\n",
            "    linker: cython\n",
            "    name: cython\n",
            "    version: 3.0.8\n",
            "Machine Information:\n",
            "  build:\n",
            "    cpu: x86_64\n",
            "    endian: little\n",
            "    family: x86_64\n",
            "    system: linux\n",
            "  host:\n",
            "    cpu: x86_64\n",
            "    endian: little\n",
            "    family: x86_64\n",
            "    system: linux\n",
            "Python Information:\n",
            "  path: /opt/python/cp310-cp310/bin/python\n",
            "  version: '3.10'\n",
            "SIMD Extensions:\n",
            "  baseline:\n",
            "  - SSE\n",
            "  - SSE2\n",
            "  - SSE3\n",
            "  found:\n",
            "  - SSSE3\n",
            "  - SSE41\n",
            "  - POPCNT\n",
            "  - SSE42\n",
            "  - AVX\n",
            "  - F16C\n",
            "  - FMA3\n",
            "  - AVX2\n",
            "  not found:\n",
            "  - AVX512F\n",
            "  - AVX512CD\n",
            "  - AVX512_KNL\n",
            "  - AVX512_KNM\n",
            "  - AVX512_SKX\n",
            "  - AVX512_CLX\n",
            "  - AVX512_CNL\n",
            "  - AVX512_ICL\n",
            "\n"
          ]
        }
      ],
      "source": [
        "import numpy as np\n",
        "print(\"Numpy version:\", np.__version__)\n",
        "np.show_config()\n"
      ]
    },
    {
      "cell_type": "markdown",
      "source": [],
      "metadata": {
        "id": "sId17EuT0r3C"
      },
      "id": "sId17EuT0r3C"
    },
    {
      "cell_type": "markdown",
      "id": "3e4c23c6",
      "metadata": {
        "id": "3e4c23c6"
      },
      "source": [
        "#### 3. Create a null vector of size 10 (★☆☆)"
      ]
    },
    {
      "cell_type": "code",
      "source": [
        "import numpy as np\n",
        "null_vector = np.zeros(10)\n",
        "\n",
        "print(null_vector)\n"
      ],
      "metadata": {
        "colab": {
          "base_uri": "https://localhost:8080/"
        },
        "id": "e-J2wVSH1EKr",
        "outputId": "5489c2a0-f58f-4f01-c2e7-a85d2d4a97d8"
      },
      "id": "e-J2wVSH1EKr",
      "execution_count": null,
      "outputs": [
        {
          "output_type": "stream",
          "name": "stdout",
          "text": [
            "[0. 0. 0. 0. 0. 0. 0. 0. 0. 0.]\n"
          ]
        }
      ]
    },
    {
      "cell_type": "markdown",
      "id": "c38bbe82",
      "metadata": {
        "id": "c38bbe82"
      },
      "source": [
        "#### 4. How to find the memory size of any array (★☆☆)"
      ]
    },
    {
      "cell_type": "code",
      "execution_count": null,
      "id": "02b04021",
      "metadata": {
        "id": "02b04021",
        "colab": {
          "base_uri": "https://localhost:8080/"
        },
        "outputId": "b3e6c3ec-ed24-4aab-c477-1743a611c8f6"
      },
      "outputs": [
        {
          "output_type": "stream",
          "name": "stdout",
          "text": [
            "Memory size of the array: 80 bytes\n"
          ]
        }
      ],
      "source": [
        "import numpy as np\n",
        "array = np.zeros(10)\n",
        "memory_size = array.nbytes\n",
        "\n",
        "print(\"Memory size of the array:\", memory_size, \"bytes\")\n"
      ]
    },
    {
      "cell_type": "markdown",
      "id": "67f893d4",
      "metadata": {
        "id": "67f893d4"
      },
      "source": [
        "#### 5. How to get the documentation of the numpy add function from the command line? (★☆☆)"
      ]
    },
    {
      "cell_type": "code",
      "execution_count": null,
      "id": "40e6b70d",
      "metadata": {
        "id": "40e6b70d",
        "colab": {
          "base_uri": "https://localhost:8080/"
        },
        "outputId": "6a962791-f1c9-4d0f-e064-ec3eb5fb9b9f"
      },
      "outputs": [
        {
          "output_type": "stream",
          "name": "stdout",
          "text": [
            "Help on ufunc:\n",
            "\n",
            "add = <ufunc 'add'>\n",
            "    add(x1, x2, /, out=None, *, where=True, casting='same_kind', order='K', dtype=None, subok=True[, signature, extobj])\n",
            "    \n",
            "    Add arguments element-wise.\n",
            "    \n",
            "    Parameters\n",
            "    ----------\n",
            "    x1, x2 : array_like\n",
            "        The arrays to be added.\n",
            "        If ``x1.shape != x2.shape``, they must be broadcastable to a common\n",
            "        shape (which becomes the shape of the output).\n",
            "    out : ndarray, None, or tuple of ndarray and None, optional\n",
            "        A location into which the result is stored. If provided, it must have\n",
            "        a shape that the inputs broadcast to. If not provided or None,\n",
            "        a freshly-allocated array is returned. A tuple (possible only as a\n",
            "        keyword argument) must have length equal to the number of outputs.\n",
            "    where : array_like, optional\n",
            "        This condition is broadcast over the input. At locations where the\n",
            "        condition is True, the `out` array will be set to the ufunc result.\n",
            "        Elsewhere, the `out` array will retain its original value.\n",
            "        Note that if an uninitialized `out` array is created via the default\n",
            "        ``out=None``, locations within it where the condition is False will\n",
            "        remain uninitialized.\n",
            "    **kwargs\n",
            "        For other keyword-only arguments, see the\n",
            "        :ref:`ufunc docs <ufuncs.kwargs>`.\n",
            "    \n",
            "    Returns\n",
            "    -------\n",
            "    add : ndarray or scalar\n",
            "        The sum of `x1` and `x2`, element-wise.\n",
            "        This is a scalar if both `x1` and `x2` are scalars.\n",
            "    \n",
            "    Notes\n",
            "    -----\n",
            "    Equivalent to `x1` + `x2` in terms of array broadcasting.\n",
            "    \n",
            "    Examples\n",
            "    --------\n",
            "    >>> np.add(1.0, 4.0)\n",
            "    5.0\n",
            "    >>> x1 = np.arange(9.0).reshape((3, 3))\n",
            "    >>> x2 = np.arange(3.0)\n",
            "    >>> np.add(x1, x2)\n",
            "    array([[  0.,   2.,   4.],\n",
            "           [  3.,   5.,   7.],\n",
            "           [  6.,   8.,  10.]])\n",
            "    \n",
            "    The ``+`` operator can be used as a shorthand for ``np.add`` on ndarrays.\n",
            "    \n",
            "    >>> x1 = np.arange(9.0).reshape((3, 3))\n",
            "    >>> x2 = np.arange(3.0)\n",
            "    >>> x1 + x2\n",
            "    array([[ 0.,  2.,  4.],\n",
            "           [ 3.,  5.,  7.],\n",
            "           [ 6.,  8., 10.]])\n",
            "\n"
          ]
        }
      ],
      "source": [
        "import numpy as np\n",
        "help(np.add)\n"
      ]
    },
    {
      "cell_type": "markdown",
      "id": "e0c739c6",
      "metadata": {
        "id": "e0c739c6"
      },
      "source": [
        "#### 6. Create a null vector of size 10 but the fifth value which is 1 (★☆☆)"
      ]
    },
    {
      "cell_type": "code",
      "execution_count": null,
      "id": "bcceacf7",
      "metadata": {
        "id": "bcceacf7",
        "colab": {
          "base_uri": "https://localhost:8080/"
        },
        "outputId": "21515d6c-5a42-474e-e93f-404e51d23943"
      },
      "outputs": [
        {
          "output_type": "stream",
          "name": "stdout",
          "text": [
            "[0. 0. 0. 0. 1. 0. 0. 0. 0. 0.]\n"
          ]
        }
      ],
      "source": [
        "import numpy as np\n",
        "vector = np.zeros(10)\n",
        "vector[4] = 1\n",
        "\n",
        "print(vector)\n"
      ]
    },
    {
      "cell_type": "markdown",
      "id": "fbebedab",
      "metadata": {
        "id": "fbebedab"
      },
      "source": [
        "#### 7. Create a vector with values ranging from 10 to 49 (★☆☆)"
      ]
    },
    {
      "cell_type": "code",
      "execution_count": null,
      "id": "3d117d54",
      "metadata": {
        "id": "3d117d54",
        "colab": {
          "base_uri": "https://localhost:8080/"
        },
        "outputId": "606cb439-0927-4405-b419-87aa62aba6cf"
      },
      "outputs": [
        {
          "output_type": "stream",
          "name": "stdout",
          "text": [
            "[10 11 12 13 14 15 16 17 18 19 20 21 22 23 24 25 26 27 28 29 30 31 32 33\n",
            " 34 35 36 37 38 39 40 41 42 43 44 45 46 47 48 49]\n"
          ]
        }
      ],
      "source": [
        "import numpy as np\n",
        "vector = np.arange(10, 50)\n",
        "\n",
        "print(vector)\n"
      ]
    },
    {
      "cell_type": "markdown",
      "id": "ad0bff02",
      "metadata": {
        "id": "ad0bff02"
      },
      "source": [
        "#### 8. Reverse a vector (first element becomes last) (★☆☆)"
      ]
    },
    {
      "cell_type": "code",
      "execution_count": null,
      "id": "22d23470",
      "metadata": {
        "id": "22d23470",
        "colab": {
          "base_uri": "https://localhost:8080/"
        },
        "outputId": "38517f3b-318a-4f05-e8b8-5d80b3b95e5a"
      },
      "outputs": [
        {
          "output_type": "stream",
          "name": "stdout",
          "text": [
            "[49 48 47 46 45 44 43 42 41 40 39 38 37 36 35 34 33 32 31 30 29 28 27 26\n",
            " 25 24 23 22 21 20 19 18 17 16 15 14 13 12 11 10]\n"
          ]
        }
      ],
      "source": [
        "import numpy as np\n",
        "vector = np.arange(10, 50)\n",
        "reversed_vector = vector[::-1]\n",
        "\n",
        "print(reversed_vector)\n"
      ]
    },
    {
      "cell_type": "markdown",
      "id": "9f59d7e1",
      "metadata": {
        "id": "9f59d7e1"
      },
      "source": [
        "#### 9. Create a 3x3 matrix with values ranging from 0 to 8 (★☆☆)"
      ]
    },
    {
      "cell_type": "code",
      "execution_count": null,
      "id": "7449e82d",
      "metadata": {
        "id": "7449e82d",
        "colab": {
          "base_uri": "https://localhost:8080/"
        },
        "outputId": "c0eb2fb9-5165-4c2a-c9f9-fc1421182f84"
      },
      "outputs": [
        {
          "output_type": "stream",
          "name": "stdout",
          "text": [
            "[[0 1 2]\n",
            " [3 4 5]\n",
            " [6 7 8]]\n"
          ]
        }
      ],
      "source": [
        "import numpy as np\n",
        "matrix = np.arange(9).reshape(3, 3)\n",
        "\n",
        "print(matrix)\n"
      ]
    },
    {
      "cell_type": "markdown",
      "id": "f374c4cf",
      "metadata": {
        "id": "f374c4cf"
      },
      "source": [
        "#### 10. Find indices of non-zero elements from [1,2,0,0,4,0] (★☆☆)"
      ]
    },
    {
      "cell_type": "code",
      "execution_count": null,
      "id": "1a84bed8",
      "metadata": {
        "id": "1a84bed8",
        "colab": {
          "base_uri": "https://localhost:8080/"
        },
        "outputId": "8b820bd8-91cd-4966-a414-337e7c31c362"
      },
      "outputs": [
        {
          "output_type": "stream",
          "name": "stdout",
          "text": [
            "[0 1 4]\n"
          ]
        }
      ],
      "source": [
        "import numpy as np\n",
        "arr = np.array([1, 2, 0, 0, 4, 0])\n",
        "indices = np.nonzero(arr)[0]\n",
        "\n",
        "print(indices)\n"
      ]
    },
    {
      "cell_type": "markdown",
      "id": "9c4707f5",
      "metadata": {
        "id": "9c4707f5"
      },
      "source": [
        "#### 11. Create a 3x3 identity matrix (★☆☆)"
      ]
    },
    {
      "cell_type": "code",
      "execution_count": null,
      "id": "29dc1fd3",
      "metadata": {
        "id": "29dc1fd3",
        "colab": {
          "base_uri": "https://localhost:8080/"
        },
        "outputId": "54c7bb83-1f61-4b77-d424-cd52a0ec868b"
      },
      "outputs": [
        {
          "output_type": "stream",
          "name": "stdout",
          "text": [
            "[[1. 0. 0.]\n",
            " [0. 1. 0.]\n",
            " [0. 0. 1.]]\n"
          ]
        }
      ],
      "source": [
        "import numpy as np\n",
        "identity_matrix = np.eye(3)\n",
        "\n",
        "print(identity_matrix)\n"
      ]
    },
    {
      "cell_type": "markdown",
      "id": "3bac294a",
      "metadata": {
        "id": "3bac294a"
      },
      "source": [
        "#### 12. Create a 3x3x3 array with random values (★☆☆)"
      ]
    },
    {
      "cell_type": "code",
      "execution_count": null,
      "id": "eadfae67",
      "metadata": {
        "id": "eadfae67",
        "colab": {
          "base_uri": "https://localhost:8080/"
        },
        "outputId": "6c7293e5-61b9-4a48-a770-7f456da7e503"
      },
      "outputs": [
        {
          "output_type": "stream",
          "name": "stdout",
          "text": [
            "[[[0.19480085 0.40730295 0.87667743]\n",
            "  [0.10185906 0.69815486 0.18568774]\n",
            "  [0.65547899 0.46552298 0.33044285]]\n",
            "\n",
            " [[0.33682449 0.19148027 0.86257892]\n",
            "  [0.38220526 0.68086016 0.18184668]\n",
            "  [0.67448121 0.25703748 0.21999129]]\n",
            "\n",
            " [[0.60016718 0.4122045  0.17572378]\n",
            "  [0.00604264 0.60911735 0.62568529]\n",
            "  [0.8892331  0.89314342 0.86229486]]]\n"
          ]
        }
      ],
      "source": [
        "import numpy as np\n",
        "random_array = np.random.random((3, 3, 3))\n",
        "\n",
        "print(random_array)\n"
      ]
    },
    {
      "cell_type": "markdown",
      "id": "466c2989",
      "metadata": {
        "id": "466c2989"
      },
      "source": [
        "#### 13. Create a 10x10 array with random values and find the minimum and maximum values (★☆☆)"
      ]
    },
    {
      "cell_type": "code",
      "execution_count": null,
      "id": "9a74dbfc",
      "metadata": {
        "id": "9a74dbfc",
        "colab": {
          "base_uri": "https://localhost:8080/"
        },
        "outputId": "ff5221eb-68b1-4ad1-9151-85acf20c64df"
      },
      "outputs": [
        {
          "output_type": "stream",
          "name": "stdout",
          "text": [
            "[[[0.64025299 0.54021748 0.76689955]\n",
            "  [0.60304713 0.53560812 0.18139159]\n",
            "  [0.79325902 0.98360976 0.69156427]]\n",
            "\n",
            " [[0.73209978 0.26742778 0.8883925 ]\n",
            "  [0.05847836 0.96061697 0.63952138]\n",
            "  [0.31912008 0.0855553  0.46500898]]\n",
            "\n",
            " [[0.23841857 0.19396966 0.68528623]\n",
            "  [0.77388034 0.72817584 0.08063857]\n",
            "  [0.26631386 0.68848158 0.32444945]]]\n"
          ]
        }
      ],
      "source": [
        "import numpy as np\n",
        "random_array = np.random.random((3, 3, 3))\n",
        "\n",
        "print(random_array)\n"
      ]
    },
    {
      "cell_type": "markdown",
      "id": "53a8edb2",
      "metadata": {
        "id": "53a8edb2"
      },
      "source": [
        "#### 14. Create a random vector of size 30 and find the mean value (★☆☆)"
      ]
    },
    {
      "cell_type": "code",
      "execution_count": null,
      "id": "6691530b",
      "metadata": {
        "id": "6691530b",
        "colab": {
          "base_uri": "https://localhost:8080/"
        },
        "outputId": "85ad458f-89d5-42fd-cac0-2b818b36ce29"
      },
      "outputs": [
        {
          "output_type": "stream",
          "name": "stdout",
          "text": [
            "Array:\n",
            "[[0.59426043 0.1136573  0.44762211 0.99640295 0.19483987 0.2417955\n",
            "  0.72197997 0.56620953 0.71841859 0.64499362]\n",
            " [0.49757397 0.95143608 0.65610432 0.59865722 0.368076   0.99436081\n",
            "  0.06527181 0.17233437 0.70086649 0.65722338]\n",
            " [0.48452727 0.49029815 0.86845332 0.3947103  0.0077201  0.29407602\n",
            "  0.44981174 0.63788608 0.4157991  0.66827931]\n",
            " [0.99927308 0.35444872 0.85745617 0.60898709 0.13825558 0.10684043\n",
            "  0.15937923 0.16706108 0.69166583 0.21927407]\n",
            " [0.64188641 0.43651086 0.51633016 0.12711592 0.10124745 0.28879998\n",
            "  0.14248691 0.432504   0.32804594 0.80760107]\n",
            " [0.0613379  0.20650555 0.73257832 0.02824713 0.54703976 0.13872757\n",
            "  0.99796436 0.00676998 0.24773012 0.82062007]\n",
            " [0.01553117 0.69885798 0.00131906 0.45051161 0.5581822  0.78914395\n",
            "  0.36386397 0.87229312 0.33006149 0.0322711 ]\n",
            " [0.56107811 0.14272726 0.89451354 0.8796881  0.05877403 0.00460134\n",
            "  0.89421029 0.03804236 0.83468965 0.64636906]\n",
            " [0.78821711 0.45490695 0.09252411 0.45125657 0.59063861 0.58346357\n",
            "  0.53232622 0.48180135 0.41678086 0.4592983 ]\n",
            " [0.76305418 0.86609509 0.97048731 0.4230163  0.46990597 0.62059684\n",
            "  0.88274187 0.84175046 0.06456183 0.81265216]]\n",
            "\n",
            "Minimum value: 0.0013190612014676306\n",
            "Maximum value: 0.9992730797812197\n"
          ]
        }
      ],
      "source": [
        "import numpy as np\n",
        "random_array = np.random.random((10, 10))\n",
        "min_value = np.min(random_array)\n",
        "max_value = np.max(random_array)\n",
        "\n",
        "print(\"Array:\")\n",
        "print(random_array)\n",
        "print(\"\\nMinimum value:\", min_value)\n",
        "print(\"Maximum value:\", max_value)\n"
      ]
    },
    {
      "cell_type": "markdown",
      "id": "cbaad31c",
      "metadata": {
        "id": "cbaad31c"
      },
      "source": [
        "#### 15. Create a 2d array with 1 on the border and 0 inside (★☆☆)"
      ]
    },
    {
      "cell_type": "code",
      "execution_count": null,
      "id": "ad8308e3",
      "metadata": {
        "id": "ad8308e3",
        "colab": {
          "base_uri": "https://localhost:8080/"
        },
        "outputId": "49f78d5f-b4d8-457c-915d-b20b838a9dc4"
      },
      "outputs": [
        {
          "output_type": "stream",
          "name": "stdout",
          "text": [
            "Random Vector:\n",
            "[0.79894457 0.76239646 0.6305391  0.97242069 0.12270203 0.24709841\n",
            " 0.57919281 0.17805072 0.67896337 0.56292835 0.99440622 0.35460862\n",
            " 0.00538579 0.76117918 0.07003473 0.74632195 0.76500628 0.08233802\n",
            " 0.09194074 0.83558457 0.68991554 0.90908236 0.86973009 0.03972114\n",
            " 0.67041227 0.35534674 0.94864045 0.79904605 0.51782394 0.41107973]\n",
            "\n",
            "Mean Value: 0.5483613632801803\n"
          ]
        }
      ],
      "source": [
        "import numpy as np\n",
        "random_vector = np.random.random(30)\n",
        "mean_value = np.mean(random_vector)\n",
        "\n",
        "print(\"Random Vector:\")\n",
        "print(random_vector)\n",
        "print(\"\\nMean Value:\", mean_value)\n"
      ]
    },
    {
      "cell_type": "markdown",
      "id": "c5ecc267",
      "metadata": {
        "id": "c5ecc267"
      },
      "source": [
        "#### 16. How to add a border (filled with 0's) around an existing array? (★☆☆)"
      ]
    },
    {
      "cell_type": "code",
      "execution_count": null,
      "id": "9d5c78c4",
      "metadata": {
        "id": "9d5c78c4",
        "colab": {
          "base_uri": "https://localhost:8080/"
        },
        "outputId": "019959fd-4c05-480c-8204-d1569380c48b"
      },
      "outputs": [
        {
          "output_type": "stream",
          "name": "stdout",
          "text": [
            "[[0 0 0 0 0]\n",
            " [0 1 2 3 0]\n",
            " [0 4 5 6 0]\n",
            " [0 7 8 9 0]\n",
            " [0 0 0 0 0]]\n"
          ]
        }
      ],
      "source": [
        "import numpy as np\n",
        "array = np.array([[1, 2, 3],\n",
        "                  [4, 5, 6],\n",
        "                  [7, 8, 9]])\n",
        "array_with_border = np.pad(array, pad_width=1, mode='constant', constant_values=0)\n",
        "\n",
        "print(array_with_border)\n"
      ]
    },
    {
      "cell_type": "markdown",
      "id": "ef909b72",
      "metadata": {
        "id": "ef909b72"
      },
      "source": [
        "#### 17. What is the result of the following expression? (★☆☆)\n",
        "```python\n",
        "0 * np.nan\n",
        "np.nan == np.nan\n",
        "np.inf > np.nan\n",
        "np.nan - np.nan\n",
        "np.nan in set([np.nan])\n",
        "0.3 == 3 * 0.1\n",
        "```"
      ]
    },
    {
      "cell_type": "code",
      "source": [
        "0 * np.nan → np.nan\n",
        "np.nan == np.nan → False\n",
        "np.inf > np.nan → False\n",
        "np.nan - np.nan → np.nan\n",
        "np.nan in set([np.nan]) → True\n",
        "0.3 == 3 * 0.1 → False"
      ],
      "metadata": {
        "colab": {
          "base_uri": "https://localhost:8080/",
          "height": 106
        },
        "id": "d4elwfbV9Q_y",
        "outputId": "47faf16d-0824-4246-f61f-82ebbdaad50a"
      },
      "id": "d4elwfbV9Q_y",
      "execution_count": null,
      "outputs": [
        {
          "output_type": "error",
          "ename": "SyntaxError",
          "evalue": "invalid character '→' (U+2192) (<ipython-input-18-cca5be070996>, line 1)",
          "traceback": [
            "\u001b[0;36m  File \u001b[0;32m\"<ipython-input-18-cca5be070996>\"\u001b[0;36m, line \u001b[0;32m1\u001b[0m\n\u001b[0;31m    0 * np.nan → np.nan\u001b[0m\n\u001b[0m               ^\u001b[0m\n\u001b[0;31mSyntaxError\u001b[0m\u001b[0;31m:\u001b[0m invalid character '→' (U+2192)\n"
          ]
        }
      ]
    },
    {
      "cell_type": "markdown",
      "id": "502738ac",
      "metadata": {
        "id": "502738ac"
      },
      "source": [
        "#### 18. Create a 5x5 matrix with values 1,2,3,4 just below the diagonal (★☆☆)"
      ]
    },
    {
      "cell_type": "code",
      "execution_count": null,
      "id": "faed6e2b",
      "metadata": {
        "id": "faed6e2b",
        "colab": {
          "base_uri": "https://localhost:8080/"
        },
        "outputId": "fa9af3b9-e529-4aec-8007-72e6eca11cb6"
      },
      "outputs": [
        {
          "output_type": "stream",
          "name": "stdout",
          "text": [
            "[[0 0 0 0 0]\n",
            " [1 0 0 0 0]\n",
            " [0 2 0 0 0]\n",
            " [0 0 3 0 0]\n",
            " [0 0 0 4 0]]\n"
          ]
        }
      ],
      "source": [
        "import numpy as np\n",
        "matrix = np.zeros((5, 5), dtype=int)\n",
        "np.fill_diagonal(matrix[1:], [1, 2, 3, 4])\n",
        "\n",
        "print(matrix)\n"
      ]
    },
    {
      "cell_type": "markdown",
      "id": "a65da660",
      "metadata": {
        "id": "a65da660"
      },
      "source": [
        "#### 19. Create a 8x8 matrix and fill it with a checkerboard pattern (★☆☆)"
      ]
    },
    {
      "cell_type": "code",
      "execution_count": null,
      "id": "ed150400",
      "metadata": {
        "id": "ed150400",
        "colab": {
          "base_uri": "https://localhost:8080/"
        },
        "outputId": "fdd86927-f437-4a10-8e0d-130c7db89494"
      },
      "outputs": [
        {
          "output_type": "stream",
          "name": "stdout",
          "text": [
            "[[0 1 0 1 0 1 0 1]\n",
            " [1 0 1 0 1 0 1 0]\n",
            " [0 1 0 1 0 1 0 1]\n",
            " [1 0 1 0 1 0 1 0]\n",
            " [0 1 0 1 0 1 0 1]\n",
            " [1 0 1 0 1 0 1 0]\n",
            " [0 1 0 1 0 1 0 1]\n",
            " [1 0 1 0 1 0 1 0]]\n"
          ]
        }
      ],
      "source": [
        "import numpy as np\n",
        "matrix = np.zeros((8, 8), dtype=int)\n",
        "matrix[1::2, ::2] = 1\n",
        "matrix[::2, 1::2] = 1\n",
        "\n",
        "print(matrix)\n"
      ]
    },
    {
      "cell_type": "markdown",
      "id": "9f7f9c49",
      "metadata": {
        "id": "9f7f9c49"
      },
      "source": [
        "#### 20. Consider a (6,7,8) shape array, what is the index (x,y,z) of the 100th element? (★☆☆)"
      ]
    },
    {
      "cell_type": "code",
      "execution_count": null,
      "id": "3782b5a9",
      "metadata": {
        "id": "3782b5a9",
        "colab": {
          "base_uri": "https://localhost:8080/"
        },
        "outputId": "cb5f3b81-714f-4956-c8fd-8aebb02d4546"
      },
      "outputs": [
        {
          "output_type": "stream",
          "name": "stdout",
          "text": [
            "1 5 4\n"
          ]
        }
      ],
      "source": [
        "n = 100\n",
        "z = n % 8\n",
        "y = (n // 8) % 7\n",
        "x = n // (8 * 7)\n",
        "\n",
        "print(x, y, z)\n"
      ]
    },
    {
      "cell_type": "markdown",
      "id": "66bfda35",
      "metadata": {
        "id": "66bfda35"
      },
      "source": [
        "#### 21. Create a checkerboard 8x8 matrix using the tile function (★☆☆)"
      ]
    },
    {
      "cell_type": "code",
      "execution_count": null,
      "id": "4c07477c",
      "metadata": {
        "id": "4c07477c",
        "colab": {
          "base_uri": "https://localhost:8080/"
        },
        "outputId": "71359a36-cd4d-4bc7-8398-4f053955a6bb"
      },
      "outputs": [
        {
          "output_type": "stream",
          "name": "stdout",
          "text": [
            "[[1 0 1 0 1 0 1 0]\n",
            " [0 1 0 1 0 1 0 1]\n",
            " [1 0 1 0 1 0 1 0]\n",
            " [0 1 0 1 0 1 0 1]\n",
            " [1 0 1 0 1 0 1 0]\n",
            " [0 1 0 1 0 1 0 1]\n",
            " [1 0 1 0 1 0 1 0]\n",
            " [0 1 0 1 0 1 0 1]]\n"
          ]
        }
      ],
      "source": [
        "import numpy as np\n",
        "checkerboard_pattern = np.array([[1, 0], [0, 1]])\n",
        "checkerboard = np.tile(checkerboard_pattern, (4, 4))\n",
        "\n",
        "print(checkerboard)\n"
      ]
    },
    {
      "cell_type": "markdown",
      "id": "d5bcfc08",
      "metadata": {
        "id": "d5bcfc08"
      },
      "source": [
        "#### 22. Normalize a 5x5 random matrix (★☆☆)"
      ]
    },
    {
      "cell_type": "code",
      "execution_count": null,
      "id": "cea6c993",
      "metadata": {
        "id": "cea6c993",
        "colab": {
          "base_uri": "https://localhost:8080/"
        },
        "outputId": "782a1efa-76f4-4a2a-f23d-45b322a04bb9"
      },
      "outputs": [
        {
          "output_type": "stream",
          "name": "stdout",
          "text": [
            "Original Matrix:\n",
            "[[0.26077477 0.17434364 0.41156601 0.28316844 0.43983485]\n",
            " [0.87514008 0.75172849 0.65538488 0.67368572 0.52309741]\n",
            " [0.5778013  0.77545036 0.04013847 0.89652305 0.84521586]\n",
            " [0.81451934 0.50420336 0.46344275 0.44018571 0.12888504]\n",
            " [0.00558611 0.17972779 0.05791744 0.10400834 0.75463145]]\n",
            "\n",
            "Normalized Matrix:\n",
            "[[0.28642729 0.1894158  0.45567748 0.31156227 0.48740681]\n",
            " [0.97599945 0.83748057 0.72934317 0.74988428 0.58086187]\n",
            " [0.64226228 0.86410633 0.03878204 1.         0.9424121 ]\n",
            " [0.9079579  0.55965493 0.51390465 0.48780063 0.13839243]\n",
            " [0.         0.19545904 0.05873741 0.11047048 0.8407389 ]]\n"
          ]
        }
      ],
      "source": [
        "import numpy as np\n",
        "matrix = np.random.random((5, 5))\n",
        "min_val = matrix.min()\n",
        "max_val = matrix.max()\n",
        "normalized_matrix = (matrix - min_val) / (max_val - min_val)\n",
        "\n",
        "print(\"Original Matrix:\")\n",
        "print(matrix)\n",
        "print(\"\\nNormalized Matrix:\")\n",
        "print(normalized_matrix)\n"
      ]
    },
    {
      "cell_type": "markdown",
      "id": "f9a0911e",
      "metadata": {
        "id": "f9a0911e"
      },
      "source": [
        "#### 23. Create a custom dtype that describes a color as four unsigned bytes (RGBA) (★☆☆)"
      ]
    },
    {
      "cell_type": "code",
      "execution_count": null,
      "id": "d165044b",
      "metadata": {
        "id": "d165044b",
        "colab": {
          "base_uri": "https://localhost:8080/"
        },
        "outputId": "640cfe8b-cb7f-4d8d-8ed3-ef51cceab3ae"
      },
      "outputs": [
        {
          "output_type": "stream",
          "name": "stdout",
          "text": [
            "[(255,   0,   0, 255) (  0, 255,   0, 255) (  0,   0, 255, 255)\n",
            " (255, 255,   0, 255)]\n"
          ]
        }
      ],
      "source": [
        "import numpy as np\n",
        "rgba_dtype = np.dtype([('r', np.uint8),\n",
        "                       ('g', np.uint8),\n",
        "                       ('b', np.uint8),\n",
        "                       ('a', np.uint8)])\n",
        "colors = np.array([(255, 0, 0, 255),\n",
        "                   (0, 255, 0, 255),\n",
        "                   (0, 0, 255, 255),\n",
        "                   (255, 255, 0, 255)],\n",
        "                  dtype=rgba_dtype)\n",
        "\n",
        "print(colors)\n"
      ]
    },
    {
      "cell_type": "markdown",
      "id": "654805b1",
      "metadata": {
        "id": "654805b1"
      },
      "source": [
        "#### 24. Multiply a 5x3 matrix by a 3x2 matrix (real matrix product) (★☆☆)"
      ]
    },
    {
      "cell_type": "code",
      "execution_count": null,
      "id": "6a42619f",
      "metadata": {
        "id": "6a42619f",
        "colab": {
          "base_uri": "https://localhost:8080/"
        },
        "outputId": "cc864583-51f2-4d57-8680-56a2e0e879e5"
      },
      "outputs": [
        {
          "output_type": "stream",
          "name": "stdout",
          "text": [
            "Matrix A (5x3):\n",
            "[[0.98037566 0.01347039 0.33211107]\n",
            " [0.08867453 0.39404901 0.71469262]\n",
            " [0.93809661 0.17860858 0.98446161]\n",
            " [0.12815593 0.21769426 0.99833697]\n",
            " [0.39933656 0.8393966  0.96529831]]\n",
            "\n",
            "Matrix B (3x2):\n",
            "[[0.61345094 0.0088518 ]\n",
            " [0.59403103 0.68787015]\n",
            " [0.93340032 0.84917644]]\n",
            "\n",
            "Matrix C (Result of A * B):\n",
            "[[0.91940678 0.29996487]\n",
            " [0.95556913 0.87873962]\n",
            " [1.60047207 0.96714497]\n",
            " [1.13978257 0.99864403]\n",
            " [1.64461077 1.40063929]]\n"
          ]
        }
      ],
      "source": [
        "import numpy as np\n",
        "A = np.random.random((5, 3))\n",
        "B = np.random.random((3, 2))\n",
        "C = np.dot(A, B)\n",
        "\n",
        "print(\"Matrix A (5x3):\")\n",
        "print(A)\n",
        "\n",
        "print(\"\\nMatrix B (3x2):\")\n",
        "print(B)\n",
        "\n",
        "print(\"\\nMatrix C (Result of A * B):\")\n",
        "print(C)\n"
      ]
    },
    {
      "cell_type": "markdown",
      "id": "994c25df",
      "metadata": {
        "id": "994c25df"
      },
      "source": [
        "#### 25. Given a 1D array, negate all elements which are between 3 and 8, in place. (★☆☆)"
      ]
    },
    {
      "cell_type": "code",
      "execution_count": null,
      "id": "e4b39c03",
      "metadata": {
        "id": "e4b39c03",
        "colab": {
          "base_uri": "https://localhost:8080/"
        },
        "outputId": "cfa1b452-24d9-4f41-972a-ad8a86609c94"
      },
      "outputs": [
        {
          "output_type": "stream",
          "name": "stdout",
          "text": [
            "Modified array:\n",
            "[ 1  2  3 -4 -5 -6 -7  8  9 10]\n"
          ]
        }
      ],
      "source": [
        "import numpy as np\n",
        "arr = np.array([1, 2, 3, 4, 5, 6, 7, 8, 9, 10])\n",
        "mask = (arr > 3) & (arr < 8)\n",
        "arr[mask] = -arr[mask]\n",
        "\n",
        "print(\"Modified array:\")\n",
        "print(arr)\n",
        "\n"
      ]
    },
    {
      "cell_type": "markdown",
      "id": "b7d15d1a",
      "metadata": {
        "id": "b7d15d1a"
      },
      "source": [
        "#### 26. What is the output of the following script? (★☆☆)\n",
        "```python\n",
        "# Author: Jake VanderPlas\n",
        "\n",
        "print(sum(range(5),-1))\n",
        "from numpy import *\n",
        "print(sum(range(5),-1))\n",
        "```"
      ]
    },
    {
      "cell_type": "code",
      "execution_count": null,
      "id": "4c95bc3f",
      "metadata": {
        "id": "4c95bc3f",
        "colab": {
          "base_uri": "https://localhost:8080/"
        },
        "outputId": "1e3cb88b-20a4-4881-b67a-6b821de49249"
      },
      "outputs": [
        {
          "output_type": "stream",
          "name": "stdout",
          "text": [
            "9\n",
            "10\n"
          ]
        }
      ],
      "source": [
        "\n",
        "\n",
        "print(sum(range(5),-1))\n",
        "from numpy import *\n",
        "print(sum(range(5),-1))\n"
      ]
    },
    {
      "cell_type": "markdown",
      "id": "a34f0d08",
      "metadata": {
        "id": "a34f0d08"
      },
      "source": [
        "#### 27. Consider an integer vector Z, which of these expressions are legal? (★☆☆)\n",
        "```python\n",
        "Z**Z\n",
        "2 << Z >> 2\n",
        "Z <- Z\n",
        "1j*Z\n",
        "Z/1/1\n",
        "Z<Z>Z\n",
        "```"
      ]
    },
    {
      "cell_type": "code",
      "execution_count": null,
      "id": "564658fc",
      "metadata": {
        "id": "564658fc",
        "colab": {
          "base_uri": "https://localhost:8080/",
          "height": 193
        },
        "outputId": "4cdab833-0fe9-43c4-8039-85381731c1a4"
      },
      "outputs": [
        {
          "output_type": "error",
          "ename": "NameError",
          "evalue": "name 'Z' is not defined",
          "traceback": [
            "\u001b[0;31m---------------------------------------------------------------------------\u001b[0m",
            "\u001b[0;31mNameError\u001b[0m                                 Traceback (most recent call last)",
            "\u001b[0;32m<ipython-input-33-a3ee2538818e>\u001b[0m in \u001b[0;36m<cell line: 1>\u001b[0;34m()\u001b[0m\n\u001b[0;32m----> 1\u001b[0;31m \u001b[0mZ\u001b[0m\u001b[0;34m**\u001b[0m\u001b[0mZ\u001b[0m\u001b[0;34m\u001b[0m\u001b[0;34m\u001b[0m\u001b[0m\n\u001b[0m\u001b[1;32m      2\u001b[0m \u001b[0;36m2\u001b[0m \u001b[0;34m<<\u001b[0m \u001b[0mZ\u001b[0m \u001b[0;34m>>\u001b[0m \u001b[0;36m2\u001b[0m\u001b[0;34m\u001b[0m\u001b[0;34m\u001b[0m\u001b[0m\n\u001b[1;32m      3\u001b[0m \u001b[0;36m1j\u001b[0m\u001b[0;34m*\u001b[0m\u001b[0mZ\u001b[0m\u001b[0;34m\u001b[0m\u001b[0;34m\u001b[0m\u001b[0m\n\u001b[1;32m      4\u001b[0m \u001b[0mZ\u001b[0m\u001b[0;34m/\u001b[0m\u001b[0;36m1\u001b[0m\u001b[0;34m/\u001b[0m\u001b[0;36m1\u001b[0m\u001b[0;34m\u001b[0m\u001b[0;34m\u001b[0m\u001b[0m\n",
            "\u001b[0;31mNameError\u001b[0m: name 'Z' is not defined"
          ]
        }
      ],
      "source": [
        "Z**Z\n",
        "2 << Z >> 2\n",
        "1j*Z\n",
        "Z/1/1\n"
      ]
    },
    {
      "cell_type": "markdown",
      "id": "c34e94bf",
      "metadata": {
        "id": "c34e94bf"
      },
      "source": [
        "#### 28. What are the result of the following expressions? (★☆☆)\n",
        "```python\n",
        "np.array(0) / np.array(0)\n",
        "np.array(0) // np.array(0)\n",
        "np.array([np.nan]).astype(int).astype(float)\n",
        "```"
      ]
    },
    {
      "cell_type": "code",
      "execution_count": null,
      "id": "56663562",
      "metadata": {
        "id": "56663562",
        "colab": {
          "base_uri": "https://localhost:8080/"
        },
        "outputId": "e46da1c3-1e9a-4fde-8bd6-fcaf65102d5d"
      },
      "outputs": [
        {
          "output_type": "execute_result",
          "data": {
            "text/plain": [
              "nan"
            ]
          },
          "metadata": {},
          "execution_count": 34
        }
      ],
      "source": [
        "nan\n"
      ]
    },
    {
      "cell_type": "markdown",
      "id": "546f5e7b",
      "metadata": {
        "id": "546f5e7b"
      },
      "source": [
        "#### 29. How to round away from zero a float array ? (★☆☆)"
      ]
    },
    {
      "cell_type": "code",
      "execution_count": null,
      "id": "f725a6d2",
      "metadata": {
        "id": "f725a6d2",
        "colab": {
          "base_uri": "https://localhost:8080/"
        },
        "outputId": "39b15e06-a617-4eab-aa6c-30ad6f3e9e5d"
      },
      "outputs": [
        {
          "output_type": "stream",
          "name": "stdout",
          "text": [
            "[ 2. -3.  4. -5.  6.]\n"
          ]
        }
      ],
      "source": [
        "import numpy as npo\n",
        "def round_away_from_zero(arr):\n",
        "    return np.sign(arr) * np.ceil(np.abs(arr))\n",
        "arr = np.array([1.5, -2.3, 3.1, -4.7, 5.9])\n",
        "rounded_arr = round_away_from_zero(arr)\n",
        "\n",
        "print(rounded_arr)\n"
      ]
    },
    {
      "cell_type": "markdown",
      "id": "eadca856",
      "metadata": {
        "id": "eadca856"
      },
      "source": [
        "#### 30. How to find common values between two arrays? (★☆☆)"
      ]
    },
    {
      "cell_type": "code",
      "execution_count": null,
      "id": "e0270b5b",
      "metadata": {
        "id": "e0270b5b",
        "colab": {
          "base_uri": "https://localhost:8080/"
        },
        "outputId": "3463bb0e-647d-4996-9e31-a726c2fb69e1"
      },
      "outputs": [
        {
          "output_type": "stream",
          "name": "stdout",
          "text": [
            "[4, 5]\n"
          ]
        }
      ],
      "source": [
        "\n",
        "array1 = [1, 2, 3, 4, 5]\n",
        "array2 = [4, 5, 6, 7, 8]\n",
        "common_values = list(set(array1) & set(array2))\n",
        "\n",
        "print(common_values)\n"
      ]
    },
    {
      "cell_type": "markdown",
      "id": "ca16ca22",
      "metadata": {
        "id": "ca16ca22"
      },
      "source": [
        "#### 31. How to ignore all numpy warnings (not recommended)? (★☆☆)"
      ]
    },
    {
      "cell_type": "code",
      "execution_count": null,
      "id": "7d7208ef",
      "metadata": {
        "id": "7d7208ef"
      },
      "outputs": [],
      "source": [
        "import numpy as np\n",
        "import warnings\n",
        "warnings.filterwarnings('ignore', category=Warning)\n",
        "np.seterr(divide='warn')\n",
        "result = np.array([1, 2, 3]) / np.array([0, 0, 0])\n"
      ]
    },
    {
      "cell_type": "markdown",
      "id": "c7871d0d",
      "metadata": {
        "id": "c7871d0d"
      },
      "source": [
        "#### 32. Is the following expressions true? (★☆☆)\n",
        "```python\n",
        "np.sqrt(-1) == np.emath.sqrt(-1)\n",
        "```"
      ]
    },
    {
      "cell_type": "code",
      "execution_count": null,
      "id": "acc3701a",
      "metadata": {
        "id": "acc3701a",
        "colab": {
          "base_uri": "https://localhost:8080/"
        },
        "outputId": "778faa2b-c0b5-46d2-90c2-28f71510f7fc"
      },
      "outputs": [
        {
          "output_type": "stream",
          "name": "stdout",
          "text": [
            "False\n"
          ]
        }
      ],
      "source": [
        "import numpy as np\n",
        "\n",
        "result1 = np.sqrt(-1)\n",
        "result2 = np.emath.sqrt(-1)\n",
        "print(result1 == result2)\n"
      ]
    },
    {
      "cell_type": "markdown",
      "id": "e0433e30",
      "metadata": {
        "id": "e0433e30"
      },
      "source": [
        "#### 33. How to get the dates of yesterday, today and tomorrow? (★☆☆)"
      ]
    },
    {
      "cell_type": "code",
      "execution_count": null,
      "id": "9c4d2152",
      "metadata": {
        "id": "9c4d2152",
        "colab": {
          "base_uri": "https://localhost:8080/"
        },
        "outputId": "0232b7db-2811-4ae6-db66-4db98127cb16"
      },
      "outputs": [
        {
          "output_type": "stream",
          "name": "stdout",
          "text": [
            "Yesterday: 2024-11-26\n",
            "Today: 2024-11-27\n",
            "Tomorrow: 2024-11-28\n"
          ]
        }
      ],
      "source": [
        "from datetime import datetime, timedelta\n",
        "today = datetime.today()\n",
        "yesterday = today - timedelta(days=1)\n",
        "tomorrow = today + timedelta(days=1)\n",
        "print(\"Yesterday:\", yesterday.date())\n",
        "print(\"Today:\", today.date())\n",
        "print(\"Tomorrow:\", tomorrow.date())\n"
      ]
    },
    {
      "cell_type": "markdown",
      "id": "9f52a2ef",
      "metadata": {
        "id": "9f52a2ef"
      },
      "source": [
        "#### 34. How to get all the dates corresponding to the month of July 2016? (★★☆)"
      ]
    },
    {
      "cell_type": "code",
      "execution_count": null,
      "id": "d6c34dec",
      "metadata": {
        "id": "d6c34dec",
        "colab": {
          "base_uri": "https://localhost:8080/"
        },
        "outputId": "d9fb0a57-7acf-4890-aac6-a986a2390237"
      },
      "outputs": [
        {
          "output_type": "stream",
          "name": "stdout",
          "text": [
            "2016-07-01\n",
            "2016-07-02\n",
            "2016-07-03\n",
            "2016-07-04\n",
            "2016-07-05\n",
            "2016-07-06\n",
            "2016-07-07\n",
            "2016-07-08\n",
            "2016-07-09\n",
            "2016-07-10\n",
            "2016-07-11\n",
            "2016-07-12\n",
            "2016-07-13\n",
            "2016-07-14\n",
            "2016-07-15\n",
            "2016-07-16\n",
            "2016-07-17\n",
            "2016-07-18\n",
            "2016-07-19\n",
            "2016-07-20\n",
            "2016-07-21\n",
            "2016-07-22\n",
            "2016-07-23\n",
            "2016-07-24\n",
            "2016-07-25\n",
            "2016-07-26\n",
            "2016-07-27\n",
            "2016-07-28\n",
            "2016-07-29\n",
            "2016-07-30\n",
            "2016-07-31\n"
          ]
        }
      ],
      "source": [
        "from datetime import datetime, timedelta\n",
        "start_date = datetime(2016, 7, 1)\n",
        "end_date = datetime(2016, 7, 31)\n",
        "current_date = start_date\n",
        "dates_in_july = []\n",
        "\n",
        "while current_date <= end_date:\n",
        "    dates_in_july.append(current_date.date())\n",
        "    current_date += timedelta(days=1)\n",
        "for date in dates_in_july:\n",
        "    print(date)\n"
      ]
    },
    {
      "cell_type": "markdown",
      "id": "4a64e059",
      "metadata": {
        "id": "4a64e059"
      },
      "source": [
        "#### 35. How to compute ((A+B)*(-A/2)) in place (without copy)? (★★☆)"
      ]
    },
    {
      "cell_type": "code",
      "execution_count": null,
      "id": "49267f60",
      "metadata": {
        "id": "49267f60",
        "colab": {
          "base_uri": "https://localhost:8080/"
        },
        "outputId": "cc67a0fd-fcc7-48a9-f2fd-19dd2057fe9e"
      },
      "outputs": [
        {
          "output_type": "stream",
          "name": "stdout",
          "text": [
            "[-12 -24 -40]\n"
          ]
        }
      ],
      "source": [
        "import numpy as np\n",
        "A = np.array([1, 2, 3])\n",
        "B = np.array([4, 5, 6])\n",
        "A += B\n",
        "A = (A * (-A / 2)).astype(int)\n",
        "print(A)\n"
      ]
    },
    {
      "cell_type": "markdown",
      "id": "8a98c2a8",
      "metadata": {
        "id": "8a98c2a8"
      },
      "source": [
        "#### 36. Extract the integer part of a random array of positive numbers using 4 different methods (★★☆)"
      ]
    },
    {
      "cell_type": "code",
      "execution_count": null,
      "id": "368130b3",
      "metadata": {
        "id": "368130b3",
        "colab": {
          "base_uri": "https://localhost:8080/"
        },
        "outputId": "51a4d18c-42e9-43ae-f098-254110ce31fb"
      },
      "outputs": [
        {
          "output_type": "stream",
          "name": "stdout",
          "text": [
            "Original array: [9.59408749 9.18631575 6.10681542 0.67301247 2.05693721]\n",
            "Integer part (np.floor): [9. 9. 6. 0. 2.]\n",
            "Integer part (np.trunc): [9. 9. 6. 0. 2.]\n",
            "Integer part (astype(int)): [9 9 6 0 2]\n",
            "I\n"
          ]
        }
      ],
      "source": [
        "import numpy as np\n",
        "arr = np.random.random(5) * 10\n",
        "integer_part_floor = np.floor(arr)\n",
        "integer_part_trunc = np.trunc(arr)\n",
        "integer_part_astype = arr.astype(int)\n",
        "integer_part_div = arr // 1\n",
        "print(\"Original array:\", arr)\n",
        "print(\"Integer part (np.floor):\", integer_part_floor)\n",
        "print(\"Integer part (np.trunc):\", integer_part_trunc)\n",
        "print(\"Integer part (astype(int)):\", integer_part_astype)\n",
        "print(\"I\")"
      ]
    },
    {
      "cell_type": "markdown",
      "id": "5a2e3d85",
      "metadata": {
        "id": "5a2e3d85"
      },
      "source": [
        "#### 37. Create a 5x5 matrix with row values ranging from 0 to 4 (★★☆)"
      ]
    },
    {
      "cell_type": "code",
      "execution_count": null,
      "id": "1d974e8f",
      "metadata": {
        "id": "1d974e8f",
        "colab": {
          "base_uri": "https://localhost:8080/"
        },
        "outputId": "5b020a75-f417-4606-a53b-d343aa152568"
      },
      "outputs": [
        {
          "output_type": "stream",
          "name": "stdout",
          "text": [
            "[[0 1 2 3 4]\n",
            " [0 1 2 3 4]\n",
            " [0 1 2 3 4]\n",
            " [0 1 2 3 4]\n",
            " [0 1 2 3 4]]\n"
          ]
        }
      ],
      "source": [
        "import numpy as np\n",
        "matrix = np.tile(np.arange(5), (5, 1))\n",
        "\n",
        "print(matrix)\n"
      ]
    },
    {
      "cell_type": "markdown",
      "id": "9720e2d5",
      "metadata": {
        "id": "9720e2d5"
      },
      "source": [
        "#### 38. Consider a generator function that generates 10 integers and use it to build an array (★☆☆)"
      ]
    },
    {
      "cell_type": "code",
      "execution_count": null,
      "id": "e5dd8fc9",
      "metadata": {
        "id": "e5dd8fc9",
        "colab": {
          "base_uri": "https://localhost:8080/"
        },
        "outputId": "3578f15c-c34c-400e-8385-afdaa0944914"
      },
      "outputs": [
        {
          "output_type": "stream",
          "name": "stdout",
          "text": [
            "[0 1 2 3 4 5 6 7 8 9]\n"
          ]
        }
      ],
      "source": [
        "import numpy as np\n",
        "def generate_integers():\n",
        "    for i in range(10):\n",
        "        yield i\n",
        "generated_array = np.array(list(generate_integers()))\n",
        "\n",
        "print(generated_array)\n"
      ]
    },
    {
      "cell_type": "markdown",
      "id": "c6f2c912",
      "metadata": {
        "id": "c6f2c912"
      },
      "source": [
        "#### 39. Create a vector of size 10 with values ranging from 0 to 1, both excluded (★★☆)"
      ]
    },
    {
      "cell_type": "code",
      "execution_count": null,
      "id": "6aaa27d3",
      "metadata": {
        "id": "6aaa27d3",
        "colab": {
          "base_uri": "https://localhost:8080/"
        },
        "outputId": "17178a0e-48a4-4059-da3e-f26d20bbc5c1"
      },
      "outputs": [
        {
          "output_type": "stream",
          "name": "stdout",
          "text": [
            "[0.49091424 0.7907343  0.93310971 0.77214696 0.5130509  0.61122676\n",
            " 0.98877436 0.17919562 0.18201576 0.157539  ]\n"
          ]
        }
      ],
      "source": [
        "import numpy as np\n",
        "\n",
        "vector = np.random.uniform(0, 1, 10)\n",
        "\n",
        "print(vector)\n"
      ]
    },
    {
      "cell_type": "markdown",
      "id": "a36d6ee4",
      "metadata": {
        "id": "a36d6ee4"
      },
      "source": [
        "#### 40. Create a random vector of size 10 and sort it (★★☆)"
      ]
    },
    {
      "cell_type": "code",
      "execution_count": null,
      "id": "e589d216",
      "metadata": {
        "id": "e589d216",
        "colab": {
          "base_uri": "https://localhost:8080/"
        },
        "outputId": "b29ba166-363d-4127-aac6-e48bd23aecd1"
      },
      "outputs": [
        {
          "output_type": "stream",
          "name": "stdout",
          "text": [
            "Random vector: [0.69271884 0.76251316 0.31704209 0.81820664 0.48577016 0.84283438\n",
            " 0.28629503 0.85446392 0.93415701 0.451287  ]\n",
            "Sorted vector: [0.28629503 0.31704209 0.451287   0.48577016 0.69271884 0.76251316\n",
            " 0.81820664 0.84283438 0.85446392 0.93415701]\n"
          ]
        }
      ],
      "source": [
        "import numpy as np\n",
        "random_vector = np.random.rand(10)\n",
        "sorted_vector = np.sort(random_vector)\n",
        "\n",
        "print(\"Random vector:\", random_vector)\n",
        "print(\"Sorted vector:\", sorted_vector)\n"
      ]
    },
    {
      "cell_type": "markdown",
      "id": "0fb4ad68",
      "metadata": {
        "id": "0fb4ad68"
      },
      "source": [
        "#### 41. How to sum a small array faster than np.sum? (★★☆)"
      ]
    },
    {
      "cell_type": "code",
      "execution_count": null,
      "id": "a1ba05a0",
      "metadata": {
        "id": "a1ba05a0",
        "colab": {
          "base_uri": "https://localhost:8080/"
        },
        "outputId": "0b35d501-c571-4fea-c7a7-ebf0851554a7"
      },
      "outputs": [
        {
          "output_type": "stream",
          "name": "stdout",
          "text": [
            "15\n"
          ]
        }
      ],
      "source": [
        "import numpy as np\n",
        "arr = np.array([1, 2, 3, 4, 5])\n",
        "result = sum(arr)\n",
        "\n",
        "print(result)\n"
      ]
    },
    {
      "cell_type": "markdown",
      "id": "024ac365",
      "metadata": {
        "id": "024ac365"
      },
      "source": [
        "#### 42. Consider two random array A and B, check if they are equal (★★☆)"
      ]
    },
    {
      "cell_type": "code",
      "execution_count": null,
      "id": "7db3846d",
      "metadata": {
        "id": "7db3846d",
        "colab": {
          "base_uri": "https://localhost:8080/"
        },
        "outputId": "2f426d51-4810-4253-f104-403dc41fb13a"
      },
      "outputs": [
        {
          "output_type": "stream",
          "name": "stdout",
          "text": [
            "Array A: [0.4444462  0.05782069 0.85039845 0.66377652 0.88214104]\n",
            "Array B: [0.50542667 0.09951194 0.077515   0.26945798 0.53822241]\n",
            "Are the arrays equal? False\n"
          ]
        }
      ],
      "source": [
        "import numpy as np\n",
        "A = np.random.rand(5)\n",
        "B = np.random.rand(5)\n",
        "are_equal = np.array_equal(A, B)\n",
        "\n",
        "print(\"Array A:\", A)\n",
        "print(\"Array B:\", B)\n",
        "print(\"Are the arrays equal?\", are_equal)\n"
      ]
    },
    {
      "cell_type": "markdown",
      "id": "c68d2401",
      "metadata": {
        "id": "c68d2401"
      },
      "source": [
        "#### 43. Make an array immutable (read-only) (★★☆)"
      ]
    },
    {
      "cell_type": "code",
      "execution_count": null,
      "id": "7828539d",
      "metadata": {
        "id": "7828539d",
        "colab": {
          "base_uri": "https://localhost:8080/"
        },
        "outputId": "79a13865-4587-4939-ef8a-93ad29676684"
      },
      "outputs": [
        {
          "output_type": "stream",
          "name": "stdout",
          "text": [
            "Error: assignment destination is read-only\n",
            "Array after attempting modification: [1 2 3 4 5]\n"
          ]
        }
      ],
      "source": [
        "import numpy as np\n",
        "arr = np.array([1, 2, 3, 4, 5])\n",
        "arr.flags.writeable = False\n",
        "try:\n",
        "    arr[0] = 10\n",
        "except ValueError as e:\n",
        "    print(f\"Error: {e}\")\n",
        "print(\"Array after attempting modification:\", arr)\n"
      ]
    },
    {
      "cell_type": "markdown",
      "id": "55df6280",
      "metadata": {
        "id": "55df6280"
      },
      "source": [
        "#### 44. Consider a random 10x2 matrix representing cartesian coordinates, convert them to polar coordinates (★★☆)"
      ]
    },
    {
      "cell_type": "code",
      "execution_count": null,
      "id": "f1c86ea0",
      "metadata": {
        "id": "f1c86ea0",
        "colab": {
          "base_uri": "https://localhost:8080/"
        },
        "outputId": "d149f2a8-e667-4c6d-8d04-344549bebd2f"
      },
      "outputs": [
        {
          "output_type": "stream",
          "name": "stdout",
          "text": [
            "Cartesian Coordinates (x, y):\n",
            "[[0.92690358 1.17805263]\n",
            " [5.43319782 2.19023467]\n",
            " [6.66081791 4.72679102]\n",
            " [3.97695958 3.51160473]\n",
            " [6.33651409 8.02394929]\n",
            " [6.3188772  3.10985668]\n",
            " [2.68271686 2.48580995]\n",
            " [9.10140659 9.14369934]\n",
            " [4.52559624 2.04245704]\n",
            " [3.26454606 9.35498267]]\n",
            "\n",
            "Polar Coordinates (r, theta):\n",
            "[[ 1.49898574  0.90414998]\n",
            " [ 5.85805142  0.38319376]\n",
            " [ 8.16756075  0.61716732]\n",
            " [ 5.30542885  0.7233359 ]\n",
            " [10.22424437  0.9023674 ]\n",
            " [ 7.0426854   0.45735062]\n",
            " [ 3.65735162  0.74731928]\n",
            " [12.90127278  0.78771619]\n",
            " [ 4.96514371  0.42394466]\n",
            " [ 9.90822697  1.23504533]]\n"
          ]
        }
      ],
      "source": [
        "import numpy as np\n",
        "cartesian_coords = np.random.rand(10, 2) * 10\n",
        "x = cartesian_coords[:, 0]\n",
        "y = cartesian_coords[:, 1]\n",
        "r = np.sqrt(x**2 + y**2)\n",
        "theta = np.arctan2(y, x)\n",
        "\n",
        "polar_coords = np.column_stack((r, theta))\n",
        "\n",
        "print(\"Cartesian Coordinates (x, y):\")\n",
        "print(cartesian_coords)\n",
        "print(\"\\nPolar Coordinates (r, theta):\")\n",
        "print(polar_coords)\n"
      ]
    },
    {
      "cell_type": "markdown",
      "id": "2f60f1ec",
      "metadata": {
        "id": "2f60f1ec"
      },
      "source": [
        "#### 45. Create random vector of size 10 and replace the maximum value by 0 (★★☆)"
      ]
    },
    {
      "cell_type": "code",
      "execution_count": null,
      "id": "d9f48f1c",
      "metadata": {
        "id": "d9f48f1c",
        "colab": {
          "base_uri": "https://localhost:8080/"
        },
        "outputId": "6e0ab2b4-d30a-485c-edf5-de449c0df84f"
      },
      "outputs": [
        {
          "output_type": "stream",
          "name": "stdout",
          "text": [
            "Random vector: [0.16270855 0.53203797 0.65882114 0.63915784 0.89866286 0.\n",
            " 0.69540673 0.91961145 0.13577853 0.20457976]\n"
          ]
        }
      ],
      "source": [
        "import numpy as np\n",
        "\n",
        "vector = np.random.rand(10)\n",
        "\n",
        "max_index = np.argmax(vector)\n",
        "\n",
        "vector[max_index] = 0\n",
        "\n",
        "print(\"Random vector:\", vector)\n"
      ]
    },
    {
      "cell_type": "markdown",
      "id": "084e8ad4",
      "metadata": {
        "id": "084e8ad4"
      },
      "source": [
        "#### 46. Create a structured array with `x` and `y` coordinates covering the [0,1]x[0,1] area (★★☆)"
      ]
    },
    {
      "cell_type": "code",
      "execution_count": null,
      "id": "58b47c13",
      "metadata": {
        "id": "58b47c13",
        "colab": {
          "base_uri": "https://localhost:8080/"
        },
        "outputId": "7513c671-af49-4ce6-8e86-bf4b1a9caaa3"
      },
      "outputs": [
        {
          "output_type": "stream",
          "name": "stdout",
          "text": [
            "[(0.  , 0.  ) (0.25, 0.  ) (0.5 , 0.  ) (0.75, 0.  ) (1.  , 0.  )\n",
            " (0.  , 0.25) (0.25, 0.25) (0.5 , 0.25) (0.75, 0.25) (1.  , 0.25)\n",
            " (0.  , 0.5 ) (0.25, 0.5 ) (0.5 , 0.5 ) (0.75, 0.5 ) (1.  , 0.5 )\n",
            " (0.  , 0.75) (0.25, 0.75) (0.5 , 0.75) (0.75, 0.75) (1.  , 0.75)\n",
            " (0.  , 1.  ) (0.25, 1.  ) (0.5 , 1.  ) (0.75, 1.  ) (1.  , 1.  )]\n"
          ]
        }
      ],
      "source": [
        "import numpy as np\n",
        "x_values = np.linspace(0, 1, 5)\n",
        "y_values = np.linspace(0, 1, 5)\n",
        "x_grid, y_grid = np.meshgrid(x_values, y_values)\n",
        "x_coords = x_grid.flatten()\n",
        "y_coords = y_grid.flatten()\n",
        "dtype = [('x', float), ('y', float)]\n",
        "structured_array = np.array(list(zip(x_coords, y_coords)), dtype=dtype)\n",
        "\n",
        "print(structured_array)\n"
      ]
    },
    {
      "cell_type": "markdown",
      "id": "d7b9bc42",
      "metadata": {
        "id": "d7b9bc42"
      },
      "source": [
        "#### 47. Given two arrays, X and Y, construct the Cauchy matrix C (Cij =1/(xi - yj)) (★★☆)"
      ]
    },
    {
      "cell_type": "code",
      "execution_count": null,
      "id": "a24824fb",
      "metadata": {
        "id": "a24824fb",
        "colab": {
          "base_uri": "https://localhost:8080/"
        },
        "outputId": "86b7ea2d-b960-48b3-ef2b-3a2ef69eb6a2"
      },
      "outputs": [
        {
          "output_type": "stream",
          "name": "stdout",
          "text": [
            "Cauchy Matrix C:\n",
            "[[-0.33333333 -0.25       -0.2       ]\n",
            " [-0.5        -0.33333333 -0.25      ]\n",
            " [-1.         -0.5        -0.33333333]]\n"
          ]
        }
      ],
      "source": [
        "import numpy as np\n",
        "\n",
        "def cauchy_matrix(X, Y):\n",
        "\n",
        "    C = 1 / (X[:, None] - Y)\n",
        "    return C\n",
        "X = np.array([1, 2, 3])\n",
        "Y = np.array([4, 5, 6])\n",
        "C = cauchy_matrix(X, Y)\n",
        "\n",
        "print(\"Cauchy Matrix C:\")\n",
        "print(C)\n"
      ]
    },
    {
      "cell_type": "markdown",
      "id": "65ebc11b",
      "metadata": {
        "id": "65ebc11b"
      },
      "source": [
        "#### 48. Print the minimum and maximum representable value for each numpy scalar type (★★☆)"
      ]
    },
    {
      "cell_type": "code",
      "execution_count": null,
      "id": "e45d38fb",
      "metadata": {
        "id": "e45d38fb",
        "colab": {
          "base_uri": "https://localhost:8080/"
        },
        "outputId": "708c94a4-b444-44aa-9e6d-edb5027747d3"
      },
      "outputs": [
        {
          "output_type": "stream",
          "name": "stdout",
          "text": [
            "Integer Types:\n",
            "int8: min = -128, max = 127\n",
            "int16: min = -32768, max = 32767\n",
            "int32: min = -2147483648, max = 2147483647\n",
            "int64: min = -9223372036854775808, max = 9223372036854775807\n",
            "uint8: min = 0, max = 255\n",
            "uint16: min = 0, max = 65535\n",
            "uint32: min = 0, max = 4294967295\n",
            "uint64: min = 0, max = 18446744073709551615\n",
            "\n",
            "Floating-Point Types:\n",
            "float16: min = -65504.0, max = 65504.0\n",
            "float32: min = -3.4028234663852886e+38, max = 3.4028234663852886e+38\n",
            "float64: min = -1.7976931348623157e+308, max = 1.7976931348623157e+308\n"
          ]
        }
      ],
      "source": [
        "import numpy as np\n",
        "int_types = [np.int8, np.int16, np.int32, np.int64, np.uint8, np.uint16, np.uint32, np.uint64]\n",
        "float_types = [np.float16, np.float32, np.float64]\n",
        "print(\"Integer Types:\")\n",
        "for dtype in int_types:\n",
        "    info = np.iinfo(dtype)\n",
        "    print(f\"{dtype.__name__}: min = {info.min}, max = {info.max}\")\n",
        "print(\"\\nFloating-Point Types:\")\n",
        "for dtype in float_types:\n",
        "    info = np.finfo(dtype)\n",
        "    print(f\"{dtype.__name__}: min = {info.min}, max = {info.max}\")\n"
      ]
    },
    {
      "cell_type": "markdown",
      "id": "9b317a98",
      "metadata": {
        "id": "9b317a98"
      },
      "source": [
        "#### 49. How to print all the values of an array? (★★☆)"
      ]
    },
    {
      "cell_type": "code",
      "execution_count": null,
      "id": "309cdeb9",
      "metadata": {
        "id": "309cdeb9",
        "colab": {
          "base_uri": "https://localhost:8080/"
        },
        "outputId": "b50be35e-8be9-433b-e7a4-2b34b8e16a95"
      },
      "outputs": [
        {
          "output_type": "stream",
          "name": "stdout",
          "text": [
            "[ 0  1  2  3  4  5  6  7  8  9 10 11 12 13 14 15 16 17 18 19 20 21 22 23\n",
            " 24 25 26 27 28 29 30 31 32 33 34 35 36 37 38 39 40 41 42 43 44 45 46 47\n",
            " 48 49 50 51 52 53 54 55 56 57 58 59 60 61 62 63 64 65 66 67 68 69 70 71\n",
            " 72 73 74 75 76 77 78 79 80 81 82 83 84 85 86 87 88 89 90 91 92 93 94 95\n",
            " 96 97 98 99]\n"
          ]
        }
      ],
      "source": [
        "import numpy as np\n",
        "arr = np.arange(100)\n",
        "np.set_printoptions(threshold=np.inf)\n",
        "print(arr)\n"
      ]
    },
    {
      "cell_type": "markdown",
      "id": "b580f9d0",
      "metadata": {
        "id": "b580f9d0"
      },
      "source": [
        "#### 50. How to find the closest value (to a given scalar) in a vector? (★★☆)"
      ]
    },
    {
      "cell_type": "code",
      "execution_count": null,
      "id": "ebfb6714",
      "metadata": {
        "id": "ebfb6714"
      },
      "outputs": [],
      "source": [
        "import numpy as np\n",
        "\n",
        "# Example array (vector)\n",
        "arr = np.array([1, 3, 7, 9, 15])\n",
        "\n",
        "# Given scalar\n",
        "scalar = 8\n",
        "\n",
        "# Step 1: Compute the absolute difference between each element and the scalar\n",
        "differences = np.abs(arr - scalar)\n",
        "\n",
        "# Step 2: Find the index of the minimum difference\n",
        "closest_index = np.argmin(differences)\n",
        "\n",
        "# Step 3: Get the closest value using the index\n",
        "closest_value = arr[closest_index]\n",
        "\n",
        "print(f\"The closest value to {scalar} in the array is: {closest_value}\")\n"
      ]
    },
    {
      "cell_type": "markdown",
      "id": "602e6252",
      "metadata": {
        "id": "602e6252"
      },
      "source": [
        "#### 51. Create a structured array representing a position (x,y) and a color (r,g,b) (★★☆)"
      ]
    },
    {
      "cell_type": "code",
      "execution_count": null,
      "id": "cf002b3a",
      "metadata": {
        "id": "cf002b3a",
        "colab": {
          "base_uri": "https://localhost:8080/"
        },
        "outputId": "29c03ebe-57a2-43fe-b7c6-84d024f359e1"
      },
      "outputs": [
        {
          "output_type": "stream",
          "name": "stdout",
          "text": [
            "[([1., 2.], [255,   0,   0]) ([3., 4.], [  0, 255,   0])\n",
            " ([5., 6.], [  0,   0, 255])]\n"
          ]
        }
      ],
      "source": [
        "import numpy as np\n",
        "dtype = np.dtype([('position', '2f4'), ('color', '3u1')])\n",
        "data = np.array([((1.0, 2.0), (255, 0, 0)),\n",
        "                 ((3.0, 4.0), (0, 255, 0)),\n",
        "                 ((5.0, 6.0), (0, 0, 255))],\n",
        "                dtype=dtype)\n",
        "\n",
        "print(data)\n"
      ]
    },
    {
      "cell_type": "markdown",
      "id": "78bcd92f",
      "metadata": {
        "id": "78bcd92f"
      },
      "source": [
        "#### 52. Consider a random vector with shape (100,2) representing coordinates, find point by point distances (★★☆)"
      ]
    },
    {
      "cell_type": "code",
      "execution_count": null,
      "id": "fea7f9a6",
      "metadata": {
        "id": "fea7f9a6",
        "colab": {
          "base_uri": "https://localhost:8080/"
        },
        "outputId": "c7d57594-5d35-45b7-eb15-e3fb90fe5850"
      },
      "outputs": [
        {
          "output_type": "stream",
          "name": "stdout",
          "text": [
            "[[0.         0.77941617 0.39240858 0.62905389 0.56491437 0.38318276\n",
            "  0.40356087 0.59979326 0.13790851 0.02592253 0.12462978 0.22595535\n",
            "  0.25619296 0.75300558 0.73297721 0.24629738 0.70303717 0.75943651\n",
            "  0.67273053 0.74056319 0.64727047 0.69273157 0.57259108 0.45291537\n",
            "  0.57482669 0.21836921 0.03226875 0.46051789 0.63707908 0.17986751\n",
            "  0.37623768 0.39096341 0.56698082 0.79791367 0.37799829 0.10868811\n",
            "  0.77284263 0.45457745 0.51744984 0.34262855 0.70290898 0.55112024\n",
            "  0.71445449 0.20281174 0.79362627 0.3268838  0.49901495 0.36884728\n",
            "  0.41608828 0.66413608 0.83111871 0.59245976 0.29910642 0.40535047\n",
            "  0.24252346 0.22772841 0.5193697  0.58160654 0.30447292 0.14052418\n",
            "  0.40974986 0.31242095 0.3364379  0.32745975 0.05043656 0.65899757\n",
            "  0.39533378 0.77676834 0.73086532 0.57798094 0.81184088 0.56802782\n",
            "  0.47163419 0.72973874 0.2838928  0.5292819  0.05095236 0.35376418\n",
            "  0.68377824 0.44820336 0.10927737 0.34553033 0.77859604 0.46203018\n",
            "  0.04014033 0.20586362 0.397503   0.4410936  0.4820836  0.72451798\n",
            "  0.49178166 0.82153902 0.47349758 0.56048787 0.30607261 0.16350386\n",
            "  0.67502186 0.77436367 0.41793947 0.23441839]\n",
            " [0.77941617 0.         0.83454907 0.54741841 0.21840475 0.44968928\n",
            "  0.5966585  0.18653317 0.67102833 0.80514166 0.65508933 0.82993884\n",
            "  0.52552626 0.13335026 0.36261071 0.87284387 0.21447852 0.19188189\n",
            "  0.22070028 0.37474833 0.46651581 0.5229354  0.73070161 0.74993809\n",
            "  0.29820343 0.57923279 0.75174134 0.3529048  0.1455675  0.61355723\n",
            "  0.48092757 0.39077359 0.49766989 0.4843465  0.52922451 0.762805\n",
            "  0.17152925 0.75529079 0.62188078 0.99779161 0.28383183 0.70138181\n",
            "  0.1415395  0.57661061 0.24462568 0.90440279 0.4052023  0.98209081\n",
            "  1.04910822 0.58362304 0.538853   0.32107944 0.54229033 0.37913342\n",
            "  0.54345444 0.90333266 0.87639234 0.5934517  0.59396513 0.77663055\n",
            "  0.51390546 0.54687539 0.92715895 0.7894893  0.79102382 0.22216664\n",
            "  0.8222883  0.30239318 0.45114822 0.57556134 0.3540136  0.81224994\n",
            "  0.33218511 0.50759484 0.83718877 0.34607413 0.73077875 1.02585257\n",
            "  0.41247383 0.339107   0.69798135 0.83173922 0.09095136 0.52771946\n",
            "  0.74534789 0.94754134 0.38282764 0.72467533 0.36434745 0.31804721\n",
            "  0.29110334 0.54528878 0.96468387 0.2217244  1.02506637 0.64541351\n",
            "  0.23948829 0.20643068 0.5798081  0.96923143]\n",
            " [0.39240858 0.83454907 0.         0.41242476 0.63150187 0.39641488\n",
            "  0.72913919 0.6553156  0.47456238 0.3927736  0.40664159 0.61833389\n",
            "  0.4200329  0.74781251 0.6104843  0.63722187 0.85961342 0.9028901\n",
            "  0.64313625 0.61092269 0.91195022 0.48481296 0.24753506 0.12340182\n",
            "  0.54361327 0.35496242 0.40671875 0.64716194 0.72683149 0.46943471\n",
            "  0.63699442 0.50084091 0.84903813 1.04897664 0.67039001 0.28473416\n",
            "  0.90596198 0.82504347 0.27253697 0.71857648 0.89023369 0.24475709\n",
            "  0.83624874 0.4233974  0.95436132 0.12890671 0.43405608 0.75338493\n",
            "  0.79162346 0.42311931 1.09469015 0.53379194 0.32310703 0.49997562\n",
            "  0.47899281 0.23399603 0.12762462 0.34266569 0.62449604 0.53050902\n",
            "  0.3207359  0.60373907 0.72648064 0.07010247 0.34467286 0.81731051\n",
            "  0.01455384 0.96360975 0.98060854 0.35154697 0.69153939 0.20018464\n",
            "  0.64294871 0.52903951 0.67580629 0.73766859 0.40495029 0.72192031\n",
            "  0.53957589 0.52422169 0.32419687 0.04927962 0.79050014 0.31821695\n",
            "  0.41100848 0.55821738 0.54186071 0.80548498 0.68983571 0.62706595\n",
            "  0.57198927 1.08898009 0.13155165 0.66683873 0.65491541 0.48523774\n",
            "  0.63327355 0.9221829  0.73657825 0.58573477]\n",
            " [0.62905389 0.54741841 0.41242476 0.         0.41862533 0.30768644\n",
            "  0.76470066 0.42057465 0.61798151 0.64556491 0.55313013 0.81337458\n",
            "  0.45479222 0.42513725 0.22219792 0.8485035  0.66627518 0.68692304\n",
            "  0.32673408 0.21781011 0.82792998 0.07283181 0.20717144 0.29117568\n",
            "  0.27092452 0.43876737 0.62120226 0.5534816  0.50122145 0.57410041\n",
            "  0.62638169 0.41271431 0.79951742 0.92534212 0.68253483 0.54124564\n",
            "  0.67902641 0.91397633 0.14044975 0.96369442 0.72259774 0.18730626\n",
            "  0.61282701 0.50494795 0.74637744 0.53108837 0.2107955  0.9788462\n",
            "  1.03504889 0.04646915 0.98006438 0.23591088 0.34631467 0.39667911\n",
            "  0.52979967 0.59932239 0.38886981 0.07055484 0.6848842  0.72382348\n",
            "  0.22870773 0.63984932 0.9347046  0.40945491 0.60334163 0.6360088\n",
            "  0.39788234 0.78127841 0.86609191 0.06121827 0.29407444 0.29622967\n",
            "  0.53499366 0.11687681 0.85581285 0.63318724 0.60593222 0.97908495\n",
            "  0.15031839 0.38319721 0.5202969  0.4388635  0.47369844 0.16942811\n",
            "  0.62007942 0.83438416 0.46029032 0.885312   0.60135329 0.25414914\n",
            "  0.40453438 0.97995322 0.51571483 0.4803421  0.93507594 0.60906114\n",
            "  0.30841782 0.70690525 0.76101309 0.86316477]\n",
            " [0.56491437 0.21840475 0.63150187 0.41862533 0.         0.23735577\n",
            "  0.45109995 0.03552969 0.46495986 0.59040296 0.44154807 0.63860595\n",
            "  0.30926269 0.20103491 0.31574544 0.68138487 0.25070314 0.28090442\n",
            "  0.16625482 0.32911698 0.42433807 0.42234754 0.56641067 0.56002462\n",
            "  0.15010743 0.36099544 0.53842594 0.19101358 0.09586419 0.4065198\n",
            "  0.31385317 0.17409564 0.41596023 0.50801493 0.37112145 0.54447051\n",
            "  0.2793372  0.61592335 0.45242718 0.80809173 0.30406461 0.53469523\n",
            "  0.20914812 0.36284752 0.33793939 0.69176388 0.22672634 0.79927708\n",
            "  0.8654888  0.46278902 0.56330571 0.18897285 0.3265265  0.16120935\n",
            "  0.33594623 0.68558072 0.68840241 0.44412864 0.41837309 0.57552191\n",
            "  0.31619306 0.36754045 0.74533574 0.58110518 0.57407442 0.21772297\n",
            "  0.62020773 0.3652734  0.45129572 0.42657688 0.35789606 0.63901577\n",
            "  0.16668947 0.42559456 0.6548547  0.2394617  0.51743554 0.83410869\n",
            "  0.32679039 0.12070379 0.48018711 0.62371025 0.21675607 0.34483797\n",
            "  0.5323984  0.74163862 0.17525675 0.58448876 0.22670787 0.27816088\n",
            "  0.07333903 0.56406887 0.76293256 0.06486515 0.82478749 0.44085579\n",
            "  0.18253052 0.30102857 0.43873453 0.7649421 ]\n",
            " [0.38318276 0.44968928 0.39641488 0.30768644 0.23735577 0.\n",
            "  0.45850517 0.26451809 0.32995413 0.40591941 0.27674792 0.52676446\n",
            "  0.15446128 0.38830032 0.35294331 0.56562889 0.46530804 0.50680593\n",
            "  0.2963047  0.36164912 0.55807421 0.35170152 0.3777392  0.33820194\n",
            "  0.1941339  0.1652347  0.36456612 0.27711436 0.33152749 0.27844684\n",
            "  0.32374197 0.12149735 0.51416433 0.67902048 0.37764869 0.33260619\n",
            "  0.50955088 0.6063027  0.26862398 0.6882062  0.50156931 0.34544539\n",
            "  0.43985081 0.21142747 0.5592997  0.45512846 0.12123066 0.69490277\n",
            "  0.75580218 0.35279419 0.72962041 0.20929095 0.09582436 0.11282951\n",
            "  0.22527768 0.45836979 0.46522601 0.29458048 0.37729721 0.4432696\n",
            "  0.10273261 0.3322625  0.64656777 0.34391788 0.37688734 0.42418638\n",
            "  0.38579825 0.57283408 0.61319608 0.28142896 0.42976481 0.43405118\n",
            "  0.26564381 0.37905028 0.5623574  0.36699512 0.34520782 0.70822177\n",
            "  0.312232   0.12857264 0.28022806 0.38654927 0.42277536 0.15778959\n",
            "  0.36079714 0.58318942 0.17060879 0.57763689 0.32499501 0.34166195\n",
            "  0.17559671 0.72641716 0.52794998 0.27058928 0.6784493  0.31549281\n",
            "  0.29567309 0.52624715 0.45602327 0.61021818]\n",
            " [0.40356087 0.5966585  0.72913919 0.76470066 0.45109995 0.45850517\n",
            "  0.         0.48103769 0.27168677 0.42329081 0.32777893 0.29583059\n",
            "  0.33197873 0.6427568  0.74851798 0.33230056 0.42724797 0.48453755\n",
            "  0.6152703  0.76084641 0.2664118  0.80103393 0.81511473 0.73475876\n",
            "  0.56161245 0.38355005 0.37309442 0.26060554 0.46219745 0.26064802\n",
            "  0.14320734 0.35604254 0.18064489 0.414942   0.08397926 0.47569522\n",
            "  0.50625047 0.16482484 0.71699773 0.43954431 0.39219349 0.7846896\n",
            "  0.47542171 0.30879132 0.49324878 0.70669714 0.56031629 0.40922153\n",
            "  0.47468454 0.81043003 0.43902733 0.59815495 0.45428186 0.37416475\n",
            "  0.25841504 0.62630249 0.84137691 0.75212522 0.10535339 0.29928365\n",
            "  0.55275875 0.13124339 0.35554737 0.65921695 0.44807312 0.39410871\n",
            "  0.72589347 0.45236772 0.35388002 0.73961051 0.80362411 0.84958584\n",
            "  0.28491122 0.82108166 0.27473958 0.25205713 0.36137796 0.47117194\n",
            "  0.73570237 0.40089678 0.41415908 0.69259309 0.6427216  0.61311225\n",
            "  0.36551636 0.45874225 0.31356606 0.13338883 0.23456937 0.71798024\n",
            "  0.40688695 0.4278133  0.84009863 0.40173779 0.49926477 0.2523933\n",
            "  0.62926379 0.49147104 0.0203195  0.46840311]\n",
            " [0.59979326 0.18653317 0.6553156  0.42057465 0.03552969 0.26451809\n",
            "  0.48103769 0.         0.5004872  0.62522523 0.4766462  0.67370597\n",
            "  0.34389724 0.16655667 0.29916389 0.71651478 0.24576575 0.26904831\n",
            "  0.14304584 0.31269429 0.43830245 0.41813791 0.57830088 0.57922663\n",
            "  0.14965987 0.39432075 0.57350726 0.22043215 0.08126026 0.44204327\n",
            "  0.34574488 0.20883661 0.43613957 0.5125654  0.40222852 0.5774855\n",
            "  0.2645048  0.64578208 0.46506122 0.84317804 0.30454482 0.54706228\n",
            "  0.19540484 0.39796759 0.32770167 0.71964473 0.23953474 0.83391427\n",
            "  0.90021886 0.46343173 0.56837954 0.18593979 0.35601606 0.19526865\n",
            "  0.37147285 0.71681235 0.70733752 0.45133661 0.4518157  0.6110118\n",
            "  0.33704086 0.4012074  0.77986352 0.60696251 0.60825561 0.21773258\n",
            "  0.64364929 0.36073429 0.45882791 0.43353124 0.33471425 0.65359569\n",
            "  0.19613543 0.41770807 0.68934577 0.26012791 0.55252224 0.86931266\n",
            "  0.3177377  0.15375263 0.51392654 0.64946442 0.18122639 0.3606853\n",
            "  0.56753032 0.77714838 0.21074525 0.61434059 0.25266588 0.25918014\n",
            "  0.10801356 0.570062   0.78644193 0.08327217 0.86029014 0.47638115\n",
            "  0.16127737 0.28922947 0.46799421 0.80046959]\n",
            " [0.13790851 0.67102833 0.47456238 0.61798151 0.46495986 0.32995413\n",
            "  0.27168677 0.5004872  0.         0.16130119 0.07191629 0.19723669\n",
            "  0.17754343 0.6621757  0.68030218 0.23567711 0.57476612 0.63230269\n",
            "  0.5941309  0.68977985 0.50944623 0.67287066 0.60781389 0.50473533\n",
            "  0.50531425 0.17942392 0.10577576 0.33478105 0.52594948 0.0585329\n",
            "  0.23991018 0.29747105 0.4296672  0.66002148 0.24023666 0.20529708\n",
            "  0.64732294 0.3505557  0.53005542 0.35919704 0.56983224 0.58130853\n",
            "  0.59267698 0.11866264 0.66303501 0.43755632 0.45117263 0.36514095\n",
            "  0.42590498 0.65875245 0.69361049 0.53031447 0.27171855 0.31505111\n",
            "  0.12901579 0.35479867 0.59516378 0.58363828 0.16900659 0.1149345\n",
            "  0.38929085 0.17458826 0.31798948 0.4048175  0.17788927 0.53147293\n",
            "  0.47372105 0.64284124 0.59296031 0.57595638 0.75365016 0.62281213\n",
            "  0.34901334 0.70448991 0.23800233 0.39647713 0.09089581 0.38080798\n",
            "  0.6421802  0.35781137 0.15052136 0.4333414  0.68170421 0.44923737\n",
            "  0.09789269 0.27698997 0.29029189 0.33112327 0.35083148 0.66409795\n",
            "  0.3944407  0.68420629 0.57592294 0.44934973 0.36125358 0.02726842\n",
            "  0.60009943 0.6461761  0.28439111 0.29998242]\n",
            " [0.02592253 0.80514166 0.3927736  0.64556491 0.59040296 0.40591941\n",
            "  0.42329081 0.62522523 0.16130119 0.         0.15051176 0.22844995\n",
            "  0.28146527 0.77783582 0.75443101 0.24452247 0.72869305 0.78516878\n",
            "  0.69674739 0.76179426 0.66994731 0.71024906 0.58177505 0.45968945\n",
            "  0.59826431 0.24169934 0.05702236 0.48624102 0.66291766 0.20522049\n",
            "  0.40057154 0.41638907 0.58903498 0.82077642 0.40068704 0.11416138\n",
            "  0.79864994 0.46703441 0.53091975 0.3332402  0.72807851 0.56135696\n",
            "  0.74035357 0.22857249 0.81911403 0.31942271 0.52063163 0.3628184\n",
            "  0.4069261  0.67968156 0.85327293 0.61518991 0.3200847  0.43060065\n",
            "  0.26839099 0.21456372 0.52027108 0.59638387 0.3258595  0.14872595\n",
            "  0.42877216 0.33585035 0.3337385  0.32989323 0.04876217 0.6846903\n",
            "  0.39662883 0.80181012 0.75397695 0.59339237 0.83375121 0.57336063\n",
            "  0.49747601 0.74787675 0.28754989 0.5544409  0.07663467 0.34225677\n",
            "  0.70408899 0.47337217 0.12857271 0.34494226 0.80378587 0.47965966\n",
            "  0.0646923  0.18898924 0.42335174 0.4549624  0.50741377 0.74680113\n",
            "  0.51722385 0.84350928 0.46750913 0.58634568 0.29011627 0.18745547\n",
            "  0.6987338  0.80003719 0.4382209  0.2178905 ]\n",
            " [0.12462978 0.65508933 0.40664159 0.55313013 0.44154807 0.27674792\n",
            "  0.32777893 0.4766462  0.07191629 0.15051176 0.         0.26044467\n",
            "  0.13517656 0.63245875 0.62967552 0.29554127 0.5816526  0.63733937\n",
            "  0.55636846 0.6383797  0.54705016 0.6105571  0.53617073 0.43299035\n",
            "  0.46196141 0.11576881 0.09688291 0.33891838 0.51248231 0.0698043\n",
            "  0.26768036 0.2681426  0.47173422 0.69546845 0.28238632 0.15185682\n",
            "  0.65004647 0.42011116 0.46031488 0.41403075 0.58534099 0.50991952\n",
            "  0.59065225 0.0787092  0.6734991  0.37949193 0.39710845 0.42593322\n",
            "  0.48369881 0.59275144 0.73289999 0.48331793 0.20761962 0.28342185\n",
            "  0.12003867 0.30926648 0.52540553 0.51582945 0.22247898 0.1709175\n",
            "  0.32519191 0.21354429 0.38174501 0.33660514 0.14617237 0.53734208\n",
            "  0.405056   0.6599665  0.62721043 0.5089003  0.70575485 0.55104685\n",
            "  0.34871854 0.64388125 0.30602575 0.41237987 0.0758898  0.43256648\n",
            "  0.58688879 0.32657182 0.08640903 0.36717084 0.65637879 0.38376904\n",
            "  0.09092261 0.30886997 0.27289766 0.39935096 0.36400106 0.61692721\n",
            "  0.36869712 0.72450432 0.51282557 0.43586746 0.40209738 0.07859905\n",
            "  0.56022037 0.65276184 0.33791529 0.33503256]\n",
            " [0.22595535 0.82993884 0.61833389 0.81337458 0.63860595 0.52676446\n",
            "  0.29583059 0.67370597 0.19723669 0.22844995 0.26044467 0.\n",
            "  0.37315096 0.83935072 0.87524487 0.04295733 0.69763411 0.75644578\n",
            "  0.78031868 0.88507568 0.56207164 0.86958392 0.78687477 0.67312968\n",
            "  0.69670602 0.37482311 0.21410495 0.47806536 0.68499609 0.24940208\n",
            "  0.35486266 0.48227485 0.47630319 0.7092347  0.32111429 0.33395743\n",
            "  0.77539106 0.26753584 0.71858571 0.16948987 0.67505757 0.76276281\n",
            "  0.73131666 0.31535322 0.7749911  0.54720329 0.64788321 0.16818213\n",
            "  0.23079363 0.85319371 0.72923674 0.72382615 0.46727147 0.50103234\n",
            "  0.31315153 0.43706225 0.74513404 0.77591282 0.24290898 0.09228373\n",
            "  0.58502785 0.28477368 0.12133133 0.55282351 0.274702   0.65833773\n",
            "  0.6210583  0.74092907 0.64950492 0.76925544 0.94684791 0.78992224\n",
            "  0.49787204 0.90161576 0.05971269 0.51296205 0.22119297 0.19613584\n",
            "  0.83894688 0.54221479 0.31192948 0.57145612 0.85331114 0.64410627\n",
            "  0.21131818 0.16859908 0.46473171 0.26595408 0.47708729 0.8571254\n",
            "  0.5726756  0.71704257 0.69574202 0.61117098 0.20554714 0.21191809\n",
            "  0.78807581 0.76674504 0.31569466 0.17396178]\n",
            " [0.25619296 0.52552626 0.4200329  0.45479222 0.30926269 0.15446128\n",
            "  0.33197873 0.34389724 0.17754343 0.28146527 0.13517656 0.37315096\n",
            "  0.         0.49752929 0.50278059 0.41273592 0.4749559  0.52727962\n",
            "  0.42163252 0.51232776 0.49205738 0.50396822 0.48329015 0.4064345\n",
            "  0.32915285 0.06825889 0.23110312 0.23900791 0.38587999 0.12411654\n",
            "  0.21904091 0.13517401 0.42993427 0.6314196  0.26015683 0.24342198\n",
            "  0.53708961 0.46549482 0.38809739 0.53674039 0.49040295 0.45311894\n",
            "  0.47342835 0.05964013 0.56962856 0.43396643 0.27506573 0.54132702\n",
            "  0.60305806 0.4981469  0.67564071 0.35299563 0.12249033 0.14915751\n",
            "  0.07671169 0.39645819 0.52034184 0.43039316 0.23772418 0.29218692\n",
            "  0.22949601 0.20074077 0.49241626 0.35336583 0.2655604  0.43041768\n",
            "  0.41385824 0.5656325  0.56270835 0.41998444 0.57629958 0.51914796\n",
            "  0.24170132 0.53288229 0.40789612 0.32527119 0.21026761 0.55808858\n",
            "  0.46606088 0.19206183 0.17462113 0.39263303 0.52241185 0.29115964\n",
            "  0.22564624 0.44314822 0.14997053 0.43869171 0.27602104 0.48684211\n",
            "  0.2359674  0.66952591 0.54383138 0.31049815 0.53408847 0.16137373\n",
            "  0.42605884 0.54432175 0.33427926 0.46869965]\n",
            " [0.75300558 0.13335026 0.74781251 0.42513725 0.20103491 0.38830032\n",
            "  0.6427568  0.16655667 0.6621757  0.77783582 0.63245875 0.83935072\n",
            "  0.49752929 0.         0.22994867 0.88206579 0.32315786 0.31498597\n",
            "  0.10576222 0.24182763 0.56126152 0.39428477 0.61787579 0.65230793\n",
            "  0.20516055 0.53958396 0.72862651 0.38327611 0.18800601 0.60365279\n",
            "  0.51077533 0.36559692 0.57648758 0.60153687 0.56609025 0.71837035\n",
            "  0.29788173 0.80681856 0.51407169 1.00883719 0.39287683 0.59026993\n",
            "  0.2508303  0.55453952 0.37168624 0.83100309 0.31410351 1.0003069\n",
            "  1.06652192 0.45828803 0.65719901 0.21553157 0.48412453 0.34927642\n",
            "  0.53350217 0.84599594 0.77528994 0.47709718 0.61813478 0.77433553\n",
            "  0.43042559 0.56765851 0.94633214 0.71044091 0.75620208 0.31629925\n",
            "  0.73464579 0.4247955  0.5605494  0.45956943 0.22305401 0.70268486\n",
            "  0.35934873 0.37626491 0.85583241 0.40704587 0.70779622 1.0345833\n",
            "  0.2837982  0.30605753 0.65985941 0.75148383 0.04862774 0.43152951\n",
            "  0.72315495 0.93751165 0.37495959 0.77545013 0.40981768 0.18574174\n",
            "  0.26799885 0.66219119 0.87479799 0.241122   1.02315825 0.63898409\n",
            "  0.11968526 0.33192086 0.62855902 0.96166833]\n",
            " [0.73297721 0.36261071 0.6104843  0.22219792 0.31574544 0.35294331\n",
            "  0.74851798 0.29916389 0.68030218 0.75443101 0.62967552 0.87524487\n",
            "  0.50278059 0.22994867 0.         0.9153566  0.52803078 0.53265539\n",
            "  0.1608509  0.01356088 0.73746094 0.17301278 0.42880162 0.49678533\n",
            "  0.18733178 0.51720787 0.71633056 0.4977776  0.36654936 0.62588034\n",
            "  0.60560226 0.40368997 0.7316063  0.80481385 0.66498736 0.66786137\n",
            "  0.51889522 0.91097075 0.3444603  1.03947403 0.59385726 0.40673794\n",
            "  0.46190566 0.56183294 0.59163121 0.71671588 0.23400009 1.04320422\n",
            "  1.10564613 0.24419618 0.86096041 0.15351975 0.43443101 0.3842453\n",
            "  0.56424078 0.76244537 0.60606262 0.28751635 0.6933854  0.79469675\n",
            "  0.33521832 0.64275077 0.99302709 0.591593   0.72069287 0.50912144\n",
            "  0.59612601 0.63849047 0.75499175 0.2725881  0.08299451 0.51765812\n",
            "  0.47443749 0.14796927 0.90596567 0.55516239 0.69741634 1.06034116\n",
            "  0.07309219 0.35011439 0.62629247 0.62752972 0.27694111 0.30401119\n",
            "  0.71292577 0.93539313 0.43803564 0.88001029 0.53893315 0.04484213\n",
            "  0.3425728  0.8638885  0.72530754 0.3793961  1.03130831 0.66339442\n",
            "  0.14045785 0.55121827 0.73918087 0.9626974 ]\n",
            " [0.24629738 0.87284387 0.63722187 0.8485035  0.68138487 0.56562889\n",
            "  0.33230056 0.71651478 0.23567711 0.24452247 0.29554127 0.04295733\n",
            "  0.41273592 0.88206579 0.9153566  0.         0.73909223 0.79787667\n",
            "  0.8223169  0.92502419 0.59761638 0.90597396 0.81472999 0.69814489\n",
            "  0.73782918 0.4109184  0.23930609 0.52085081 0.72793176 0.28960325\n",
            "  0.39714038 0.52417117 0.51198951 0.74333489 0.36197882 0.35496416\n",
            "  0.81704467 0.28668229 0.75019331 0.12683124 0.71528053 0.79152923\n",
            "  0.77361077 0.35429813 0.81549187 0.55894143 0.68684958 0.13039221\n",
            "  0.19032214 0.88759441 0.76137367 0.76441902 0.50311356 0.54282711\n",
            "  0.35462696 0.4450389  0.7646327  0.80914603 0.28470637 0.12468126\n",
            "  0.62073271 0.32736803 0.09035432 0.57344659 0.29258444 0.70012096\n",
            "  0.64081245 0.78032848 0.68488581 0.80306094 0.98760403 0.81397584\n",
            "  0.54074739 0.93874599 0.06864324 0.55454548 0.2492003  0.15317865\n",
            "  0.87784863 0.58423163 0.34015365 0.58946467 0.8962091  0.67908375\n",
            "  0.2376742  0.14660956 0.50733369 0.28933204 0.51929691 0.89790788\n",
            "  0.61520001 0.7488572  0.70808271 0.65412831 0.16697254 0.25208632\n",
            "  0.82984525 0.80791241 0.35241399 0.14562325]\n",
            " [0.70303717 0.21447852 0.85961342 0.66627518 0.25070314 0.46530804\n",
            "  0.42724797 0.24576575 0.57476612 0.72869305 0.5816526  0.69763411\n",
            "  0.4749559  0.32315786 0.52803078 0.73909223 0.         0.05882729\n",
            "  0.36758581 0.54142847 0.25386662 0.66228184 0.81621296 0.8010714\n",
            "  0.39535792 0.54081855 0.67188535 0.24275058 0.1661124  0.52391098\n",
            "  0.34533153 0.3611948  0.29579922 0.27906092 0.37760747 0.71661094\n",
            "  0.07903343 0.57285737 0.70202481 0.85759986 0.0701441  0.78427904\n",
            "  0.07375906 0.51006889 0.09543335 0.90103212 0.47698246 0.83299203\n",
            "  0.89941645 0.7091865  0.33503678 0.43152348 0.53892513 0.36000525\n",
            "  0.46162717 0.87139514 0.92911351 0.6946715  0.45480267 0.66362669\n",
            "  0.55723512 0.41711272 0.77834522 0.8022235  0.72737626 0.04459735\n",
            "  0.84971283 0.11501747 0.23838355 0.67705256 0.5422135  0.88655272\n",
            "  0.23441822 0.65861998 0.69205772 0.18475093 0.65209706 0.88798937\n",
            "  0.55838351 0.33675481 0.6459567  0.84451915 0.29537973 0.59244231\n",
            "  0.66445859 0.83834369 0.32760171 0.54399299 0.22507474 0.48425224\n",
            "  0.29177516 0.3394142  0.99065977 0.19761668 0.90174952 0.54751343\n",
            "  0.38827566 0.07142791 0.40802448 0.85569032]\n",
            " [0.75943651 0.19188189 0.9028901  0.68692304 0.28090442 0.50680593\n",
            "  0.48453755 0.26904831 0.63230269 0.78516878 0.63733937 0.75644578\n",
            "  0.52727962 0.31498597 0.53265539 0.79787667 0.05882729 0.\n",
            "  0.37510797 0.54574435 0.29529962 0.67688529 0.84657683 0.83899098\n",
            "  0.41728141 0.59211428 0.72848566 0.2989293  0.18791766 0.58077502\n",
            "  0.40405997 0.40865641 0.34610155 0.29282568 0.43628993 0.76995827\n",
            "  0.02490128 0.62744735 0.73286449 0.91617136 0.10594306 0.81506827\n",
            "  0.07410605 0.5646289  0.05972056 0.94925699 0.50695427 0.89116012\n",
            "  0.95748866 0.72828418 0.34703847 0.45101268 0.58482885 0.40565209\n",
            "  0.51744627 0.92355231 0.96735683 0.72027802 0.51362549 0.72217211\n",
            "  0.59464192 0.47582458 0.83658234 0.84739095 0.78267304 0.10083128\n",
            "  0.8925116  0.11065872 0.26441882 0.70243834 0.53777687 0.91991938\n",
            "  0.28890843 0.66944359 0.75055974 0.24357819 0.70853703 0.94662185\n",
            "  0.56990923 0.37866842 0.69966753 0.88988548 0.2801504  0.62572208\n",
            "  0.72112164 0.89690971 0.37838082 0.59905636 0.28343435 0.48804912\n",
            "  0.33137731 0.35372035 1.03430446 0.23624108 0.96057563 0.605075\n",
            "  0.39584795 0.02019342 0.46511972 0.91438242]\n",
            " [0.67273053 0.22070028 0.64313625 0.32673408 0.16625482 0.2963047\n",
            "  0.6152703  0.14304584 0.5941309  0.69674739 0.55636846 0.78031868\n",
            "  0.42163252 0.10576222 0.1608509  0.8223169  0.36758581 0.37510797\n",
            "  0.         0.17435177 0.57960876 0.30492395 0.51413186 0.54657351\n",
            "  0.10432379 0.45547943 0.6505891  0.35652518 0.2058214  0.53629599\n",
            "  0.47541948 0.29818454 0.57917034 0.64396515 0.53385291 0.62889478\n",
            "  0.36310005 0.77990073 0.40889171 0.94888162 0.43303459 0.4859512\n",
            "  0.30298795 0.48065223 0.43460047 0.72923871 0.21059399 0.94535435\n",
            "  1.01036312 0.36323945 0.7001108  0.10988184 0.39129336 0.2797399\n",
            "  0.46821406 0.74975078 0.66958628 0.37461372 0.57437236 0.70849136\n",
            "  0.32785925 0.52304768 0.89265494 0.60751527 0.67125495 0.34831143\n",
            "  0.62984022 0.47904509 0.59446422 0.3568713  0.19198096 0.59808682\n",
            "  0.3323069  0.2945412  0.80297975 0.40302761 0.63015124 0.97283544\n",
            "  0.19574965 0.23810398 0.57438409 0.64813416 0.15197156 0.32612269\n",
            "  0.64574072 0.86477947 0.31950914 0.7485203  0.392923   0.11820923\n",
            "  0.21286473 0.70305509 0.76952746 0.22594804 0.95464733 0.57304488\n",
            "  0.02077831 0.3942065  0.60364997 0.89020769]\n",
            " [0.74056319 0.37474833 0.61092269 0.21781011 0.32911698 0.36164912\n",
            "  0.76084641 0.31269429 0.68977985 0.76179426 0.6383797  0.88507568\n",
            "  0.51232776 0.24182763 0.01356088 0.92502419 0.54142847 0.54574435\n",
            "  0.17435177 0.         0.75098618 0.16534863 0.42487599 0.49607705\n",
            "  0.1993882  0.52542527 0.72433944 0.51068042 0.38007939 0.63567646\n",
            "  0.61785879 0.41499112 0.74492816 0.81830449 0.6772488  0.67400999\n",
            "  0.53183632 0.92309893 0.34326333 1.04887896 0.60733209 0.40357328\n",
            "  0.47513892 0.57121919 0.60465839 0.71862217 0.24192544 1.05311096\n",
            "  1.11533842 0.23757531 0.87445242 0.16478406 0.4417112  0.39556403\n",
            "  0.57456614 0.76634001 0.60366392 0.28442599 0.70492524 0.80401745\n",
            "  0.34057013 0.65438149 1.00313789 0.59355191 0.72751101 0.52264076\n",
            "  0.59651462 0.65175266 0.76854103 0.26999148 0.08068914 0.51387154\n",
            "  0.48739847 0.13796017 0.91631277 0.56850485 0.70556703 1.0695148\n",
            "  0.07152162 0.36194144 0.63349853 0.62897383 0.28847224 0.3072607\n",
            "  0.72104299 0.94346054 0.44991938 0.89217586 0.55202391 0.05770887\n",
            "  0.35520799 0.87740152 0.72441385 0.39283829 1.03972789 0.67317564\n",
            "  0.15398713 0.56425403 0.75164188 0.97087422]\n",
            " [0.64727047 0.46651581 0.91195022 0.82792998 0.42433807 0.55807421\n",
            "  0.2664118  0.43830245 0.50944623 0.66994731 0.54705016 0.56207164\n",
            "  0.49205738 0.56126152 0.73746094 0.59761638 0.25386662 0.29529962\n",
            "  0.57960876 0.75098618 0.         0.8422378  0.93562602 0.88617227\n",
            "  0.57140438 0.55850706 0.61521226 0.2813501  0.37816355 0.47775112\n",
            "  0.28117596 0.43657715 0.08577725 0.15113908 0.26928734 0.69849395\n",
            "  0.32019478 0.36473169 0.82473742 0.69854888 0.18952485 0.90324922\n",
            "  0.3250886  0.49858039 0.27665429 0.91786944 0.61902561 0.66223826\n",
            "  0.72457815 0.87395174 0.18601426 0.61104964 0.59729222 0.44676762\n",
            "  0.44118882 0.85630914 1.00713411 0.83805236 0.34618046 0.56087144\n",
            "  0.66073082 0.33578819 0.61120008 0.84537738 0.68570751 0.24669078\n",
            "  0.90541458 0.21899201 0.08746896 0.8220906  0.76801304 0.99006724\n",
            "  0.29586625 0.84884908 0.5370764  0.19510633 0.5996264  0.73067115\n",
            "  0.75084782 0.4481882  0.62941518 0.88421849 0.54124644 0.7117043\n",
            "  0.60733279 0.72475777 0.38771956 0.34163726 0.23313052 0.69713719\n",
            "  0.42348847 0.17840514 1.03545473 0.35954181 0.76430107 0.48472436\n",
            "  0.598813   0.29256137 0.24687973 0.73480709]\n",
            " [0.69273157 0.5229354  0.48481296 0.07283181 0.42234754 0.35170152\n",
            "  0.80103393 0.41813791 0.67287066 0.71024906 0.6105571  0.86958392\n",
            "  0.50396822 0.39428477 0.17301278 0.90597396 0.66228184 0.67688529\n",
            "  0.30492395 0.16534863 0.8422378  0.         0.27050108 0.36300123\n",
            "  0.27234032 0.49506012 0.68313429 0.57559002 0.49618442 0.62604817\n",
            "  0.6599379  0.44527976 0.82087164 0.92984757 0.71768321 0.60835656\n",
            "  0.66652786 0.95496091 0.21322844 1.02349654 0.72268073 0.25445785\n",
            "  0.60339108 0.55719603 0.73660436 0.60391548 0.24072078 1.03633999\n",
            "  1.09403595 0.07402545 0.98536941 0.23343648 0.40294629 0.42772578\n",
            "  0.57684573 0.67127815 0.45597215 0.14220757 0.72715485 0.78145174\n",
            "  0.28574143 0.68013031 0.99072333 0.48220669 0.66927415 0.63586849\n",
            "  0.47028337 0.77651503 0.87361983 0.13404176 0.23452293 0.35902685\n",
            "  0.55526216 0.04423075 0.90963152 0.64957364 0.66701964 1.04002719\n",
            "  0.1105837  0.40760269 0.58353459 0.51168022 0.4426691  0.23070182\n",
            "  0.68154939 0.89852668 0.49035951 0.92550924 0.62219041 0.21212324\n",
            "  0.42088418 0.98635733 0.58575261 0.48646982 0.99869956 0.66200659\n",
            "  0.28487091 0.69645566 0.79573207 0.92714631]\n",
            " [0.57259108 0.73070161 0.24753506 0.20717144 0.56641067 0.3777392\n",
            "  0.81511473 0.57830088 0.60781389 0.58177505 0.53617073 0.78687477\n",
            "  0.48329015 0.61787579 0.42880162 0.81472999 0.81621296 0.84657683\n",
            "  0.51413186 0.42487599 0.93562602 0.27050108 0.         0.13090233\n",
            "  0.43558328 0.43950366 0.57552207 0.65436161 0.65887429 0.57988372\n",
            "  0.69218908 0.49916713 0.89088187 1.05246706 0.74046718 0.46785036\n",
            "  0.84280568 0.94371454 0.11424488 0.91476624 0.86344047 0.03247772\n",
            "  0.7734794  0.51568661 0.90424702 0.37627116 0.33972785 0.94085666\n",
            "  0.98838423 0.19845998 1.10442685 0.4096324  0.36085154 0.48903872\n",
            "  0.55850261 0.47165859 0.18751036 0.14264279 0.71970625 0.6946311\n",
            "  0.27500667 0.68394426 0.90486476 0.27452443 0.53388738 0.77996599\n",
            "  0.23441055 0.92965169 0.988058   0.15932708 0.50103013 0.08907602\n",
            "  0.64144666 0.31268191 0.83841378 0.74321093 0.56601045 0.92383041\n",
            "  0.35614937 0.4932951  0.47503728 0.28807926 0.66557175 0.22636523\n",
            "  0.5770673  0.76539318 0.54834669 0.91864078 0.70249554 0.45816149\n",
            "  0.52982065 1.10193979 0.32373876 0.61982203 0.86607899 0.60801805\n",
            "  0.49831571 0.86676333 0.81657779 0.79418392]\n",
            " [0.45291537 0.74993809 0.12340182 0.29117568 0.56002462 0.33820194\n",
            "  0.73475876 0.57922663 0.50473533 0.45968945 0.43299035 0.67312968\n",
            "  0.4064345  0.65230793 0.49678533 0.69814489 0.8010714  0.83899098\n",
            "  0.54657351 0.49607705 0.88617227 0.36300123 0.13090233 0.\n",
            "  0.45275391 0.35130184 0.45938652 0.6096714  0.65576059 0.485259\n",
            "  0.62431141 0.45536151 0.83200725 1.01423395 0.66637807 0.34561384\n",
            "  0.8390775  0.85038533 0.1533181  0.7927521  0.83965805 0.12276348\n",
            "  0.76882497 0.42697869 0.89369106 0.24944376 0.34474248 0.82165739\n",
            "  0.86644368 0.29992237 1.06332668 0.43679928 0.28998987 0.44990684\n",
            "  0.47660031 0.34082356 0.12840334 0.2208533  0.63404638 0.58157334\n",
            "  0.24434918 0.6043631  0.78849801 0.14369677 0.41114919 0.76105649\n",
            "  0.10916258 0.91037688 0.94730095 0.23099046 0.57620591 0.11808856\n",
            "  0.60106815 0.40721092 0.7271385  0.7008264  0.4522386  0.80016991\n",
            "  0.42456656 0.46538787 0.36262839 0.15887745 0.69730335 0.22238342\n",
            "  0.46183885 0.63973884 0.50166456 0.82744053 0.65581934 0.51716564\n",
            "  0.5093058  1.05917649 0.22859175 0.60399029 0.73975633 0.50901194\n",
            "  0.53444964 0.85885972 0.73893054 0.66831737]\n",
            " [0.57482669 0.29820343 0.54361327 0.27092452 0.15010743 0.1941339\n",
            "  0.56161245 0.14965987 0.50531425 0.59826431 0.46196141 0.69670602\n",
            "  0.32915285 0.20516055 0.18733178 0.73782918 0.39535792 0.41728141\n",
            "  0.10432379 0.1993882  0.57140438 0.27234032 0.43558328 0.45275391\n",
            "  0.         0.35657007 0.5541855  0.31499257 0.23050801 0.4487817\n",
            "  0.4185433  0.21820371 0.55555882 0.65804096 0.47793309 0.52640808\n",
            "  0.41083648 0.72371082 0.32468333 0.86347253 0.45261311 0.40533826\n",
            "  0.34322641 0.3887778  0.47643317 0.62608813 0.10958634 0.8637643\n",
            "  0.92749529 0.31404628 0.7133914  0.03970924 0.28811448 0.19877149\n",
            "  0.3836838  0.64545604 0.5784936  0.30375867 0.50661665 0.62024471\n",
            "  0.22526524 0.45579933 0.81240079 0.50528054 0.57075127 0.36582234\n",
            "  0.5306589  0.51035592 0.60129415 0.28582535 0.25106944 0.51502224\n",
            "  0.29257159 0.27754078 0.72409279 0.38106379 0.53412321 0.88599115\n",
            "  0.18107874 0.16294959 0.47394919 0.54636385 0.24688746 0.23039229\n",
            "  0.54976804 0.7707958  0.25075806 0.69279148 0.35873331 0.16160518\n",
            "  0.15785895 0.71417321 0.6717256  0.21413861 0.86312211 0.48614911\n",
            "  0.10162831 0.43738302 0.55270586 0.79695797]\n",
            " [0.21836921 0.57923279 0.35496242 0.43876737 0.36099544 0.1652347\n",
            "  0.38355005 0.39432075 0.17942392 0.24169934 0.11576881 0.37482311\n",
            "  0.06825889 0.53958396 0.51720787 0.4109184  0.54081855 0.59211428\n",
            "  0.45547943 0.52542527 0.55850706 0.49506012 0.43950366 0.35130184\n",
            "  0.35657007 0.         0.19937334 0.30691929 0.44345272 0.14140587\n",
            "  0.28204129 0.1901284  0.49408703 0.69906578 0.31783054 0.18368027\n",
            "  0.60099557 0.50427188 0.35370079 0.5297522  0.55805738 0.41097284\n",
            "  0.53598292 0.07644698 0.63582137 0.36572378 0.28354487 0.54127988\n",
            "  0.59944637 0.47933268 0.74273426 0.37431069 0.0924749  0.20018276\n",
            "  0.12616565 0.33179581 0.45984639 0.40471062 0.28306823 0.28646431\n",
            "  0.21022548 0.25369795 0.49611347 0.28723149 0.21664991 0.49639417\n",
            "  0.34954533 0.63323064 0.63030076 0.39668206 0.59484635 0.46691311\n",
            "  0.30873059 0.528129   0.41742548 0.39352845 0.18022093 0.54792569\n",
            "  0.47213864 0.24057471 0.12038389 0.32571171 0.56844013 0.26983453\n",
            "  0.19575724 0.41823483 0.21373528 0.47958342 0.34427827 0.50689445\n",
            "  0.2881457  0.73636646 0.47694793 0.36979456 0.51440224 0.17297205\n",
            "  0.45709876 0.60954108 0.38826534 0.44549011]\n",
            " [0.03226875 0.75174134 0.40671875 0.62120226 0.53842594 0.36456612\n",
            "  0.37309442 0.57350726 0.10577576 0.05702236 0.09688291 0.21410495\n",
            "  0.23110312 0.72862651 0.71633056 0.23930609 0.67188535 0.72848566\n",
            "  0.6505891  0.72433944 0.61521226 0.68313429 0.57552207 0.45938652\n",
            "  0.5541855  0.19937334 0.         0.42956457 0.60873528 0.14822889\n",
            "  0.34399772 0.36491282 0.53515577 0.76579461 0.34597145 0.12235888\n",
            "  0.74215792 0.43018892 0.514548   0.34421272 0.67106137 0.55269332\n",
            "  0.68435681 0.17559201 0.76215052 0.34932476 0.4824249  0.36590578\n",
            "  0.41690525 0.65773399 0.7992269  0.57337805 0.28463476 0.37994393\n",
            "  0.21231909 0.25526444 0.53259552 0.57656352 0.27307447 0.12399808\n",
            "  0.39833467 0.28020783 0.32958034 0.33985922 0.07587105 0.62794022\n",
            "  0.40859889 0.74482095 0.69868892 0.57197356 0.79421687 0.57590253\n",
            "  0.44115215 0.71905562 0.26989796 0.49742415 0.02099448 0.35808028\n",
            "  0.66935433 0.42301872 0.10247759 0.36113199 0.7530844  0.45280686\n",
            "  0.0078878  0.21914102 0.36921193 0.41539276 0.45039926 0.70621857\n",
            "  0.46554026 0.78971973 0.49403382 0.53201626 0.31689929 0.13124145\n",
            "  0.65362076 0.74325165 0.38710237 0.24679241]\n",
            " [0.46051789 0.3529048  0.64716194 0.5534816  0.19101358 0.27711436\n",
            "  0.26060554 0.22043215 0.33478105 0.48624102 0.33891838 0.47806536\n",
            "  0.23900791 0.38327611 0.4977776  0.52085081 0.24275058 0.2989293\n",
            "  0.35652518 0.51068042 0.2813501  0.57559002 0.65436161 0.6096714\n",
            "  0.31499257 0.30691929 0.42956457 0.         0.20982238 0.28203402\n",
            "  0.12927791 0.15578652 0.24609328 0.40471058 0.182853   0.47635274\n",
            "  0.31289542 0.42536431 0.54341156 0.64516936 0.25157358 0.62196427\n",
            "  0.25849084 0.26841665 0.33499986 0.67228755 0.3427864  0.62931205\n",
            "  0.69630478 0.5998946  0.45376391 0.35388821 0.32524529 0.16541752\n",
            "  0.21888411 0.63297635 0.73348255 0.55868695 0.24131279 0.43110584\n",
            "  0.37961    0.19403914 0.574429   0.58418183 0.48475316 0.19853221\n",
            "  0.63909682 0.32684918 0.3376348  0.54317676 0.54697919 0.71044685\n",
            "  0.02434437 0.58822748 0.48433648 0.09125609 0.40961075 0.67356421\n",
            "  0.4952503  0.17031606 0.40526436 0.62519839 0.38683911 0.43044737\n",
            "  0.42221582 0.6051299  0.10802878 0.39392187 0.04852118 0.46386074\n",
            "  0.15728674 0.44998306 0.77525947 0.14236747 0.67655466 0.30771368\n",
            "  0.37161306 0.31394874 0.24778707 0.62467512]\n",
            " [0.63707908 0.1455675  0.72683149 0.50122145 0.09586419 0.33152749\n",
            "  0.46219745 0.08126026 0.52594948 0.66291766 0.51248231 0.68499609\n",
            "  0.38587999 0.18800601 0.36654936 0.72793176 0.1661124  0.18791766\n",
            "  0.2058214  0.38007939 0.37816355 0.49618442 0.65887429 0.65576059\n",
            "  0.23050801 0.44345272 0.60873528 0.20982238 0.         0.46875871\n",
            "  0.33893395 0.2533288  0.38869024 0.43865271 0.39006259 0.62686521\n",
            "  0.18437249 0.62449684 0.54534569 0.85325357 0.22828779 0.62747675\n",
            "  0.11462541 0.43446625 0.24644613 0.7842005  0.31948983 0.8388013\n",
            "  0.90574294 0.54363532 0.49475663 0.2658095  0.41790107 0.24444112\n",
            "  0.39896788 0.77261052 0.78411466 0.53259224 0.45104936 0.63107145\n",
            "  0.41204507 0.40298947 0.78398874 0.67542648 0.65111222 0.1426462\n",
            "  0.71566762 0.28068103 0.38870142 0.51479029 0.39030323 0.73316891\n",
            "  0.18803511 0.49318901 0.69373854 0.21974241 0.5878379  0.88103827\n",
            "  0.39291596 0.20872348 0.56000759 0.71806288 0.18086887 0.43943742\n",
            "  0.6021636  0.80220775 0.23958555 0.59334225 0.22762911 0.32394241\n",
            "  0.15905469 0.4974205  0.85832533 0.07681622 0.87951575 0.50016558\n",
            "  0.2260924  0.20810882 0.44670878 0.82375208]\n",
            " [0.17986751 0.61355723 0.46943471 0.57410041 0.4065198  0.27844684\n",
            "  0.26064802 0.44204327 0.0585329  0.20522049 0.0698043  0.24940208\n",
            "  0.12411654 0.60365279 0.62588034 0.28960325 0.52391098 0.58077502\n",
            "  0.53629599 0.63567646 0.47775112 0.62604817 0.57988372 0.485259\n",
            "  0.4487817  0.14140587 0.14822889 0.28203402 0.46875871 0.\n",
            "  0.19966937 0.23914378 0.40197091 0.62663916 0.21259114 0.22164088\n",
            "  0.5949093  0.36540868 0.49496437 0.41473272 0.5230971  0.55183146\n",
            "  0.53850954 0.06915277 0.6139282  0.44848492 0.3991821  0.4174976\n",
            "  0.47980997 0.61621573 0.66348194 0.47483479 0.23032472 0.2568946\n",
            "  0.0706049  0.37865288 0.58472376 0.54420829 0.15543062 0.17219863\n",
            "  0.34597431 0.14374018 0.36830957 0.39937011 0.21069416 0.48010158\n",
            "  0.46680765 0.59709903 0.55856705 0.5353091  0.69807071 0.60257895\n",
            "  0.29473854 0.6560436  0.28411823 0.34949684 0.12903157 0.43733972\n",
            "  0.59016995 0.29952331 0.15529909 0.43204371 0.62324711 0.40707247\n",
            "  0.14068822 0.33521699 0.23206708 0.34218781 0.30221926 0.6083996\n",
            "  0.3359089  0.65496748 0.57954263 0.3920326  0.41967749 0.03752177\n",
            "  0.54261504 0.59531236 0.26975411 0.35845099]\n",
            " [0.37623768 0.48092757 0.63699442 0.62638169 0.31385317 0.32374197\n",
            "  0.14320734 0.34574488 0.23991018 0.40057154 0.26768036 0.35486266\n",
            "  0.21904091 0.51077533 0.60560226 0.39714038 0.34533153 0.40405997\n",
            "  0.47541948 0.61785879 0.28117596 0.6599379  0.69218908 0.62431141\n",
            "  0.4185433  0.28204129 0.34399772 0.12927791 0.33893395 0.19966937\n",
            "  0.         0.21472266 0.21219547 0.42808399 0.05939065 0.41819431\n",
            "  0.42191402 0.30573596 0.5887988  0.5195231  0.33221667 0.66079137\n",
            "  0.37647349 0.21791042 0.42844933 0.63693784 0.41949016 0.50139607\n",
            "  0.56843845 0.67248352 0.46713816 0.45495924 0.33549817 0.23226737\n",
            "  0.16051673 0.57654915 0.73938266 0.618284   0.11351802 0.31885493\n",
            "  0.42235219 0.07179894 0.44640883 0.56894857 0.41018609 0.30456474\n",
            "  0.6315277  0.40400974 0.359658   0.60485381 0.66205808 0.73496834\n",
            "  0.15221937 0.67887069 0.35678657 0.16133384 0.32641536 0.54870028\n",
            "  0.59263445 0.25772861 0.34854408 0.60652328 0.51590648 0.48092166\n",
            "  0.3361639  0.49336774 0.17068447 0.27459963 0.12225388 0.57570557\n",
            "  0.26485739 0.45949483 0.75747748 0.27089825 0.55730023 0.21322202\n",
            "  0.48858574 0.4157881  0.13595519 0.51037453]\n",
            " [0.39096341 0.39077359 0.50084091 0.41271431 0.17409564 0.12149735\n",
            "  0.35604254 0.20883661 0.29747105 0.41638907 0.2681426  0.48227485\n",
            "  0.13517401 0.36559692 0.40368997 0.52417117 0.3611948  0.40865641\n",
            "  0.29818454 0.41499112 0.43657715 0.44527976 0.49916713 0.45536151\n",
            "  0.21820371 0.1901284  0.36491282 0.15578652 0.2533288  0.23914378\n",
            "  0.21472266 0.         0.39412768 0.55916681 0.27246767 0.37358366\n",
            "  0.41536592 0.51315095 0.38924029 0.65069987 0.38943414 0.46683739\n",
            "  0.34847391 0.18962358 0.45657345 0.54060516 0.20476809 0.64800219\n",
            "  0.71260816 0.45901972 0.6090802  0.25021895 0.17823359 0.0194594\n",
            "  0.17016519 0.52034721 0.58053576 0.40963184 0.29034747 0.41105101\n",
            "  0.22418558 0.24037962 0.59586836 0.44154968 0.40033223 0.31788327\n",
            "  0.49169695 0.46281757 0.49275284 0.39510235 0.46910112 0.55472469\n",
            "  0.14571505 0.46514803 0.50688297 0.24621713 0.34394781 0.67472769\n",
            "  0.38221799 0.06040453 0.30741753 0.48367323 0.38825273 0.27699712\n",
            "  0.35906516 0.57193603 0.04951026 0.48294434 0.20351512 0.37979023\n",
            "  0.10083905 0.60557363 0.63109684 0.18012854 0.65871748 0.27540403\n",
            "  0.30585884 0.4270405  0.35045248 0.59626048]\n",
            " [0.56698082 0.49766989 0.84903813 0.79951742 0.41596023 0.51416433\n",
            "  0.18064489 0.43613957 0.4296672  0.58903498 0.47173422 0.47630319\n",
            "  0.42993427 0.57648758 0.7316063  0.51198951 0.29579922 0.34610155\n",
            "  0.57917034 0.74492816 0.08577725 0.82087164 0.89088187 0.83200725\n",
            "  0.55555882 0.49408703 0.53515577 0.24609328 0.38869024 0.40197091\n",
            "  0.21219547 0.39412768 0.         0.23526907 0.19007996 0.62359067\n",
            "  0.37033808 0.2883108  0.78278046 0.61424217 0.24238705 0.85882206\n",
            "  0.36002447 0.42935371 0.33940104 0.84712184 0.58875986 0.57916491\n",
            "  0.64233411 0.84594562 0.26425065 0.59511454 0.54202454 0.4071112\n",
            "  0.37216159 0.78025187 0.949606   0.80279272 0.2636484  0.47625035\n",
            "  0.61650413 0.2584098  0.52746267 0.78112507 0.60704882 0.27624082\n",
            "  0.84338836 0.28850165 0.17323956 0.78770269 0.77074869 0.93980532\n",
            "  0.26563414 0.83181839 0.45193745 0.17651501 0.52038488 0.64628887\n",
            "  0.73663615 0.41632048 0.55587983 0.81869141 0.56329805 0.67104492\n",
            "  0.52730747 0.63913396 0.3446378  0.26288122 0.19873497 0.69391874\n",
            "  0.4003407  0.25456414 0.96958602 0.3534005  0.67875578 0.40583138\n",
            "  0.5970177  0.34762864 0.16118127 0.64904719]\n",
            " [0.79791367 0.4843465  1.04897664 0.92534212 0.50801493 0.67902048\n",
            "  0.414942   0.5125654  0.66002148 0.82077642 0.69546845 0.7092347\n",
            "  0.6314196  0.60153687 0.80481385 0.74333489 0.27906092 0.29282568\n",
            "  0.64396515 0.81830449 0.15113908 0.92984757 1.05246706 1.01423395\n",
            "  0.65804096 0.69906578 0.76579461 0.40471058 0.43865271 0.62663916\n",
            "  0.42808399 0.55916681 0.23526907 0.         0.420102   0.84627829\n",
            "  0.31494205 0.49289095 0.93932279 0.83885478 0.21110164 1.01999549\n",
            "  0.35071587 0.64330213 0.24732842 1.06204814 0.72284502 0.79931376\n",
            "  0.85926495 0.97014933 0.05615348 0.69648048 0.72919038 0.56619098\n",
            "  0.58622875 1.00458384 1.13815971 0.94420161 0.49731785 0.71148236\n",
            "  0.78015863 0.4858786  0.75026947 0.98398868 0.83565117 0.29606923\n",
            "  1.04159299 0.18399266 0.06883577 0.92734746 0.82127208 1.11303111\n",
            "  0.41358006 0.93022898 0.68071799 0.3134688  0.74991166 0.87110044\n",
            "  0.83013794 0.55921571 0.77647588 1.02386626 0.57082138 0.82624467\n",
            "  0.75790967 0.87365794 0.51261885 0.47412416 0.35972562 0.7616082\n",
            "  0.52568174 0.06094826 1.17492811 0.44509511 0.90921529 0.63501304\n",
            "  0.66443867 0.28040928 0.39593561 0.88273412]\n",
            " [0.37799829 0.52922451 0.67039001 0.68253483 0.37112145 0.37764869\n",
            "  0.08397926 0.40222852 0.24023666 0.40068704 0.28238632 0.32111429\n",
            "  0.26015683 0.56609025 0.66498736 0.36197882 0.37760747 0.43628993\n",
            "  0.53385291 0.6772488  0.26928734 0.71768321 0.74046718 0.66637807\n",
            "  0.47793309 0.31783054 0.34597145 0.182853   0.39006259 0.21259114\n",
            "  0.05939065 0.27246767 0.19007996 0.420102   0.         0.43415132\n",
            "  0.45601567 0.24654957 0.63959995 0.48014083 0.35434636 0.7095136\n",
            "  0.41678658 0.2470287  0.45394272 0.66000933 0.47701979 0.4575652\n",
            "  0.52444155 0.72844828 0.45349356 0.5143035  0.38076192 0.29042417\n",
            "  0.19187679 0.59030393 0.77766581 0.67203073 0.08140362 0.29948674\n",
            "  0.47405511 0.06890599 0.40261051 0.60121392 0.41714302 0.33984355\n",
            "  0.66594817 0.4219936  0.35359696 0.65907435 0.7211166  0.77925132\n",
            "  0.20674938 0.73731368 0.31493392 0.19391194 0.33067524 0.51040623\n",
            "  0.65172312 0.3169416  0.36742496 0.63697234 0.5690593  0.53366608\n",
            "  0.33809655 0.47087837 0.2295922  0.21534245 0.16509797 0.6349608\n",
            "  0.3239928  0.4443004  0.78682312 0.32520697 0.52631995 0.21591289\n",
            "  0.54732244 0.44598553 0.07849381 0.48517613]\n",
            " [0.10868811 0.762805   0.28473416 0.54124564 0.54447051 0.33260619\n",
            "  0.47569522 0.5774855  0.20529708 0.11416138 0.15185682 0.33395743\n",
            "  0.24342198 0.71837035 0.66786137 0.35496416 0.71661094 0.76995827\n",
            "  0.62889478 0.67400999 0.69849395 0.60835656 0.46785036 0.34561384\n",
            "  0.52640808 0.18368027 0.12235888 0.47635274 0.62686521 0.22164088\n",
            "  0.41819431 0.37358366 0.62359067 0.84627829 0.43415132 0.\n",
            "  0.78028963 0.54903789 0.42097766 0.44739793 0.72699495 0.447939\n",
            "  0.71684588 0.2085533  0.81054927 0.23238857 0.43733638 0.47629952\n",
            "  0.52108572 0.57301423 0.88443959 0.53769641 0.23863236 0.38385074\n",
            "  0.26289207 0.15866892 0.41120724 0.4884558  0.37120858 0.24582406\n",
            "  0.33449888 0.36535836 0.44504147 0.2189198  0.06604804 0.67201362\n",
            "  0.28712592 0.80216746 0.77781592 0.48675464 0.74923912 0.45985436\n",
            "  0.48226822 0.64769259 0.39110618 0.55619137 0.12321993 0.45598182\n",
            "  0.61227522 0.42386898 0.07126517 0.23879858 0.74943283 0.37965736\n",
            "  0.12718003 0.29922603 0.3933904  0.53239264 0.50697157 0.66508715\n",
            "  0.47176911 0.87617708 0.37360765 0.55261995 0.40052817 0.22332727\n",
            "  0.62803523 0.78663746 0.48717176 0.32820218]\n",
            " [0.77284263 0.17152925 0.90596198 0.67902641 0.2793372  0.50955088\n",
            "  0.50625047 0.2645048  0.64732294 0.79864994 0.65004647 0.77539106\n",
            "  0.53708961 0.29788173 0.51889522 0.81704467 0.07903343 0.02490128\n",
            "  0.36310005 0.53183632 0.32019478 0.66652786 0.84280568 0.8390775\n",
            "  0.41083648 0.60099557 0.74215792 0.31289542 0.18437249 0.5949093\n",
            "  0.42191402 0.41536592 0.37033808 0.31494205 0.45601567 0.78028963\n",
            "  0.         0.65068236 0.72949472 0.93613497 0.13079742 0.81154504\n",
            "  0.07025253 0.57630297 0.07381825 0.95548269 0.50374407 0.91190067\n",
            "  0.97836515 0.71965697 0.36858793 0.44335334 0.58999734 0.41123633\n",
            "  0.53045122 0.93275274 0.96748006 0.71448805 0.53248232 0.73915484\n",
            "  0.59488877 0.49353766 0.8572185  0.85168787 0.79484018 0.11736084\n",
            "  0.89530682 0.13147055 0.2884893  0.69658248 0.5209345  0.91753721\n",
            "  0.30134117 0.65763437 0.77070592 0.26250803 0.72202924 0.96641229\n",
            "  0.55860258 0.38220913 0.71039014 0.89426501 0.26109381 0.62376911\n",
            "  0.73487716 0.91389768 0.38747163 0.62209535 0.30042814 0.47413769\n",
            "  0.33397797 0.37571117 1.03748687 0.23941202 0.97902398 0.62015614\n",
            "  0.38373339 0.03494004 0.48698719 0.9318224 ]\n",
            " [0.45457745 0.75529079 0.82504347 0.91397633 0.61592335 0.6063027\n",
            "  0.16482484 0.64578208 0.3505557  0.46703441 0.42011116 0.26753584\n",
            "  0.46549482 0.80681856 0.91097075 0.28668229 0.57285737 0.62744735\n",
            "  0.77990073 0.92309893 0.36473169 0.95496091 0.94371454 0.85038533\n",
            "  0.72371082 0.50427188 0.43018892 0.42536431 0.62449684 0.36540868\n",
            "  0.30573596 0.51315095 0.2883108  0.49289095 0.24654957 0.54903789\n",
            "  0.65068236 0.         0.85319962 0.35520814 0.52742031 0.91484653\n",
            "  0.62807719 0.42802869 0.62650378 0.77942771 0.71488098 0.31031496\n",
            "  0.36738524 0.95887012 0.4994398  0.75945451 0.58638509 0.53195038\n",
            "  0.38878488 0.68145334 0.94542831 0.89508792 0.22927078 0.31987154\n",
            "  0.69401887 0.27483438 0.26596629 0.75536168 0.50450273 0.54458907\n",
            "  0.82427556 0.57681208 0.44566096 0.88391444 0.9676588  0.96790364\n",
            "  0.44968542 0.9774423  0.2180392  0.40923142 0.42595105 0.38709763\n",
            "  0.89509538 0.56166901 0.5008559  0.78316776 0.80533952 0.75549986\n",
            "  0.42401775 0.43265506 0.47371028 0.03144267 0.39742166 0.88144029\n",
            "  0.57053723 0.48563204 0.92264004 0.56604621 0.43887344 0.34219827\n",
            "  0.79367724 0.63141285 0.17826062 0.43196451]\n",
            " [0.51744984 0.62188078 0.27253697 0.14044975 0.45242718 0.26862398\n",
            "  0.71699773 0.46506122 0.53005542 0.53091975 0.46031488 0.71858571\n",
            "  0.38809739 0.51407169 0.3444603  0.75019331 0.70202481 0.73286449\n",
            "  0.40889171 0.34326333 0.82473742 0.21322844 0.11424488 0.1533181\n",
            "  0.32468333 0.35370079 0.514548   0.54341156 0.54534569 0.49496437\n",
            "  0.5887988  0.38924029 0.78278046 0.93932279 0.63959995 0.42097766\n",
            "  0.72949472 0.85319962 0.         0.85861847 0.74926537 0.08227758\n",
            "  0.65997105 0.42766332 0.79034198 0.39075524 0.22591118 0.87924583\n",
            "  0.93145016 0.15849372 0.99162973 0.30149148 0.26690979 0.37802618\n",
            "  0.46466495 0.46294032 0.26419526 0.07293258 0.62579815 0.62677114\n",
            "  0.16680923 0.58667422 0.83903128 0.27002787 0.48569968 0.66572186\n",
            "  0.25798315 0.8154104  0.87536058 0.07926455 0.42314576 0.19040342\n",
            "  0.52962244 0.25732624 0.76628325 0.63136819 0.50187723 0.87110597\n",
            "  0.27183908 0.38014438 0.41207055 0.29847876 0.5608631  0.11326027\n",
            "  0.51470853 0.71933879 0.43869426 0.82672714 0.59177063 0.3671072\n",
            "  0.41580104 0.98940878 0.38119835 0.50557735 0.8206879  0.52633107\n",
            "  0.39453474 0.75304182 0.71694161 0.74832879]\n",
            " [0.34262855 0.99779161 0.71857648 0.96369442 0.80809173 0.6882062\n",
            "  0.43954431 0.84317804 0.35919704 0.3332402  0.41403075 0.16948987\n",
            "  0.53674039 1.00883719 1.03947403 0.12683124 0.85759986 0.91617136\n",
            "  0.94888162 1.04887896 0.69854888 1.02349654 0.91476624 0.7927521\n",
            "  0.86347253 0.5297522  0.34421272 0.64516936 0.85325357 0.41473272\n",
            "  0.5195231  0.65069987 0.61424217 0.83885478 0.48014083 0.44739793\n",
            "  0.93613497 0.35520814 0.85861847 0.         0.82961953 0.89369922\n",
            "  0.89531579 0.47766234 0.93047491 0.62468183 0.80936213 0.0552975\n",
            "  0.073694   1.00122851 0.85101736 0.88934123 0.62093758 0.66926618\n",
            "  0.4808863  0.50503975 0.8458501  0.92065644 0.40614339 0.24494853\n",
            "  0.73775517 0.45116882 0.08938003 0.65977502 0.38162584 0.81990209\n",
            "  0.72412977 0.89177113 0.78459894 0.91575154 1.11265642 0.90543477\n",
            "  0.66561312 1.05762563 0.16585195 0.67396617 0.35812    0.03225062\n",
            "  1.00000862 0.71084039 0.44664001 0.66953827 1.02263736 0.7945213\n",
            "  0.34449585 0.16532809 0.63415592 0.36763102 0.64107718 1.02303116\n",
            "  0.74203124 0.83767212 0.77248521 0.7799718  0.10070561 0.37732609\n",
            "  0.9561999  0.92523527 0.45985473 0.14250092]\n",
            " [0.70290898 0.28383183 0.89023369 0.72259774 0.30406461 0.50156931\n",
            "  0.39219349 0.30454482 0.56983224 0.72807851 0.58534099 0.67505757\n",
            "  0.49040295 0.39287683 0.59385726 0.71528053 0.0701441  0.10594306\n",
            "  0.43303459 0.60733209 0.18952485 0.72268073 0.86344047 0.83965805\n",
            "  0.45261311 0.55805738 0.67106137 0.25157358 0.22828779 0.5230971\n",
            "  0.33221667 0.38943414 0.24238705 0.21110164 0.35434636 0.72699495\n",
            "  0.13079742 0.52742031 0.74926537 0.82961953 0.         0.83119661\n",
            "  0.14385448 0.51850596 0.10105818 0.92265382 0.52668105 0.80129985\n",
            "  0.86687791 0.76646365 0.26724972 0.4901024  0.56728079 0.39153432\n",
            "  0.4661634  0.88422445 0.96677219 0.74688641 0.43474441 0.64986889\n",
            "  0.59801208 0.4030674  0.74733837 0.82997024 0.73145176 0.08685083\n",
            "  0.88112984 0.07528072 0.16823953 0.72954013 0.61083166 0.93030984\n",
            "  0.24996867 0.72117502 0.66381489 0.1736377  0.65212666 0.86073352\n",
            "  0.62092783 0.37466409 0.65576124 0.87172262 0.36552212 0.63776634\n",
            "  0.66339685 0.82350922 0.34975494 0.49995948 0.22134989 0.55054636\n",
            "  0.33398451 0.27084562 1.02020297 0.2446642  0.88049374 0.54267764\n",
            "  0.45356546 0.1053517  0.37219591 0.83890746]\n",
            " [0.55112024 0.70138181 0.24475709 0.18730626 0.53469523 0.34544539\n",
            "  0.7846896  0.54706228 0.58130853 0.56135696 0.50991952 0.76276281\n",
            "  0.45311894 0.59026993 0.40673794 0.79152923 0.78427904 0.81506827\n",
            "  0.4859512  0.40357328 0.90324922 0.25445785 0.03247772 0.12276348\n",
            "  0.40533826 0.41097284 0.55269332 0.62196427 0.62747675 0.55183146\n",
            "  0.66079137 0.46683739 0.85882206 1.01999549 0.7095136  0.447939\n",
            "  0.81154504 0.91484653 0.08227758 0.89369922 0.83119661 0.\n",
            "  0.74209945 0.48690383 0.87259922 0.37205995 0.30812189 0.91849667\n",
            "  0.96720409 0.18521367 1.07194913 0.38035663 0.33062864 0.45662093\n",
            "  0.5286809  0.46158226 0.20175854 0.11922224 0.69002469 0.67047909\n",
            "  0.24271804 0.65360393 0.88146368 0.26357794 0.51394858 0.74785381\n",
            "  0.23090463 0.89759195 0.95558064 0.13464465 0.4810928  0.11272679\n",
            "  0.60899203 0.29776519 0.81348104 0.7107587  0.54242906 0.90361362\n",
            "  0.33372783 0.46083188 0.45141463 0.28160795 0.63769358 0.19393613\n",
            "  0.55392307 0.74659407 0.51605283 0.88947403 0.67012035 0.4342565\n",
            "  0.49749804 1.06946529 0.33264543 0.58772238 0.84761157 0.58067966\n",
            "  0.47059685 0.83524895 0.7858746  0.77548617]\n",
            " [0.71445449 0.1415395  0.83624874 0.61282701 0.20914812 0.43985081\n",
            "  0.47542171 0.19540484 0.59267698 0.74035357 0.59065225 0.73131666\n",
            "  0.47342835 0.2508303  0.46190566 0.77361077 0.07375906 0.07410605\n",
            "  0.30298795 0.47513892 0.3250886  0.60339108 0.7734794  0.76882497\n",
            "  0.34322641 0.53598292 0.68435681 0.25849084 0.11462541 0.53850954\n",
            "  0.37647349 0.34847391 0.36002447 0.35071587 0.41678658 0.71684588\n",
            "  0.07025253 0.62807719 0.65997105 0.89531579 0.14385448 0.74209945\n",
            "  0.         0.51533776 0.13361181 0.88753042 0.43410822 0.87433484\n",
            "  0.94122723 0.65426342 0.40637423 0.37691613 0.52151944 0.34335504\n",
            "  0.47204799 0.86769898 0.89722754 0.64639126 0.48933609 0.68914334\n",
            "  0.52464258 0.44694403 0.81936005 0.78253331 0.73418064 0.0842856\n",
            "  0.82549907 0.17668516 0.31206271 0.62853369 0.47162904 0.8476688\n",
            "  0.24380789 0.59677542 0.73110818 0.22417389 0.66392313 0.92485726\n",
            "  0.49697949 0.31301032 0.64761335 0.82514045 0.22171696 0.55375024\n",
            "  0.67725905 0.86344759 0.32345788 0.59826316 0.2543642  0.41756775\n",
            "  0.26440278 0.41141287 0.96779274 0.17044419 0.93276589 0.56575474\n",
            "  0.3237649  0.09416271 0.45717534 0.88260182]\n",
            " [0.20281174 0.57661061 0.4233974  0.50494795 0.36284752 0.21142747\n",
            "  0.30879132 0.39796759 0.11866264 0.22857249 0.0787092  0.31535322\n",
            "  0.05964013 0.55453952 0.56183294 0.35429813 0.51006889 0.5646289\n",
            "  0.48065223 0.57121919 0.49858039 0.55719603 0.51568661 0.42697869\n",
            "  0.3887778  0.07644698 0.17559201 0.26841665 0.43446625 0.06915277\n",
            "  0.21791042 0.18962358 0.42935371 0.64330213 0.2470287  0.2085533\n",
            "  0.57630297 0.42802869 0.42766332 0.47766234 0.51850596 0.48690383\n",
            "  0.51533776 0.         0.60326194 0.41930223 0.33260231 0.48347689\n",
            "  0.54455908 0.5470985  0.68426148 0.41251547 0.16179396 0.2052801\n",
            "  0.05741581 0.36648686 0.53279593 0.47554799 0.20706804 0.23288055\n",
            "  0.27687081 0.18061255 0.43542365 0.35418912 0.21884317 0.4655301\n",
            "  0.41915074 0.59364885 0.57451342 0.4664273  0.63577943 0.54304928\n",
            "  0.27580843 0.58763285 0.35254225 0.3477704  0.15459853 0.49869174\n",
            "  0.52364898 0.24849125 0.13729097 0.39029676 0.57787017 0.33805017\n",
            "  0.16956273 0.38428932 0.19503563 0.40317128 0.29848146 0.54637399\n",
            "  0.29004704 0.67698553 0.54069446 0.35801808 0.4745641  0.10486858\n",
            "  0.48540356 0.58069386 0.3145307  0.40955653]\n",
            " [0.79362627 0.24462568 0.95436132 0.74637744 0.33793939 0.5592997\n",
            "  0.49324878 0.32770167 0.66303501 0.81911403 0.6734991  0.7749911\n",
            "  0.56962856 0.37168624 0.59163121 0.81549187 0.09543335 0.05972056\n",
            "  0.43460047 0.60465839 0.27665429 0.73660436 0.90424702 0.89369106\n",
            "  0.47643317 0.63582137 0.76215052 0.33499986 0.24644613 0.6139282\n",
            "  0.42844933 0.45657345 0.33940104 0.24732842 0.45394272 0.81054927\n",
            "  0.07381825 0.62650378 0.79034198 0.93047491 0.10105818 0.87259922\n",
            "  0.13361181 0.60326194 0.         0.99645882 0.56451981 0.90235452\n",
            "  0.96793327 0.78787523 0.29925828 0.51047311 0.63416881 0.45511988\n",
            "  0.55351845 0.96593221 1.02193299 0.7790378  0.53372315 0.74715945\n",
            "  0.64946305 0.49995581 0.84837347 0.8973981  0.81954302 0.13949724\n",
            "  0.94431979 0.06451648 0.23003427 0.76123184 0.594735   0.97662572\n",
            "  0.32836617 0.72902145 0.76464298 0.26745656 0.74268381 0.96152263\n",
            "  0.62955534 0.43075297 0.7396924  0.93973445 0.33466573 0.68231411\n",
            "  0.75461467 0.9213647  0.42286569 0.59956245 0.31222973 0.54694992\n",
            "  0.3847118  0.30739576 1.08552883 0.28973757 0.98026201 0.63577593\n",
            "  0.45532255 0.04043035 0.47324135 0.93742478]\n",
            " [0.3268838  0.90440279 0.12890671 0.53108837 0.69176388 0.45512846\n",
            "  0.70669714 0.71964473 0.43755632 0.31942271 0.37949193 0.54720329\n",
            "  0.43396643 0.83100309 0.71671588 0.55894143 0.90103212 0.94925699\n",
            "  0.72923871 0.71862217 0.91786944 0.60391548 0.37627116 0.24944376\n",
            "  0.62608813 0.36572378 0.34932476 0.67228755 0.7842005  0.44848492\n",
            "  0.63693784 0.54060516 0.84712184 1.06204814 0.66000933 0.23238857\n",
            "  0.95548269 0.77942771 0.39075524 0.62468183 0.92265382 0.37205995\n",
            "  0.88753042 0.41930223 0.99645882 0.         0.51890257 0.66485482\n",
            "  0.69596329 0.54599408 1.10355476 0.62276386 0.36645939 0.54427925\n",
            "  0.47668141 0.12060537 0.23767286 0.46294868 0.6016433  0.46696847\n",
            "  0.40142086 0.59119832 0.6448708  0.12512931 0.2764477  0.85715135\n",
            "  0.14186659 0.99760786 0.99321524 0.46987374 0.79917248 0.32608577\n",
            "  0.67271544 0.64791681 0.60663323 0.75922331 0.35404021 0.62389076\n",
            "  0.64828065 0.5758652  0.29323243 0.09234768 0.87049723 0.41477511\n",
            "  0.3554116  0.46014786 0.57421635 0.76385226 0.70992223 0.72843886\n",
            "  0.62540613 1.09627269 0.14919959 0.71724676 0.5514112  0.45453086\n",
            "  0.72201117 0.9676232  0.71733787 0.48587098]\n",
            " [0.49901495 0.4052023  0.43405608 0.2107955  0.22672634 0.12123066\n",
            "  0.56031629 0.23953474 0.45117263 0.52063163 0.39710845 0.64788321\n",
            "  0.27506573 0.31410351 0.23400009 0.68684958 0.47698246 0.50695427\n",
            "  0.21059399 0.24192544 0.61902561 0.24072078 0.33972785 0.34474248\n",
            "  0.10958634 0.28354487 0.4824249  0.3427864  0.31948983 0.3991821\n",
            "  0.41949016 0.20476809 0.58875986 0.72284502 0.47701979 0.43733638\n",
            "  0.50374407 0.71488098 0.22591118 0.80936213 0.52668105 0.30812189\n",
            "  0.43410822 0.33260231 0.56451981 0.51890257 0.         0.81604535\n",
            "  0.87703248 0.25725087 0.77659638 0.10470635 0.20099657 0.18762506\n",
            "  0.34310801 0.54511628 0.47156118 0.22135855 0.48802622 0.56444619\n",
            "  0.11752902 0.44019374 0.76746734 0.39692182 0.48786009 0.44187887\n",
            "  0.42107727 0.59099035 0.66131873 0.20455308 0.31328248 0.41407555\n",
            "  0.32469331 0.26300093 0.68266957 0.42394733 0.46364697 0.82916675\n",
            "  0.19106409 0.17247055 0.39275459 0.43761916 0.3564533  0.12278425\n",
            "  0.47911841 0.70153794 0.25086331 0.68521829 0.39079192 0.22778381\n",
            "  0.19748131 0.775575   0.56219375 0.28204899 0.79792489 0.43638266\n",
            "  0.2031992  0.52713262 0.55515479 0.72895401]\n",
            " [0.36884728 0.98209081 0.75338493 0.9788462  0.79927708 0.69490277\n",
            "  0.40922153 0.83391427 0.36514095 0.3628184  0.42593322 0.16818213\n",
            "  0.54132702 1.0003069  1.04320422 0.13039221 0.83299203 0.89116012\n",
            "  0.94535435 1.05311096 0.66223826 1.03633999 0.94085666 0.82165739\n",
            "  0.8637643  0.54127988 0.36590578 0.62931205 0.8388013  0.4174976\n",
            "  0.50139607 0.64800219 0.57916491 0.79931376 0.4575652  0.47629952\n",
            "  0.91190067 0.31031496 0.87924583 0.0552975  0.80129985 0.91849667\n",
            "  0.87433484 0.48347689 0.90235452 0.66485482 0.81604535 0.\n",
            "  0.06704422 1.01779177 0.80898287 0.89147998 0.63350147 0.66699152\n",
            "  0.48010053 0.54643474 0.88098292 0.93897386 0.3881312  0.25505279\n",
            "  0.75112486 0.43589221 0.05502666 0.69232497 0.41158053 0.79680048\n",
            "  0.75814034 0.86100846 0.74725133 0.93310058 1.11428307 0.9360839\n",
            "  0.65077038 1.06897349 0.14509607 0.65112089 0.37744229 0.08215141\n",
            "  1.00710669 0.707485   0.46791882 0.70472889 1.01157746 0.80942059\n",
            "  0.36505342 0.21055969 0.62750593 0.32557975 0.62124701 1.02455393\n",
            "  0.73564618 0.79536349 0.81352339 0.76720551 0.1558631  0.38004537\n",
            "  0.9537889  0.89923594 0.42935247 0.19101598]\n",
            " [0.41608828 1.04910822 0.79162346 1.03504889 0.8654888  0.75580218\n",
            "  0.47468454 0.90021886 0.42590498 0.4069261  0.48369881 0.23079363\n",
            "  0.60305806 1.06652192 1.10564613 0.19032214 0.89941645 0.95748866\n",
            "  1.01036312 1.11533842 0.72457815 1.09403595 0.98838423 0.86644368\n",
            "  0.92749529 0.59944637 0.41690525 0.69630478 0.90574294 0.47980997\n",
            "  0.56843845 0.71260816 0.64233411 0.85926495 0.52444155 0.52108572\n",
            "  0.97836515 0.36738524 0.93145016 0.073694   0.86687791 0.96720409\n",
            "  0.94122723 0.54455908 0.96793327 0.69596329 0.87703248 0.06704422\n",
            "  0.         1.07304785 0.86680299 0.95452009 0.69115208 0.73147906\n",
            "  0.5438915  0.57588792 0.91876875 0.99295288 0.45515744 0.31323895\n",
            "  0.80836878 0.50279081 0.1220592  0.73323643 0.45531984 0.86347461\n",
            "  0.79733798 0.92574204 0.80882144 0.98777764 1.17760643 0.97904306\n",
            "  0.71770814 1.12757507 0.21200444 0.71787747 0.43024883 0.07368768\n",
            "  1.06797801 0.772332   0.51938226 0.74252322 1.0782021  0.86572046\n",
            "  0.41692062 0.23581769 0.69317576 0.38519726 0.68825351 1.08788893\n",
            "  0.80131658 0.85294801 0.84315982 0.83398784 0.15479555 0.44228836\n",
            "  1.018467   0.96535583 0.49471471 0.21082136]\n",
            " [0.66413608 0.58362304 0.42311931 0.04646915 0.46278902 0.35279419\n",
            "  0.81043003 0.46343173 0.65875245 0.67968156 0.59275144 0.85319371\n",
            "  0.4981469  0.45828803 0.24419618 0.88759441 0.7091865  0.72828418\n",
            "  0.36323945 0.23757531 0.87395174 0.07402545 0.19845998 0.29992237\n",
            "  0.31404628 0.47933268 0.65773399 0.5998946  0.54363532 0.61621573\n",
            "  0.67248352 0.45901972 0.84594562 0.97014933 0.72844828 0.57301423\n",
            "  0.71965697 0.95887012 0.15849372 1.00122851 0.76646365 0.18521367\n",
            "  0.65426342 0.5470985  0.78787523 0.54599408 0.25725087 1.01779177\n",
            "  1.07304785 0.         1.02502299 0.27783409 0.38712955 0.44307007\n",
            "  0.57362246 0.62142431 0.38529365 0.08605112 0.72966805 0.76299248\n",
            "  0.27024641 0.68505651 0.974495   0.42755476 0.6362872  0.67974652\n",
            "  0.40872848 0.82411257 0.911341   0.08632878 0.3084658  0.28628706\n",
            "  0.58132506 0.11443058 0.89674661 0.67931167 0.6431244  1.01581306\n",
            "  0.17650015 0.42962615 0.55606362 0.45371399 0.5069082  0.20954119\n",
            "  0.65696048 0.86867078 0.50669061 0.93037181 0.64773163 0.28072338\n",
            "  0.45048384 1.02508142 0.51784334 0.52505569 0.9697055  0.6507095\n",
            "  0.34413746 0.7481712  0.80693791 0.89755998]\n",
            " [0.83111871 0.538853   1.09469015 0.98006438 0.56330571 0.72962041\n",
            "  0.43902733 0.56837954 0.69361049 0.85327293 0.73289999 0.72923674\n",
            "  0.67564071 0.65719901 0.86096041 0.76137367 0.33503678 0.34703847\n",
            "  0.7001108  0.87445242 0.18601426 0.98536941 1.10442685 1.06332668\n",
            "  0.7133914  0.74273426 0.7992269  0.45376391 0.49475663 0.66348194\n",
            "  0.46713816 0.6090802  0.26425065 0.05615348 0.45349356 0.88443959\n",
            "  0.36858793 0.4994398  0.99162973 0.85101736 0.26724972 1.07194913\n",
            "  0.40637423 0.68426148 0.29925828 1.10355476 0.77659638 0.80898287\n",
            "  0.86680299 1.02502299 0.         0.75195618 0.77670703 0.61686912\n",
            "  0.62691308 1.04211822 1.18635406 0.99789442 0.52782833 0.73800353\n",
            "  0.83127781 0.52092155 0.76182471 1.02889592 0.87059335 0.35214775\n",
            "  1.08768963 0.23715549 0.11644635 0.98114846 0.87724083 1.16363184\n",
            "  0.46398004 0.98607944 0.69684105 0.36286728 0.78416445 0.88323362\n",
            "  0.88602786 0.61151841 0.8154282  1.06825025 0.62592673 0.87843504\n",
            "  0.79136751 0.89574243 0.56178777 0.48366658 0.40761801 0.81776166\n",
            "  0.57920951 0.01488766 1.2194667  0.50006624 0.92568518 0.66938983\n",
            "  0.72057866 0.3338235  0.42102736 0.90319357]\n",
            " [0.59245976 0.32107944 0.53379194 0.23591088 0.18897285 0.20929095\n",
            "  0.59815495 0.18593979 0.53031447 0.61518991 0.48331793 0.72382615\n",
            "  0.35299563 0.21553157 0.15351975 0.76441902 0.43152348 0.45101268\n",
            "  0.10988184 0.16478406 0.61104964 0.23343648 0.4096324  0.43679928\n",
            "  0.03970924 0.37431069 0.57337805 0.35388821 0.2658095  0.47483479\n",
            "  0.45495924 0.25021895 0.59511454 0.69648048 0.5143035  0.53769641\n",
            "  0.44335334 0.75945451 0.30149148 0.88934123 0.4901024  0.38035663\n",
            "  0.37691613 0.41251547 0.51047311 0.62276386 0.10470635 0.89147998\n",
            "  0.95452009 0.27783409 0.75195618 0.         0.29928586 0.23078605\n",
            "  0.41173963 0.64952414 0.56036638 0.27384489 0.54018125 0.64512943\n",
            "  0.2218732  0.48971358 0.84079573 0.49996045 0.58525101 0.40325325\n",
            "  0.52039269 0.54637422 0.64026731 0.2558705  0.22333575 0.49160672\n",
            "  0.331691   0.23784798 0.75324386 0.42075325 0.55374194 0.91105397\n",
            "  0.14160145 0.19779954 0.48894981 0.5400697  0.26077303 0.21631412\n",
            "  0.56937197 0.79141687 0.28580633 0.72867877 0.39802678 0.13386147\n",
            "  0.19660897 0.752922   0.65973939 0.25334008 0.88535977 0.51234141\n",
            "  0.0996558  0.47100049 0.58972611 0.818087  ]\n",
            " [0.29910642 0.54229033 0.32310703 0.34631467 0.3265265  0.09582436\n",
            "  0.45428186 0.35601606 0.27171855 0.3200847  0.20761962 0.46727147\n",
            "  0.12249033 0.48412453 0.43443101 0.50311356 0.53892513 0.58482885\n",
            "  0.39129336 0.4417112  0.59729222 0.40294629 0.36085154 0.28998987\n",
            "  0.28811448 0.0924749  0.28463476 0.32524529 0.41790107 0.23032472\n",
            "  0.33549817 0.17823359 0.54202454 0.72919038 0.38076192 0.23863236\n",
            "  0.58999734 0.58638509 0.26690979 0.62093758 0.56728079 0.33062864\n",
            "  0.52151944 0.16179396 0.63416881 0.36645939 0.20099657 0.63350147\n",
            "  0.69115208 0.38712955 0.77670703 0.29928586 0.         0.17921984\n",
            "  0.19836942 0.36295302 0.40992687 0.31388369 0.35978539 0.37853143\n",
            "  0.11775757 0.32309387 0.58857364 0.26337246 0.2869267  0.49590809\n",
            "  0.31442314 0.64094822 0.6613935  0.30516285 0.51427078 0.39947474\n",
            "  0.32002302 0.436706   0.50966376 0.41629256 0.26696638 0.63830275\n",
            "  0.3848994  0.2094093  0.19186589 0.30560038 0.51830656 0.17758872\n",
            "  0.28207642 0.50340624 0.2189148  0.56017064 0.36948026 0.42834461\n",
            "  0.2589793  0.77190157 0.45295626 0.35109464 0.60148924 0.26389103\n",
            "  0.38971453 0.60361833 0.45606622 0.53132278]\n",
            " [0.40535047 0.37913342 0.49997562 0.39667911 0.16120935 0.11282951\n",
            "  0.37416475 0.19526865 0.31505111 0.43060065 0.28342185 0.50103234\n",
            "  0.14915751 0.34927642 0.3842453  0.54282711 0.36000525 0.40565209\n",
            "  0.2797399  0.39556403 0.44676762 0.42772578 0.48903872 0.44990684\n",
            "  0.19877149 0.20018276 0.37994393 0.16541752 0.24444112 0.2568946\n",
            "  0.23226737 0.0194594  0.4071112  0.56619098 0.29042417 0.38385074\n",
            "  0.41123633 0.53195038 0.37802618 0.66926618 0.39153432 0.45662093\n",
            "  0.34335504 0.2052801  0.45511988 0.54427925 0.18762506 0.66699152\n",
            "  0.73147906 0.44307007 0.61686912 0.23078605 0.17921984 0.\n",
            "  0.18847793 0.52817514 0.57604853 0.3957604  0.30966263 0.42899283\n",
            "  0.21460374 0.25957847 0.6149699  0.44228253 0.41299352 0.31737567\n",
            "  0.49039498 0.46407638 0.50043237 0.38087863 0.44970583 0.54686753\n",
            "  0.1529036  0.44691713 0.52608893 0.25445709 0.35902899 0.69309684\n",
            "  0.36323498 0.04321967 0.31899416 0.48464717 0.37326537 0.26517933\n",
            "  0.37427495 0.58863887 0.06363645 0.50165611 0.21374447 0.36036649\n",
            "  0.08804498 0.61378384 0.63079097 0.17348446 0.67619186 0.29341836\n",
            "  0.28704402 0.42440279 0.36816731 0.61322014]\n",
            " [0.24252346 0.54345444 0.47899281 0.52979967 0.33594623 0.22527768\n",
            "  0.25841504 0.37147285 0.12901579 0.26839099 0.12003867 0.31315153\n",
            "  0.07671169 0.53350217 0.56424078 0.35462696 0.46162717 0.51744627\n",
            "  0.46821406 0.57456614 0.44118882 0.57684573 0.55850261 0.47660031\n",
            "  0.3836838  0.12616565 0.21231909 0.21888411 0.39896788 0.0706049\n",
            "  0.16051673 0.17016519 0.37216159 0.58622875 0.19187679 0.26289207\n",
            "  0.53045122 0.38878488 0.46466495 0.4808863  0.4661634  0.5286809\n",
            "  0.47204799 0.05741581 0.55351845 0.47668141 0.34310801 0.48010053\n",
            "  0.5438915  0.57362246 0.62691308 0.41173963 0.19836942 0.18847793\n",
            "  0.         0.42144433 0.58595434 0.50690476 0.16142006 0.24115118\n",
            "  0.30588305 0.12777224 0.42907035 0.41018545 0.26602846 0.4173417\n",
            "  0.47427645 0.5410323  0.51747242 0.49628305 0.63423221 0.59117098\n",
            "  0.22914989 0.60414312 0.34174676 0.29394803 0.19188502 0.50462161\n",
            "  0.53278586 0.23052944 0.19187982 0.44691156 0.55268849 0.36752148\n",
            "  0.20527039 0.40582098 0.16150059 0.3620642  0.2450709  0.54450955\n",
            "  0.26559489 0.6195931  0.59757025 0.32216989 0.48965688 0.10554501\n",
            "  0.47531388 0.53276611 0.26236834 0.42899765]\n",
            " [0.22772841 0.90333266 0.23399603 0.59932239 0.68558072 0.45836979\n",
            "  0.62630249 0.71681235 0.35479867 0.21456372 0.30926648 0.43706225\n",
            "  0.39645819 0.84599594 0.76244537 0.4450389  0.87139514 0.92355231\n",
            "  0.74975078 0.76634001 0.85630914 0.67127815 0.47165859 0.34082356\n",
            "  0.64545604 0.33179581 0.25526444 0.63297635 0.77261052 0.37865288\n",
            "  0.57654915 0.52034721 0.78025187 1.00458384 0.59030393 0.15866892\n",
            "  0.93275274 0.68145334 0.46294032 0.50503975 0.88422445 0.46158226\n",
            "  0.86769898 0.36648686 0.96593221 0.12060537 0.54511628 0.54643474\n",
            "  0.57588792 0.62142431 1.04211822 0.64952414 0.36295302 0.52817514\n",
            "  0.42144433 0.         0.35404864 0.53570748 0.52358991 0.36303917\n",
            "  0.43047101 0.52185354 0.52889151 0.19800959 0.17939408 0.82684123\n",
            "  0.24395233 0.95947451 0.93620706 0.53928845 0.8454044  0.43395088\n",
            "  0.63765342 0.71408236 0.49677483 0.71424809 0.26508619 0.50357257\n",
            "  0.6988627  0.56537495 0.22957704 0.18669619 0.88114285 0.45941751\n",
            "  0.26241261 0.34011095 0.54533651 0.66868586 0.66492437 0.76747901\n",
            "  0.61462227 1.03361483 0.26744909 0.70047524 0.43080715 0.37606694\n",
            "  0.74574222 0.94073282 0.63918435 0.36550953]\n",
            " [0.5193697  0.87639234 0.12762462 0.38886981 0.68840241 0.46522601\n",
            "  0.84137691 0.70733752 0.59516378 0.52027108 0.52540553 0.74513404\n",
            "  0.52034184 0.77528994 0.60606262 0.7646327  0.92911351 0.96735683\n",
            "  0.66958628 0.60366392 1.00713411 0.45597215 0.18751036 0.12840334\n",
            "  0.5784936  0.45984639 0.53259552 0.73348255 0.78411466 0.58472376\n",
            "  0.73938266 0.58053576 0.949606   1.13815971 0.77766581 0.41120724\n",
            "  0.96748006 0.94542831 0.26419526 0.8458501  0.96677219 0.20175854\n",
            "  0.89722754 0.53279593 1.02193299 0.23767286 0.47156118 0.88098292\n",
            "  0.91876875 0.38529365 1.18635406 0.56036638 0.40992687 0.57604853\n",
            "  0.58595434 0.35404864 0.         0.31966748 0.73807714 0.65657162\n",
            "  0.37272234 0.71304839 0.85400583 0.19279799 0.47204844 0.88884259\n",
            "  0.12408134 1.03793339 1.07073049 0.33367285 0.68204238 0.10671009\n",
            "  0.72598151 0.49893981 0.8022252  0.82473863 0.5297541  0.84869784\n",
            "  0.53298707 0.59300832 0.44599889 0.17635374 0.82112396 0.34880074\n",
            "  0.53656978 0.68476565 0.62575671 0.9246534  0.77880074 0.63084215\n",
            "  0.63740429 1.18172739 0.14100404 0.73220362 0.7805275  0.60371694\n",
            "  0.65640262 0.98721214 0.84730079 0.7120195 ]\n",
            " [0.58160654 0.5934517  0.34266569 0.07055484 0.44412864 0.29458048\n",
            "  0.75212522 0.45133661 0.58363828 0.59638387 0.51582945 0.77591282\n",
            "  0.43039316 0.47709718 0.28751635 0.80914603 0.6946715  0.72027802\n",
            "  0.37461372 0.28442599 0.83805236 0.14220757 0.14264279 0.2208533\n",
            "  0.30375867 0.40471062 0.57656352 0.55868695 0.53259224 0.54420829\n",
            "  0.618284   0.40963184 0.80279272 0.94420161 0.67203073 0.4884558\n",
            "  0.71448805 0.89508792 0.07293258 0.92065644 0.74688641 0.11922224\n",
            "  0.64639126 0.47554799 0.7790378  0.46294868 0.22135855 0.93897386\n",
            "  0.99295288 0.08605112 0.99789442 0.27384489 0.31388369 0.3957604\n",
            "  0.50690476 0.53570748 0.31966748 0.         0.66607616 0.68487686\n",
            "  0.20108814 0.62386235 0.8969849  0.34287717 0.55228409 0.66133803\n",
            "  0.32814598 0.80938938 0.88247437 0.01797885 0.36238466 0.23072927\n",
            "  0.5423808  0.18643661 0.82135574 0.643064   0.5627041  0.9343719\n",
            "  0.21451935 0.38986426 0.47438269 0.37060673 0.52515204 0.13961052\n",
            "  0.57616171 0.78529342 0.45879759 0.86749563 0.60716457 0.31565595\n",
            "  0.4186921  0.99675419 0.44522519 0.50232805 0.88649875 0.57745598\n",
            "  0.35796695 0.7404379  0.7502881  0.8142364 ]\n",
            " [0.30447292 0.59396513 0.62449604 0.6848842  0.41837309 0.37729721\n",
            "  0.10535339 0.4518157  0.16900659 0.3258595  0.22247898 0.24290898\n",
            "  0.23772418 0.61813478 0.6933854  0.28470637 0.45480267 0.51362549\n",
            "  0.57437236 0.70492524 0.34618046 0.72715485 0.71970625 0.63404638\n",
            "  0.50661665 0.28306823 0.27307447 0.24131279 0.45104936 0.15543062\n",
            "  0.11351802 0.29034747 0.2636484  0.49731785 0.08140362 0.37120858\n",
            "  0.53248232 0.22927078 0.62579815 0.40614339 0.43474441 0.69002469\n",
            "  0.48933609 0.20706804 0.53372315 0.6016433  0.48802622 0.3881312\n",
            "  0.45515744 0.72966805 0.52782833 0.54018125 0.35978539 0.30966263\n",
            "  0.16142006 0.52358991 0.73807714 0.66607616 0.         0.21820501\n",
            "  0.46508721 0.05132953 0.33319419 0.55449261 0.34675427 0.41545086\n",
            "  0.62153156 0.50312719 0.43192673 0.65474169 0.75567163 0.74997927\n",
            "  0.26319802 0.75101601 0.24334691 0.27008293 0.25972221 0.43552649\n",
            "  0.67189405 0.34376696 0.3088794  0.58747044 0.62601796 0.52646613\n",
            "  0.26530997 0.38957057 0.25671986 0.20143237 0.23499416 0.66732939\n",
            "  0.36150925 0.51783528 0.73476297 0.38083852 0.44712378 0.14800629\n",
            "  0.58572537 0.52419706 0.11596903 0.40423126]\n",
            " [0.14052418 0.77663055 0.53050902 0.72382348 0.57552191 0.4432696\n",
            "  0.29928365 0.6110118  0.1149345  0.14872595 0.1709175  0.09228373\n",
            "  0.29218692 0.77433553 0.79469675 0.12468126 0.66362669 0.72217211\n",
            "  0.70849136 0.80401745 0.56087144 0.78145174 0.6946311  0.58157334\n",
            "  0.62024471 0.28646431 0.12399808 0.43110584 0.63107145 0.17219863\n",
            "  0.31885493 0.41105101 0.47625035 0.71148236 0.29948674 0.24582406\n",
            "  0.73915484 0.31987154 0.62677114 0.24494853 0.64986889 0.67047909\n",
            "  0.68914334 0.23288055 0.74715945 0.46696847 0.56444619 0.25505279\n",
            "  0.31323895 0.76299248 0.73800353 0.64512943 0.37853143 0.42899283\n",
            "  0.24115118 0.36303917 0.65657162 0.68487686 0.21820501 0.\n",
            "  0.4960978  0.24721042 0.21229109 0.46385325 0.19080814 0.6219381\n",
            "  0.53255204 0.7198685  0.64766348 0.67859335 0.86845707 0.69866977\n",
            "  0.44823239 0.81451443 0.14603103 0.48018161 0.12934088 0.2659268\n",
            "  0.75518414 0.47145554 0.21978769 0.48452018 0.7920957  0.55440555\n",
            "  0.12041022 0.17475132 0.40026721 0.30990014 0.43881761 0.7789435\n",
            "  0.50633681 0.72698166 0.61398983 0.55523747 0.24934139 0.13566033\n",
            "  0.71475628 0.73440651 0.31697794 0.19357857]\n",
            " [0.40974986 0.51390546 0.3207359  0.22870773 0.31619306 0.10273261\n",
            "  0.55275875 0.33704086 0.38929085 0.42877216 0.32519191 0.58502785\n",
            "  0.22949601 0.43042559 0.33521832 0.62073271 0.55723512 0.59464192\n",
            "  0.32785925 0.34057013 0.66073082 0.28574143 0.27500667 0.24434918\n",
            "  0.22526524 0.21022548 0.39833467 0.37961    0.41204507 0.34597431\n",
            "  0.42235219 0.22418558 0.61650413 0.78015863 0.47405511 0.33449888\n",
            "  0.59488877 0.69401887 0.16680923 0.73775517 0.59801208 0.24271804\n",
            "  0.52464258 0.27687081 0.64946305 0.40142086 0.11752902 0.75112486\n",
            "  0.80836878 0.27024641 0.83127781 0.2218732  0.11775757 0.21460374\n",
            "  0.30588305 0.43047101 0.37272234 0.20108814 0.46508721 0.4960978\n",
            "  0.         0.42353274 0.70633121 0.28001533 0.39085006 0.51783575\n",
            "  0.30838641 0.66756229 0.71483155 0.19049945 0.41760551 0.3332923\n",
            "  0.36744438 0.32074685 0.62710626 0.46906006 0.38171955 0.75443366\n",
            "  0.27777638 0.22349328 0.30058679 0.32118618 0.47145237 0.06166426\n",
            "  0.39643839 0.61547479 0.27334098 0.66651941 0.42761658 0.3372665\n",
            "  0.26555088 0.82833453 0.45083028 0.35986624 0.71484263 0.38054447\n",
            "  0.32072429 0.61451253 0.55184669 0.64382435]\n",
            " [0.31242095 0.54687539 0.60373907 0.63984932 0.36754045 0.3322625\n",
            "  0.13124339 0.4012074  0.17458826 0.33585035 0.21354429 0.28477368\n",
            "  0.20074077 0.56765851 0.64275077 0.32736803 0.41711272 0.47582458\n",
            "  0.52304768 0.65438149 0.33578819 0.68013031 0.68394426 0.6043631\n",
            "  0.45579933 0.25369795 0.28020783 0.19403914 0.40298947 0.14374018\n",
            "  0.07179894 0.24037962 0.2584098  0.4858786  0.06890599 0.36535836\n",
            "  0.49353766 0.27483438 0.58667422 0.45116882 0.4030674  0.65360393\n",
            "  0.44694403 0.18061255 0.49995581 0.59119832 0.44019374 0.43589221\n",
            "  0.50279081 0.68505651 0.52092155 0.48971358 0.32309387 0.25957847\n",
            "  0.12777224 0.52185354 0.71304839 0.62386235 0.05132953 0.24721042\n",
            "  0.42353274 0.         0.38117139 0.53427061 0.34992207 0.37617688\n",
            "  0.59969714 0.47404076 0.41853644 0.61191145 0.70453055 0.71870326\n",
            "  0.21496715 0.70297552 0.29080029 0.23307978 0.26403864 0.4797417\n",
            "  0.62244312 0.29287385 0.29852332 0.56942219 0.57645239 0.48441756\n",
            "  0.27232039 0.42161949 0.20557776 0.24561267 0.19339842 0.61630541\n",
            "  0.31018354 0.51205695 0.71886702 0.33154411 0.48604927 0.1491626\n",
            "  0.53440385 0.48758573 0.13460316 0.43858168]\n",
            " [0.3364379  0.92715895 0.72648064 0.9347046  0.74533574 0.64656777\n",
            "  0.35554737 0.77986352 0.31798948 0.3337385  0.38174501 0.12133133\n",
            "  0.49241626 0.94633214 0.99302709 0.09035432 0.77834522 0.83658234\n",
            "  0.89265494 1.00313789 0.61120008 0.99072333 0.90486476 0.78849801\n",
            "  0.81240079 0.49611347 0.32958034 0.574429   0.78398874 0.36830957\n",
            "  0.44640883 0.59586836 0.52746267 0.75026947 0.40261051 0.44504147\n",
            "  0.8572185  0.26596629 0.83903128 0.08938003 0.74733837 0.88146368\n",
            "  0.81936005 0.43542365 0.84837347 0.6448708  0.76746734 0.05502666\n",
            "  0.1220592  0.974495   0.76182471 0.84079573 0.58857364 0.6149699\n",
            "  0.42907035 0.52889151 0.85400583 0.8969849  0.33319419 0.21229109\n",
            "  0.70633121 0.38117139 0.         0.66325442 0.38210934 0.74197066\n",
            "  0.73034149 0.80774165 0.69681782 0.89046257 1.06321407 0.90427762\n",
            "  0.59597103 1.02246986 0.09055434 0.59623933 0.33903472 0.12149171\n",
            "  0.95847689 0.65505327 0.43005054 0.67846109 0.95714781 0.76543622\n",
            "  0.32780969 0.20597694 0.57422167 0.27831083 0.56622205 0.97350855\n",
            "  0.68231614 0.748435   0.79405665 0.71260503 0.17817175 0.33109314\n",
            "  0.90142502 0.84481989 0.37575511 0.1930091 ]\n",
            " [0.32745975 0.7894893  0.07010247 0.40945491 0.58110518 0.34391788\n",
            "  0.65921695 0.60696251 0.4048175  0.32989323 0.33660514 0.55282351\n",
            "  0.35336583 0.71044091 0.591593   0.57344659 0.8022235  0.84739095\n",
            "  0.60751527 0.59355191 0.84537738 0.48220669 0.27452443 0.14369677\n",
            "  0.50528054 0.28723149 0.33985922 0.58418183 0.67542648 0.39937011\n",
            "  0.56894857 0.44154968 0.78112507 0.98398868 0.60121392 0.2189198\n",
            "  0.85168787 0.75536168 0.27002787 0.65977502 0.82997024 0.26357794\n",
            "  0.78253331 0.35418912 0.8973981  0.12512931 0.39692182 0.69232497\n",
            "  0.73323643 0.42755476 1.02889592 0.49996045 0.26337246 0.44228253\n",
            "  0.41018545 0.19800959 0.19279799 0.34287717 0.55449261 0.46385325\n",
            "  0.28001533 0.53427061 0.66325442 0.         0.28126426 0.75927727\n",
            "  0.06919595 0.9039683  0.915432   0.34842964 0.67407803 0.24703073\n",
            "  0.58122611 0.52592353 0.60961636 0.67405983 0.33701057 0.66494789\n",
            "  0.52332166 0.46953594 0.25464186 0.04264104 0.75117553 0.28992417\n",
            "  0.34378017 0.50246118 0.48044639 0.73559637 0.62573461 0.60350365\n",
            "  0.51829223 1.0228785  0.19114962 0.61228754 0.60118694 0.41520415\n",
            "  0.59949284 0.86637394 0.66681767 0.53061388]\n",
            " [0.05043656 0.79102382 0.34467286 0.60334163 0.57407442 0.37688734\n",
            "  0.44807312 0.60825561 0.17788927 0.04876217 0.14617237 0.274702\n",
            "  0.2655604  0.75620208 0.72069287 0.29258444 0.72737626 0.78267304\n",
            "  0.67125495 0.72751101 0.68570751 0.66927415 0.53388738 0.41114919\n",
            "  0.57075127 0.21664991 0.07587105 0.48475316 0.65111222 0.21069416\n",
            "  0.41018609 0.40033223 0.60704882 0.83565117 0.41714302 0.06604804\n",
            "  0.79484018 0.50450273 0.48569968 0.38162584 0.73145176 0.51394858\n",
            "  0.73418064 0.21884317 0.81954302 0.2764477  0.48786009 0.41158053\n",
            "  0.45531984 0.6362872  0.87059335 0.58525101 0.2869267  0.41299352\n",
            "  0.26602846 0.17939408 0.47204844 0.55228409 0.34675427 0.19080814\n",
            "  0.39085006 0.34992207 0.38210934 0.28126426 0.         0.68297742\n",
            "  0.34825841 0.80599872 0.76799208 0.54995995 0.80105182 0.52461921\n",
            "  0.49379162 0.7077632  0.33320181 0.55833383 0.08703415 0.38994317\n",
            "  0.66787857 0.45490585 0.09687606 0.29716423 0.78444115 0.43929246\n",
            "  0.08305518 0.23375025 0.41280644 0.49050024 0.51010203 0.71525118\n",
            "  0.50074772 0.86143936 0.42318547 0.57523496 0.33511169 0.20123544\n",
            "  0.67199421 0.7983539  0.46161593 0.26274537]\n",
            " [0.65899757 0.22216664 0.81731051 0.6360088  0.21772297 0.42418638\n",
            "  0.39410871 0.21773258 0.53147293 0.6846903  0.53734208 0.65833773\n",
            "  0.43041768 0.31629925 0.50912144 0.70012096 0.04459735 0.10083128\n",
            "  0.34831143 0.52264076 0.24669078 0.63586849 0.77996599 0.76105649\n",
            "  0.36582234 0.49639417 0.62794022 0.19853221 0.1426462  0.48010158\n",
            "  0.30456474 0.31788327 0.27624082 0.29606923 0.33984355 0.67201362\n",
            "  0.11736084 0.54458907 0.66572186 0.81990209 0.08685083 0.74785381\n",
            "  0.0842856  0.4655301  0.13949724 0.85715135 0.44187887 0.79680048\n",
            "  0.86347461 0.67974652 0.35214775 0.40325325 0.49590809 0.31737567\n",
            "  0.4173417  0.82684123 0.88884259 0.66133803 0.41545086 0.6219381\n",
            "  0.51783575 0.37617688 0.74197066 0.75927727 0.68297742 0.\n",
            "  0.80759563 0.14996602 0.24697368 0.64389549 0.52972742 0.84864856\n",
            "  0.18983418 0.63471668 0.65477111 0.1459416  0.60807251 0.84998175\n",
            "  0.53450959 0.29587893 0.60136463 0.80148806 0.29457145 0.55507876\n",
            "  0.62054564 0.79668904 0.2833738  0.51499801 0.18313492 0.46628297\n",
            "  0.25239351 0.35478476 0.94816473 0.16014815 0.86174287 0.50424414\n",
            "  0.36866956 0.11542527 0.37543446 0.81449663]\n",
            " [0.39533378 0.8222883  0.01455384 0.39788234 0.62020773 0.38579825\n",
            "  0.72589347 0.64364929 0.47372105 0.39662883 0.405056   0.6210583\n",
            "  0.41385824 0.73464579 0.59612601 0.64081245 0.84971283 0.8925116\n",
            "  0.62984022 0.59651462 0.90541458 0.47028337 0.23441055 0.10916258\n",
            "  0.5306589  0.34954533 0.40859889 0.63909682 0.71566762 0.46680765\n",
            "  0.6315277  0.49169695 0.84338836 1.04159299 0.66594817 0.28712592\n",
            "  0.89530682 0.82427556 0.25798315 0.72412977 0.88112984 0.23090463\n",
            "  0.82549907 0.41915074 0.94431979 0.14186659 0.42107727 0.75814034\n",
            "  0.79733798 0.40872848 1.08768963 0.52039269 0.31442314 0.49039498\n",
            "  0.47427645 0.24395233 0.12408134 0.32814598 0.62153156 0.53255204\n",
            "  0.30838641 0.59969714 0.73034149 0.06919595 0.34825841 0.80759563\n",
            "  0.         0.95429466 0.97332984 0.3369968  0.67712021 0.19005583\n",
            "  0.63443682 0.51450885 0.67815816 0.72979615 0.40608688 0.72806411\n",
            "  0.5251507  0.51388711 0.32371298 0.05744373 0.77752745 0.30459838\n",
            "  0.4126526  0.56464383 0.53332695 0.80428141 0.68218922 0.61290267\n",
            "  0.56139257 1.0821417  0.14279575 0.65635603 0.66196498 0.48363234\n",
            "  0.61981209 0.91187045 0.73296535 0.59236092]\n",
            " [0.77676834 0.30239318 0.96360975 0.78127841 0.3652734  0.57283408\n",
            "  0.45236772 0.36073429 0.64284124 0.80181012 0.6599665  0.74092907\n",
            "  0.5656325  0.4247955  0.63849047 0.78032848 0.11501747 0.11065872\n",
            "  0.47904509 0.65175266 0.21899201 0.77651503 0.92965169 0.91037688\n",
            "  0.51035592 0.63323064 0.74482095 0.32684918 0.28068103 0.59709903\n",
            "  0.40400974 0.46281757 0.28850165 0.18399266 0.4219936  0.80216746\n",
            "  0.13147055 0.57681208 0.8154104  0.89177113 0.07528072 0.89759195\n",
            "  0.17668516 0.59364885 0.06451648 0.99760786 0.59099035 0.86100846\n",
            "  0.92574204 0.82411257 0.23715549 0.54637422 0.64094822 0.46407638\n",
            "  0.5410323  0.95947451 1.03793339 0.80938938 0.50312719 0.7198685\n",
            "  0.66756229 0.47404076 0.80774165 0.9039683  0.80599872 0.14996602\n",
            "  0.95429466 0.         0.16611222 0.79181016 0.64710532 0.99861403\n",
            "  0.3248982  0.77181125 0.7264288  0.24771399 0.72607976 0.92325788\n",
            "  0.67170326 0.44499099 0.73092287 0.94584756 0.39077392 0.70500008\n",
            "  0.73711805 0.89264819 0.42418976 0.551093   0.29601814 0.59421607\n",
            "  0.40227186 0.24454012 1.09389311 0.30990659 0.94646043 0.61577592\n",
            "  0.49981603 0.09666822 0.43209474 0.90716262]\n",
            " [0.73086532 0.45114822 0.98060854 0.86609191 0.45129572 0.61319608\n",
            "  0.35388002 0.45882791 0.59296031 0.75397695 0.62721043 0.64950492\n",
            "  0.56270835 0.5605494  0.75499175 0.68488581 0.23838355 0.26441882\n",
            "  0.59446422 0.76854103 0.08746896 0.87361983 0.988058   0.94730095\n",
            "  0.60129415 0.63030076 0.69868892 0.3376348  0.38870142 0.55856705\n",
            "  0.359658   0.49275284 0.17323956 0.06883577 0.35359696 0.77781592\n",
            "  0.2884893  0.44566096 0.87536058 0.78459894 0.16823953 0.95558064\n",
            "  0.31206271 0.57451342 0.23003427 0.99321524 0.66131873 0.74725133\n",
            "  0.80882144 0.911341   0.11644635 0.64026731 0.6613935  0.50043237\n",
            "  0.51747242 0.93620706 1.07073049 0.88247437 0.43192673 0.64766348\n",
            "  0.71483155 0.41853644 0.69681782 0.915432   0.76799208 0.24697368\n",
            "  0.97332984 0.16611222 0.         0.86584228 0.77656805 1.04722339\n",
            "  0.34755237 0.87601441 0.62391572 0.24658479 0.68253016 0.81677351\n",
            "  0.77635205 0.49531614 0.70789488 0.95522078 0.53375795 0.76214141\n",
            "  0.69080125 0.81216844 0.44565834 0.42431846 0.29196138 0.71263147\n",
            "  0.4638394  0.11428912 1.10631773 0.38725797 0.85147429 0.56769417\n",
            "  0.61461035 0.25602115 0.33433924 0.82227598]\n",
            " [0.57798094 0.57556134 0.35154697 0.06121827 0.42657688 0.28142896\n",
            "  0.73961051 0.43353124 0.57595638 0.59339237 0.5089003  0.76925544\n",
            "  0.41998444 0.45956943 0.2725881  0.80306094 0.67705256 0.70243834\n",
            "  0.3568713  0.26999148 0.8220906  0.13404176 0.15932708 0.23099046\n",
            "  0.28582535 0.39668206 0.57197356 0.54317676 0.51479029 0.5353091\n",
            "  0.60485381 0.39510235 0.78770269 0.92734746 0.65907435 0.48675464\n",
            "  0.69658248 0.88391444 0.07926455 0.91575154 0.72954013 0.13464465\n",
            "  0.62853369 0.4664273  0.76123184 0.46987374 0.20455308 0.93310058\n",
            "  0.98777764 0.08632878 0.98114846 0.2558705  0.30516285 0.38087863\n",
            "  0.49628305 0.53928845 0.33367285 0.01797885 0.65474169 0.67859335\n",
            "  0.19049945 0.61191145 0.89046257 0.34842964 0.54995995 0.64389549\n",
            "  0.3369968  0.79181016 0.86584228 0.         0.34864083 0.24683442\n",
            "  0.52657845 0.17808579 0.81388283 0.62703799 0.55763914 0.93001262\n",
            "  0.19949934 0.37395601 0.47011065 0.37764523 0.50756429 0.12883924\n",
            "  0.57133384 0.78238072 0.44410987 0.85608477 0.59161593 0.29963125\n",
            "  0.40200738 0.98010834 0.45708549 0.48504739 0.88344268 0.56903603\n",
            "  0.34033717 0.72259454 0.73742762 0.81127779]\n",
            " [0.81184088 0.3540136  0.69153939 0.29407444 0.35789606 0.42976481\n",
            "  0.80362411 0.33471425 0.75365016 0.83375121 0.70575485 0.94684791\n",
            "  0.57629958 0.22305401 0.08299451 0.98760403 0.5422135  0.53777687\n",
            "  0.19198096 0.08068914 0.76801304 0.23452293 0.50103013 0.57620591\n",
            "  0.25106944 0.59484635 0.79421687 0.54697919 0.39030323 0.69807071\n",
            "  0.66205808 0.46910112 0.77074869 0.82127208 0.7211166  0.74923912\n",
            "  0.5209345  0.9676588  0.42314576 1.11265642 0.61083166 0.4810928\n",
            "  0.47162904 0.63577943 0.594735   0.79917248 0.31328248 1.11428307\n",
            "  1.17760643 0.3084658  0.87724083 0.22333575 0.51427078 0.44970583\n",
            "  0.63423221 0.8454044  0.68204238 0.36238466 0.75567163 0.86845707\n",
            "  0.41760551 0.70453055 1.06321407 0.67407803 0.80105182 0.52972742\n",
            "  0.67712021 0.64710532 0.77656805 0.34864083 0.         0.59010153\n",
            "  0.52293244 0.19905571 0.97510138 0.59483932 0.77496083 1.13437824\n",
            "  0.15197808 0.41235099 0.70602599 0.70963309 0.26333342 0.38697312\n",
            "  0.79054017 1.012954   0.49895945 0.93640458 0.58458135 0.08972969\n",
            "  0.39721425 0.88151647 0.8043394  0.41782982 1.10783446 0.73556238\n",
            "  0.17550491 0.55491696 0.79285091 1.03994975]\n",
            " [0.56802782 0.81224994 0.20018464 0.29622967 0.63901577 0.43405118\n",
            "  0.84958584 0.65359569 0.62281213 0.57336063 0.55104685 0.78992224\n",
            "  0.51914796 0.70268486 0.51765812 0.81397584 0.88655272 0.91991938\n",
            "  0.59808682 0.51387154 0.99006724 0.35902685 0.08907602 0.11808856\n",
            "  0.51502224 0.46691311 0.57590253 0.71044685 0.73316891 0.60257895\n",
            "  0.73496834 0.55472469 0.93980532 1.11303111 0.77925132 0.45985436\n",
            "  0.91753721 0.96790364 0.19040342 0.90543477 0.93030984 0.11272679\n",
            "  0.8476688  0.54304928 0.97662572 0.32608577 0.41407555 0.9360839\n",
            "  0.97904306 0.28628706 1.16363184 0.49160672 0.39947474 0.54686753\n",
            "  0.59117098 0.43395088 0.10671009 0.23072927 0.74997927 0.69866977\n",
            "  0.3332923  0.71870326 0.90427762 0.24703073 0.52461921 0.84864856\n",
            "  0.19005583 0.99861403 1.04722339 0.24683442 0.59010153 0.\n",
            "  0.699681   0.40071024 0.84444257 0.80086504 0.56941297 0.91146563\n",
            "  0.44488577 0.55647742 0.48026837 0.2474678  0.74995384 0.29431415\n",
            "  0.57862027 0.74938932 0.60277885 0.94464946 0.75774436 0.54635818\n",
            "  0.5965454  1.16028174 0.24752414 0.68907274 0.84821385 0.6268736\n",
            "  0.5829996  0.9400435  0.85302661 0.77760471]\n",
            " [0.47163419 0.33218511 0.64294871 0.53499366 0.16668947 0.26564381\n",
            "  0.28491122 0.19613543 0.34901334 0.49747601 0.34871854 0.49787204\n",
            "  0.24170132 0.35934873 0.47443749 0.54074739 0.23441822 0.28890843\n",
            "  0.3323069  0.48739847 0.29586625 0.55526216 0.64144666 0.60106815\n",
            "  0.29257159 0.30873059 0.44115215 0.02434437 0.18803511 0.29473854\n",
            "  0.15221937 0.14571505 0.26563414 0.41358006 0.20674938 0.48226822\n",
            "  0.30134117 0.44968542 0.52962244 0.66561312 0.24996867 0.60899203\n",
            "  0.24380789 0.27580843 0.32836617 0.67271544 0.32469331 0.65077038\n",
            "  0.71770814 0.58132506 0.46398004 0.331691   0.32002302 0.1529036\n",
            "  0.22914989 0.63765342 0.72598151 0.5423808  0.26319802 0.44823239\n",
            "  0.36744438 0.21496715 0.59597103 0.58122611 0.49379162 0.18983418\n",
            "  0.63443682 0.3248982  0.34755237 0.52657845 0.52293244 0.699681\n",
            "  0.         0.5669597  0.50570385 0.10177362 0.42089394 0.69369484\n",
            "  0.47321454 0.15268055 0.41154784 0.62267725 0.3636952  0.41641449\n",
            "  0.43395423 0.62161631 0.10110989 0.41824278 0.06693142 0.440136\n",
            "  0.13537738 0.46089423 0.77199161 0.11874688 0.69490002 0.32219257\n",
            "  0.34751463 0.30488829 0.27213133 0.64175959]\n",
            " [0.72973874 0.50759484 0.52903951 0.11687681 0.42559456 0.37905028\n",
            "  0.82108166 0.41770807 0.70448991 0.74787675 0.64388125 0.90161576\n",
            "  0.53288229 0.37626491 0.14796927 0.93874599 0.65861998 0.66944359\n",
            "  0.2945412  0.13796017 0.84884908 0.04423075 0.31268191 0.40721092\n",
            "  0.27754078 0.528129   0.71905562 0.58822748 0.49318901 0.6560436\n",
            "  0.67887069 0.46514803 0.83181839 0.93022898 0.73731368 0.64769259\n",
            "  0.65763437 0.9774423  0.25732624 1.05762563 0.72117502 0.29776519\n",
            "  0.59677542 0.58763285 0.72902145 0.64791681 0.26300093 1.06897349\n",
            "  1.12757507 0.11443058 0.98607944 0.23784798 0.436706   0.44691713\n",
            "  0.60414312 0.71408236 0.49893981 0.18643661 0.75101601 0.81451443\n",
            "  0.32074685 0.70297552 1.02246986 0.52592353 0.7077632  0.63471668\n",
            "  0.51450885 0.77181125 0.87601441 0.17808579 0.19905571 0.40071024\n",
            "  0.5669597  0.         0.94010818 0.6583174  0.70244454 1.07488142\n",
            "  0.10027319 0.42324104 0.62046145 0.55571814 0.42393651 0.2684729\n",
            "  0.71718482 0.93560059 0.50835417 0.94757213 0.63376174 0.19079632\n",
            "  0.43166092 0.98773212 0.62955708 0.49036316 1.03534929 0.69248393\n",
            "  0.27390374 0.68865666 0.81482365 0.96408947]\n",
            " [0.2838928  0.83718877 0.67580629 0.85581285 0.6548547  0.5623574\n",
            "  0.27473958 0.68934577 0.23800233 0.28754989 0.30602575 0.05971269\n",
            "  0.40789612 0.85583241 0.90596567 0.06864324 0.69205772 0.75055974\n",
            "  0.80297975 0.91631277 0.5370764  0.90963152 0.83841378 0.7271385\n",
            "  0.72409279 0.41742548 0.26989796 0.48433648 0.69373854 0.28411823\n",
            "  0.35678657 0.50688297 0.45193745 0.68071799 0.31493392 0.39110618\n",
            "  0.77070592 0.2180392  0.76628325 0.16585195 0.66381489 0.81348104\n",
            "  0.73110818 0.35254225 0.76464298 0.60663323 0.68266957 0.14509607\n",
            "  0.21200444 0.89674661 0.69684105 0.75324386 0.50966376 0.52608893\n",
            "  0.34174676 0.49677483 0.8022252  0.82135574 0.24334691 0.14603103\n",
            "  0.62710626 0.29080029 0.09055434 0.60961636 0.33320181 0.65477111\n",
            "  0.67815816 0.7264288  0.62391572 0.81388283 0.97510138 0.84444257\n",
            "  0.50570385 0.94010818 0.         0.50884558 0.27504295 0.19695074\n",
            "  0.87336168 0.56571613 0.36471751 0.62932064 0.86660756 0.68722041\n",
            "  0.2664404  0.21493633 0.48415826 0.22120355 0.47734178 0.88546186\n",
            "  0.59218727 0.6840737  0.75502378 0.62213015 0.22885897 0.2476754\n",
            "  0.81204917 0.75946903 0.2950541  0.2141086 ]\n",
            " [0.5292819  0.34607413 0.73766859 0.63318724 0.2394617  0.36699512\n",
            "  0.25205713 0.26012791 0.39647713 0.5544409  0.41237987 0.51296205\n",
            "  0.32527119 0.40704587 0.55516239 0.55454548 0.18475093 0.24357819\n",
            "  0.40302761 0.56850485 0.19510633 0.64957364 0.74321093 0.7008264\n",
            "  0.38106379 0.39352845 0.49742415 0.09125609 0.21974241 0.34949684\n",
            "  0.16133384 0.24621713 0.17651501 0.3134688  0.19391194 0.55619137\n",
            "  0.26250803 0.40923142 0.63136819 0.67396617 0.1736377  0.7107587\n",
            "  0.22417389 0.3477704  0.26745656 0.75922331 0.42394733 0.65112089\n",
            "  0.71787747 0.67931167 0.36286728 0.42075325 0.41629256 0.25445709\n",
            "  0.29394803 0.71424809 0.82473863 0.643064   0.27008293 0.48018161\n",
            "  0.46906006 0.23307978 0.59623933 0.67405983 0.55833383 0.1459416\n",
            "  0.72979615 0.24771399 0.24658479 0.62703799 0.59483932 0.80086504\n",
            "  0.10177362 0.6583174  0.50884558 0.         0.47851828 0.70408252\n",
            "  0.56190347 0.25324703 0.48494408 0.7147633  0.39958579 0.5181439\n",
            "  0.48975921 0.65469361 0.19916796 0.37860397 0.04946588 0.51741414\n",
            "  0.2292174  0.35943382 0.86520637 0.17709329 0.71700208 0.36927709\n",
            "  0.42066573 0.25466127 0.23443957 0.67150039]\n",
            " [0.05095236 0.73077875 0.40495029 0.60593222 0.51743554 0.34520782\n",
            "  0.36137796 0.55252224 0.09089581 0.07663467 0.0758898  0.22119297\n",
            "  0.21026761 0.70779622 0.69741634 0.2492003  0.65209706 0.70853703\n",
            "  0.63015124 0.70556703 0.5996264  0.66701964 0.56601045 0.4522386\n",
            "  0.53412321 0.18022093 0.02099448 0.40961075 0.5878379  0.12903157\n",
            "  0.32641536 0.34394781 0.52038488 0.74991166 0.33067524 0.12321993\n",
            "  0.72202924 0.42595105 0.50187723 0.35812    0.65212666 0.54242906\n",
            "  0.66392313 0.15459853 0.74268381 0.35404021 0.46364697 0.37744229\n",
            "  0.43024883 0.6431244  0.78416445 0.55374194 0.26696638 0.35902899\n",
            "  0.19188502 0.26508619 0.5297541  0.5627041  0.25972221 0.12934088\n",
            "  0.38171955 0.26403864 0.33903472 0.33701057 0.08703415 0.60807251\n",
            "  0.40608688 0.72607976 0.68253016 0.55763914 0.77496083 0.56941297\n",
            "  0.42089394 0.70244454 0.27504295 0.47851828 0.         0.37320661\n",
            "  0.65125519 0.40212064 0.09102069 0.36045671 0.73213778 0.43709229\n",
            "  0.01564688 0.23802177 0.34829412 0.40982514 0.43120986 0.68677464\n",
            "  0.44455971 0.77487346 0.49677435 0.51113388 0.33471448 0.11491032\n",
            "  0.63334706 0.72343013 0.374695   0.2653073 ]\n",
            " [0.35376418 1.02585257 0.72192031 0.97908495 0.83410869 0.70822177\n",
            "  0.47117194 0.86931266 0.38080798 0.34225677 0.43256648 0.19613584\n",
            "  0.55808858 1.0345833  1.06034116 0.15317865 0.88798937 0.94662185\n",
            "  0.97283544 1.0695148  0.73067115 1.04002719 0.92383041 0.80016991\n",
            "  0.88599115 0.54792569 0.35808028 0.67356421 0.88103827 0.43733972\n",
            "  0.54870028 0.67472769 0.64628887 0.87110044 0.51040623 0.45598182\n",
            "  0.96641229 0.38709763 0.87110597 0.03225062 0.86073352 0.90361362\n",
            "  0.92485726 0.49869174 0.96152263 0.62389076 0.82916675 0.08215141\n",
            "  0.07368768 1.01581306 0.88323362 0.91105397 0.63830275 0.69309684\n",
            "  0.50462161 0.50357257 0.84869784 0.9343719  0.43552649 0.2659268\n",
            "  0.75443366 0.4797417  0.12149171 0.66494789 0.38994317 0.84998175\n",
            "  0.72806411 0.92325788 0.81677351 0.93001262 1.13437824 0.91146563\n",
            "  0.69369484 1.07488142 0.19695074 0.70408252 0.37320661 0.\n",
            "  1.01938198 0.73501404 0.45999733 0.67270954 1.04923488 0.81029551\n",
            "  0.35901157 0.16414614 0.65966282 0.39979499 0.67051991 1.0448703\n",
            "  0.76727677 0.86987604 0.77058962 0.80730644 0.08220285 0.4001575\n",
            "  0.97971152 0.9558844  0.49148872 0.13807114]\n",
            " [0.68377824 0.41247383 0.53957589 0.15031839 0.32679039 0.312232\n",
            "  0.73570237 0.3177377  0.6421802  0.70408899 0.58688879 0.83894688\n",
            "  0.46606088 0.2837982  0.07309219 0.87784863 0.55838351 0.56990923\n",
            "  0.19574965 0.07152162 0.75084782 0.1105837  0.35614937 0.42456656\n",
            "  0.18107874 0.47213864 0.66935433 0.4952503  0.39291596 0.59016995\n",
            "  0.59263445 0.38221799 0.73663615 0.83013794 0.65172312 0.61227522\n",
            "  0.55860258 0.89509538 0.27183908 1.00000862 0.62092783 0.33372783\n",
            "  0.49697949 0.52364898 0.62955534 0.64828065 0.19106409 1.00710669\n",
            "  1.06797801 0.17650015 0.88602786 0.14160145 0.3848994  0.36323498\n",
            "  0.53278586 0.6988627  0.53298707 0.21451935 0.67189405 0.75518414\n",
            "  0.27777638 0.62244312 0.95847689 0.52332166 0.66787857 0.53450959\n",
            "  0.5251507  0.67170326 0.77635205 0.19949934 0.15197808 0.44488577\n",
            "  0.47321454 0.10027319 0.87336168 0.56190347 0.65125519 1.01938198\n",
            "  0.         0.33499703 0.57551664 0.55823789 0.33224945 0.23948928\n",
            "  0.66653956 0.88828641 0.4221644  0.86467613 0.53961631 0.10448924\n",
            "  0.33798123 0.88779835 0.65293898 0.39165117 0.98596952 0.62741277\n",
            "  0.17536273 0.58924353 0.7281716  0.91613199]\n",
            " [0.44820336 0.339107   0.52422169 0.38319721 0.12070379 0.12857264\n",
            "  0.40089678 0.15375263 0.35781137 0.47337217 0.32657182 0.54221479\n",
            "  0.19206183 0.30605753 0.35011439 0.58423163 0.33675481 0.37866842\n",
            "  0.23810398 0.36194144 0.4481882  0.40760269 0.4932951  0.46538787\n",
            "  0.16294959 0.24057471 0.42301872 0.17031606 0.20872348 0.29952331\n",
            "  0.25772861 0.06040453 0.41632048 0.55921571 0.3169416  0.42386898\n",
            "  0.38220913 0.56166901 0.38014438 0.71084039 0.37466409 0.46083188\n",
            "  0.31301032 0.24849125 0.43075297 0.5758652  0.17247055 0.707485\n",
            "  0.772332   0.42962615 0.61151841 0.19779954 0.2094093  0.04321967\n",
            "  0.23052944 0.56537495 0.59300832 0.38986426 0.34376696 0.47145554\n",
            "  0.22349328 0.29287385 0.65505327 0.46953594 0.45490585 0.29587893\n",
            "  0.51388711 0.44499099 0.49531614 0.37395601 0.41235099 0.55647742\n",
            "  0.15268055 0.42324104 0.56571613 0.25324703 0.40212064 0.73501404\n",
            "  0.33499703 0.         0.36023258 0.51213626 0.3304139  0.26702897\n",
            "  0.41739454 0.63179755 0.0880192  0.53092774 0.21838547 0.32364757\n",
            "  0.04966924 0.60946066 0.65564687 0.1428035  0.71903615 0.33580784\n",
            "  0.24637248 0.39798605 0.39317478 0.65630858]\n",
            " [0.10927737 0.69798135 0.32419687 0.5202969  0.48018711 0.28022806\n",
            "  0.41415908 0.51392654 0.15052136 0.12857271 0.08640903 0.31192948\n",
            "  0.17462113 0.65985941 0.62629247 0.34015365 0.6459567  0.69966753\n",
            "  0.57438409 0.63349853 0.62941518 0.58353459 0.47503728 0.36262839\n",
            "  0.47394919 0.12038389 0.10247759 0.40526436 0.56000759 0.15529909\n",
            "  0.34854408 0.30741753 0.55587983 0.77647588 0.36742496 0.07126517\n",
            "  0.71039014 0.5008559  0.41207055 0.44664001 0.65576124 0.45141463\n",
            "  0.64761335 0.13729097 0.7396924  0.29323243 0.39275459 0.46791882\n",
            "  0.51938226 0.55606362 0.8154282  0.48894981 0.19186589 0.31899416\n",
            "  0.19187982 0.22957704 0.44599889 0.47438269 0.3088794  0.21978769\n",
            "  0.30058679 0.29852332 0.43005054 0.25464186 0.09687606 0.60136463\n",
            "  0.32371298 0.73092287 0.70789488 0.47011065 0.70602599 0.48026837\n",
            "  0.41154784 0.62046145 0.36471751 0.48494408 0.09102069 0.45999733\n",
            "  0.57551664 0.36023258 0.         0.2828756  0.68879601 0.35284553\n",
            "  0.10286906 0.31513978 0.32431116 0.48164152 0.43571202 0.6196142\n",
            "  0.40701764 0.80743561 0.42693748 0.48499088 0.41517141 0.16339907\n",
            "  0.57514392 0.71617307 0.42430475 0.34366496]\n",
            " [0.34553033 0.83173922 0.04927962 0.4388635  0.62371025 0.38654927\n",
            "  0.69259309 0.64946442 0.4333414  0.34494226 0.36717084 0.57145612\n",
            "  0.39263303 0.75148383 0.62752972 0.58946467 0.84451915 0.88988548\n",
            "  0.64813416 0.62897383 0.88421849 0.51168022 0.28807926 0.15887745\n",
            "  0.54636385 0.32571171 0.36113199 0.62519839 0.71806288 0.43204371\n",
            "  0.60652328 0.48367323 0.81869141 1.02386626 0.63697234 0.23879858\n",
            "  0.89426501 0.78316776 0.29847876 0.66953827 0.87172262 0.28160795\n",
            "  0.82514045 0.39029676 0.93973445 0.09234768 0.43761916 0.70472889\n",
            "  0.74252322 0.45371399 1.06825025 0.5400697  0.30560038 0.48464717\n",
            "  0.44691156 0.18669619 0.17635374 0.37060673 0.58747044 0.48452018\n",
            "  0.32118618 0.56942219 0.67846109 0.04264104 0.29716423 0.80148806\n",
            "  0.05744373 0.94584756 0.95522078 0.37764523 0.70963309 0.2474678\n",
            "  0.62267725 0.55571814 0.62932064 0.7147633  0.36045671 0.67270954\n",
            "  0.55823789 0.51213626 0.2828756  0.         0.79259778 0.32804569\n",
            "  0.36574436 0.5089655  0.52205684 0.76444575 0.6662419  0.64095547\n",
            "  0.56091951 1.06201643 0.15124103 0.65487296 0.60564465 0.44553192\n",
            "  0.63969564 0.90883928 0.70091109 0.53646208]\n",
            " [0.77859604 0.09095136 0.79050014 0.47369844 0.21675607 0.42277536\n",
            "  0.6427216  0.18122639 0.68170421 0.80378587 0.65637879 0.85331114\n",
            "  0.52241185 0.04862774 0.27694111 0.8962091  0.29537973 0.2801504\n",
            "  0.15197156 0.28847224 0.54124644 0.4426691  0.66557175 0.69730335\n",
            "  0.24688746 0.56844013 0.7530844  0.38683911 0.18086887 0.62324711\n",
            "  0.51590648 0.38825273 0.56329805 0.57082138 0.5690593  0.74943283\n",
            "  0.26109381 0.80533952 0.5608631  1.02263736 0.36552212 0.63769358\n",
            "  0.22171696 0.57787017 0.33466573 0.87049723 0.3564533  1.01157746\n",
            "  1.0782021  0.5069082  0.62592673 0.26077303 0.51830656 0.37326537\n",
            "  0.55268849 0.88114285 0.82112396 0.52515204 0.62601796 0.7920957\n",
            "  0.47145237 0.57645239 0.95714781 0.75117553 0.78444115 0.29457145\n",
            "  0.77752745 0.39077392 0.53375795 0.50756429 0.26333342 0.74995384\n",
            "  0.3636952  0.42393651 0.86660756 0.39958579 0.73213778 1.04923488\n",
            "  0.33224945 0.3304139  0.68879601 0.79259778 0.         0.47572629\n",
            "  0.74729759 0.95829228 0.39188102 0.77416317 0.4082148  0.23317207\n",
            "  0.28812873 0.63172828 0.91836815 0.24523877 1.04141172 0.65759424\n",
            "  0.16727995 0.29578805 0.62745368 0.98168593]\n",
            " [0.46203018 0.52771946 0.31821695 0.16942811 0.34483797 0.15778959\n",
            "  0.61311225 0.3606853  0.44923737 0.47965966 0.38376904 0.64410627\n",
            "  0.29115964 0.43152951 0.30401119 0.67908375 0.59244231 0.62572208\n",
            "  0.32612269 0.3072607  0.7117043  0.23070182 0.22636523 0.22238342\n",
            "  0.23039229 0.26983453 0.45280686 0.43044737 0.43943742 0.40707247\n",
            "  0.48092166 0.27699712 0.67104492 0.82624467 0.53366608 0.37965736\n",
            "  0.62376911 0.75549986 0.11326027 0.7945213  0.63776634 0.19393613\n",
            "  0.55375024 0.33805017 0.68231411 0.41477511 0.12278425 0.80942059\n",
            "  0.86572046 0.20954119 0.87843504 0.21631412 0.17758872 0.26517933\n",
            "  0.36752148 0.45941751 0.34880074 0.13961052 0.52646613 0.55440555\n",
            "  0.06166426 0.48441756 0.76543622 0.28992417 0.43929246 0.55507876\n",
            "  0.30459838 0.70500008 0.76214141 0.12883924 0.38697312 0.29431415\n",
            "  0.41641449 0.2684729  0.68722041 0.5181439  0.43709229 0.81029551\n",
            "  0.23948928 0.26702897 0.35284553 0.32804569 0.47572629 0.\n",
            "  0.45142761 0.66782896 0.32650696 0.72788514 0.47886653 0.3136761\n",
            "  0.30383911 0.87616736 0.44342528 0.39516558 0.76801658 0.44127898\n",
            "  0.31540939 0.64582783 0.6117224  0.69644448]\n",
            " [0.04014033 0.74534789 0.41100848 0.62007942 0.5323984  0.36079714\n",
            "  0.36551636 0.56753032 0.09789269 0.0646923  0.09092261 0.21131818\n",
            "  0.22564624 0.72315495 0.71292577 0.2376742  0.66445859 0.72112164\n",
            "  0.64574072 0.72104299 0.60733279 0.68154939 0.5770673  0.46183885\n",
            "  0.54976804 0.19575724 0.0078878  0.42221582 0.6021636  0.14068822\n",
            "  0.3361639  0.35906516 0.52730747 0.75790967 0.33809655 0.12718003\n",
            "  0.73487716 0.42401775 0.51470853 0.34449585 0.66339685 0.55392307\n",
            "  0.67725905 0.16956273 0.75461467 0.3554116  0.47911841 0.36505342\n",
            "  0.41692062 0.65696048 0.79136751 0.56937197 0.28207642 0.37427495\n",
            "  0.20527039 0.26241261 0.53656978 0.57616171 0.26530997 0.12041022\n",
            "  0.39643839 0.27232039 0.32780969 0.34378017 0.08305518 0.62054564\n",
            "  0.4126526  0.73711805 0.69080125 0.57133384 0.79054017 0.57862027\n",
            "  0.43395423 0.71718482 0.2664404  0.48975921 0.01564688 0.35901157\n",
            "  0.66653956 0.41739454 0.10286906 0.36574436 0.74729759 0.45142761\n",
            "  0.         0.22247906 0.36270188 0.40891129 0.44279971 0.70238279\n",
            "  0.45960069 0.78187087 0.49965046 0.5254172  0.31946088 0.12336389\n",
            "  0.64897149 0.73583565 0.3794443  0.24984867]\n",
            " [0.20586362 0.94754134 0.55821738 0.83438416 0.74163862 0.58318942\n",
            "  0.45874225 0.77714838 0.27698997 0.18898924 0.30886997 0.16859908\n",
            "  0.44314822 0.93751165 0.93539313 0.14660956 0.83834369 0.89690971\n",
            "  0.86477947 0.94346054 0.72475777 0.89852668 0.76539318 0.63973884\n",
            "  0.7707958  0.41823483 0.21914102 0.6051299  0.80220775 0.33521699\n",
            "  0.49336774 0.57193603 0.63913396 0.87365794 0.47087837 0.29922603\n",
            "  0.91389768 0.43265506 0.71933879 0.16532809 0.82350922 0.74659407\n",
            "  0.86344759 0.38428932 0.9213647  0.46014786 0.70153794 0.21055969\n",
            "  0.23581769 0.86867078 0.89574243 0.79141687 0.50340624 0.58863887\n",
            "  0.40582098 0.34011095 0.68476565 0.78529342 0.38957057 0.17475132\n",
            "  0.61547479 0.42161949 0.20597694 0.50246118 0.23375025 0.79668904\n",
            "  0.56464383 0.89264819 0.81216844 0.78238072 1.012954   0.74938932\n",
            "  0.62161631 0.93560059 0.21493633 0.65469361 0.23802177 0.16414614\n",
            "  0.88828641 0.63179755 0.31513978 0.5089655  0.95829228 0.66782896\n",
            "  0.22247906 0.         0.56725116 0.43351588 0.61356868 0.92465189\n",
            "  0.67050083 0.88382679 0.60747273 0.72581897 0.10136338 0.30216632\n",
            "  0.86899211 0.90906621 0.47796492 0.02899551]\n",
            " [0.397503   0.38282764 0.54186071 0.46029032 0.17525675 0.17060879\n",
            "  0.31356606 0.21074525 0.29029189 0.42335174 0.27289766 0.46473171\n",
            "  0.14997053 0.37495959 0.43803564 0.50733369 0.32760171 0.37838082\n",
            "  0.31950914 0.44991938 0.38771956 0.49035951 0.54834669 0.50166456\n",
            "  0.25075806 0.21373528 0.36921193 0.10802878 0.23958555 0.23206708\n",
            "  0.17068447 0.04951026 0.3446378  0.51261885 0.2295922  0.3933904\n",
            "  0.38747163 0.47371028 0.43869426 0.63415592 0.34975494 0.51605283\n",
            "  0.32345788 0.19503563 0.42286569 0.57421635 0.25086331 0.62750593\n",
            "  0.69317576 0.50669061 0.56178777 0.28580633 0.2189148  0.06363645\n",
            "  0.16150059 0.54533651 0.62575671 0.45879759 0.25671986 0.40026721\n",
            "  0.27334098 0.20557776 0.57422167 0.48044639 0.41280644 0.2833738\n",
            "  0.53332695 0.42418976 0.44565834 0.44410987 0.49895945 0.60277885\n",
            "  0.10110989 0.50835417 0.48415826 0.19916796 0.34829412 0.65966282\n",
            "  0.4221644  0.0880192  0.32431116 0.52205684 0.39188102 0.32650696\n",
            "  0.36270188 0.56725116 0.         0.4430208  0.15496792 0.41077795\n",
            "  0.10814541 0.55793322 0.67106017 0.1630063  0.64954943 0.26579362\n",
            "  0.32981589 0.39587347 0.30656418 0.59015342]\n",
            " [0.4410936  0.72467533 0.80548498 0.885312   0.58448876 0.57763689\n",
            "  0.13338883 0.61434059 0.33112327 0.4549624  0.39935096 0.26595408\n",
            "  0.43869171 0.77545013 0.88001029 0.28933204 0.54399299 0.59905636\n",
            "  0.7485203  0.89217586 0.34163726 0.92550924 0.91864078 0.82744053\n",
            "  0.69279148 0.47958342 0.41539276 0.39392187 0.59334225 0.34218781\n",
            "  0.27459963 0.48294434 0.26288122 0.47412416 0.21534245 0.53239264\n",
            "  0.62209535 0.03144267 0.82672714 0.36763102 0.49995948 0.88947403\n",
            "  0.59826316 0.40317128 0.59956245 0.76385226 0.68521829 0.32557975\n",
            "  0.38519726 0.93037181 0.48366658 0.72867877 0.56017064 0.50165611\n",
            "  0.3620642  0.66868586 0.9246534  0.86749563 0.20143237 0.30990014\n",
            "  0.66651941 0.24561267 0.27831083 0.73559637 0.49050024 0.51499801\n",
            "  0.80428141 0.551093   0.42431846 0.85608477 0.93640458 0.94464946\n",
            "  0.41824278 0.94757213 0.22120355 0.37860397 0.40982514 0.39979499\n",
            "  0.86467613 0.53092774 0.48164152 0.76444575 0.77416317 0.72788514\n",
            "  0.40891129 0.43351588 0.4430208  0.         0.36615011 0.85029276\n",
            "  0.53933101 0.47019415 0.90565136 0.53464216 0.44690369 0.32093749\n",
            "  0.76234302 0.60347035 0.14691262 0.43492552]\n",
            " [0.4820836  0.36434745 0.68983571 0.60135329 0.22670787 0.32499501\n",
            "  0.23456937 0.25266588 0.35083148 0.50741377 0.36400106 0.47708729\n",
            "  0.27602104 0.40981768 0.53893315 0.51929691 0.22507474 0.28343435\n",
            "  0.392923   0.55202391 0.23313052 0.62219041 0.70249554 0.65581934\n",
            "  0.35873331 0.34427827 0.45039926 0.04852118 0.22762911 0.30221926\n",
            "  0.12225388 0.20351512 0.19873497 0.35972562 0.16509797 0.50697157\n",
            "  0.30042814 0.39742166 0.59177063 0.64107718 0.22134989 0.67012035\n",
            "  0.2543642  0.29848146 0.31222973 0.70992223 0.39079192 0.62124701\n",
            "  0.68825351 0.64773163 0.40761801 0.39802678 0.36948026 0.21374447\n",
            "  0.2450709  0.66492437 0.77880074 0.60716457 0.23499416 0.43881761\n",
            "  0.42761658 0.19339842 0.56622205 0.62573461 0.51010203 0.18313492\n",
            "  0.68218922 0.29601814 0.29196138 0.59161593 0.58458135 0.75774436\n",
            "  0.06693142 0.63376174 0.47734178 0.04946588 0.43120986 0.67051991\n",
            "  0.53961631 0.21838547 0.43571202 0.6662419  0.4082148  0.47886653\n",
            "  0.44279971 0.61356868 0.15496792 0.36615011 0.         0.50349095\n",
            "  0.20210467 0.40336094 0.81687716 0.17041814 0.67940386 0.32356745\n",
            "  0.40913419 0.29621873 0.21930374 0.63139722]\n",
            " [0.72451798 0.31804721 0.62706595 0.25414914 0.27816088 0.34166195\n",
            "  0.71798024 0.25918014 0.66409795 0.74680113 0.61692721 0.8571254\n",
            "  0.48684211 0.18574174 0.04484213 0.89790788 0.48425224 0.48804912\n",
            "  0.11820923 0.05770887 0.69713719 0.21212324 0.45816149 0.51716564\n",
            "  0.16160518 0.50689445 0.70621857 0.46386074 0.32394241 0.6083996\n",
            "  0.57570557 0.37979023 0.69391874 0.7616082  0.6349608  0.66508715\n",
            "  0.47413769 0.88144029 0.3671072  1.02303116 0.55054636 0.4342565\n",
            "  0.41756775 0.54637399 0.54694992 0.72843886 0.22778381 1.02455393\n",
            "  1.08788893 0.28072338 0.81776166 0.13386147 0.42834461 0.36036649\n",
            "  0.54450955 0.76747901 0.63084215 0.31565595 0.66732939 0.7789435\n",
            "  0.3372665  0.61630541 0.97350855 0.60350365 0.71525118 0.46628297\n",
            "  0.61290267 0.59421607 0.71263147 0.29963125 0.08972969 0.54635818\n",
            "  0.440136   0.19079632 0.88546186 0.51741414 0.68677464 1.0448703\n",
            "  0.10448924 0.32364757 0.6196142  0.64095547 0.23317207 0.3136761\n",
            "  0.70238279 0.92465189 0.41077795 0.85029276 0.50349095 0.\n",
            "  0.31109397 0.82090479 0.74556696 0.3407425  1.01901783 0.64588383\n",
            "  0.09841284 0.50654632 0.70784813 0.9514776 ]\n",
            " [0.49178166 0.29110334 0.57198927 0.40453438 0.07333903 0.17559671\n",
            "  0.40688695 0.10801356 0.3944407  0.51722385 0.36869712 0.5726756\n",
            "  0.2359674  0.26799885 0.3425728  0.61520001 0.29177516 0.33137731\n",
            "  0.21286473 0.35520799 0.42348847 0.42088418 0.52982065 0.5093058\n",
            "  0.15785895 0.2881457  0.46554026 0.15728674 0.15905469 0.3359089\n",
            "  0.26485739 0.10083905 0.4003407  0.52568174 0.3239928  0.47176911\n",
            "  0.33397797 0.57053723 0.41580104 0.74203124 0.33398451 0.49749804\n",
            "  0.26440278 0.29004704 0.3847118  0.62540613 0.19748131 0.73564618\n",
            "  0.80131658 0.45048384 0.57920951 0.19660897 0.2589793  0.08804498\n",
            "  0.26559489 0.61462227 0.63740429 0.4186921  0.36150925 0.50633681\n",
            "  0.26555088 0.31018354 0.68231614 0.51829223 0.50074772 0.25239351\n",
            "  0.56139257 0.40227186 0.4638394  0.40200738 0.39721425 0.5965454\n",
            "  0.13537738 0.43166092 0.59218727 0.2292174  0.44455971 0.76727677\n",
            "  0.33798123 0.04966924 0.40701764 0.56091951 0.28812873 0.30383911\n",
            "  0.45960069 0.67050083 0.10814541 0.53933101 0.20210467 0.31109397\n",
            "  0.         0.57810129 0.70350964 0.09516414 0.75521339 0.37101955\n",
            "  0.22459082 0.3509285  0.39690261 0.6942458 ]\n",
            " [0.82153902 0.54528878 1.08898009 0.97995322 0.56406887 0.72641716\n",
            "  0.4278133  0.570062   0.68420629 0.84350928 0.72450432 0.71704257\n",
            "  0.66952591 0.66219119 0.8638885  0.7488572  0.3394142  0.35372035\n",
            "  0.70305509 0.87740152 0.17840514 0.98635733 1.10193979 1.05917649\n",
            "  0.71417321 0.73636646 0.78971973 0.44998306 0.4974205  0.65496748\n",
            "  0.45949483 0.60557363 0.25456414 0.06094826 0.4443004  0.87617708\n",
            "  0.37571117 0.48563204 0.98940878 0.83767212 0.27084562 1.06946529\n",
            "  0.41141287 0.67698553 0.30739576 1.09627269 0.775575   0.79536349\n",
            "  0.85294801 1.02508142 0.01488766 0.752922   0.77190157 0.61378384\n",
            "  0.6195931  1.03361483 1.18172739 0.99675419 0.51783528 0.72698166\n",
            "  0.82833453 0.51205695 0.748435   1.0228785  0.86143936 0.35478476\n",
            "  1.0821417  0.24454012 0.11428912 0.98010834 0.88151647 1.16028174\n",
            "  0.46089423 0.98773212 0.6840737  0.35943382 0.77487346 0.86987604\n",
            "  0.88779835 0.60946066 0.80743561 1.06201643 0.63172828 0.87616736\n",
            "  0.78187087 0.88382679 0.55793322 0.47019415 0.40336094 0.82090479\n",
            "  0.57810129 0.         1.2132546  0.50044997 0.91288238 0.66020448\n",
            "  0.72344524 0.34109887 0.41003861 0.89100354]\n",
            " [0.47349758 0.96468387 0.13155165 0.51571483 0.76293256 0.52794998\n",
            "  0.84009863 0.78644193 0.57592294 0.46750913 0.51282557 0.69574202\n",
            "  0.54383138 0.87479799 0.72530754 0.70808271 0.99065977 1.03430446\n",
            "  0.76952746 0.72441385 1.03545473 0.58575261 0.32373876 0.22859175\n",
            "  0.6717256  0.47694793 0.49403382 0.77525947 0.85832533 0.57954263\n",
            "  0.75747748 0.63109684 0.96958602 1.17492811 0.78682312 0.37360765\n",
            "  1.03748687 0.92264004 0.38119835 0.77248521 1.02020297 0.33264543\n",
            "  0.96779274 0.54069446 1.08552883 0.14919959 0.56219375 0.81352339\n",
            "  0.84315982 0.51784334 1.2194667  0.65973939 0.45295626 0.63079097\n",
            "  0.59757025 0.26744909 0.14100404 0.44522519 0.73476297 0.61398983\n",
            "  0.45083028 0.71886702 0.79405665 0.19114962 0.42318547 0.94816473\n",
            "  0.14279575 1.09389311 1.10631773 0.45708549 0.8043394  0.24752414\n",
            "  0.77199161 0.62955708 0.75502378 0.86520637 0.49677435 0.77058962\n",
            "  0.65293898 0.65564687 0.42693748 0.15124103 0.91836815 0.44342528\n",
            "  0.49965046 0.60747273 0.67106017 0.90565136 0.81687716 0.74556696\n",
            "  0.70350964 1.2132546  0.         0.79831636 0.69633941 0.59032685\n",
            "  0.75868169 1.05355765 0.84917399 0.63253781]\n",
            " [0.56048787 0.2217244  0.66683873 0.4803421  0.06486515 0.27058928\n",
            "  0.40173779 0.08327217 0.44934973 0.58634568 0.43586746 0.61117098\n",
            "  0.31049815 0.241122   0.3793961  0.65412831 0.19761668 0.23624108\n",
            "  0.22594804 0.39283829 0.35954181 0.48646982 0.61982203 0.60399029\n",
            "  0.21413861 0.36979456 0.53201626 0.14236747 0.07681622 0.3920326\n",
            "  0.27089825 0.18012854 0.3534005  0.44509511 0.32520697 0.55261995\n",
            "  0.23941202 0.56604621 0.50557735 0.7799718  0.2446642  0.58772238\n",
            "  0.17044419 0.35801808 0.28973757 0.71724676 0.28204899 0.76720551\n",
            "  0.83398784 0.52505569 0.50006624 0.25334008 0.35109464 0.17348446\n",
            "  0.32216989 0.70047524 0.73220362 0.50232805 0.38083852 0.55523747\n",
            "  0.35986624 0.33154411 0.71260503 0.61228754 0.57523496 0.16014815\n",
            "  0.65635603 0.30990659 0.38725797 0.48504739 0.41782982 0.68907274\n",
            "  0.11874688 0.49036316 0.62213015 0.17709329 0.51113388 0.80730644\n",
            "  0.39165117 0.1428035  0.48499088 0.65487296 0.24523877 0.39516558\n",
            "  0.5254172  0.72581897 0.1630063  0.53464216 0.17041814 0.3407425\n",
            "  0.09516414 0.50044997 0.79831636 0.         0.80403488 0.4236901\n",
            "  0.2436185  0.25576644 0.38785017 0.74758862]\n",
            " [0.30607261 1.02506637 0.65491541 0.93507594 0.82478749 0.6784493\n",
            "  0.49926477 0.86029014 0.36125358 0.29011627 0.40209738 0.20554714\n",
            "  0.53408847 1.02315825 1.03130831 0.16697254 0.90174952 0.96057563\n",
            "  0.95464733 1.03972789 0.76430107 0.99869956 0.86607899 0.73975633\n",
            "  0.86312211 0.51440224 0.31689929 0.67655466 0.87951575 0.41967749\n",
            "  0.55730023 0.65871748 0.67875578 0.90921529 0.52631995 0.40052817\n",
            "  0.97902398 0.43887344 0.8206879  0.10070561 0.88049374 0.84761157\n",
            "  0.93276589 0.4745641  0.98026201 0.5514112  0.79792489 0.1558631\n",
            "  0.15479555 0.9697055  0.92568518 0.88535977 0.60148924 0.67619186\n",
            "  0.48965688 0.43080715 0.7805275  0.88649875 0.44712378 0.24934139\n",
            "  0.71484263 0.48604927 0.17817175 0.60118694 0.33511169 0.86174287\n",
            "  0.66196498 0.94646043 0.85147429 0.88344268 1.10783446 0.84821385\n",
            "  0.69490002 1.03534929 0.22885897 0.71700208 0.33471448 0.08220285\n",
            "  0.98596952 0.71903615 0.41517141 0.60564465 1.04141172 0.76801658\n",
            "  0.31946088 0.10136338 0.64954943 0.44690369 0.67940386 1.01901783\n",
            "  0.75521339 0.91288238 0.69633941 0.80403488 0.         0.38419588\n",
            "  0.95987917 0.97131788 0.51938571 0.07236796]\n",
            " [0.16350386 0.64541351 0.48523774 0.60906114 0.44085579 0.31549281\n",
            "  0.2523933  0.47638115 0.02726842 0.18745547 0.07859905 0.21191809\n",
            "  0.16137373 0.63898409 0.66339442 0.25208632 0.54751343 0.605075\n",
            "  0.57304488 0.67317564 0.48472436 0.66200659 0.60801805 0.50901194\n",
            "  0.48614911 0.17297205 0.13124145 0.30771368 0.50016558 0.03752177\n",
            "  0.21322202 0.27540403 0.40583138 0.63501304 0.21591289 0.22332727\n",
            "  0.62015614 0.34219827 0.52633107 0.37732609 0.54267764 0.58067966\n",
            "  0.56575474 0.10486858 0.63577593 0.45453086 0.43638266 0.38004537\n",
            "  0.44228836 0.6507095  0.66938983 0.51234141 0.26389103 0.29341836\n",
            "  0.10554501 0.37606694 0.60371694 0.57745598 0.14800629 0.13566033\n",
            "  0.38054447 0.1491626  0.33109314 0.41520415 0.20123544 0.50424414\n",
            "  0.48363234 0.61577592 0.56769417 0.56903603 0.73556238 0.6268736\n",
            "  0.32219257 0.69248393 0.2476754  0.36927709 0.11491032 0.4001575\n",
            "  0.62741277 0.33580784 0.16339907 0.44553192 0.65759424 0.44127898\n",
            "  0.12336389 0.30216632 0.26579362 0.32093749 0.32356745 0.64588383\n",
            "  0.37101955 0.66020448 0.59032685 0.4236901  0.38419588 0.\n",
            "  0.57960925 0.61892093 0.26396184 0.32448261]\n",
            " [0.67502186 0.23948829 0.63327355 0.30841782 0.18253052 0.29567309\n",
            "  0.62926379 0.16127737 0.60009943 0.6987338  0.56022037 0.78807581\n",
            "  0.42605884 0.11968526 0.14045785 0.82984525 0.38827566 0.39584795\n",
            "  0.02077831 0.15398713 0.598813   0.28487091 0.49831571 0.53444964\n",
            "  0.10162831 0.45709876 0.65362076 0.37161306 0.2260924  0.54261504\n",
            "  0.48858574 0.30585884 0.5970177  0.66443867 0.54732244 0.62803523\n",
            "  0.38373339 0.79367724 0.39453474 0.9561999  0.45356546 0.47059685\n",
            "  0.3237649  0.48540356 0.45532255 0.72201117 0.2031992  0.9537889\n",
            "  1.018467   0.34413746 0.72057866 0.0996558  0.38971453 0.28704402\n",
            "  0.47531388 0.74574222 0.65640262 0.35796695 0.58572537 0.71475628\n",
            "  0.32072429 0.53440385 0.90142502 0.59949284 0.67199421 0.36866956\n",
            "  0.61981209 0.49981603 0.61461035 0.34033717 0.17550491 0.5829996\n",
            "  0.34751463 0.27390374 0.81204917 0.42066573 0.63334706 0.97971152\n",
            "  0.17536273 0.24637248 0.57514392 0.63969564 0.16727995 0.31540939\n",
            "  0.64897149 0.86899211 0.32981589 0.76234302 0.40913419 0.09841284\n",
            "  0.22459082 0.72344524 0.75868169 0.2436185  0.95987917 0.57960925\n",
            "  0.         0.41492253 0.61805705 0.89473531]\n",
            " [0.77436367 0.20643068 0.9221829  0.70690525 0.30102857 0.52624715\n",
            "  0.49147104 0.28922947 0.6461761  0.80003719 0.65276184 0.76674504\n",
            "  0.54432175 0.33192086 0.55121827 0.80791241 0.07142791 0.02019342\n",
            "  0.3942065  0.56425403 0.29256137 0.69645566 0.86676333 0.85885972\n",
            "  0.43738302 0.60954108 0.74325165 0.31394874 0.20810882 0.59531236\n",
            "  0.4157881  0.4270405  0.34762864 0.28040928 0.44598553 0.78663746\n",
            "  0.03494004 0.63141285 0.75304182 0.92523527 0.1053517  0.83524895\n",
            "  0.09416271 0.58069386 0.04043035 0.9676232  0.52713262 0.89923594\n",
            "  0.96535583 0.7481712  0.3338235  0.47100049 0.60361833 0.42440279\n",
            "  0.53276611 0.94073282 0.98721214 0.7404379  0.52419706 0.73440651\n",
            "  0.61451253 0.48758573 0.84481989 0.86637394 0.7983539  0.11542527\n",
            "  0.91187045 0.09666822 0.25602115 0.72259454 0.55491696 0.9400435\n",
            "  0.30488829 0.68865666 0.75946903 0.25466127 0.72343013 0.9558844\n",
            "  0.58924353 0.39798605 0.71617307 0.90883928 0.29578805 0.64582783\n",
            "  0.73583565 0.90906621 0.39587347 0.60347035 0.29621873 0.50654632\n",
            "  0.3509285  0.34109887 1.05355765 0.25576644 0.97131788 0.61892093\n",
            "  0.41492253 0.         0.47183065 0.92612293]\n",
            " [0.41793947 0.5798081  0.73657825 0.76101309 0.43873453 0.45602327\n",
            "  0.0203195  0.46799421 0.28439111 0.4382209  0.33791529 0.31569466\n",
            "  0.33427926 0.62855902 0.73918087 0.35241399 0.40802448 0.46511972\n",
            "  0.60364997 0.75164188 0.24687973 0.79573207 0.81657779 0.73893054\n",
            "  0.55270586 0.38826534 0.38710237 0.24778707 0.44670878 0.26975411\n",
            "  0.13595519 0.35045248 0.16118127 0.39593561 0.07849381 0.48717176\n",
            "  0.48698719 0.17826062 0.71694161 0.45985473 0.37219591 0.7858746\n",
            "  0.45717534 0.3145307  0.47324135 0.71733787 0.55515479 0.42935247\n",
            "  0.49471471 0.80693791 0.42102736 0.58972611 0.45606622 0.36816731\n",
            "  0.26236834 0.63918435 0.84730079 0.7502881  0.11596903 0.31697794\n",
            "  0.55184669 0.13460316 0.37575511 0.66681767 0.46161593 0.37543446\n",
            "  0.73296535 0.43209474 0.33433924 0.73742762 0.79285091 0.85302661\n",
            "  0.27213133 0.81482365 0.2950541  0.23443957 0.374695   0.49148872\n",
            "  0.7281716  0.39317478 0.42430475 0.70091109 0.62745368 0.6117224\n",
            "  0.3794443  0.47796492 0.30656418 0.14691262 0.21930374 0.70784813\n",
            "  0.39690261 0.41003861 0.84917399 0.38785017 0.51938571 0.26396184\n",
            "  0.61805705 0.47183065 0.         0.48797334]\n",
            " [0.23441839 0.96923143 0.58573477 0.86316477 0.7649421  0.61021818\n",
            "  0.46840311 0.80046959 0.29998242 0.2178905  0.33503256 0.17396178\n",
            "  0.46869965 0.96166833 0.9626974  0.14562325 0.85569032 0.91438242\n",
            "  0.89020769 0.97087422 0.73480709 0.92714631 0.79418392 0.66831737\n",
            "  0.79695797 0.44549011 0.24679241 0.62467512 0.82375208 0.35845099\n",
            "  0.51037453 0.59626048 0.64904719 0.88273412 0.48517613 0.32820218\n",
            "  0.9318224  0.43196451 0.74832879 0.14250092 0.83890746 0.77548617\n",
            "  0.88260182 0.40955653 0.93742478 0.48587098 0.72895401 0.19101598\n",
            "  0.21082136 0.89755998 0.90319357 0.818087   0.53132278 0.61322014\n",
            "  0.42899765 0.36550953 0.7120195  0.8142364  0.40423126 0.19357857\n",
            "  0.64382435 0.43858168 0.1930091  0.53061388 0.26274537 0.81449663\n",
            "  0.59236092 0.90716262 0.82227598 0.81127779 1.03994975 0.77760471\n",
            "  0.64175959 0.96408947 0.2141086  0.67150039 0.2653073  0.13807114\n",
            "  0.91613199 0.65630858 0.34366496 0.53646208 0.98168593 0.69644448\n",
            "  0.24984867 0.02899551 0.59015342 0.43492552 0.63139722 0.9514776\n",
            "  0.6942458  0.89100354 0.63253781 0.74758862 0.07236796 0.32448261\n",
            "  0.89473531 0.92612293 0.48797334 0.        ]]\n"
          ]
        }
      ],
      "source": [
        "import numpy as np\n",
        "points = np.random.rand(100, 2)\n",
        "x_diff = points[:, np.newaxis, 0] - points[:, 0]\n",
        "y_diff = points[:, np.newaxis, 1] - points[:, 1]\n",
        "distances = np.sqrt(x_diff**2 + y_diff**2)\n",
        "print(distances)\n"
      ]
    },
    {
      "cell_type": "markdown",
      "id": "343c5a85",
      "metadata": {
        "id": "343c5a85"
      },
      "source": [
        "#### 53. How to convert a float (32 bits) array into an integer (32 bits) in place?"
      ]
    },
    {
      "cell_type": "code",
      "execution_count": null,
      "id": "fc1b687b",
      "metadata": {
        "id": "fc1b687b",
        "colab": {
          "base_uri": "https://localhost:8080/"
        },
        "outputId": "ead3f746-76f8-4e54-d063-7304de7fe8d3"
      },
      "outputs": [
        {
          "output_type": "stream",
          "name": "stdout",
          "text": [
            "[1.e-45 3.e-45 4.e-45 6.e-45]\n"
          ]
        }
      ],
      "source": [
        "import numpy as np\n",
        "float_array = np.array([1.5, 2.3, 3.7, 4.9], dtype=np.float32)\n",
        "float_array.view(np.int32)[:] = float_array.astype(np.int32)\n",
        "print(float_array)\n"
      ]
    },
    {
      "cell_type": "markdown",
      "id": "a69e1ace",
      "metadata": {
        "id": "a69e1ace"
      },
      "source": [
        "#### 54. How to read the following file? (★★☆)\n",
        "```\n",
        "1, 2, 3, 4, 5\n",
        "6,  ,  , 7, 8\n",
        " ,  , 9,10,11\n",
        "```"
      ]
    },
    {
      "cell_type": "code",
      "execution_count": null,
      "id": "1c7957d4",
      "metadata": {
        "id": "1c7957d4",
        "colab": {
          "base_uri": "https://localhost:8080/"
        },
        "outputId": "97065571-9dd8-4a2f-e5ae-823319fb1df1"
      },
      "outputs": [
        {
          "output_type": "stream",
          "name": "stdout",
          "text": [
            "     0   1   2   3   4\n",
            "0  1.0   2   3   4   5\n",
            "1  6.0           7   8\n",
            "2  NaN       9  10  11\n"
          ]
        }
      ],
      "source": [
        "import pandas as pd\n",
        "from io import StringIO\n",
        "data = \"\"\"1, 2, 3, 4, 5\n",
        "6,  ,  , 7, 8\n",
        " ,  , 9,10,11\"\"\"\n",
        "file_like = StringIO(data)\n",
        "df = pd.read_csv(file_like, header=None, na_values=\" \")\n",
        "print(df)\n"
      ]
    },
    {
      "cell_type": "markdown",
      "id": "c23bd80d",
      "metadata": {
        "id": "c23bd80d"
      },
      "source": [
        "#### 55. What is the equivalent of enumerate for numpy arrays? (★★☆)"
      ]
    },
    {
      "cell_type": "code",
      "execution_count": null,
      "id": "d95d9578",
      "metadata": {
        "id": "d95d9578",
        "colab": {
          "base_uri": "https://localhost:8080/"
        },
        "outputId": "085fdb3d-3cdc-42b0-d6af-041be7e3bdb4"
      },
      "outputs": [
        {
          "output_type": "stream",
          "name": "stdout",
          "text": [
            "Index: (0, 0), Value: 1\n",
            "Index: (0, 1), Value: 2\n",
            "Index: (0, 2), Value: 3\n",
            "Index: (1, 0), Value: 4\n",
            "Index: (1, 1), Value: 5\n",
            "Index: (1, 2), Value: 6\n"
          ]
        }
      ],
      "source": [
        "import numpy as np\n",
        "arr = np.array([[1, 2, 3], [4, 5, 6]])\n",
        "for index, value in np.ndenumerate(arr):\n",
        "    print(f\"Index: {index}, Value: {value}\")\n"
      ]
    },
    {
      "cell_type": "markdown",
      "id": "2153a5ec",
      "metadata": {
        "id": "2153a5ec"
      },
      "source": [
        "#### 56. Generate a generic 2D Gaussian-like array (★★☆)"
      ]
    },
    {
      "cell_type": "code",
      "execution_count": null,
      "id": "61122d1e",
      "metadata": {
        "id": "61122d1e",
        "colab": {
          "base_uri": "https://localhost:8080/",
          "height": 452
        },
        "outputId": "096bcc52-d3e7-4ef3-9e9a-e25da87d3deb"
      },
      "outputs": [
        {
          "output_type": "display_data",
          "data": {
            "text/plain": [
              "<Figure size 640x480 with 2 Axes>"
            ],
            "image/png": "[encoded data removed]"
          },
          "metadata": {}
        }
      ],
      "source": [
        "import numpy as np\n",
        "import matplotlib.pyplot as plt\n",
        "size = 100\n",
        "sigma = 10\n",
        "mu = 0\n",
        "x = np.linspace(-size//2, size//2, size)\n",
        "y = np.linspace(-size//2, size//2, size)\n",
        "X, Y = np.meshgrid(x, y)\n",
        "Z = (1 / (2 * np.pi * sigma**2)) * np.exp(-(X**2 + Y**2) / (2 * sigma**2))\n",
        "plt.imshow(Z, cmap='hot', interpolation='nearest')\n",
        "plt.colorbar()\n",
        "plt.title('2D Gaussian-like Array')\n",
        "plt.show()\n"
      ]
    },
    {
      "cell_type": "markdown",
      "id": "2e76d589",
      "metadata": {
        "id": "2e76d589"
      },
      "source": [
        "#### 57. How to randomly place p elements in a 2D array? (★★☆)"
      ]
    },
    {
      "cell_type": "code",
      "execution_count": null,
      "id": "0c2e4fcc",
      "metadata": {
        "id": "0c2e4fcc",
        "colab": {
          "base_uri": "https://localhost:8080/"
        },
        "outputId": "3a8d25d4-e6c0-403f-a3aa-7e514a7e1ec2"
      },
      "outputs": [
        {
          "output_type": "stream",
          "name": "stdout",
          "text": [
            "[[0 0 0 1 0]\n",
            " [0 0 1 0 0]\n",
            " [0 0 1 1 0]\n",
            " [0 1 0 0 0]\n",
            " [0 0 0 0 0]]\n"
          ]
        }
      ],
      "source": [
        "import numpy as np\n",
        "rows, cols = 5, 5\n",
        "p = 5\n",
        "array = np.zeros((rows, cols), dtype=int)\n",
        "\n",
        "random_indices = np.random.randint(0, rows, size=(p, 2))\n",
        "\n",
        "\n",
        "for index in random_indices:\n",
        "    row, col = index\n",
        "    array[row, col] = 1\n",
        "print(array)\n"
      ]
    },
    {
      "cell_type": "markdown",
      "id": "8b3933eb",
      "metadata": {
        "id": "8b3933eb"
      },
      "source": [
        "#### 58. Subtract the mean of each row of a matrix (★★☆)"
      ]
    },
    {
      "cell_type": "code",
      "execution_count": null,
      "id": "a306c9ef",
      "metadata": {
        "id": "a306c9ef",
        "colab": {
          "base_uri": "https://localhost:8080/"
        },
        "outputId": "b3f46791-870f-47f2-a47d-d6f9f07e089a"
      },
      "outputs": [
        {
          "output_type": "stream",
          "name": "stdout",
          "text": [
            "[[-1.  0.  1.]\n",
            " [-1.  0.  1.]\n",
            " [-1.  0.  1.]\n",
            " [-1.  0.  1.]]\n"
          ]
        }
      ],
      "source": [
        "\n",
        "import numpy as np\n",
        "matrix = np.array([[1, 2, 3],\n",
        "                   [4, 5, 6],\n",
        "                   [7, 8, 9],\n",
        "                   [10, 11, 12]])\n",
        "row_means = np.mean(matrix, axis=1, keepdims=True)\n",
        "matrix_centered = matrix - row_means\n",
        "print(matrix_centered)\n"
      ]
    },
    {
      "cell_type": "markdown",
      "id": "ea8807c0",
      "metadata": {
        "id": "ea8807c0"
      },
      "source": [
        "#### 59. How to sort an array by the nth column? (★★☆)"
      ]
    },
    {
      "cell_type": "code",
      "execution_count": null,
      "id": "cc89a699",
      "metadata": {
        "id": "cc89a699",
        "colab": {
          "base_uri": "https://localhost:8080/"
        },
        "outputId": "a89a058a-4ab2-487d-f28a-d7b2ea018a63"
      },
      "outputs": [
        {
          "output_type": "stream",
          "name": "stdout",
          "text": [
            "[[ 1  2  3]\n",
            " [ 4  5  6]\n",
            " [ 7  8  9]\n",
            " [10 11 12]]\n"
          ]
        }
      ],
      "source": [
        "import numpy as np\n",
        "array = np.array([[1, 2, 3],\n",
        "                  [4, 5, 6],\n",
        "                  [7, 8, 9],\n",
        "                  [10, 11, 12]])\n",
        "n = 1\n",
        "sorted_array = array[array[:, n].argsort()]\n",
        "print(sorted_array)\n"
      ]
    },
    {
      "cell_type": "markdown",
      "id": "00fa00a1",
      "metadata": {
        "id": "00fa00a1"
      },
      "source": [
        "#### 60. How to tell if a given 2D array has null columns? (★★☆)"
      ]
    },
    {
      "cell_type": "code",
      "execution_count": null,
      "id": "3436e165",
      "metadata": {
        "id": "3436e165",
        "colab": {
          "base_uri": "https://localhost:8080/"
        },
        "outputId": "3d6c68fa-d9f6-4287-8bc3-778dd92604ab"
      },
      "outputs": [
        {
          "output_type": "stream",
          "name": "stdout",
          "text": [
            "Columns with NaN values: [False  True  True]\n"
          ]
        }
      ],
      "source": [
        "import numpy as np\n",
        "array = np.array([[1, 2, 3],\n",
        "                  [4, np.nan, 6],\n",
        "                  [7, 8, np.nan],\n",
        "                  [10, 11, 12]])\n",
        "has_null_columns = np.any(np.isnan(array), axis=0)\n",
        "print(\"Columns with NaN values:\", has_null_columns)\n"
      ]
    },
    {
      "cell_type": "markdown",
      "id": "5a65c7a2",
      "metadata": {
        "id": "5a65c7a2"
      },
      "source": [
        "#### 61. Find the nearest value from a given value in an array (★★☆)"
      ]
    },
    {
      "cell_type": "code",
      "execution_count": null,
      "id": "73f149d6",
      "metadata": {
        "id": "73f149d6",
        "colab": {
          "base_uri": "https://localhost:8080/"
        },
        "outputId": "4c3e6460-7a2f-4587-f009-6bbc23eb4845"
      },
      "outputs": [
        {
          "output_type": "stream",
          "name": "stdout",
          "text": [
            "The nearest value to 8 is 7\n"
          ]
        }
      ],
      "source": [
        "import numpy as np\n",
        "array = np.array([1, 3, 7, 9, 15, 20])\n",
        "target_value = 8\n",
        "differences = np.abs(array - target_value)\n",
        "nearest_index = np.argmin(differences)\n",
        "nearest_value = array[nearest_index]\n",
        "print(f\"The nearest value to {target_value} is {nearest_value}\")\n"
      ]
    },
    {
      "cell_type": "markdown",
      "id": "dd83e8af",
      "metadata": {
        "id": "dd83e8af"
      },
      "source": [
        "#### 62. Considering two arrays with shape (1,3) and (3,1), how to compute their sum using an iterator? (★★☆)"
      ]
    },
    {
      "cell_type": "code",
      "execution_count": null,
      "id": "29a709a1",
      "metadata": {
        "id": "29a709a1",
        "colab": {
          "base_uri": "https://localhost:8080/"
        },
        "outputId": "3357ba57-da53-4506-a70c-f5c1d7115962"
      },
      "outputs": [
        {
          "output_type": "stream",
          "name": "stdout",
          "text": [
            "[[5. 6. 7.]\n",
            " [6. 7. 8.]\n",
            " [7. 8. 9.]]\n"
          ]
        }
      ],
      "source": [
        "import numpy as np\n",
        "A = np.array([[1, 2, 3]])\n",
        "B = np.array([[4], [5], [6]])\n",
        "sum_result = np.zeros((3, 3))\n",
        "for i in range(A.shape[1]):\n",
        "    for j in range(B.shape[0]):\n",
        "        sum_result[j, i] = A[0, i] + B[j, 0]\n",
        "print(sum_result)\n"
      ]
    },
    {
      "cell_type": "markdown",
      "id": "6c042efa",
      "metadata": {
        "id": "6c042efa"
      },
      "source": [
        "#### 63. Create an array class that has a name attribute (★★☆)"
      ]
    },
    {
      "cell_type": "code",
      "execution_count": null,
      "id": "45b3d2e0",
      "metadata": {
        "id": "45b3d2e0",
        "colab": {
          "base_uri": "https://localhost:8080/"
        },
        "outputId": "df58f43a-acc2-452a-9ca8-cbf179a36bff"
      },
      "outputs": [
        {
          "output_type": "stream",
          "name": "stdout",
          "text": [
            "[[1 2 3]\n",
            " [4 5 6]]\n",
            "Array name: MyArray\n"
          ]
        }
      ],
      "source": [
        "import numpy as np\n",
        "\n",
        "class NamedArray(np.ndarray):\n",
        "    def __new__(cls, input_array, name=\"Unnamed\"):\n",
        "\n",
        "        obj = np.asarray(input_array).view(cls)\n",
        "\n",
        "\n",
        "        obj.name = name\n",
        "\n",
        "        return obj\n",
        "\n",
        "    def __repr__(self):\n",
        "        return f\"NamedArray(name={self.name}, array={super().__repr__()})\"\n",
        "\n",
        "arr = NamedArray([[1, 2, 3], [4, 5, 6]], name=\"MyArray\")\n",
        "\n",
        "print(arr)\n",
        "print(f\"Array name: {arr.name}\")\n",
        "\n"
      ]
    },
    {
      "cell_type": "markdown",
      "id": "0a075c3d",
      "metadata": {
        "id": "0a075c3d"
      },
      "source": [
        "#### 64. Consider a given vector, how to add 1 to each element indexed by a second vector (be careful with repeated indices)? (★★★)"
      ]
    },
    {
      "cell_type": "code",
      "execution_count": null,
      "id": "36c50470",
      "metadata": {
        "id": "36c50470",
        "colab": {
          "base_uri": "https://localhost:8080/"
        },
        "outputId": "5e452a30-a2f8-44a8-9942-f9da646133d1"
      },
      "outputs": [
        {
          "output_type": "stream",
          "name": "stdout",
          "text": [
            "[10 21 32 40 53]\n"
          ]
        }
      ],
      "source": [
        "import numpy as np\n",
        "vec = np.array([10, 20, 30, 40, 50])\n",
        "indices = np.array([1, 2, 2, 4, 4, 4])\n",
        "counts = np.bincount(indices)\n",
        "vec[indices] += counts[indices]\n",
        "print(vec)\n"
      ]
    },
    {
      "cell_type": "markdown",
      "id": "0fb2f0c5",
      "metadata": {
        "id": "0fb2f0c5"
      },
      "source": [
        "#### 65. How to accumulate elements of a vector (X) to an array (F) based on an index list (I)? (★★★)"
      ]
    },
    {
      "cell_type": "code",
      "execution_count": null,
      "id": "58aa5f82",
      "metadata": {
        "id": "58aa5f82",
        "colab": {
          "base_uri": "https://localhost:8080/"
        },
        "outputId": "d29423d2-6247-4b75-b64f-84a50d60227e"
      },
      "outputs": [
        {
          "output_type": "stream",
          "name": "stdout",
          "text": [
            "[10.  0. 50.  0. 90.]\n"
          ]
        }
      ],
      "source": [
        "import numpy as np\n",
        "X = np.array([10, 20, 30, 40, 50])\n",
        "I = np.array([0, 2, 2, 4, 4])\n",
        "F = np.zeros(np.max(I) + 1)\n",
        "np.add.at(F, I, X)\n",
        "print(F)\n"
      ]
    },
    {
      "cell_type": "markdown",
      "id": "d89dc506",
      "metadata": {
        "id": "d89dc506"
      },
      "source": [
        "#### 66. Considering a (w,h,3) image of (dtype=ubyte), compute the number of unique colors (★★☆)"
      ]
    },
    {
      "cell_type": "code",
      "execution_count": null,
      "id": "8fb43a49",
      "metadata": {
        "id": "8fb43a49",
        "colab": {
          "base_uri": "https://localhost:8080/"
        },
        "outputId": "f70de813-1cfd-4071-8243-b1f39c31d9b4"
      },
      "outputs": [
        {
          "output_type": "stream",
          "name": "stdout",
          "text": [
            "Number of unique colors: 10\n"
          ]
        }
      ],
      "source": [
        "import numpy as np\n",
        "w, h = 4, 3\n",
        "image = np.array([[[255, 0, 0], [0, 255, 0], [0, 0, 255]],\n",
        "                  [[255, 255, 0], [0, 255, 255], [255, 0, 255]],\n",
        "                  [[128, 128, 128], [255, 255, 255], [0, 0, 0]],\n",
        "                  [[64, 64, 64], [255, 255, 0], [0, 255, 255]]], dtype=np.uint8)\n",
        "pixels = image.reshape(-1, 3)\n",
        "unique_colors = np.unique(pixels, axis=0)\n",
        "num_unique_colors = unique_colors.shape[0]\n",
        "\n",
        "print(f\"Number of unique colors: {num_unique_colors}\")\n"
      ]
    },
    {
      "cell_type": "markdown",
      "id": "535a5d81",
      "metadata": {
        "id": "535a5d81"
      },
      "source": [
        "#### 67. Considering a four dimensions array, how to get sum over the last two axis at once? (★★★)"
      ]
    },
    {
      "cell_type": "code",
      "execution_count": null,
      "id": "f954ab9d",
      "metadata": {
        "id": "f954ab9d",
        "colab": {
          "base_uri": "https://localhost:8080/"
        },
        "outputId": "b7b6970b-17f3-4d0a-b65d-d4fe9707c887"
      },
      "outputs": [
        {
          "output_type": "stream",
          "name": "stdout",
          "text": [
            "Original array shape: (2, 3, 4, 5)\n",
            "Shape after summing over last two axes: (2, 3)\n",
            "[[ 83 109 119]\n",
            " [105  92 110]]\n"
          ]
        }
      ],
      "source": [
        "import numpy as np\n",
        "a, b, c, d = 2, 3, 4, 5\n",
        "array = np.random.randint(1, 10, size=(a, b, c, d))\n",
        "sum_result = np.sum(array, axis=(-2, -1))\n",
        "print(\"Original array shape:\", array.shape)\n",
        "print(\"Shape after summing over last two axes:\", sum_result.shape)\n",
        "print(sum_result)\n"
      ]
    },
    {
      "cell_type": "markdown",
      "id": "eee66d3c",
      "metadata": {
        "id": "eee66d3c"
      },
      "source": [
        "#### 68. Considering a one-dimensional vector D, how to compute means of subsets of D using a vector S of same size describing subset  indices? (★★★)"
      ]
    },
    {
      "cell_type": "code",
      "execution_count": null,
      "id": "8929773a",
      "metadata": {
        "id": "8929773a",
        "colab": {
          "base_uri": "https://localhost:8080/"
        },
        "outputId": "8fc3b510-b9ae-42e6-98bb-8e3fc8901f14"
      },
      "outputs": [
        {
          "output_type": "stream",
          "name": "stdout",
          "text": [
            "Subset means: [53.33333333 40.         56.66666667]\n"
          ]
        }
      ],
      "source": [
        "import numpy as np\n",
        "D = np.array([10, 20, 30, 40, 50, 60, 70, 80, 90])\n",
        "S = np.array([0, 1, 1, 2, 2, 0, 1, 2, 0])\n",
        "unique_indices = np.unique(S)\n",
        "subset_sums = np.zeros(len(unique_indices))\n",
        "subset_counts = np.zeros(len(unique_indices))\n",
        "for i in range(len(S)):\n",
        "    subset_index = S[i]\n",
        "    subset_sums[subset_index] += D[i]\n",
        "    subset_counts[subset_index] += 1\n",
        "subset_means = subset_sums / subset_counts\n",
        "print(\"Subset means:\", subset_means)\n"
      ]
    },
    {
      "cell_type": "markdown",
      "id": "f90d4c40",
      "metadata": {
        "id": "f90d4c40"
      },
      "source": [
        "#### 69. How to get the diagonal of a dot product? (★★★)"
      ]
    },
    {
      "cell_type": "code",
      "execution_count": null,
      "id": "b47d392d",
      "metadata": {
        "id": "b47d392d",
        "colab": {
          "base_uri": "https://localhost:8080/"
        },
        "outputId": "e7633806-1262-4418-da74-b8c7ed71e61d"
      },
      "outputs": [
        {
          "output_type": "stream",
          "name": "stdout",
          "text": [
            "Dot product matrix C:\n",
            "[[ 30  24  18]\n",
            " [ 84  69  54]\n",
            " [138 114  90]]\n",
            "\n",
            "Diagonal of C:\n",
            "[30 69 90]\n"
          ]
        }
      ],
      "source": [
        "import numpy as np\n",
        "A = np.array([[1, 2, 3], [4, 5, 6], [7, 8, 9]])\n",
        "B = np.array([[9, 8, 7], [6, 5, 4], [3, 2, 1]])\n",
        "C = np.dot(A, B)\n",
        "diagonal_C = np.diagonal(C)\n",
        "\n",
        "print(\"Dot product matrix C:\")\n",
        "print(C)\n",
        "print(\"\\nDiagonal of C:\")\n",
        "print(diagonal_C)\n"
      ]
    },
    {
      "cell_type": "markdown",
      "id": "a8a97e7d",
      "metadata": {
        "id": "a8a97e7d"
      },
      "source": [
        "#### 70. Consider the vector [1, 2, 3, 4, 5], how to build a new vector with 3 consecutive zeros interleaved between each value? (★★★)"
      ]
    },
    {
      "cell_type": "code",
      "execution_count": null,
      "id": "ee6c6c37",
      "metadata": {
        "id": "ee6c6c37",
        "colab": {
          "base_uri": "https://localhost:8080/"
        },
        "outputId": "5fe28556-4752-420d-a0ce-228dd5eabf8f"
      },
      "outputs": [
        {
          "output_type": "stream",
          "name": "stdout",
          "text": [
            "[1, 0, 0, 0, 2, 0, 0, 0, 3, 0, 0, 0, 4, 0, 0, 0, 5]\n"
          ]
        }
      ],
      "source": [
        "import numpy as np\n",
        "original_vector = [1, 2, 3, 4, 5]\n",
        "new_vector = [original_vector[0]]\n",
        "for value in original_vector[1:]:\n",
        "    new_vector.extend([0, 0, 0, value])\n",
        "\n",
        "print(new_vector)\n"
      ]
    },
    {
      "cell_type": "markdown",
      "id": "d6a30d60",
      "metadata": {
        "id": "d6a30d60"
      },
      "source": [
        "#### 71. Consider an array of dimension (5,5,3), how to mulitply it by an array with dimensions (5,5)? (★★★)"
      ]
    },
    {
      "cell_type": "code",
      "execution_count": null,
      "id": "e9703f2e",
      "metadata": {
        "id": "e9703f2e",
        "colab": {
          "base_uri": "https://localhost:8080/"
        },
        "outputId": "40e7fa25-162b-48f1-e6d3-ff33aa6b82e8"
      },
      "outputs": [
        {
          "output_type": "stream",
          "name": "stdout",
          "text": [
            "(5, 5, 3)\n"
          ]
        }
      ],
      "source": [
        "import numpy as np\n",
        "A = np.random.rand(5, 5, 3)\n",
        "B = np.random.rand(5, 5)\n",
        "result = A * B[:, :, np.newaxis]\n",
        "print(result.shape)"
      ]
    },
    {
      "cell_type": "markdown",
      "id": "bac359a9",
      "metadata": {
        "id": "bac359a9"
      },
      "source": [
        "#### 72. How to swap two rows of an array? (★★★)"
      ]
    },
    {
      "cell_type": "code",
      "execution_count": null,
      "id": "f1b432b1",
      "metadata": {
        "id": "f1b432b1",
        "colab": {
          "base_uri": "https://localhost:8080/"
        },
        "outputId": "5cf6fac2-2031-46d7-f756-996107ac8cbf"
      },
      "outputs": [
        {
          "output_type": "stream",
          "name": "stdout",
          "text": [
            "[[ 1  2  3  4  5]\n",
            " [16 17 18 19 20]\n",
            " [11 12 13 14 15]\n",
            " [ 6  7  8  9 10]\n",
            " [21 22 23 24 25]]\n"
          ]
        }
      ],
      "source": [
        "import numpy as np\n",
        "A = np.array([[1, 2, 3, 4, 5],\n",
        "              [6, 7, 8, 9, 10],\n",
        "              [11, 12, 13, 14, 15],\n",
        "              [16, 17, 18, 19, 20],\n",
        "              [21, 22, 23, 24, 25]])\n",
        "i, j = 1, 3\n",
        "A[[i, j]] = A[[j, i]]\n",
        "\n",
        "print(A)\n"
      ]
    },
    {
      "cell_type": "markdown",
      "id": "620c9f83",
      "metadata": {
        "id": "620c9f83"
      },
      "source": [
        "#### 73. Consider a set of 10 triplets describing 10 triangles (with shared vertices), find the set of unique line segments composing all the  triangles (★★★)"
      ]
    },
    {
      "cell_type": "code",
      "execution_count": null,
      "id": "4e595ffc",
      "metadata": {
        "id": "4e595ffc",
        "colab": {
          "base_uri": "https://localhost:8080/"
        },
        "outputId": "fd4c6678-6ba5-4b5c-c2bb-9dc3ad712e0c"
      },
      "outputs": [
        {
          "output_type": "stream",
          "name": "stdout",
          "text": [
            "Unique line segments (edges):\n",
            "('A', 'B')\n",
            "('A', 'C')\n",
            "('A', 'D')\n",
            "('A', 'E')\n",
            "('A', 'F')\n",
            "('B', 'C')\n",
            "('B', 'D')\n",
            "('B', 'E')\n",
            "('B', 'F')\n",
            "('C', 'D')\n",
            "('C', 'E')\n",
            "('C', 'F')\n",
            "('D', 'E')\n",
            "('E', 'F')\n"
          ]
        }
      ],
      "source": [
        "\n",
        "triplets = [\n",
        "    ('A', 'B', 'C'),\n",
        "    ('A', 'C', 'D'),\n",
        "    ('B', 'C', 'D'),\n",
        "    ('A', 'E', 'F'),\n",
        "    ('B', 'E', 'F'),\n",
        "    ('C', 'E', 'F'),\n",
        "    ('A', 'B', 'D'),\n",
        "    ('B', 'D', 'E'),\n",
        "    ('C', 'D', 'E'),\n",
        "    ('A', 'C', 'E')\n",
        "]\n",
        "unique_edges = set()\n",
        "for triangle in triplets:\n",
        "    edges = [\n",
        "        (min(triangle[0], triangle[1]), max(triangle[0], triangle[1])),\n",
        "        (min(triangle[1], triangle[2]), max(triangle[1], triangle[2])),\n",
        "        (min(triangle[2], triangle[0]), max(triangle[2], triangle[0]))\n",
        "    ]\n",
        "\n",
        "    unique_edges.update(edges)\n",
        "unique_edges_list = list(unique_edges)\n",
        "unique_edges_list.sort()\n",
        "print(\"Unique line segments (edges):\")\n",
        "for edge in unique_edges_list:\n",
        "    print(edge)\n"
      ]
    },
    {
      "cell_type": "markdown",
      "id": "a76c55a2",
      "metadata": {
        "id": "a76c55a2"
      },
      "source": [
        "#### 74. Given a sorted array C that corresponds to a bincount, how to produce an array A such that np.bincount(A) == C? (★★★)"
      ]
    },
    {
      "cell_type": "code",
      "execution_count": null,
      "id": "2d2ae65a",
      "metadata": {
        "id": "2d2ae65a",
        "colab": {
          "base_uri": "https://localhost:8080/"
        },
        "outputId": "24aae5b8-ed9b-4001-c116-274e31db8e57"
      },
      "outputs": [
        {
          "output_type": "stream",
          "name": "stdout",
          "text": [
            "Array A: [1 1 2 3 3 3 6]\n",
            "Bincount of A: [0 2 1 3 0 0 1]\n"
          ]
        }
      ],
      "source": [
        "import numpy as np\n",
        "C = np.array([0, 2, 1, 3, 0, 0, 1])\n",
        "A = np.hstack([np.full(C[i], i) for i in range(len(C))])\n",
        "\n",
        "print(\"Array A:\", A)\n",
        "print(\"Bincount of A:\", np.bincount(A))\n"
      ]
    },
    {
      "cell_type": "markdown",
      "id": "d550c8e2",
      "metadata": {
        "id": "d550c8e2"
      },
      "source": [
        "#### 75. How to compute averages using a sliding window over an array? (★★★)"
      ]
    },
    {
      "cell_type": "code",
      "execution_count": null,
      "id": "841c457c",
      "metadata": {
        "id": "841c457c",
        "colab": {
          "base_uri": "https://localhost:8080/"
        },
        "outputId": "8b08013d-f9f8-4cd7-a30d-35c27bd146c5"
      },
      "outputs": [
        {
          "output_type": "stream",
          "name": "stdout",
          "text": [
            "[2. 3. 4. 5. 6. 7. 8.]\n"
          ]
        }
      ],
      "source": [
        "import numpy as np\n",
        "\n",
        "def sliding_window_avg(arr, window_size):\n",
        "\n",
        "    if window_size > len(arr):\n",
        "        raise ValueError(\"Window size must be less than or equal to the length of the array\")\n",
        "\n",
        "    averages = []\n",
        "\n",
        "    window_sum = np.sum(arr[:window_size])\n",
        "\n",
        "    averages.append(window_sum / window_size)\n",
        "\n",
        "    for i in range(window_size, len(arr)):\n",
        "\n",
        "        window_sum += arr[i] - arr[i - window_size]\n",
        "\n",
        "        averages.append(window_sum / window_size)\n",
        "\n",
        "    return np.array(averages)\n",
        "arr = np.array([1, 2, 3, 4, 5, 6, 7, 8, 9])\n",
        "window_size = 3\n",
        "result = sliding_window_avg(arr, window_size)\n",
        "print(result)\n"
      ]
    },
    {
      "cell_type": "markdown",
      "id": "6b170b00",
      "metadata": {
        "id": "6b170b00"
      },
      "source": [
        "#### 76. Consider a one-dimensional array Z, build a two-dimensional array whose first row is (Z[0],Z[1],Z[2]) and each subsequent row is  shifted by 1 (last row should be (Z[-3],Z[-2],Z[-1]) (★★★)"
      ]
    },
    {
      "cell_type": "code",
      "execution_count": null,
      "id": "d9a0cf4e",
      "metadata": {
        "id": "d9a0cf4e",
        "colab": {
          "base_uri": "https://localhost:8080/"
        },
        "outputId": "a176e000-39cb-4983-e443-3e9bd24a303b"
      },
      "outputs": [
        {
          "output_type": "stream",
          "name": "stdout",
          "text": [
            "[[1 2 3]\n",
            " [2 3 4]\n",
            " [3 4 5]\n",
            " [4 5 6]\n",
            " [5 6 7]\n",
            " [6 7 8]\n",
            " [7 8 9]]\n"
          ]
        }
      ],
      "source": [
        "import numpy as np\n",
        "\n",
        "def build_2d_array(Z):\n",
        "\n",
        "    rows = []\n",
        "    for i in range(len(Z) - 2):\n",
        "        rows.append(Z[i:i+3])\n",
        "\n",
        "    return np.array(rows)\n",
        "Z = np.array([1, 2, 3, 4, 5, 6, 7, 8, 9])\n",
        "result = build_2d_array(Z)\n",
        "\n",
        "print(result)\n"
      ]
    },
    {
      "cell_type": "markdown",
      "id": "e94a5c1d",
      "metadata": {
        "id": "e94a5c1d"
      },
      "source": [
        "#### 77. How to negate a boolean, or to change the sign of a float inplace? (★★★)"
      ]
    },
    {
      "cell_type": "code",
      "execution_count": null,
      "id": "c0f9504f",
      "metadata": {
        "id": "c0f9504f",
        "colab": {
          "base_uri": "https://localhost:8080/"
        },
        "outputId": "3e57953e-a21d-4162-cbcd-729f4f773235"
      },
      "outputs": [
        {
          "output_type": "stream",
          "name": "stdout",
          "text": [
            "False\n"
          ]
        }
      ],
      "source": [
        "\n",
        "flag = True\n",
        "flag = not flag\n",
        "\n",
        "print(flag)\n"
      ]
    },
    {
      "cell_type": "markdown",
      "id": "4eb8b5c1",
      "metadata": {
        "id": "4eb8b5c1"
      },
      "source": [
        "#### 78. Consider 2 sets of points P0,P1 describing lines (2d) and a point p, how to compute distance from p to each line i (P0[i],P1[i])? (★★★)"
      ]
    },
    {
      "cell_type": "code",
      "execution_count": null,
      "id": "487f47ec",
      "metadata": {
        "id": "487f47ec"
      },
      "outputs": [],
      "source": [
        "import numpy as np\n",
        "\n",
        "def point_to_line_distance(p, P0, P1):\n",
        "    \"\"\"\n",
        "    Compute the perpendicular distance from point p to the line defined by P0 and P1.\n",
        "    p, P0, P1 are tuples or arrays representing points in 2D: (x, y)\n",
        "    \"\"\"\n",
        "\n",
        "    x_p, y_p = p\n",
        "    x_0, y_0 = P0\n",
        "    x_1, y_1 = P1\n",
        "\n",
        "    numerator = abs((y_1 - y_0) * x_p - (x_1 - x_0) * y_p + x_1 * y_0 - y_1 * x_0)\n",
        "\n",
        "    denominator = np.sqrt((y_1 - y_0)**2 + (x_1 - x_0)**2)\n",
        "\n",
        "    return numerator / denominator\n",
        "\n",
        "\n"
      ]
    },
    {
      "cell_type": "markdown",
      "id": "3df99948",
      "metadata": {
        "id": "3df99948"
      },
      "source": [
        "#### 79. Consider 2 sets of points P0,P1 describing lines (2d) and a set of points P, how to compute distance from each point j (P[j]) to each line i (P0[i],P1[i])? (★★★)"
      ]
    },
    {
      "cell_type": "code",
      "execution_count": null,
      "id": "dc2df37b",
      "metadata": {
        "id": "dc2df37b"
      },
      "outputs": [],
      "source": [
        "import numpy as np\n",
        "\n",
        "def point_to_line_distance(p, P0, P1):\n",
        "    \"\"\"\n",
        "    Compute the perpendicular distance from point p to the line defined by P0 and P1.\n",
        "    p, P0, P1 are tuples or arrays representing points in 2D: (x, y)\n",
        "    \"\"\"\n",
        "\n",
        "    x_p, y_p = p\n",
        "    x_0, y_0 = P0\n"
      ]
    },
    {
      "cell_type": "markdown",
      "id": "11e972c2",
      "metadata": {
        "id": "11e972c2"
      },
      "source": [
        "#### 80. Consider an arbitrary array, write a function that extract a subpart with a fixed shape and centered on a given element (pad with a `fill` value when necessary) (★★★)"
      ]
    },
    {
      "cell_type": "code",
      "execution_count": null,
      "id": "0291247f",
      "metadata": {
        "id": "0291247f",
        "colab": {
          "base_uri": "https://localhost:8080/"
        },
        "outputId": "e3460dfe-0cf2-4df2-cf60-6387f8b011b5"
      },
      "outputs": [
        {
          "output_type": "stream",
          "name": "stdout",
          "text": [
            "[[ 1  2  3]\n",
            " [ 6  7  8]\n",
            " [11 12 13]]\n"
          ]
        }
      ],
      "source": [
        "import numpy as np\n",
        "\n",
        "def extract_subarray(arr, center, shape, fill_value=0):\n",
        "    \"\"\"\n",
        "    Extract a subarray from `arr` centered on the `center` element with a fixed shape.\n",
        "    If the subarray exceeds the bounds of the array, it is padded with `fill_value`.\n",
        "\n",
        "    Parameters:\n",
        "    - arr: 2D numpy array (input array)\n",
        "    - center: tuple (i, j), the center position of the subarray in the array\n",
        "    - shape: tuple (height, width), the shape of the subarray\n",
        "    - fill_value: the value to use for padding when necessary (default is 0)\n",
        "\n",
        "    Returns:\n",
        "    - subarray: 2D numpy array of the specified shape, padded with fill_value where necessary\n",
        "    \"\"\"\n",
        "    height, width = shape\n",
        "    i, j = center\n",
        "\n",
        "    half_height = height // 2\n",
        "    half_width = width // 2\n",
        "\n",
        "    padded_arr = np.full((arr.shape[0] + 2 * half_height, arr.shape[1] + 2 * half_width), fill_value)\n",
        "\n",
        "    padded_arr[half_height:half_height + arr.shape[0], half_width:half_width + arr.shape[1]] = arr\n",
        "\n",
        "    row_start = i - half_height\n",
        "    row_end = i + half_height + 1\n",
        "    col_start = j - half_width\n",
        "    col_end = j + half_width + 1\n",
        "\n",
        "    subarray = padded_arr[row_start:row_end, col_start:col_end]\n",
        "\n",
        "    return subarray\n",
        "arr = np.array([\n",
        "    [1, 2, 3, 4, 5],\n",
        "    [6, 7, 8, 9, 10],\n",
        "    [11, 12, 13, 14, 15],\n",
        "    [16, 17, 18, 19, 20],\n",
        "    [21, 22, 23, 24, 25]\n",
        "])\n",
        "\n",
        "center = (2, 2)\n",
        "shape = (3, 3)\n",
        "subarray = extract_subarray(arr, center, shape, fill_value=-1)\n",
        "print(subarray)\n"
      ]
    },
    {
      "cell_type": "markdown",
      "id": "93cfeab3",
      "metadata": {
        "id": "93cfeab3"
      },
      "source": [
        "#### 81. Consider an array Z = [1,2,3,4,5,6,7,8,9,10,11,12,13,14], how to generate an array R = [[1,2,3,4], [2,3,4,5], [3,4,5,6], ..., [11,12,13,14]]? (★★★)"
      ]
    },
    {
      "cell_type": "code",
      "execution_count": null,
      "id": "360de791",
      "metadata": {
        "id": "360de791",
        "colab": {
          "base_uri": "https://localhost:8080/"
        },
        "outputId": "0b1d8b91-d995-406f-9565-6c3691d79c37"
      },
      "outputs": [
        {
          "output_type": "stream",
          "name": "stdout",
          "text": [
            "[ 2.5  3.5  4.5  5.5  6.5  7.5  8.5  9.5 10.5 11.5 12.5]\n"
          ]
        }
      ],
      "source": [
        "import numpy as np\n",
        "\n",
        "Z = np.array([1, 2, 3, 4, 5, 6, 7, 8, 9, 10, 11, 12, 13, 14])\n",
        "window_size = 4\n",
        "\n",
        "def rolling_mean(arr, window_size):\n",
        "  \"\"\"Calculates the rolling mean of an array with a given window size.\"\"\"\n",
        "  if len(arr) < window_size:\n",
        "    raise ValueError(\"Window size cannot exceed the length of the array.\")\n",
        "\n",
        "  result = np.convolve(arr, np.ones(window_size), 'valid') / window_size\n",
        "  return result\n",
        "\n",
        "R = rolling_mean(Z, window_size)\n",
        "print(R)\n"
      ]
    },
    {
      "cell_type": "markdown",
      "id": "4c15ceff",
      "metadata": {
        "id": "4c15ceff"
      },
      "source": [
        "#### 82. Compute a matrix rank (★★★)"
      ]
    },
    {
      "cell_type": "code",
      "execution_count": 15,
      "id": "9a4272d2",
      "metadata": {
        "id": "9a4272d2",
        "colab": {
          "base_uri": "https://localhost:8080/"
        },
        "outputId": "9dbb737b-a439-4ed3-b172-eab0d49c34a3"
      },
      "outputs": [
        {
          "output_type": "stream",
          "name": "stdout",
          "text": [
            "Rank of the matrix: 2\n"
          ]
        }
      ],
      "source": [
        "import numpy as np\n",
        "matrix = np.array([\n",
        "    [1, 2, 3],\n",
        "    [4, 5, 6],\n",
        "    [7, 8, 9]\n",
        "])\n",
        "rank = np.linalg.matrix_rank(matrix)\n",
        "\n",
        "print(\"Rank of the matrix:\", rank)\n"
      ]
    },
    {
      "cell_type": "markdown",
      "id": "1171cb84",
      "metadata": {
        "id": "1171cb84"
      },
      "source": [
        "#### 83. How to find the most frequent value in an array?"
      ]
    },
    {
      "cell_type": "code",
      "execution_count": 16,
      "id": "33e951c8",
      "metadata": {
        "id": "33e951c8",
        "colab": {
          "base_uri": "https://localhost:8080/"
        },
        "outputId": "17a79d83-544c-4cc8-9500-5a3035aa7a6a"
      },
      "outputs": [
        {
          "output_type": "stream",
          "name": "stdout",
          "text": [
            "The most frequent value is 6 with 4 occurrences.\n"
          ]
        }
      ],
      "source": [
        "from collections import Counter\n",
        "arr = [1, 2, 2, 3, 3, 3, 4, 5, 6, 6, 6, 6]\n",
        "counter = Counter(arr)\n",
        "\n",
        "most_frequent_value, most_frequent_count = counter.most_common(1)[0]\n",
        "print(f\"The most frequent value is {most_frequent_value} with {most_frequent_count} occurrences.\")\n"
      ]
    },
    {
      "cell_type": "markdown",
      "id": "04f472aa",
      "metadata": {
        "id": "04f472aa"
      },
      "source": [
        "#### 84. Extract all the contiguous 3x3 blocks from a random 10x10 matrix (★★★)"
      ]
    },
    {
      "cell_type": "code",
      "execution_count": 17,
      "id": "7aade14a",
      "metadata": {
        "id": "7aade14a",
        "colab": {
          "base_uri": "https://localhost:8080/"
        },
        "outputId": "5fafebc5-7590-4915-82ef-74739dc74698"
      },
      "outputs": [
        {
          "output_type": "stream",
          "name": "stdout",
          "text": [
            "Original 10x10 Matrix:\n",
            "[[6 5 9 1 6 4 5 5 7 2]\n",
            " [9 3 4 7 2 9 3 6 3 8]\n",
            " [8 2 8 2 6 8 7 5 2 8]\n",
            " [8 8 6 6 0 0 5 5 4 9]\n",
            " [8 1 0 4 3 4 9 0 6 5]\n",
            " [0 8 7 7 8 7 4 5 8 8]\n",
            " [7 9 7 1 1 8 0 1 5 4]\n",
            " [0 6 3 0 0 7 9 3 3 8]\n",
            " [3 6 3 2 5 0 5 1 6 2]\n",
            " [3 7 0 2 5 9 4 9 8 4]]\n",
            "\n",
            "Extracted 3x3 Blocks:\n",
            "[[6 5 9]\n",
            " [9 3 4]\n",
            " [8 2 8]]\n",
            "---\n",
            "[[5 9 1]\n",
            " [3 4 7]\n",
            " [2 8 2]]\n",
            "---\n",
            "[[9 1 6]\n",
            " [4 7 2]\n",
            " [8 2 6]]\n",
            "---\n",
            "[[1 6 4]\n",
            " [7 2 9]\n",
            " [2 6 8]]\n",
            "---\n",
            "[[6 4 5]\n",
            " [2 9 3]\n",
            " [6 8 7]]\n",
            "---\n",
            "[[4 5 5]\n",
            " [9 3 6]\n",
            " [8 7 5]]\n",
            "---\n",
            "[[5 5 7]\n",
            " [3 6 3]\n",
            " [7 5 2]]\n",
            "---\n",
            "[[5 7 2]\n",
            " [6 3 8]\n",
            " [5 2 8]]\n",
            "---\n",
            "[[9 3 4]\n",
            " [8 2 8]\n",
            " [8 8 6]]\n",
            "---\n",
            "[[3 4 7]\n",
            " [2 8 2]\n",
            " [8 6 6]]\n",
            "---\n",
            "[[4 7 2]\n",
            " [8 2 6]\n",
            " [6 6 0]]\n",
            "---\n",
            "[[7 2 9]\n",
            " [2 6 8]\n",
            " [6 0 0]]\n",
            "---\n",
            "[[2 9 3]\n",
            " [6 8 7]\n",
            " [0 0 5]]\n",
            "---\n",
            "[[9 3 6]\n",
            " [8 7 5]\n",
            " [0 5 5]]\n",
            "---\n",
            "[[3 6 3]\n",
            " [7 5 2]\n",
            " [5 5 4]]\n",
            "---\n",
            "[[6 3 8]\n",
            " [5 2 8]\n",
            " [5 4 9]]\n",
            "---\n",
            "[[8 2 8]\n",
            " [8 8 6]\n",
            " [8 1 0]]\n",
            "---\n",
            "[[2 8 2]\n",
            " [8 6 6]\n",
            " [1 0 4]]\n",
            "---\n",
            "[[8 2 6]\n",
            " [6 6 0]\n",
            " [0 4 3]]\n",
            "---\n",
            "[[2 6 8]\n",
            " [6 0 0]\n",
            " [4 3 4]]\n",
            "---\n",
            "[[6 8 7]\n",
            " [0 0 5]\n",
            " [3 4 9]]\n",
            "---\n",
            "[[8 7 5]\n",
            " [0 5 5]\n",
            " [4 9 0]]\n",
            "---\n",
            "[[7 5 2]\n",
            " [5 5 4]\n",
            " [9 0 6]]\n",
            "---\n",
            "[[5 2 8]\n",
            " [5 4 9]\n",
            " [0 6 5]]\n",
            "---\n",
            "[[8 8 6]\n",
            " [8 1 0]\n",
            " [0 8 7]]\n",
            "---\n",
            "[[8 6 6]\n",
            " [1 0 4]\n",
            " [8 7 7]]\n",
            "---\n",
            "[[6 6 0]\n",
            " [0 4 3]\n",
            " [7 7 8]]\n",
            "---\n",
            "[[6 0 0]\n",
            " [4 3 4]\n",
            " [7 8 7]]\n",
            "---\n",
            "[[0 0 5]\n",
            " [3 4 9]\n",
            " [8 7 4]]\n",
            "---\n",
            "[[0 5 5]\n",
            " [4 9 0]\n",
            " [7 4 5]]\n",
            "---\n",
            "[[5 5 4]\n",
            " [9 0 6]\n",
            " [4 5 8]]\n",
            "---\n",
            "[[5 4 9]\n",
            " [0 6 5]\n",
            " [5 8 8]]\n",
            "---\n",
            "[[8 1 0]\n",
            " [0 8 7]\n",
            " [7 9 7]]\n",
            "---\n",
            "[[1 0 4]\n",
            " [8 7 7]\n",
            " [9 7 1]]\n",
            "---\n",
            "[[0 4 3]\n",
            " [7 7 8]\n",
            " [7 1 1]]\n",
            "---\n",
            "[[4 3 4]\n",
            " [7 8 7]\n",
            " [1 1 8]]\n",
            "---\n",
            "[[3 4 9]\n",
            " [8 7 4]\n",
            " [1 8 0]]\n",
            "---\n",
            "[[4 9 0]\n",
            " [7 4 5]\n",
            " [8 0 1]]\n",
            "---\n",
            "[[9 0 6]\n",
            " [4 5 8]\n",
            " [0 1 5]]\n",
            "---\n",
            "[[0 6 5]\n",
            " [5 8 8]\n",
            " [1 5 4]]\n",
            "---\n",
            "[[0 8 7]\n",
            " [7 9 7]\n",
            " [0 6 3]]\n",
            "---\n",
            "[[8 7 7]\n",
            " [9 7 1]\n",
            " [6 3 0]]\n",
            "---\n",
            "[[7 7 8]\n",
            " [7 1 1]\n",
            " [3 0 0]]\n",
            "---\n",
            "[[7 8 7]\n",
            " [1 1 8]\n",
            " [0 0 7]]\n",
            "---\n",
            "[[8 7 4]\n",
            " [1 8 0]\n",
            " [0 7 9]]\n",
            "---\n",
            "[[7 4 5]\n",
            " [8 0 1]\n",
            " [7 9 3]]\n",
            "---\n",
            "[[4 5 8]\n",
            " [0 1 5]\n",
            " [9 3 3]]\n",
            "---\n",
            "[[5 8 8]\n",
            " [1 5 4]\n",
            " [3 3 8]]\n",
            "---\n",
            "[[7 9 7]\n",
            " [0 6 3]\n",
            " [3 6 3]]\n",
            "---\n",
            "[[9 7 1]\n",
            " [6 3 0]\n",
            " [6 3 2]]\n",
            "---\n",
            "[[7 1 1]\n",
            " [3 0 0]\n",
            " [3 2 5]]\n",
            "---\n",
            "[[1 1 8]\n",
            " [0 0 7]\n",
            " [2 5 0]]\n",
            "---\n",
            "[[1 8 0]\n",
            " [0 7 9]\n",
            " [5 0 5]]\n",
            "---\n",
            "[[8 0 1]\n",
            " [7 9 3]\n",
            " [0 5 1]]\n",
            "---\n",
            "[[0 1 5]\n",
            " [9 3 3]\n",
            " [5 1 6]]\n",
            "---\n",
            "[[1 5 4]\n",
            " [3 3 8]\n",
            " [1 6 2]]\n",
            "---\n",
            "[[0 6 3]\n",
            " [3 6 3]\n",
            " [3 7 0]]\n",
            "---\n",
            "[[6 3 0]\n",
            " [6 3 2]\n",
            " [7 0 2]]\n",
            "---\n",
            "[[3 0 0]\n",
            " [3 2 5]\n",
            " [0 2 5]]\n",
            "---\n",
            "[[0 0 7]\n",
            " [2 5 0]\n",
            " [2 5 9]]\n",
            "---\n",
            "[[0 7 9]\n",
            " [5 0 5]\n",
            " [5 9 4]]\n",
            "---\n",
            "[[7 9 3]\n",
            " [0 5 1]\n",
            " [9 4 9]]\n",
            "---\n",
            "[[9 3 3]\n",
            " [5 1 6]\n",
            " [4 9 8]]\n",
            "---\n",
            "[[3 3 8]\n",
            " [1 6 2]\n",
            " [9 8 4]]\n",
            "---\n"
          ]
        }
      ],
      "source": [
        "import numpy as np\n",
        "matrix = np.random.randint(0, 10, size=(10, 10))\n",
        "blocks = []\n",
        "\n",
        "for i in range(8):\n",
        "    for j in range(8):\n",
        "        block = matrix[i:i+3, j:j+3]\n",
        "        blocks.append(block)\n",
        "\n",
        "print(\"Original 10x10 Matrix:\")\n",
        "print(matrix)\n",
        "print(\"\\nExtracted 3x3 Blocks:\")\n",
        "for block in blocks:\n",
        "    print(block)\n",
        "    print(\"---\")\n"
      ]
    },
    {
      "cell_type": "markdown",
      "id": "52836346",
      "metadata": {
        "id": "52836346"
      },
      "source": [
        "#### 85. Create a 2D array subclass such that Z[i,j] == Z[j,i] (★★★)"
      ]
    },
    {
      "cell_type": "code",
      "execution_count": 18,
      "id": "4df70318",
      "metadata": {
        "id": "4df70318",
        "colab": {
          "base_uri": "https://localhost:8080/"
        },
        "outputId": "821f53e9-6464-4121-8b16-0097f01c8d7b"
      },
      "outputs": [
        {
          "output_type": "stream",
          "name": "stdout",
          "text": [
            "Symmetric Matrix Z:\n",
            "[[1.59965095 1.19405978 1.18225661 0.26639541]\n",
            " [1.19405978 1.75665822 0.60622092 0.34585412]\n",
            " [1.18225661 0.60622092 1.10662581 0.7905697 ]\n",
            " [0.26639541 0.34585412 0.7905697  0.71010878]]\n",
            "\n",
            "Accessing Z[1, 2] and Z[2, 1]:\n",
            "0.6062209245687274 0.6062209245687274\n",
            "\n",
            "Matrix after setting Z[1, 2] = 10:\n",
            "[[ 1.59965095  1.19405978  1.18225661  0.26639541]\n",
            " [ 1.19405978  1.75665822 10.          0.34585412]\n",
            " [ 1.18225661 10.          1.10662581  0.7905697 ]\n",
            " [ 0.26639541  0.34585412  0.7905697   0.71010878]]\n"
          ]
        }
      ],
      "source": [
        "import numpy as np\n",
        "\n",
        "class SymmetricMatrix(np.ndarray):\n",
        "    def __new__(cls, shape, dtype=float, buffer=None, offset=0, strides=None, order=None):\n",
        "\n",
        "        obj = np.ndarray.__new__(cls, shape, dtype, buffer, offset, strides, order)\n",
        "        return obj\n",
        "\n",
        "    def __getitem__(self, index):\n",
        "        i, j = index\n",
        "\n",
        "        return super(SymmetricMatrix, self).__getitem__((i, j))\n",
        "\n",
        "    def __setitem__(self, index, value):\n",
        "        i, j = index\n",
        "\n",
        "        super(SymmetricMatrix, self).__setitem__((i, j), value)\n",
        "        super(SymmetricMatrix, self).__setitem__((j, i), value)\n",
        "\n",
        "def symmetric_matrix(shape, dtype=float):\n",
        "\n",
        "    mat = np.random.random(shape)\n",
        "    symmetric_mat = mat + mat.T\n",
        "    return symmetric_mat.view(SymmetricMatrix)\n",
        "Z = symmetric_matrix((4, 4))\n",
        "print(\"Symmetric Matrix Z:\")\n",
        "print(Z)\n",
        "\n",
        "print(\"\\nAccessing Z[1, 2] and Z[2, 1]:\")\n",
        "print(Z[1, 2], Z[2, 1])\n",
        "Z[1, 2] = 10\n",
        "print(\"\\nMatrix after setting Z[1, 2] = 10:\")\n",
        "print(Z)\n"
      ]
    },
    {
      "cell_type": "markdown",
      "id": "78c43ee5",
      "metadata": {
        "id": "78c43ee5"
      },
      "source": [
        "#### 86. Consider a set of p matrices with shape (n,n) and a set of p vectors with shape (n,1). How to compute the sum of of the p matrix products at once? (result has shape (n,1)) (★★★)"
      ]
    },
    {
      "cell_type": "code",
      "execution_count": 19,
      "id": "32fd2c3b",
      "metadata": {
        "id": "32fd2c3b",
        "colab": {
          "base_uri": "https://localhost:8080/"
        },
        "outputId": "ed7c22dd-95e3-4063-a01f-aa45a4e4fce9"
      },
      "outputs": [
        {
          "output_type": "stream",
          "name": "stdout",
          "text": [
            "[[3.93988574]\n",
            " [2.82347432]\n",
            " [3.19902927]]\n"
          ]
        }
      ],
      "source": [
        "import numpy as np\n",
        "\n",
        "p = 5\n",
        "n = 3\n",
        "matrices = np.random.rand(p, n, n)\n",
        "\n",
        "vectors = np.random.rand(p, n, 1)\n",
        "\n",
        "result = np.sum(matrices @ vectors, axis=0)\n",
        "\n",
        "print(result)\n"
      ]
    },
    {
      "cell_type": "markdown",
      "id": "158f9945",
      "metadata": {
        "id": "158f9945"
      },
      "source": [
        "#### 87. Consider a 16x16 array, how to get the block-sum (block size is 4x4)? (★★★)"
      ]
    },
    {
      "cell_type": "code",
      "execution_count": 20,
      "id": "5a9b808f",
      "metadata": {
        "id": "5a9b808f",
        "colab": {
          "base_uri": "https://localhost:8080/"
        },
        "outputId": "535a60da-fcf1-410c-95ec-6359a49aa88a"
      },
      "outputs": [
        {
          "output_type": "stream",
          "name": "stdout",
          "text": [
            "Original Array (16x16):\n",
            "[[0.45858969 0.78888037 0.92750935 0.41181663 0.11735956 0.06750116\n",
            "  0.34579737 0.58506162 0.3821636  0.01694067 0.93648285 0.81387819\n",
            "  0.0105651  0.75752712 0.25642472 0.35275069]\n",
            " [0.41475078 0.50292301 0.37057157 0.94527477 0.84694529 0.34993038\n",
            "  0.74064603 0.53694456 0.39692191 0.35019675 0.12609155 0.3804909\n",
            "  0.91486275 0.22865171 0.9786287  0.00235315]\n",
            " [0.29934937 0.15086595 0.46555665 0.57449244 0.80540234 0.28399412\n",
            "  0.98836463 0.48596761 0.28593561 0.1864544  0.76478414 0.80964727\n",
            "  0.19242102 0.24938649 0.21363492 0.53288621]\n",
            " [0.57379975 0.17193185 0.87299979 0.03427258 0.11075577 0.0301557\n",
            "  0.66645923 0.93759861 0.03819097 0.95470522 0.71749392 0.79968096\n",
            "  0.65060106 0.99569486 0.62731696 0.47352296]\n",
            " [0.54906777 0.45492887 0.83114059 0.66325092 0.7118753  0.60833553\n",
            "  0.15841499 0.67288798 0.90601481 0.26087409 0.99248391 0.70126596\n",
            "  0.85462489 0.14407033 0.47013614 0.13887898]\n",
            " [0.93427759 0.46091546 0.98510575 0.66269003 0.15180476 0.93866997\n",
            "  0.10445565 0.2542293  0.46319162 0.28633402 0.91139404 0.8565103\n",
            "  0.61906118 0.70893023 0.99664714 0.77765416]\n",
            " [0.73594938 0.10673123 0.57929484 0.00617402 0.69639894 0.06561684\n",
            "  0.61648195 0.88467844 0.49487733 0.79555437 0.67960027 0.94014035\n",
            "  0.94008955 0.81720847 0.62145509 0.18686299]\n",
            " [0.73501071 0.08910326 0.67001619 0.87972181 0.48060027 0.0325177\n",
            "  0.35025807 0.35567791 0.71871147 0.37185754 0.35993571 0.51508954\n",
            "  0.80067577 0.2967341  0.22040121 0.15821401]\n",
            " [0.43662959 0.82161323 0.30490553 0.28698719 0.48698435 0.99631518\n",
            "  0.33845776 0.92236747 0.15513441 0.69219178 0.47990665 0.86583618\n",
            "  0.67247473 0.76343249 0.70405468 0.46048712]\n",
            " [0.72569921 0.98341651 0.782041   0.98948727 0.41226909 0.97112853\n",
            "  0.46836976 0.44139273 0.60915831 0.77355655 0.06907726 0.19041353\n",
            "  0.717054   0.4041405  0.50941149 0.75888539]\n",
            " [0.16238112 0.10308362 0.59748083 0.28668345 0.76416764 0.91527079\n",
            "  0.65770934 0.44788364 0.50613464 0.64185955 0.0309504  0.75085785\n",
            "  0.64580282 0.09095803 0.111364   0.61727862]\n",
            " [0.55876689 0.22565101 0.83394623 0.91441498 0.44782361 0.15977674\n",
            "  0.25858584 0.20504361 0.19776546 0.04805391 0.0606333  0.65769967\n",
            "  0.88321683 0.71288861 0.92883924 0.48355548]\n",
            " [0.30444689 0.13041608 0.42598025 0.88358521 0.29689428 0.49899805\n",
            "  0.80951363 0.14461978 0.36144805 0.56324713 0.89307772 0.61786921\n",
            "  0.92619955 0.72058356 0.39636456 0.89253261]\n",
            " [0.91036551 0.24706201 0.53884892 0.91613978 0.71703769 0.32137784\n",
            "  0.81673814 0.77305135 0.30886359 0.75907016 0.73325285 0.26091994\n",
            "  0.00181718 0.12502065 0.19956452 0.2117955 ]\n",
            " [0.9811549  0.24493172 0.02123003 0.8024341  0.77270018 0.543902\n",
            "  0.34773237 0.76186383 0.0748218  0.32926294 0.42943849 0.91257603\n",
            "  0.35580009 0.78443274 0.106309   0.90563838]\n",
            " [0.17530903 0.34045534 0.77464381 0.55764389 0.75522584 0.3984095\n",
            "  0.83919526 0.89442081 0.88261881 0.55661906 0.6402907  0.35315248\n",
            "  0.61689342 0.60301975 0.05154699 0.71243598]]\n",
            "\n",
            "Block Sums (4x4 blocks):\n",
            "[[ 7.96358454  7.89888396  7.96005893  7.43722841]\n",
            " [ 9.34337842  7.08290359 10.25383533  8.75164425]\n",
            " [ 9.01318768  8.89354609  6.72922944  9.46384402]\n",
            " [ 8.25464745  9.69168053  8.67652897  7.6099545 ]]\n"
          ]
        }
      ],
      "source": [
        "import numpy as np\n",
        "\n",
        "arr = np.random.rand(16, 16)\n",
        "\n",
        "block_size = 4\n",
        "\n",
        "block_sums = arr.reshape(4, block_size, 4, block_size).sum(axis=(1, 3))\n",
        "\n",
        "print(\"Original Array (16x16):\")\n",
        "print(arr)\n",
        "\n",
        "print(\"\\nBlock Sums (4x4 blocks):\")\n",
        "print(block_sums)\n"
      ]
    },
    {
      "cell_type": "markdown",
      "id": "2e0ad860",
      "metadata": {
        "id": "2e0ad860"
      },
      "source": [
        "#### 88. How to implement the Game of Life using numpy arrays? (★★★)"
      ]
    },
    {
      "cell_type": "code",
      "execution_count": 21,
      "id": "574acff5",
      "metadata": {
        "id": "574acff5",
        "colab": {
          "base_uri": "https://localhost:8080/",
          "height": 461
        },
        "outputId": "b6c3b847-19fb-46bd-daa9-771eac91e092"
      },
      "outputs": [
        {
          "output_type": "display_data",
          "data": {
            "text/plain": [
              "<Figure size 640x480 with 1 Axes>"
            ],
            "image/png": "[encoded data removed]"
          },
          "metadata": {}
        },
        {
          "output_type": "stream",
          "name": "stderr",
          "text": [
            "/usr/local/lib/python3.10/dist-packages/matplotlib/animation.py:892: UserWarning: Animation was deleted without rendering anything. This is most likely not intended. To prevent deletion, assign the Animation to a variable, e.g. `anim`, that exists until you output the Animation using `plt.show()` or `anim.save()`.\n",
            "  warnings.warn(\n"
          ]
        }
      ],
      "source": [
        "import numpy as np\n",
        "import matplotlib.pyplot as plt\n",
        "import matplotlib.animation as animation\n",
        "\n",
        "def count_neighbors(grid):\n",
        "\n",
        "    shifted_up = np.roll(grid, 1, axis=0)\n",
        "    shifted_down = np.roll(grid, -1, axis=0)\n",
        "    shifted_left = np.roll(grid, 1, axis=1)\n",
        "    shifted_right = np.roll(grid, -1, axis=1)\n",
        "\n",
        "    neighbors = shifted_up + shifted_down + shifted_left + shifted_right\n",
        "    neighbors += np.roll(shifted_up, 1, axis=1)\n",
        "    neighbors += np.roll(shifted_up, -1, axis=1)\n",
        "    neighbors += np.roll(shifted_down, 1, axis=1)\n",
        "    neighbors += np.roll(shifted_down, -1, axis=1)\n",
        "\n",
        "    return neighbors\n",
        "\n",
        "def update_grid(grid):\n",
        "\n",
        "    neighbors = count_neighbors(grid)\n",
        "\n",
        "    new_grid = (grid & ((neighbors == 2) | (neighbors == 3))) | (~grid & (neighbors == 3))\n",
        "\n",
        "    return new_grid\n",
        "\n",
        "def initialize_grid(n, randomize=True):\n",
        "    if randomize:\n",
        "        return np.random.randint(2, size=(n, n))\n",
        "    else:\n",
        "        grid = np.zeros((n, n), dtype=int)\n",
        "        grid[7:10, 7] = 1\n",
        "        return grid\n",
        "\n",
        "def run_game_of_life(n=10, generations=100, randomize=True):\n",
        "\n",
        "    grid = initialize_grid(n, randomize)\n",
        "\n",
        "    fig, ax = plt.subplots()\n",
        "    ax.set_xticks([]), ax.set_yticks([])\n",
        "    im = ax.imshow(grid, cmap='binary', interpolation='nearest')\n",
        "\n",
        "    def update(i):\n",
        "        nonlocal grid\n",
        "        grid = update_grid(grid)\n",
        "        im.set_array(grid)\n",
        "\n",
        "    ani = animation.FuncAnimation(fig, update, frames=generations, interval=200)\n",
        "    plt.show()\n",
        "\n",
        "run_game_of_life(n=20, generations=100, randomize=True)\n"
      ]
    },
    {
      "cell_type": "markdown",
      "id": "69a892fa",
      "metadata": {
        "id": "69a892fa"
      },
      "source": [
        "#### 89. How to get the n largest values of an array (★★★)"
      ]
    },
    {
      "cell_type": "code",
      "execution_count": 22,
      "id": "21b2bd48",
      "metadata": {
        "id": "21b2bd48",
        "colab": {
          "base_uri": "https://localhost:8080/"
        },
        "outputId": "382c41b1-d233-4c21-b5aa-ba78a6af76ad"
      },
      "outputs": [
        {
          "output_type": "stream",
          "name": "stdout",
          "text": [
            "The 3 largest values are: [63 72 99]\n"
          ]
        }
      ],
      "source": [
        "import numpy as np\n",
        "\n",
        "arr = np.array([10, 20, 4, 45, 99, 1, 72, 63])\n",
        "\n",
        "n = 3\n",
        "\n",
        "largest_values = np.partition(arr, -n)[-n:]\n",
        "\n",
        "print(\"The\", n, \"largest values are:\", largest_values)\n"
      ]
    },
    {
      "cell_type": "markdown",
      "id": "b55ccacc",
      "metadata": {
        "id": "b55ccacc"
      },
      "source": [
        "#### 90. Given an arbitrary number of vectors, build the cartesian product (every combinations of every item) (★★★)"
      ]
    },
    {
      "cell_type": "code",
      "execution_count": 23,
      "id": "4b645da4",
      "metadata": {
        "id": "4b645da4",
        "colab": {
          "base_uri": "https://localhost:8080/"
        },
        "outputId": "ec638f0c-f6b7-4fa2-fcb7-5c89fb675756"
      },
      "outputs": [
        {
          "output_type": "stream",
          "name": "stdout",
          "text": [
            "[(1, 'a', True), (1, 'a', False), (1, 'b', True), (1, 'b', False), (2, 'a', True), (2, 'a', False), (2, 'b', True), (2, 'b', False)]\n"
          ]
        }
      ],
      "source": [
        "import itertools\n",
        "\n",
        "A = [1, 2]\n",
        "B = ['a', 'b']\n",
        "C = [True, False]\n",
        "\n",
        "cartesian_product = list(itertools.product(A, B, C))\n",
        "\n",
        "print(cartesian_product)\n"
      ]
    },
    {
      "cell_type": "markdown",
      "id": "89187a23",
      "metadata": {
        "id": "89187a23"
      },
      "source": [
        "#### 91. How to create a record array from a regular array? (★★★)"
      ]
    },
    {
      "cell_type": "code",
      "execution_count": 24,
      "id": "da94c71a",
      "metadata": {
        "id": "da94c71a",
        "colab": {
          "base_uri": "https://localhost:8080/"
        },
        "outputId": "21a515c8-b278-468f-9810-0681470a52e5"
      },
      "outputs": [
        {
          "output_type": "stream",
          "name": "stdout",
          "text": [
            "Record array:\n",
            "[(1, 2, 3) (4, 5, 6)]\n",
            "\n",
            "Access field 'x':\n",
            "[1 4]\n",
            "\n",
            "Access field 'y':\n",
            "[2 5]\n",
            "\n",
            "Access field 'z':\n",
            "[3 6]\n"
          ]
        }
      ],
      "source": [
        "import numpy as np\n",
        "\n",
        "arr = np.array([[1, 2, 3], [4, 5, 6]])\n",
        "\n",
        "record_arr = np.core.records.fromarrays(arr.T, names='x, y, z')\n",
        "\n",
        "print(\"Record array:\")\n",
        "print(record_arr)\n",
        "\n",
        "print(\"\\nAccess field 'x':\")\n",
        "print(record_arr.x)\n",
        "\n",
        "print(\"\\nAccess field 'y':\")\n",
        "print(record_arr.y)\n",
        "\n",
        "print(\"\\nAccess field 'z':\")\n",
        "print(record_arr.z)\n"
      ]
    },
    {
      "cell_type": "markdown",
      "id": "aa70d4ca",
      "metadata": {
        "id": "aa70d4ca"
      },
      "source": [
        "#### 92. Consider a large vector Z, compute Z to the power of 3 using 3 different methods (★★★)"
      ]
    },
    {
      "cell_type": "code",
      "execution_count": 25,
      "id": "7cff1bf5",
      "metadata": {
        "id": "7cff1bf5",
        "colab": {
          "base_uri": "https://localhost:8080/"
        },
        "outputId": "083beb92-473e-41fd-a5a3-cb7a23f6e006"
      },
      "outputs": [
        {
          "output_type": "stream",
          "name": "stdout",
          "text": [
            "True\n",
            "False\n"
          ]
        }
      ],
      "source": [
        "import numpy as np\n",
        "Z = np.random.rand(1000000)\n",
        "Z_power_1 = Z ** 3\n",
        "Z_power_2 = Z * Z * Z\n",
        "Z_power_3 = np.dot(Z, Z * Z)\n",
        "print(np.allclose(Z_power_1, Z_power_2))\n",
        "print(np.allclose(Z_power_1, Z_power_3))\n"
      ]
    },
    {
      "cell_type": "markdown",
      "id": "5f79dd00",
      "metadata": {
        "id": "5f79dd00"
      },
      "source": [
        "#### 93. Consider two arrays A and B of shape (8,3) and (2,2). How to find rows of A that contain elements of each row of B regardless of the order of the elements in B? (★★★)"
      ]
    },
    {
      "cell_type": "code",
      "execution_count": 26,
      "id": "20c105b2",
      "metadata": {
        "id": "20c105b2",
        "colab": {
          "base_uri": "https://localhost:8080/"
        },
        "outputId": "3fdde0b0-2150-4beb-d27a-f8083d3b5172"
      },
      "outputs": [
        {
          "output_type": "stream",
          "name": "stdout",
          "text": [
            "Rows of A that contain elements of each row of B:\n",
            "[[1 2 5]\n",
            " [4 3 6]\n",
            " [3 5 6]]\n"
          ]
        }
      ],
      "source": [
        "import numpy as np\n",
        "A = np.array([[1, 2, 3],\n",
        "              [4, 5, 6],\n",
        "              [7, 8, 9],\n",
        "              [1, 2, 5],\n",
        "              [4, 3, 6],\n",
        "              [1, 5, 6],\n",
        "              [2, 4, 6],\n",
        "              [3, 5, 6]])\n",
        "\n",
        "B = np.array([[2, 5],\n",
        "              [3, 6]])\n",
        "sorted_B = np.sort(B, axis=1)\n",
        "matching_rows = []\n",
        "for b_row in sorted_B:\n",
        "    for a_row in A:\n",
        "        if np.all(np.isin(b_row, a_row)):\n",
        "            matching_rows.append(a_row)\n",
        "matching_rows = np.array(matching_rows)\n",
        "print(\"Rows of A that contain elements of each row of B:\")\n",
        "print(matching_rows)\n"
      ]
    },
    {
      "cell_type": "markdown",
      "id": "a80570cd",
      "metadata": {
        "id": "a80570cd"
      },
      "source": [
        "#### 94. Considering a 10x3 matrix, extract rows with unequal values (e.g. [2,2,3]) (★★★)"
      ]
    },
    {
      "cell_type": "code",
      "execution_count": 27,
      "id": "84db8de1",
      "metadata": {
        "id": "84db8de1",
        "colab": {
          "base_uri": "https://localhost:8080/"
        },
        "outputId": "c4eb1de2-6390-4e11-a31b-a605da5f7ad1"
      },
      "outputs": [
        {
          "output_type": "stream",
          "name": "stdout",
          "text": [
            "Rows with unequal values:\n",
            "[[ 2  2  3]\n",
            " [ 5  6  5]\n",
            " [10 10 11]\n",
            " [11 12 11]]\n"
          ]
        }
      ],
      "source": [
        "import numpy as np\n",
        "matrix = np.array([[1, 1, 1],\n",
        "                   [2, 2, 2],\n",
        "                   [2, 2, 3],\n",
        "                   [4, 4, 4],\n",
        "                   [5, 6, 5],\n",
        "                   [7, 7, 7],\n",
        "                   [8, 8, 8],\n",
        "                   [9, 9, 9],\n",
        "                   [10, 10, 11],\n",
        "                   [11, 12, 11]])\n",
        "rows_with_unequal_values = matrix[~np.all(matrix == matrix[:, [0]], axis=1)]\n",
        "print(\"Rows with unequal values:\")\n",
        "print(rows_with_unequal_values)\n"
      ]
    },
    {
      "cell_type": "markdown",
      "id": "ba154f43",
      "metadata": {
        "id": "ba154f43"
      },
      "source": [
        "#### 95. Convert a vector of ints into a matrix binary representation (★★★)"
      ]
    },
    {
      "cell_type": "code",
      "execution_count": 28,
      "id": "cfa96e1b",
      "metadata": {
        "id": "cfa96e1b",
        "colab": {
          "base_uri": "https://localhost:8080/"
        },
        "outputId": "9a27012f-1c70-4ea9-a5fd-b9c76e1b0872"
      },
      "outputs": [
        {
          "output_type": "stream",
          "name": "stdout",
          "text": [
            "Matrix of binary representations:\n",
            "[[0 0 0 0 0 0 1 1]\n",
            " [0 0 0 0 0 1 0 1]\n",
            " [0 0 0 0 0 1 1 1]]\n"
          ]
        }
      ],
      "source": [
        "import numpy as np\n",
        "vector = np.array([3, 5, 7])\n",
        "num_bits = 8\n",
        "binary_matrix = np.array([list(np.binary_repr(num, width=num_bits)) for num in vector], dtype=int)\n",
        "print(\"Matrix of binary representations:\")\n",
        "print(binary_matrix)\n"
      ]
    },
    {
      "cell_type": "markdown",
      "id": "420e2343",
      "metadata": {
        "id": "420e2343"
      },
      "source": [
        "#### 96. Given a two dimensional array, how to extract unique rows? (★★★)"
      ]
    },
    {
      "cell_type": "code",
      "execution_count": 29,
      "id": "4680dfd0",
      "metadata": {
        "id": "4680dfd0",
        "colab": {
          "base_uri": "https://localhost:8080/"
        },
        "outputId": "78e61515-c085-4d5b-f45c-9ca97b8c18b4"
      },
      "outputs": [
        {
          "output_type": "stream",
          "name": "stdout",
          "text": [
            "Unique rows:\n",
            "[[1 2 3]\n",
            " [4 5 6]\n",
            " [7 8 9]]\n"
          ]
        }
      ],
      "source": [
        "import numpy as np\n",
        "array = np.array([[1, 2, 3],\n",
        "                  [4, 5, 6],\n",
        "                  [1, 2, 3],\n",
        "                  [7, 8, 9],\n",
        "                  [4, 5, 6]])\n",
        "unique_rows = np.unique(array, axis=0)\n",
        "print(\"Unique rows:\")\n",
        "print(unique_rows)\n"
      ]
    },
    {
      "cell_type": "markdown",
      "id": "89fef2f3",
      "metadata": {
        "id": "89fef2f3"
      },
      "source": [
        "#### 97. Considering 2 vectors A & B, write the einsum equivalent of inner, outer, sum, and mul function (★★★)"
      ]
    },
    {
      "cell_type": "code",
      "execution_count": 30,
      "id": "bb9c14b2",
      "metadata": {
        "id": "bb9c14b2",
        "colab": {
          "base_uri": "https://localhost:8080/"
        },
        "outputId": "c33374f4-0da9-4668-82ac-6b12e2e8f031"
      },
      "outputs": [
        {
          "output_type": "stream",
          "name": "stdout",
          "text": [
            "Inner product: 32\n"
          ]
        }
      ],
      "source": [
        "import numpy as np\n",
        "\n",
        "A = np.array([1, 2, 3])\n",
        "B = np.array([4, 5, 6])\n",
        "\n",
        "inner_product = np.einsum('i,i', A, B)\n",
        "print(\"Inner product:\", inner_product)\n"
      ]
    },
    {
      "cell_type": "markdown",
      "id": "7ad5cc5f",
      "metadata": {
        "id": "7ad5cc5f"
      },
      "source": [
        "#### 98. Considering a path described by two vectors (X,Y), how to sample it using equidistant samples (★★★)?"
      ]
    },
    {
      "cell_type": "code",
      "execution_count": 31,
      "id": "0899d1d5",
      "metadata": {
        "id": "0899d1d5",
        "colab": {
          "base_uri": "https://localhost:8080/"
        },
        "outputId": "bbe72ce6-1462-4556-cea6-6b403a2a07cd"
      },
      "outputs": [
        {
          "output_type": "stream",
          "name": "stdout",
          "text": [
            "Equidistant samples (X, Y):\n",
            "(0.00, 0.00)\n",
            "(0.41, 0.41)\n",
            "(0.82, 0.82)\n",
            "(1.33, 1.00)\n",
            "(1.92, 1.00)\n",
            "(2.35, 1.35)\n",
            "(2.76, 1.76)\n",
            "(3.18, 2.18)\n",
            "(3.59, 2.59)\n",
            "(4.00, 3.00)\n"
          ]
        }
      ],
      "source": [
        "import numpy as np\n",
        "X = np.array([0, 1, 2, 3, 4])\n",
        "Y = np.array([0, 1, 1, 2, 3])\n",
        "num_samples = 10\n",
        "distances = np.sqrt(np.diff(X)**2 + np.diff(Y)**2)\n",
        "cumulative_distance = np.hstack([0, np.cumsum(distances)])\n",
        "total_length = cumulative_distance[-1]\n",
        "sample_distances = np.linspace(0, total_length, num_samples)\n",
        "sample_X = np.interp(sample_distances, cumulative_distance, X)\n",
        "sample_Y = np.interp(sample_distances, cumulative_distance, Y)\n",
        "\n",
        "print(\"Equidistant samples (X, Y):\")\n",
        "for x, y in zip(sample_X, sample_Y):\n",
        "    print(f\"({x:.2f}, {y:.2f})\")\n"
      ]
    },
    {
      "cell_type": "markdown",
      "id": "2b69272e",
      "metadata": {
        "id": "2b69272e"
      },
      "source": [
        "#### 99. Given an integer n and a 2D array X, select from X the rows which can be interpreted as draws from a multinomial distribution with n degrees, i.e., the rows which only contain integers and which sum to n. (★★★)"
      ]
    },
    {
      "cell_type": "code",
      "execution_count": 32,
      "id": "55c8b034",
      "metadata": {
        "id": "55c8b034",
        "colab": {
          "base_uri": "https://localhost:8080/"
        },
        "outputId": "c9c64a62-14cd-405c-a93d-993cc64e09ec"
      },
      "outputs": [
        {
          "output_type": "stream",
          "name": "stdout",
          "text": [
            "Valid rows (draws from a multinomial distribution):\n",
            "[[3 2 0]]\n"
          ]
        }
      ],
      "source": [
        "import numpy as np\n",
        "X = np.array([[3, 2, 0],\n",
        "              [4, 5, 3],\n",
        "              [1, 1, 1],\n",
        "              [2, 2, 2],\n",
        "              [0, 0, 0]])\n",
        "n = 5\n",
        "\n",
        "valid_rows = X[np.all(X == X.astype(int), axis=1) & (X.sum(axis=1) == n)]\n",
        "print(\"Valid rows (draws from a multinomial distribution):\")\n",
        "print(valid_rows)\n"
      ]
    },
    {
      "cell_type": "markdown",
      "id": "59ab5516",
      "metadata": {
        "id": "59ab5516"
      },
      "source": [
        "#### 100. Compute bootstrapped 95% confidence intervals for the mean of a 1D array X (i.e., resample the elements of an array with replacement N times, compute the mean of each sample, and then compute percentiles over the means). (★★★)"
      ]
    },
    {
      "cell_type": "code",
      "execution_count": 33,
      "id": "450877d8",
      "metadata": {
        "id": "450877d8",
        "colab": {
          "base_uri": "https://localhost:8080/"
        },
        "outputId": "378aaabc-3ec6-4914-f11b-f729b799bfac"
      },
      "outputs": [
        {
          "output_type": "stream",
          "name": "stdout",
          "text": [
            "Bootstrapped 95% confidence interval for the mean: (3.70, 7.30)\n"
          ]
        }
      ],
      "source": [
        "import numpy as np\n",
        "X = np.array([1, 2, 3, 4, 5, 6, 7, 8, 9, 10])\n",
        "N = 10000\n",
        "bootstrap_means = np.empty(N)\n",
        "for i in range(N):\n",
        "    bootstrap_sample = np.random.choice(X, size=len(X), replace=True)\n",
        "    bootstrap_means[i] = np.mean(bootstrap_sample)\n",
        "lower_bound = np.percentile(bootstrap_means, 2.5)\n",
        "upper_bound = np.percentile(bootstrap_means, 97.5)\n",
        "print(f\"Bootstrapped 95% confidence interval for the mean: ({lower_bound:.2f}, {upper_bound:.2f})\")\n"
      ]
    }
  ],
  "metadata": {
    "colab": {
      "provenance": [],
      "include_colab_link": true
    },
    "language_info": {
      "name": "python"
    },
    "kernelspec": {
      "name": "python3",
      "display_name": "Python 3"
    }
  },
  "nbformat": 4,
  "nbformat_minor": 5
}